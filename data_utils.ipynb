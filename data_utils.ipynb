{
 "cells": [
  {
   "cell_type": "code",
   "execution_count": 2,
   "metadata": {},
   "outputs": [],
   "source": [
    "import numpy as np\n",
    "import re\n",
    "import random\n",
    "import time\n",
    "import os\n",
    "import sys\n",
    "\n",
    "from common_utils import strToSuffix\n",
    "\n"
   ]
  },
  {
   "cell_type": "code",
   "execution_count": 3,
   "metadata": {},
   "outputs": [
    {
     "data": {
      "text/plain": [
       "array([1., 2., 3.], dtype=float32)"
      ]
     },
     "execution_count": 3,
     "metadata": {},
     "output_type": "execute_result"
    }
   ],
   "source": [
    "np.array([1,2,3], dtype='float32')"
   ]
  },
  {
   "cell_type": "code",
   "execution_count": 2,
   "metadata": {},
   "outputs": [],
   "source": [
    "import argparse\n",
    "parser = argparse.ArgumentParser(description='Arguments for DANIEL_FJSP')\n",
    "\n",
    "# args for env\n",
    "parser.add_argument('--n_j', type=int, default=10, help='Number of jobs of the instance')\n",
    "parser.add_argument('--n_m', type=int, default=5, help='Number of machines of the instance')\n",
    "parser.add_argument('--n_op', type=int, default=60, help='Number of operations of the instance')\n",
    "parser.add_argument('--low', type=int, default=1, help='Lower Bound of processing time(PT)')\n",
    "parser.add_argument('--high', type=int, default=99, help='Upper Bound of processing time')\n",
    "parser.add_argument('--data_suffix', type=str, default='mix', help='Suffix of the data')\n",
    "parser.add_argument('--op_per_mch_min', type=int, default=1,\n",
    "                    help='Minimum number of compatible machines for each operation')\n",
    "parser.add_argument('--op_per_mch_max', type=int, default=5,\n",
    "                    help='Maximum number of compatible machines for each operation')\n",
    "parser.add_argument('--op_per_job', type=float, default=2,\n",
    "                    help='Number of operations per job, default 0, means the number equals m')\n",
    "\n",
    "config = parser.parse_args(args=[])\n",
    "\n"
   ]
  },
  {
   "cell_type": "code",
   "execution_count": 3,
   "metadata": {},
   "outputs": [],
   "source": [
    "\n",
    "\n",
    "n_j=None\n",
    "n_m=None\n",
    "\n",
    "if n_j is None:n_j = config.n_j \n",
    "if n_m is None:n_m = config.n_m \n",
    "if config.op_per_job == 0:\n",
    "    op_per_job = n_m\n",
    "else:\n",
    "    op_per_job = config.op_per_job\n",
    "\n",
    "low = config.low\n",
    "high = config.high\n",
    "data_suffix = config.data_suffix\n",
    "\n",
    "op_per_mch_min = 1\n",
    "if data_suffix == \"nf\":\n",
    "    op_per_mch_max = 1\n",
    "elif data_suffix == \"mix\":\n",
    "    op_per_mch_max = n_m\n",
    "else:\n",
    "    op_per_mch_min = config.op_per_mch_min\n",
    "    op_per_mch_max = config.op_per_mch_max\n",
    "if op_per_mch_min < 1 or op_per_mch_max > n_m:\n",
    "    print(f'Error from Instance Generation: [{op_per_mch_min},{op_per_mch_max}] '\n",
    "            f'with num_mch : {n_m}')\n",
    "    sys.exit()\n"
   ]
  },
  {
   "cell_type": "code",
   "execution_count": 4,
   "metadata": {},
   "outputs": [
    {
     "name": "stdout",
     "output_type": "stream",
     "text": [
      "(20, 5)\n"
     ]
    },
    {
     "data": {
      "text/plain": [
       "(array([2, 2, 2, 2, 2, 2, 2, 2, 2, 2]),\n",
       " array([[14, 65, 35, 86, 80],\n",
       "        [53, 88, 98,  0, 70],\n",
       "        [66, 46,  0, 64,  0],\n",
       "        [ 0, 66,  0,  0,  0],\n",
       "        [ 0,  0,  4,  0,  0],\n",
       "        [43, 92, 60,  6, 53],\n",
       "        [82,  0, 11,  0, 57],\n",
       "        [73,  0, 82, 40,  0],\n",
       "        [16,  0,  0, 80, 52],\n",
       "        [ 0, 60, 63, 64, 44],\n",
       "        [30, 24,  0, 10,  0],\n",
       "        [ 0, 43, 15,  0, 43],\n",
       "        [ 0, 83,  0,  0, 53],\n",
       "        [47,  6, 68, 31,  0],\n",
       "        [ 0,  0,  0, 50,  0],\n",
       "        [ 0,  0,  6, 27,  4],\n",
       "        [ 1, 34, 69, 75,  3],\n",
       "        [ 0, 89, 79, 75, 20],\n",
       "        [31, 35,  0,  0, 18],\n",
       "        [ 0, 95,  1,  0,  0]]),\n",
       " 20,\n",
       " 3.1)"
      ]
     },
     "execution_count": 4,
     "metadata": {},
     "output_type": "execute_result"
    }
   ],
   "source": [
    "\n",
    "n_op = int(n_j * op_per_job)\n",
    "job_length = np.full(shape=(n_j,), fill_value=op_per_job, dtype=int)\n",
    "op_use_mch = np.random.randint(low=op_per_mch_min, high=op_per_mch_max + 1,\n",
    "                                size=n_op)\n",
    "\n",
    "op_per_mch = np.mean(op_use_mch)\n",
    "op_pt = np.random.randint(low=low, high=high + 1, size=(n_op, n_m))\n",
    "print(op_pt.shape)\n",
    "for row in range(op_pt.shape[0]):\n",
    "    mch_num = int(op_use_mch[row])\n",
    "    if mch_num < n_m:\n",
    "        inf_pos = np.random.choice(np.arange(0, n_m), n_m - mch_num, replace=False)\n",
    "        op_pt[row][inf_pos] = 0\n",
    "\n",
    "job_length, op_pt, len(op_pt), op_per_mch\n"
   ]
  },
  {
   "cell_type": "code",
   "execution_count": 5,
   "metadata": {},
   "outputs": [
    {
     "data": {
      "text/plain": [
       "(array([2, 2, 2, 2, 1, 2, 1, 2, 2, 2]),\n",
       " array([[65,  0, 42, 36,  0],\n",
       "        [86,  0,  0,  0,  0],\n",
       "        [32,  0,  0,  0,  0],\n",
       "        [ 0, 89, 12, 67,  1],\n",
       "        [80, 52, 70, 15, 22],\n",
       "        [ 0, 57,  0, 38, 19],\n",
       "        [ 0,  0, 95, 11,  0],\n",
       "        [16,  2, 62, 70, 91],\n",
       "        [44, 54, 87, 23,  0],\n",
       "        [ 0, 14, 49, 52, 63],\n",
       "        [71,  5, 13, 31,  2],\n",
       "        [94,  0,  0,  0, 14],\n",
       "        [ 3,  0,  0,  0, 51],\n",
       "        [ 0, 80, 73, 59, 83],\n",
       "        [ 9, 19,  0, 60, 92],\n",
       "        [95, 43, 85,  0, 20],\n",
       "        [ 0, 90,  9, 14, 84],\n",
       "        [66, 46, 46, 84, 91]]),\n",
       " 18,\n",
       " 3.4444444444444446)"
      ]
     },
     "execution_count": 5,
     "metadata": {},
     "output_type": "execute_result"
    }
   ],
   "source": [
    "\n",
    "# Modify here for variable number of operations per job\n",
    "job_length = np.random.randint(low=1, high=op_per_job + 1, size=n_j)\n",
    "n_op = np.sum(job_length)\n",
    "\n",
    "op_use_mch = np.random.randint(low=op_per_mch_min, high=op_per_mch_max + 1, size=n_op)\n",
    "op_per_mch = np.mean(op_use_mch)\n",
    "op_pt = np.random.randint(low=low, high=high + 1, size=(n_op, n_m))\n",
    "\n",
    "for row in range(op_pt.shape[0]):\n",
    "    mch_num = int(op_use_mch[row])\n",
    "    if mch_num < n_m:\n",
    "        inf_pos = np.random.choice(np.arange(0, n_m), n_m - mch_num, replace=False)\n",
    "        op_pt[row][inf_pos] = 0\n",
    "\n",
    "job_length, op_pt, len(op_pt),  op_per_mch"
   ]
  },
  {
   "cell_type": "code",
   "execution_count": 12,
   "metadata": {},
   "outputs": [
    {
     "data": {
      "text/plain": [
       "(array([2, 2, 3, 5, 3, 5, 3, 5, 2, 5]),\n",
       " array([[49., 87., 28., 96.,  0.],\n",
       "        [21., 11., 47.,  0., 54.],\n",
       "        [61.,  0., 38.,  0.,  0.],\n",
       "        [61.,  0.,  0.,  0., 15.],\n",
       "        [ 0.,  0., 27., 22.,  0.],\n",
       "        [87.,  0.,  0., 94.,  0.],\n",
       "        [ 0., 55., 33., 60., 64.],\n",
       "        [89., 50.,  0.,  0.,  0.],\n",
       "        [ 0., 20.,  0., 21.,  0.],\n",
       "        [ 0., 74., 56.,  0., 89.],\n",
       "        [ 0., 56.,  0.,  0., 93.],\n",
       "        [ 0., 47., 95.,  0.,  0.],\n",
       "        [79.,  0.,  4.,  2., 58.],\n",
       "        [68., 47., 88., 32.,  0.],\n",
       "        [ 0., 69.,  0.,  6.,  0.],\n",
       "        [49.,  0., 66.,  0.,  0.],\n",
       "        [67., 92., 95.,  0., 79.],\n",
       "        [87., 97., 17., 23., 18.],\n",
       "        [ 0., 49., 75.,  0., 49.],\n",
       "        [ 2.,  0., 64.,  0., 75.],\n",
       "        [ 0.,  0.,  0., 64.,  0.],\n",
       "        [92., 91.,  0., 52., 13.],\n",
       "        [72., 82., 95., 63., 27.],\n",
       "        [80.,  0., 53.,  0.,  0.],\n",
       "        [93., 27., 77., 98., 55.],\n",
       "        [ 0.,  0.,  0.,  0., 86.],\n",
       "        [30., 47., 69., 56., 87.],\n",
       "        [ 0., 34.,  0., 67.,  0.],\n",
       "        [ 0., 34.,  0.,  0., 41.],\n",
       "        [83., 44., 26.,  5., 60.],\n",
       "        [24.,  0.,  0., 13.,  0.],\n",
       "        [ 0., 86.,  0.,  0.,  0.],\n",
       "        [ 0.,  0., 16., 61., 12.],\n",
       "        [14.,  0.,  0.,  0.,  0.],\n",
       "        [ 0.,  0.,  0.,  0., 31.]]),\n",
       " 2.8)"
      ]
     },
     "execution_count": 12,
     "metadata": {},
     "output_type": "execute_result"
    }
   ],
   "source": [
    "import numpy as np\n",
    "\n",
    "def generate_flexible_job_shop(num_jobs, num_machines):\n",
    "    job_length = np.random.randint(2, 6, size=num_jobs)\n",
    "    total_operations = sum(job_length)\n",
    "    op_pt = np.zeros((total_operations, num_machines))\n",
    "    total_machines_per_op = 0\n",
    "\n",
    "    op_index = 0\n",
    "    for job in range(num_jobs):\n",
    "        for _ in range(job_length[job]):\n",
    "            num_machines_for_op = np.random.randint(1, num_machines + 1)\n",
    "            total_machines_per_op += num_machines_for_op\n",
    "            machines_for_op = np.random.choice(num_machines, num_machines_for_op, replace=False)\n",
    "            \n",
    "            for machine in machines_for_op:\n",
    "                op_pt[op_index, machine] = np.random.randint(1, 99)  # Random processing time\n",
    "\n",
    "            op_index += 1\n",
    "\n",
    "    op_per_mch = total_machines_per_op / total_operations\n",
    "    return job_length, op_pt, op_per_mch\n",
    "\n",
    "# Example call\n",
    "num_jobs = 10\n",
    "num_machines = 5\n",
    "job_length, op_pt, op_per_mch = generate_flexible_job_shop(num_jobs, num_machines)\n",
    "job_length, op_pt, op_per_mch"
   ]
  },
  {
   "cell_type": "code",
   "execution_count": null,
   "metadata": {},
   "outputs": [],
   "source": [
    "job_init = 10   #工件数量\n",
    "num_mas = 5     #机器数\n",
    "opes_per_job_min, opes_per_job_max = 5, 10  \n",
    "mas_per_ope_min, mas_per_ope_max = 1, 5    #每个机器最大的加工数量\n",
    "num_jobs = job_init\n",
    "\n",
    "nums_ope = [random.randint(opes_per_job_min, opes_per_job_max) for _ in range(num_jobs)]  ##随机生成每个工件的操作数\n",
    "num_opes = sum(nums_ope)\n",
    "nums_option = [random.randint(mas_per_ope_min, mas_per_ope_max) for _ in range(num_opes)] ##随机生成每个操作可行的机器数量\n",
    "num_options = sum(nums_option)\n",
    "\n",
    "ope_ma = []\n",
    "for val in nums_option:\n",
    "    ope_ma = ope_ma + sorted(random.sample(range(1, num_mas + 1), val))\n",
    "proc_time = []\n",
    "\n",
    "self.proc_times_mean = [random.randint(self.proctime_per_ope_min, self.proctime_per_ope_max) for _ in\n",
    "                        range(self.num_opes)]\n",
    "for i in range(len(self.nums_option)):\n",
    "    low_bound = max(self.proctime_per_ope_min, round(self.proc_times_mean[i] * (1 - self.proctime_dev)))\n",
    "    high_bound = min(self.proctime_per_ope_max, round(self.proc_times_mean[i] * (1 + self.proctime_dev)))\n",
    "    proc_time_ope = [random.randint(low_bound, high_bound) for _ in range(self.nums_option[i])]\n",
    "    self.proc_time = self.proc_time + proc_time_ope\n",
    "\n",
    "self.num_ope_biass = [sum(self.nums_ope[0:i]) for i in range(self.num_jobs)]\n",
    "self.num_ma_biass = [sum(self.nums_option[0:i]) for i in range(self.num_opes)]\n",
    "line0 = '{0}\\t{1}\\t{2}\\n'.format(self.num_jobs, self.num_mas, self.num_options / self.num_opes)\n",
    "lines_doc = []\n",
    "lines_doc.append('{0}\\t{1}\\t{2}'.format(self.num_jobs, self.num_mas, self.num_options / self.num_opes))\n",
    "for i in range(self.num_jobs):\n",
    "    flag = 0\n",
    "    flag_time = 0\n",
    "    flag_new_ope = 1\n",
    "    idx_ope = -1\n",
    "    idx_ma = 0\n",
    "    line = []\n",
    "    option_max = sum(self.nums_option[self.num_ope_biass[i]:(self.num_ope_biass[i] + self.nums_ope[i])])\n",
    "    idx_option = 0\n",
    "    while True:\n",
    "        if flag == 0:\n",
    "            line.append(self.nums_ope[i])\n",
    "            flag += 1\n",
    "        elif flag == flag_new_ope:\n",
    "            idx_ope += 1\n",
    "            idx_ma = 0\n",
    "            flag_new_ope += self.nums_option[self.num_ope_biass[i] + idx_ope] * 2 + 1\n",
    "            line.append(self.nums_option[self.num_ope_biass[i] + idx_ope])\n",
    "            flag += 1\n",
    "        elif flag_time == 0:\n",
    "            line.append(self.ope_ma[self.num_ma_biass[self.num_ope_biass[i] + idx_ope] + idx_ma])\n",
    "            flag += 1\n",
    "            flag_time = 1\n",
    "        else:\n",
    "            line.append(self.proc_time[self.num_ma_biass[self.num_ope_biass[i] + idx_ope] + idx_ma])\n",
    "            flag += 1\n",
    "            flag_time = 0\n",
    "            idx_option += 1\n",
    "            idx_ma += 1\n",
    "        if idx_option == option_max:\n",
    "            str_line = \" \".join([str(val) for val in line])\n",
    "            lines_doc.append(str_line)\n",
    "            break\n",
    "job_length, op_pt = text_to_matrix(lines_doc)\n",
    "\n",
    "job_length, op_pt\n"
   ]
  },
  {
   "cell_type": "code",
   "execution_count": 3,
   "metadata": {},
   "outputs": [
    {
     "data": {
      "text/plain": [
       "array([257.77272383, 767.46712808])"
      ]
     },
     "execution_count": 3,
     "metadata": {},
     "output_type": "execute_result"
    }
   ],
   "source": [
    "\n",
    "range_pose=0.3\n",
    "target_pose=(2*np.random.rand(2)-1)*range_pose + [0.5, 0.5] # around center (0.5,0.5), range 0.3\n",
    "screen_size=1000\n",
    "target_pose=target_pose*screen_size\n",
    "target_pose\n",
    "\n",
    "# env=Reacher(target_pos=target_pose, render=True)\n",
    "# return env, target_pose\n"
   ]
  },
  {
   "cell_type": "code",
   "execution_count": 4,
   "metadata": {},
   "outputs": [
    {
     "data": {
      "text/plain": [
       "array([0.99163272, 0.53982156])"
      ]
     },
     "execution_count": 4,
     "metadata": {},
     "output_type": "execute_result"
    }
   ],
   "source": [
    "np.random.rand(2)"
   ]
  }
 ],
 "metadata": {
  "kernelspec": {
   "display_name": "RL-torch",
   "language": "python",
   "name": "python3"
  },
  "language_info": {
   "codemirror_mode": {
    "name": "ipython",
    "version": 3
   },
   "file_extension": ".py",
   "mimetype": "text/x-python",
   "name": "python",
   "nbconvert_exporter": "python",
   "pygments_lexer": "ipython3",
   "version": "3.10.13"
  }
 },
 "nbformat": 4,
 "nbformat_minor": 2
}

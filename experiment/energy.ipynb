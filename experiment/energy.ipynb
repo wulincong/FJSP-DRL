{
 "cells": [
  {
   "cell_type": "code",
   "execution_count": 2,
   "metadata": {},
   "outputs": [
    {
     "data": {
      "text/plain": [
       "488.46801371000004"
      ]
     },
     "execution_count": 2,
     "metadata": {},
     "output_type": "execute_result"
    }
   ],
   "source": [
    "import numpy as np\n",
    "\n",
    "# 工序的加工时间\n",
    "op_pt = np.array([[48, 74, 33],\n",
    "                  [47, 97, 0],\n",
    "                  [84, 79, 37],\n",
    "                  [97, 81, 69],\n",
    "                  [0, 0, 68],\n",
    "                  [3, 85, 40],\n",
    "                  [67, 85, 48],\n",
    "                  [0, 49, 8],\n",
    "                  [93, 53, 98],\n",
    "                  [86, 0, 28],\n",
    "                  [35, 98, 77],\n",
    "                  [41, 0, 70],\n",
    "                  [65, 0, 0],\n",
    "                  [0, 11, 23],\n",
    "                  [78, 19, 16]])\n",
    "\n",
    "# 机器的加工能耗\n",
    "mch_working_power = np.array([0.88138383, 0.68393263, 0.93675113])\n",
    "\n",
    "# 将无法加工的工序设置为无穷大能耗\n",
    "op_energy = np.where(op_pt == 0, np.inf, op_pt * mch_working_power)\n",
    "\n",
    "# 对于每个工序，找到能耗最低的机器，并计算该工序的最低能耗\n",
    "min_energy_per_op = np.min(op_energy, axis=1)\n",
    "\n",
    "# 计算总的能耗下限\n",
    "total_min_energy = np.sum(min_energy_per_op)\n",
    "\n",
    "total_min_energy\n"
   ]
  },
  {
   "cell_type": "code",
   "execution_count": 3,
   "metadata": {},
   "outputs": [
    {
     "data": {
      "text/plain": [
       "(488.46801371000004, array([191., 164., 222.]))"
      ]
     },
     "execution_count": 3,
     "metadata": {},
     "output_type": "execute_result"
    }
   ],
   "source": [
    "# 机器待机能耗\n",
    "mch_idle_power = np.array([0.1884805 , 0.14602384, 0.11931703])\n",
    "\n",
    "# 计算每个工序在每台机器上的加工能耗，如果不能加工则为无穷大\n",
    "op_energy = np.where(op_pt == 0, np.inf, op_pt * mch_working_power)\n",
    "\n",
    "# 对于每个工序，找到最低能耗的机器\n",
    "min_energy_per_op = np.min(op_energy, axis=1)\n",
    "\n",
    "# 找到每个工序最低能耗对应的机器索引\n",
    "min_energy_mch_index = np.argmin(op_energy, axis=1)\n",
    "\n",
    "# 初始化机器的总工作时间\n",
    "total_mch_work_time = np.zeros_like(mch_working_power)\n",
    "\n",
    "# 对于每个工序，累加对应机器的工作时间\n",
    "for op_index, mch_index in enumerate(min_energy_mch_index):\n",
    "    if op_pt[op_index, mch_index] != 0:  # 确保工序可以在选定的机器上加工\n",
    "        total_mch_work_time[mch_index] += op_pt[op_index, mch_index]\n",
    "\n",
    "# 计算机器工作期间的总能耗\n",
    "total_work_energy = np.sum(min_energy_per_op)\n",
    "\n",
    "# 计算机器待机期间的总能耗，这里简化为0，因为没有考虑具体的待机时间\n",
    "# 实际上，如果想考虑待机能耗，需要根据实际生产计划来估计\n",
    "# total_idle_energy = np.sum(mch_idle_power * total_mch_idle_time)  # 这里我们没有total_mch_idle_time的具体值\n",
    "\n",
    "# 总能耗为工作能耗加上待机能耗\n",
    "total_energy = total_work_energy # + total_idle_energy\n",
    "\n",
    "total_energy, total_mch_work_time\n"
   ]
  },
  {
   "cell_type": "code",
   "execution_count": null,
   "metadata": {},
   "outputs": [],
   "source": [
    "# 找到完成所有工序所需的最长时间，即所有机器的最大工作时间\n",
    "max_work_time = np.max(total_mch_work_time)\n",
    "\n",
    "# 对于每台机器，计算其待机时间\n",
    "idle_time_per_machine = max_work_time - total_mch_work_time\n",
    "\n",
    "# 计算待机期间的能耗\n",
    "idle_energy_per_machine = idle_time_per_machine * mch_idle_power\n",
    "\n",
    "# 计算总的待机能耗\n",
    "total_idle_energy = np.sum(idle_energy_per_machine)\n",
    "\n",
    "# 更新总能耗，包括待机能耗\n",
    "total_energy_including_idle = total_work_energy + total_idle_energy\n",
    "\n",
    "total_energy_including_idle, total_idle_energy\n"
   ]
  },
  {
   "cell_type": "code",
   "execution_count": 4,
   "metadata": {},
   "outputs": [
    {
     "data": {
      "text/plain": [
       "1155.99696174"
      ]
     },
     "execution_count": 4,
     "metadata": {},
     "output_type": "execute_result"
    }
   ],
   "source": [
    "\n",
    "# 工件数和每个工件的工序数\n",
    "job_length_list = np.array([3, 3, 3, 3, 3])\n",
    "\n",
    "# 计算每个工序在每台机器上的加工能耗，如果不能加工则为无穷大\n",
    "op_energy_max = np.where(op_pt == 0, np.inf, op_pt * mch_working_power)\n",
    "\n",
    "# 对于每个工序，找到能耗最高的机器\n",
    "max_energy_per_op = np.max(np.where(op_pt > 0, op_energy_max, 0), axis=1)\n",
    "\n",
    "# 计算工作能耗的最大值\n",
    "total_max_work_energy = np.sum(max_energy_per_op)\n",
    "\n",
    "# 为了简化，假设每个工件的工序之间的最大等待时间为该工件所有工序的最大加工时间的总和\n",
    "# 这是一个非常保守的估计，实际的待机时间可能会少很多\n",
    "# 找到每个工件所有工序的最大加工时间\n",
    "\n",
    "# 重新计算每个工件所有工序的最大加工时间\n",
    "max_op_time_per_job = np.array([np.max(op_pt[i*3:(i+1)*3], axis=0) for i in range(len(job_length_list))])\n",
    "\n",
    "# 估计每个工件的最大等待时间\n",
    "max_wait_time_per_job = np.sum(max_op_time_per_job, axis=1)\n",
    "\n",
    "# 假设在最坏情况下，所有机器在等待期间都处于待机状态\n",
    "# 使用最大加工时间的总和乘以最大的机器待机功率来估计最大待机能耗\n",
    "total_max_idle_energy = np.sum(max_wait_time_per_job) * np.max(mch_idle_power)\n",
    "\n",
    "# 更新总能耗的最大估计值，包括待机能耗\n",
    "total_energy_max_estimate = total_max_work_energy + total_max_idle_energy\n",
    "\n",
    "total_energy_max_estimate\n"
   ]
  },
  {
   "cell_type": "code",
   "execution_count": null,
   "metadata": {},
   "outputs": [],
   "source": [
    "# 重新导入numpy库并重新定义之前的变量和计算\n",
    "import numpy as np\n",
    "\n",
    "# 定义变量\n",
    "op_pt = np.array([[48, 74, 33],\n",
    "                  [47, 97, 0],\n",
    "                  [84, 79, 37],\n",
    "                  [97, 81, 69],\n",
    "                  [0, 0, 68],\n",
    "                  [3, 85, 40],\n",
    "                  [67, 85, 48],\n",
    "                  [0, 49, 8],\n",
    "                  [93, 53, 98],\n",
    "                  [86, 0, 28],\n",
    "                  [35, 98, 77],\n",
    "                  [41, 0, 70],\n",
    "                  [65, 0, 0],\n",
    "                  [0, 11, 23],\n",
    "                  [78, 19, 16]])\n",
    "mch_working_power = np.array([0.88138383, 0.68393263, 0.93675113])\n",
    "\n",
    "# 计算每个工序的最长加工时间和对应的机器索引\n",
    "max_time_per_op = np.max(op_pt, axis=1)  # 每个工序的最长加工时间\n",
    "max_time_mch_index = np.argmax(op_pt, axis=1)  # 最长加工时间对应的机器索引\n",
    "\n",
    "# 初始化每台机器的工作时间为0\n",
    "machine_times = np.zeros(len(mch_working_power))\n",
    "\n",
    "# 对于每个工件，计算其完成时间\n",
    "job_length_list = np.array([3, 3, 3, 3, 3])\n",
    "job_completion_times = []\n",
    "for job_idx in range(len(job_length_list)):\n",
    "    job_time = 0\n",
    "    for op_idx in range(job_length_list[job_idx]):\n",
    "        global_op_idx = job_idx * 3 + op_idx\n",
    "        mch_idx = max_time_mch_index[global_op_idx]\n",
    "        op_time = max_time_per_op[global_op_idx]\n",
    "        \n",
    "        machine_available_time = machine_times[mch_idx]\n",
    "        start_time = max(machine_available_time, job_time)\n",
    "        machine_times[mch_idx] = start_time + op_time\n",
    "        job_time = start_time + op_time\n",
    "    \n",
    "    job_completion_times.append(job_time)\n",
    "\n",
    "completion_time_upper_bound = max(job_completion_times)\n",
    "completion_time_upper_bound\n"
   ]
  },
  {
   "cell_type": "code",
   "execution_count": 16,
   "metadata": {},
   "outputs": [
    {
     "name": "stdout",
     "output_type": "stream",
     "text": [
      "[[0.42553191 0.        ]\n",
      " [0.32978723 1.        ]\n",
      " [0.4787234  0.        ]\n",
      " [0.5        0.88297872]\n",
      " [0.5106383  0.        ]\n",
      " [0.40425532 0.86170213]]\n",
      "[[0.72955563        inf]\n",
      " [0.56540561 0.41026295]\n",
      " [0.82075008        inf]\n",
      " [0.85722786 0.36225346]\n",
      " [0.87546676        inf]\n",
      " [0.69307785 0.35352446]]\n",
      "3.551813331430659\n"
     ]
    }
   ],
   "source": [
    "power = np.array([1.71445573, 0.41026295])\n",
    "\n",
    "\n",
    "op_pt = np.array([[40,  0],\n",
    "       [31, 94],\n",
    "       [45,  0],\n",
    "       [47, 83],\n",
    "       [48,  0],\n",
    "       [38, 81]])\n",
    "\n",
    "def compute_energy(power, op_pt):\n",
    "\n",
    "       pt_lower_bound = np.min(op_pt)\n",
    "       pt_upper_bound = np.max(op_pt)\n",
    "       op_pt = (op_pt - pt_lower_bound) / (pt_upper_bound - pt_lower_bound + 1e-8)\n",
    "       print(op_pt)\n",
    "       energy = op_pt * power\n",
    "\n",
    "       # print(energy)\n",
    "\n",
    "       energy = np.where(energy == 0, np.inf, energy)\n",
    "\n",
    "       print(energy)\n",
    "\n",
    "       print(np.sum(np.min(energy, axis=-1)))\n",
    "\n",
    "\n",
    "compute_energy(power, op_pt)"
   ]
  },
  {
   "cell_type": "code",
   "execution_count": 17,
   "metadata": {},
   "outputs": [
    {
     "name": "stdout",
     "output_type": "stream",
     "text": [
      "[[0.69565217 0.93478261]\n",
      " [0.84782609 0.73913043]\n",
      " [0.89130435 0.        ]\n",
      " [0.91304348 0.        ]\n",
      " [0.89130435 0.95652174]\n",
      " [0.         1.        ]]\n",
      "[[1.28957244 1.76653547]\n",
      " [1.57166641 1.39679549]\n",
      " [1.65226469        inf]\n",
      " [1.69256382        inf]\n",
      " [1.65226469 1.80761769]\n",
      " [       inf 1.88978213]]\n",
      "9.573243251831904\n"
     ]
    }
   ],
   "source": [
    "power = np.array([1.85376038, 1.88978213])\n",
    "op_pt = np.array([[32, 43],\n",
    "       [39, 34],\n",
    "       [41,  0],\n",
    "       [42,  0],\n",
    "       [41, 44],\n",
    "       [ 0, 46]])\n",
    "\n",
    "compute_energy(power, op_pt)"
   ]
  },
  {
   "cell_type": "code",
   "execution_count": 15,
   "metadata": {},
   "outputs": [
    {
     "name": "stdout",
     "output_type": "stream",
     "text": [
      "[[[0.4255319148483477 --]\n",
      "  [0.32978723400746945 0.9999999998936171]\n",
      "  [0.47872340420439113 --]\n",
      "  [0.49999999994680855 0.8829787233103215]\n",
      "  [0.5106382978180173 --]\n",
      "  [0.4042553191059303 0.8617021275679041]]\n",
      "\n",
      " [[0.34042553187867813 0.4574468084619738]\n",
      "  [0.414893616977139 0.36170212762109555]\n",
      "  [0.4361702127195564 --]\n",
      "  [0.4468085105907651 --]\n",
      "  [0.4361702127195564 0.46808510633318245]\n",
      "  [-- 0.48936170207559987]]]\n",
      "[[[1.71445573 0.41026295]]\n",
      "\n",
      " [[1.85376038 1.88978213]]]\n",
      "[[[0.7295556297096218 --]\n",
      "  [0.5654056130249568 0.41026294995635504]\n",
      "  [0.8207500834233245 --]\n",
      "  [0.8572278649088056 0.36225345581252627]\n",
      "  [0.8754667556515463 --]\n",
      "  [0.6930778482241408 0.3535244568772847]]\n",
      "\n",
      " [[0.6310673633371204 0.8644748040569707]\n",
      "  [0.7691133490671156 0.6835382171613258]\n",
      "  [0.8085550592756857 --]\n",
      "  [0.8282759143799707 --]\n",
      "  [0.8085550592756857 0.884578869267598]\n",
      "  [-- 0.9247869996888525]]]\n"
     ]
    },
    {
     "data": {
      "text/plain": [
       "<__main__.Any at 0x7fb0a4237070>"
      ]
     },
     "execution_count": 15,
     "metadata": {},
     "output_type": "execute_result"
    }
   ],
   "source": [
    "import numpy.ma as ma\n",
    "\n",
    "class Any():\n",
    "    def __init__(self, op_pt_list, mch_working_power_list) -> None:\n",
    "\n",
    "        self.op_pt = np.array(op_pt_list)\n",
    "        self.pt_lower_bound = np.min(self.op_pt)\n",
    "        self.pt_upper_bound = np.max(self.op_pt)\n",
    "        self.true_op_pt = np.copy(self.op_pt) # 操作的真实加工时间\n",
    "        self.mch_working_power = np.array(mch_working_power_list)\n",
    "        \n",
    "        self.process_relation = (self.op_pt != 0)  # 一个布尔三维数组，表示操作之间的兼容关系，True 表示兼容。\n",
    "        self.reverse_process_relation = ~self.process_relation  # \n",
    "        # normalize the processing time\n",
    "        self.op_pt = (self.op_pt - self.pt_lower_bound) / (self.pt_upper_bound - self.pt_lower_bound + 1e-8)\n",
    "\n",
    "        self.op_pt = ma.array(self.op_pt, mask=self.reverse_process_relation)\n",
    "        \n",
    "        self.op_energy = self.op_pt * self.mch_working_power[:, np.newaxis, :]\n",
    "        print(self.op_pt)\n",
    "        print(self.mch_working_power[:, np.newaxis, :])\n",
    "        print(self.op_energy)\n",
    "        min_energy_per_op = np.array(np.min(self.op_energy, axis=-1))\n",
    "        # print(min_energy_per_op)\n",
    "        self.total_min_energy = np.sum(min_energy_per_op, axis=-1)\n",
    "        # print(self.total_min_energy)\n",
    "op_pt_list = [np.array([[40,  0],\n",
    "       [31, 94],\n",
    "       [45,  0],\n",
    "       [47, 83],\n",
    "       [48,  0],\n",
    "       [38, 81]]), np.array([[32, 43],\n",
    "       [39, 34],\n",
    "       [41,  0],\n",
    "       [42,  0],\n",
    "       [41, 44],\n",
    "       [ 0, 46]])]\n",
    "\n",
    "mch_working_power_list = [np.array([1.71445573, 0.41026295]), np.array([1.85376038, 1.88978213])]\n",
    "\n",
    "Any(op_pt_list, mch_working_power_list)"
   ]
  }
 ],
 "metadata": {
  "kernelspec": {
   "display_name": "RL-torch",
   "language": "python",
   "name": "python3"
  },
  "language_info": {
   "codemirror_mode": {
    "name": "ipython",
    "version": 3
   },
   "file_extension": ".py",
   "mimetype": "text/x-python",
   "name": "python",
   "nbconvert_exporter": "python",
   "pygments_lexer": "ipython3",
   "version": "3.10.13"
  }
 },
 "nbformat": 4,
 "nbformat_minor": 2
}

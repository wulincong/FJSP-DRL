{
 "cells": [
  {
   "cell_type": "code",
   "execution_count": 6,
   "metadata": {},
   "outputs": [
    {
     "name": "stdout",
     "output_type": "stream",
     "text": [
      "[[[12 68 23]\n",
      "  [27  6 63]\n",
      "  [ 0 65 76]\n",
      "  [66 18 46]\n",
      "  [42 52 99]\n",
      "  [ 2 19 91]]\n",
      "\n",
      " [[88 11 75]\n",
      "  [98 25 19]\n",
      "  [46 66 47]\n",
      "  [69 76 15]\n",
      "  [ 4 74 74]\n",
      "  [33 14 49]]]\n",
      "[[1 2 2 0 2 2]\n",
      " [0 0 1 1 1 2]]\n"
     ]
    },
    {
     "data": {
      "text/plain": [
       "array([[[[68, 23, 23, 12, 23, 23],\n",
       "         [12, 12, 68, 68, 68, 23]],\n",
       "\n",
       "        [[ 6, 63, 63, 27, 63, 63],\n",
       "         [27, 27,  6,  6,  6, 63]],\n",
       "\n",
       "        [[65, 76, 76,  0, 76, 76],\n",
       "         [ 0,  0, 65, 65, 65, 76]],\n",
       "\n",
       "        [[18, 46, 46, 66, 46, 46],\n",
       "         [66, 66, 18, 18, 18, 46]],\n",
       "\n",
       "        [[52, 99, 99, 42, 99, 99],\n",
       "         [42, 42, 52, 52, 52, 99]],\n",
       "\n",
       "        [[19, 91, 91,  2, 91, 91],\n",
       "         [ 2,  2, 19, 19, 19, 91]]],\n",
       "\n",
       "\n",
       "       [[[11, 75, 75, 88, 75, 75],\n",
       "         [88, 88, 11, 11, 11, 75]],\n",
       "\n",
       "        [[25, 19, 19, 98, 19, 19],\n",
       "         [98, 98, 25, 25, 25, 19]],\n",
       "\n",
       "        [[66, 47, 47, 46, 47, 47],\n",
       "         [46, 46, 66, 66, 66, 47]],\n",
       "\n",
       "        [[76, 15, 15, 69, 15, 15],\n",
       "         [69, 69, 76, 76, 76, 15]],\n",
       "\n",
       "        [[74, 74, 74,  4, 74, 74],\n",
       "         [ 4,  4, 74, 74, 74, 74]],\n",
       "\n",
       "        [[14, 49, 49, 33, 49, 49],\n",
       "         [33, 33, 14, 14, 14, 49]]]])"
      ]
     },
     "execution_count": 6,
     "metadata": {},
     "output_type": "execute_result"
    }
   ],
   "source": [
    "import numpy as np\n",
    "\n",
    "# 创建一个(2,6,3)的随机数组\n",
    "arr = np.random.randint(0, 100, size=(2, 6, 3))\n",
    "print(arr)\n",
    "\n",
    "# 找出最大值的索引\n",
    "max_index = np.argmax(arr, axis=-1)\n",
    "\n",
    "print(max_index)\n",
    "arr[:,:, max_index]\n"
   ]
  },
  {
   "cell_type": "code",
   "execution_count": 10,
   "metadata": {},
   "outputs": [
    {
     "name": "stdout",
     "output_type": "stream",
     "text": [
      "[[ 50.  70.  90.]\n",
      " [100.  60.  80.]]\n"
     ]
    }
   ],
   "source": [
    "import numpy as np\n",
    "\n",
    "# 初始化机器数组\n",
    "machines = np.zeros((2, 3))\n",
    "\n",
    "# 假设这是你的 unscheduled_energy_lb_idx 数组\n",
    "unscheduled_energy_lb_idx = np.array([[0, 1, 2, 0, 1, 2],\n",
    "                                      [1, 2, 0, 1, 2, 0]])\n",
    "\n",
    "# 假设这是你的 unscheduled_energy_lb_energy 数组\n",
    "unscheduled_energy_lb_energy = np.array([[10, 20, 30, 40, 50, 60],\n",
    "                                         [15, 25, 35, 45, 55, 65]])\n",
    "\n",
    "# 遍历并将能量最小值加到对应的机器上\n",
    "for i in range(unscheduled_energy_lb_idx.shape[0]):  # 遍历每行\n",
    "    for j in range(unscheduled_energy_lb_idx.shape[1]):  # 遍历每列\n",
    "        idx = unscheduled_energy_lb_idx[i, j]  # 获取当前能量值对应的机器索引\n",
    "        energy = unscheduled_energy_lb_energy[i, j]  # 获取当前的能量值\n",
    "        machines[i, idx] += energy  # 将能量值加到对应的机器上\n",
    "\n",
    "print(machines)\n"
   ]
  }
 ],
 "metadata": {
  "kernelspec": {
   "display_name": "RL-torch",
   "language": "python",
   "name": "python3"
  },
  "language_info": {
   "codemirror_mode": {
    "name": "ipython",
    "version": 3
   },
   "file_extension": ".py",
   "mimetype": "text/x-python",
   "name": "python",
   "nbconvert_exporter": "python",
   "pygments_lexer": "ipython3",
   "version": "3.10.13"
  }
 },
 "nbformat": 4,
 "nbformat_minor": 2
}

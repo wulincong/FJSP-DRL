{
 "cells": [
  {
   "cell_type": "code",
   "execution_count": 1,
   "metadata": {},
   "outputs": [],
   "source": [
    "import numpy as np\n",
    "\n",
    "shell_head = \"\"\"#!/bin/sh\n",
    "#SBATCH -J torch\n",
    "#SBATCH -p xhhgnormal   #修改队列名称，whichpartition查看队列名称\n",
    "#SBATCH -N 1\n",
    "#SBATCH -n 16\n",
    "#SBATCH --gres=gpu:1\n",
    "set -x\n",
    "source ~/.bashrc\n",
    "module load nvidia/cuda/11.6\n",
    "conda activate RL-torch\n",
    "\"\"\"\n"
   ]
  },
  {
   "cell_type": "code",
   "execution_count": 2,
   "metadata": {},
   "outputs": [
    {
     "name": "stdout",
     "output_type": "stream",
     "text": [
      "python ./test_script/trained_model_ec.py --fea_j_input_dim 12 --fea_m_input_dim 9 --model_source SD2EC0 --data_source SD2EC0 --seed_train 234 --test_model 25x5EC+ECMK --test_data 25x5+mix\n",
      "python ./test_script/trained_model_ec.py --fea_j_input_dim 12 --fea_m_input_dim 9 --model_source SD2EC0 --data_source SD2EC0 --seed_train 234 --test_model 25x8EC+ECMK --test_data 25x8+mix\n",
      "python ./test_script/trained_model_ec.py --fea_j_input_dim 12 --fea_m_input_dim 9 --model_source SD2EC0 --data_source SD2EC0 --seed_train 234 --test_model 25x11EC+ECMK --test_data 25x11+mix\n",
      "python ./test_script/trained_model_ec.py --fea_j_input_dim 12 --fea_m_input_dim 9 --model_source SD2EC0 --data_source SD2EC0 --seed_train 234 --test_model 25x14EC+ECMK --test_data 25x14+mix\n",
      "python ./test_script/trained_model_ec.py --fea_j_input_dim 12 --fea_m_input_dim 9 --model_source SD2EC0 --data_source SD2EC0 --seed_train 234 --test_model 25x17EC+ECMK --test_data 25x17+mix\n",
      "python ./test_script/trained_model_ec.py --fea_j_input_dim 12 --fea_m_input_dim 9 --model_source SD2EC0 --data_source SD2EC0 --seed_train 234 --test_model 25x20EC+ECMK --test_data 25x20+mix\n",
      "python ./test_script/trained_model_ec.py --fea_j_input_dim 12 --fea_m_input_dim 9 --model_source SD2EC0 --data_source SD2EC0 --seed_train 234 --test_model 25x23EC+ECMK --test_data 25x23+mix\n",
      "python ./test_script/trained_model_ec.py --fea_j_input_dim 12 --fea_m_input_dim 9 --model_source SD2EC0 --data_source SD2EC0 --seed_train 234 --test_model 25x25EC+ECMK --test_data 25x25+mix\n"
     ]
    }
   ],
   "source": [
    "list_j = [5, 8, 11, 14, 17, 20, 23, 25]\n",
    "list_m = [5, 8, 11, 14, 17, 20, 23, 25]\n",
    "\n",
    "exp=\"DAN_j_m\"\n",
    "\n",
    "for n_j in list_j:\n",
    "\n",
    "    commd_list = []\n",
    "    for n_m in list_m:\n",
    "        commd = f'python ./test_script/trained_model_ec.py --fea_j_input_dim 12 --fea_m_input_dim 9 --model_source SD2EC0 --data_source SD2EC0 --seed_train 234 --test_model {n_j}x{n_m}EC+ECMK --test_data {n_j}x{n_m}+mix'\n",
    "        commd_list.append(commd)\n",
    "    commds = \"\\n\".join(commd_list)\n",
    "\n",
    "print(commds)\n",
    "# with open(f\"./DANEC_test.sh\", \"w\") as f:\n",
    "#     s = f'''{shell_head}\\n{commds}'''\n",
    "#     f.write(s)\n"
   ]
  },
  {
   "cell_type": "code",
   "execution_count": null,
   "metadata": {},
   "outputs": [],
   "source": []
  },
  {
   "cell_type": "code",
   "execution_count": 9,
   "metadata": {},
   "outputs": [],
   "source": [
    "\n",
    "with open(f\"./DAN_j_m/DAN_all.sh\", \"w\") as f:\n",
    "    s = \"\\n\".join([f\"sbatch ./experiment/DAN_j_m/DAN_{n_j}_m.sh\" for n_j in range(30, 4, -1)])\n",
    "    f.write(s)\n"
   ]
  },
  {
   "cell_type": "code",
   "execution_count": 54,
   "metadata": {},
   "outputs": [
    {
     "name": "stdout",
     "output_type": "stream",
     "text": [
      "[10, 25, 20, 15] [5, 5, 10, 15] [5, 5, 10, 15]\n",
      "210\n"
     ]
    }
   ],
   "source": [
    "EXP=\"exp18\"\n",
    "SUBEXP=\"exp18-10\"\n",
    "hidden_dim=512\n",
    "\n",
    "\n",
    "# 本试验特殊参数\n",
    "# n_j_options=[int(_) for _ in np.linspace(5, 25, 6)]\n",
    "# n_m_options=n_j_options[::-1]\n",
    "# op_per_job_options=[10 for _ in n_m_options]\n",
    "\n",
    "n_j_options=[10, 25, 20, 15]\n",
    "n_m_options=[5,  5,  10, 15]\n",
    "op_per_job_options=n_m_options\n",
    "print(n_j_options, n_m_options, op_per_job_options)\n",
    "\n",
    "LOG_DIR=\"./runs/\"+EXP+\"/\"+SUBEXP\n",
    "\n",
    "num_tasks=len(n_j_options)\n",
    "seed_train=23333\n",
    "\n",
    "# multi_task_maml_exp.py 脚本的特定参数\n",
    "meta_iterations=200+int(SUBEXP.split(\"-\")[-1])\n",
    "print(meta_iterations)\n",
    "max_updates_maml=500\n",
    "\n",
    "# DAN_finetuning.py 脚本的特定参数\n",
    "max_updates_finetune=11\n",
    "exp_dim=\"jxm\"\n",
    "\n",
    "def finetuning_dan(model_list, file, extra_parameters:str=\"\"):\n",
    "    logdir_dan = LOG_DIR + \"/DAN/finetuning\"\n",
    "    commd_list = []\n",
    "    target_models = []\n",
    "    for model in model_list:\n",
    "        for n_j in n_j_options:\n",
    "            for n_m in n_m_options:\n",
    "                target_model = f\"{n_j}x{n_m}\"\n",
    "                if target_model not in target_models:\n",
    "                    target_models.append(target_model)\n",
    "                    commd = f\"python ./train/DAN_finetuning.py --logdir {logdir_dan}/{model}/{target_model} --model_suffix free --finetuning_model {model} --max_updates {max_updates_finetune} --n_j {n_j} --n_m {n_m} --exp_dim {exp_dim} {extra_parameters}\"\n",
    "                    print(commd, file=file)\n",
    "                    commd_list.append(commd)\n",
    "                else:pass\n",
    "    return commd_list\n",
    "\n",
    "def train_maml(file):\n",
    "    model_suffix = SUBEXP\n",
    "    logdir_maml=LOG_DIR+ \"/maml/train_model\"\n",
    "    commd = f'python ./train/multi_task_maml_exp18.py --logdir {logdir_maml} --model_suffix {model_suffix} --maml_model True \\\n",
    "--meta_iterations {meta_iterations} --num_tasks {num_tasks} \\\n",
    "--hidden_dim_actor {hidden_dim} --hidden_dim_critic {hidden_dim} \\\n",
    "--n_j_options {\" \".join(map(str, n_j_options))} --n_m_options {\" \".join(map(str, n_m_options))} --op_per_job_options {\" \".join(map(str, op_per_job_options))}'\n",
    "    print(commd, file=file)\n",
    "    return f\"maml+{model_suffix}\", commd\n",
    "\n",
    "\n",
    "\n",
    "def finetuning_maml(model_list, file):\n",
    "    extra_parameters = f\"--hidden_dim_actor {hidden_dim} --hidden_dim_critic {hidden_dim}\"\n",
    "    return finetuning_dan(model_list, file, extra_parameters=extra_parameters)\n",
    "\n",
    "with open(f\"./{SUBEXP}.sh\", \"w\")as f:\n",
    "    f.write(shell_head)\n",
    "    model_name, _ = train_maml(f)\n",
    "    # finetuning_dan([\"25x25x10+mix\", \n",
    "    #                 # \"5x5x10+mix\"\n",
    "    #                 ], \n",
    "    #                 f)\n",
    "    finetuning_maml([model_name,], f)\n",
    "\n"
   ]
  },
  {
   "cell_type": "code",
   "execution_count": 56,
   "metadata": {},
   "outputs": [],
   "source": [
    "def test_generater(f, test_model, baseline_addition=[]):\n",
    "    target_data = []\n",
    "    commd_baseline = []\n",
    "    if baseline_addition:\n",
    "        baseline_addition_j = baseline_addition[0]\n",
    "        baseline_addition_m = baseline_addition[1]\n",
    "    for n_j in list(range(5, 26, 5)) + baseline_addition_j:\n",
    "        for n_m in list(range(5, 26, 5)) + baseline_addition_m:\n",
    "            data_s = f\"{n_j}x{n_m}+mix\"\n",
    "            target_data.append(data_s)\n",
    "            commd_baseline.append(f\"python ./test_script/trained_model.py --test_data {data_s} --test_model {n_j}x{n_m}x{'0' if n_j >= 30 else '10'}+mix\")\n",
    "    test_data = \" \".join(target_data)\n",
    "    commd_baseline = \"\\n\".join(commd_baseline)\n",
    "    print(commd_baseline, file=f)\n",
    "    for model in test_model:\n",
    "        if model.startswith(\"maml\"):\n",
    "            print(f'''python ./test_script/trained_model.py --test_data {test_data} --test_model {model} --hidden_dim_actor {hidden_dim} --hidden_dim_critic {hidden_dim}''', file=f)\n",
    "        else:\n",
    "            print(f'''python ./test_script/trained_model.py --test_data {test_data} --test_model {model}''', file=f)\n",
    "\n",
    "with open(\"./test1.sh\", \"w\") as f:\n",
    "    # test_model = ['maml+exp18-9', '25x25x10+mix', '25x20x10+mix', '30x30x10+mix']\n",
    "    test_model = ['maml+exp18-10']\n",
    "    baseline_addition=[[40, 30],[20, 10]]\n",
    "    test_generater(f, test_model, baseline_addition)"
   ]
  },
  {
   "cell_type": "code",
   "execution_count": null,
   "metadata": {},
   "outputs": [],
   "source": []
  },
  {
   "cell_type": "code",
   "execution_count": null,
   "metadata": {},
   "outputs": [],
   "source": []
  }
 ],
 "metadata": {
  "kernelspec": {
   "display_name": "RL-torch",
   "language": "python",
   "name": "python3"
  },
  "language_info": {
   "codemirror_mode": {
    "name": "ipython",
    "version": 3
   },
   "file_extension": ".py",
   "mimetype": "text/x-python",
   "name": "python",
   "nbconvert_exporter": "python",
   "pygments_lexer": "ipython3",
   "version": "3.10.13"
  }
 },
 "nbformat": 4,
 "nbformat_minor": 2
}

{
 "cells": [
  {
   "cell_type": "markdown",
   "metadata": {},
   "source": [
    "ratio的计算\n",
    "\n",
    "$$ E_t[ \\frac{\\pi_{\\theta}(a_t|s_t)}{\\pi_{\\theta_{old}(a_t|s_t)}} A_t ] $$\n",
    "\n",
    "其中$\\frac{\\pi_{\\theta}(a_t|s_t)}{\\pi_{\\theta_{old}(a_t|s_t)}}$是ratio\n"
   ]
  },
  {
   "cell_type": "code",
   "execution_count": null,
   "metadata": {},
   "outputs": [],
   "source": [
    "#~/NeuralABR-Pensieve-PPO-MAML\n",
    "\n",
    "# old_prob\n",
    "probs_old = old_policy(batch_states).detach()\n",
    "prob_value_old = torch.gather(probs_old, dim=1, \\\n",
    "                                index=batch_actions.type(dlongtype)).detach()\n",
    "# new prob\n",
    "probs = new_policy(batch_states)\n",
    "prob_value = torch.gather(probs, dim=1, index=batch_actions.type(dlongtype))\n",
    "\n",
    "# ratio\n",
    "ratio = prob_value / (1e-6 + prob_value_old)\n"
   ]
  },
  {
   "cell_type": "code",
   "execution_count": null,
   "metadata": {},
   "outputs": [],
   "source": [
    "action_batch = t_data[8][start_idx: end_idx]  # 获取动作序列\n",
    "logprobs, ent_loss = eval_actions(pis, action_batch)  # 计算动作的概率和熵损失\n",
    "ratios = torch.exp(logprobs - t_data[12][start_idx: end_idx].detach())  # 计算重要性采样比率\n"
   ]
  }
 ],
 "metadata": {
  "kernelspec": {
   "display_name": "RL-torch",
   "language": "python",
   "name": "python3"
  },
  "language_info": {
   "name": "python",
   "version": "3.10.13"
  }
 },
 "nbformat": 4,
 "nbformat_minor": 2
}

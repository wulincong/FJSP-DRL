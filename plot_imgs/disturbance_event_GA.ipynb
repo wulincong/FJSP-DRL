{
 "cells": [
  {
   "cell_type": "code",
   "execution_count": 1,
   "metadata": {},
   "outputs": [],
   "source": [
    "import numpy as np\n",
    "\n",
    "# 例如，第一道工序在机器0上，第二道工序在机器1上\n",
    "chromosome = [\n",
    "    [(0, 67), (1, 42), (0, 41), (1, 85), (0, 7)],  # 作业1\n",
    "    [(1, 61), (0, 53), (1, 4), (0, 93)],  # 作业2\n",
    "    [(1, 36), (0, 0), (1, 27), (0, 24)]  # 作业3\n",
    "]\n",
    "\n",
    "def fitness(chromosome):\n",
    "    machine_schedule = {}  # 记录每个机器的使用时间\n",
    "    makespan = 0\n",
    "\n",
    "    # 遍历每个作业的每道工序\n",
    "    for job_index, job in enumerate(chromosome):\n",
    "        current_time = 0  # 该作业的开始时间\n",
    "        for op_index, (machine, processing_time) in enumerate(job):\n",
    "            if machine not in machine_schedule:\n",
    "                machine_schedule[machine] = []\n",
    "\n",
    "            # 确保没有资源冲突\n",
    "            machine_busy = machine_schedule[machine]\n",
    "            start_time = max(current_time, max([end for _, end in machine_busy], default=0))\n",
    "            end_time = start_time + processing_time\n",
    "            machine_schedule[machine].append((start_time, end_time))\n",
    "\n",
    "            # 更新作业的开始时间\n",
    "            current_time = end_time\n",
    "\n",
    "        # 更新最大完工时间\n",
    "        makespan = max(makespan, current_time)\n",
    "\n",
    "    return makespan  # 目标是最小化完工时间\n",
    "\n",
    "def select_population(population, fitness_values):\n",
    "    # 轮盘赌选择\n",
    "    total_fitness = sum(fitness_values)\n",
    "    selection_probs = [fitness / total_fitness for fitness in fitness_values]\n",
    "    selected = np.random.choice(population, size=len(population)//2, p=selection_probs)\n",
    "    return selected\n",
    "\n",
    "def crossover(parent1, parent2):\n",
    "    # 单点交叉\n",
    "    crossover_point = np.random.randint(len(parent1))\n",
    "    child1 = parent1[:crossover_point] + parent2[crossover_point:]\n",
    "    child2 = parent2[:crossover_point] + parent1[crossover_point:]\n",
    "    return child1, child2\n",
    "\n",
    "def mutate(chromosome, mutation_rate):\n",
    "    for job_index in range(len(chromosome)):\n",
    "        for op_index in range(len(chromosome[job_index])):\n",
    "            if np.random.rand() < mutation_rate:\n",
    "                # 随机改变机器选择\n",
    "                new_machine = np.random.choice([0, 1])\n",
    "                chromosome[job_index][op_index] = (new_machine, chromosome[job_index][op_index][1])\n",
    "    return chromosome\n",
    "\n",
    "\n",
    "\n",
    "def initialize_population(job_length, op_pt, population_size):\n",
    "    population = []\n",
    "    for _ in range(population_size):\n",
    "        chromosome = []\n",
    "        for job in range(len(job_length)):\n",
    "            job_chromosome = []\n",
    "            for op in range(job_length[job]):\n",
    "                machine = np.random.choice([0, 1])\n",
    "                processing_time = op_pt[job * job_length[job] + op][machine]\n",
    "                job_chromosome.append((machine, processing_time))\n",
    "            chromosome.append(job_chromosome)\n",
    "        population.append(chromosome)\n",
    "    return population\n",
    "\n",
    "def genetic_algorithm(job_length, op_pt, population_size=50, generations=100, mutation_rate=0.05):\n",
    "    population = initialize_population(job_length, op_pt, population_size)\n",
    "    for gen in range(generations):\n",
    "        fitness_values = [fitness(individual) for individual in population]\n",
    "        selected = select_population(population, fitness_values)\n",
    "\n",
    "        next_generation = []\n",
    "        for i in range(0, len(selected), 2):\n",
    "            parent1, parent2 = selected[i], selected[i+1]\n",
    "            child1, child2 = crossover(parent1, parent2)\n",
    "            next_generation.append(mutate(child1, mutation_rate))\n",
    "            next_generation.append(mutate(child2, mutation_rate))\n",
    "\n",
    "        population = next_generation\n",
    "\n",
    "    best_individual = min(population, key=fitness)\n",
    "    return best_individual"
   ]
  },
  {
   "cell_type": "code",
   "execution_count": 2,
   "metadata": {},
   "outputs": [],
   "source": [
    "import os, sys\n",
    "os.environ['ON_PY']=\"1\"\n",
    "from data_utils import CaseGenerator, SD2_instance_generator\n",
    "from params import configs\n",
    "n_j=17\n",
    "n_m=11\n",
    "try:\n",
    "    JobLength = np.load(\"job_length.npy\")\n",
    "    OpPT = np.load(\"op_pt.npy\")\n",
    "except:\n",
    "    JobLength, OpPT, _ = SD2_instance_generator(configs, n_j=n_j, n_m=n_m, op_per_job=0)\n",
    "\n"
   ]
  },
  {
   "cell_type": "code",
   "execution_count": 3,
   "metadata": {},
   "outputs": [
    {
     "ename": "ValueError",
     "evalue": "a must be 1-dimensional",
     "output_type": "error",
     "traceback": [
      "\u001b[0;31m---------------------------------------------------------------------------\u001b[0m",
      "\u001b[0;31mValueError\u001b[0m                                Traceback (most recent call last)",
      "File \u001b[0;32m<timed exec>:1\u001b[0m\n",
      "Cell \u001b[0;32mIn[1], line 78\u001b[0m, in \u001b[0;36mgenetic_algorithm\u001b[0;34m(job_length, op_pt, population_size, generations, mutation_rate)\u001b[0m\n\u001b[1;32m     76\u001b[0m \u001b[38;5;28;01mfor\u001b[39;00m gen \u001b[38;5;129;01min\u001b[39;00m \u001b[38;5;28mrange\u001b[39m(generations):\n\u001b[1;32m     77\u001b[0m     fitness_values \u001b[38;5;241m=\u001b[39m [fitness(individual) \u001b[38;5;28;01mfor\u001b[39;00m individual \u001b[38;5;129;01min\u001b[39;00m population]\n\u001b[0;32m---> 78\u001b[0m     selected \u001b[38;5;241m=\u001b[39m \u001b[43mselect_population\u001b[49m\u001b[43m(\u001b[49m\u001b[43mpopulation\u001b[49m\u001b[43m,\u001b[49m\u001b[43m \u001b[49m\u001b[43mfitness_values\u001b[49m\u001b[43m)\u001b[49m\n\u001b[1;32m     80\u001b[0m     next_generation \u001b[38;5;241m=\u001b[39m []\n\u001b[1;32m     81\u001b[0m     \u001b[38;5;28;01mfor\u001b[39;00m i \u001b[38;5;129;01min\u001b[39;00m \u001b[38;5;28mrange\u001b[39m(\u001b[38;5;241m0\u001b[39m, \u001b[38;5;28mlen\u001b[39m(selected), \u001b[38;5;241m2\u001b[39m):\n",
      "Cell \u001b[0;32mIn[1], line 39\u001b[0m, in \u001b[0;36mselect_population\u001b[0;34m(population, fitness_values)\u001b[0m\n\u001b[1;32m     37\u001b[0m total_fitness \u001b[38;5;241m=\u001b[39m \u001b[38;5;28msum\u001b[39m(fitness_values)\n\u001b[1;32m     38\u001b[0m selection_probs \u001b[38;5;241m=\u001b[39m [fitness \u001b[38;5;241m/\u001b[39m total_fitness \u001b[38;5;28;01mfor\u001b[39;00m fitness \u001b[38;5;129;01min\u001b[39;00m fitness_values]\n\u001b[0;32m---> 39\u001b[0m selected \u001b[38;5;241m=\u001b[39m \u001b[43mnp\u001b[49m\u001b[38;5;241;43m.\u001b[39;49m\u001b[43mrandom\u001b[49m\u001b[38;5;241;43m.\u001b[39;49m\u001b[43mchoice\u001b[49m\u001b[43m(\u001b[49m\u001b[43mpopulation\u001b[49m\u001b[43m,\u001b[49m\u001b[43m \u001b[49m\u001b[43msize\u001b[49m\u001b[38;5;241;43m=\u001b[39;49m\u001b[38;5;28;43mlen\u001b[39;49m\u001b[43m(\u001b[49m\u001b[43mpopulation\u001b[49m\u001b[43m)\u001b[49m\u001b[38;5;241;43m/\u001b[39;49m\u001b[38;5;241;43m/\u001b[39;49m\u001b[38;5;241;43m2\u001b[39;49m\u001b[43m,\u001b[49m\u001b[43m \u001b[49m\u001b[43mp\u001b[49m\u001b[38;5;241;43m=\u001b[39;49m\u001b[43mselection_probs\u001b[49m\u001b[43m)\u001b[49m\n\u001b[1;32m     40\u001b[0m \u001b[38;5;28;01mreturn\u001b[39;00m selected\n",
      "File \u001b[0;32mnumpy/random/mtrand.pyx:947\u001b[0m, in \u001b[0;36mnumpy.random.mtrand.RandomState.choice\u001b[0;34m()\u001b[0m\n",
      "\u001b[0;31mValueError\u001b[0m: a must be 1-dimensional"
     ]
    }
   ],
   "source": [
    "%%time\n",
    "schedule = genetic_algorithm(JobLength, OpPT)\n"
   ]
  },
  {
   "cell_type": "code",
   "execution_count": 4,
   "metadata": {},
   "outputs": [
    {
     "ename": "NameError",
     "evalue": "name 'schedule' is not defined",
     "output_type": "error",
     "traceback": [
      "\u001b[0;31m---------------------------------------------------------------------------\u001b[0m",
      "\u001b[0;31mNameError\u001b[0m                                 Traceback (most recent call last)",
      "Cell \u001b[0;32mIn[4], line 2\u001b[0m\n\u001b[1;32m      1\u001b[0m \u001b[38;5;66;03m# 打印结果\u001b[39;00m\n\u001b[0;32m----> 2\u001b[0m \u001b[38;5;28;01mfor\u001b[39;00m task \u001b[38;5;129;01min\u001b[39;00m \u001b[43mschedule\u001b[49m:\n\u001b[1;32m      3\u001b[0m     \u001b[38;5;28mprint\u001b[39m(task)\n",
      "\u001b[0;31mNameError\u001b[0m: name 'schedule' is not defined"
     ]
    }
   ],
   "source": [
    "\n",
    "# 打印结果\n",
    "for task in schedule:\n",
    "    print(task)\n"
   ]
  },
  {
   "cell_type": "code",
   "execution_count": null,
   "metadata": {},
   "outputs": [],
   "source": []
  },
  {
   "cell_type": "code",
   "execution_count": null,
   "metadata": {},
   "outputs": [],
   "source": [
    "\n"
   ]
  },
  {
   "cell_type": "code",
   "execution_count": null,
   "metadata": {},
   "outputs": [],
   "source": []
  }
 ],
 "metadata": {
  "kernelspec": {
   "display_name": "RL-torch",
   "language": "python",
   "name": "python3"
  },
  "language_info": {
   "codemirror_mode": {
    "name": "ipython",
    "version": 3
   },
   "file_extension": ".py",
   "mimetype": "text/x-python",
   "name": "python",
   "nbconvert_exporter": "python",
   "pygments_lexer": "ipython3",
   "version": "3.10.14"
  }
 },
 "nbformat": 4,
 "nbformat_minor": 2
}

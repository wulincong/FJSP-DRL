{
 "cells": [
  {
   "cell_type": "code",
   "execution_count": 3,
   "metadata": {},
   "outputs": [
    {
     "data": {
      "text/plain": [
       "705.4060000000001"
      ]
     },
     "execution_count": 3,
     "metadata": {},
     "output_type": "execute_result"
    }
   ],
   "source": [
    "import numpy as np\n",
    "\n",
    "# 加工时间矩阵\n",
    "processing_times = np.array([\n",
    "    [ 0,  0, 41, 26,  0],\n",
    "    [ 0,  0,  0, 62, 43],\n",
    "    [58,  2, 69,  0,  0],\n",
    "    [77, 80,  0, 67,  0],\n",
    "    [ 0,  0,  0, 33, 62],\n",
    "    [89, 91, 80,  0, 51],\n",
    "    [ 0,  0,  0, 42, 87],\n",
    "    [ 0,  0,  0, 39, 69],\n",
    "    [71,  4, 41, 83, 83],\n",
    "    [ 0, 12,  0, 53, 99],\n",
    "    [22, 59, 93, 65, 18],\n",
    "    [76, 59,  0, 33, 29],\n",
    "    [22, 89, 54,  0, 66],\n",
    "    [53,  0, 14, 30, 48],\n",
    "    [49, 63, 94, 89, 69],\n",
    "    [ 0,  0, 96,  0,  0],\n",
    "    [22,  0,  0, 52, 49],\n",
    "    [93, 45,  0, 69, 67],\n",
    "    [53, 92, 88, 93, 61],\n",
    "    [15,  0,  0,  5,  0],\n",
    "    [ 0, 89,  0, 45,  0],\n",
    "    [35,  0,  0, 24,  0],\n",
    "    [ 5, 49, 68, 99, 25],\n",
    "    [ 0,  0,  1, 98,  0],\n",
    "    [49, 12,  0, 30, 86],\n",
    "    [ 0, 66, 15,  0, 21],\n",
    "    [63,  0, 70, 82, 73],\n",
    "    [ 0,  0, 86,  0,  0],\n",
    "    [58, 84,  1, 58,  0],\n",
    "    [31,  2,  6,  7, 84],\n",
    "    [67, 84, 83, 18, 74],\n",
    "    [13, 19, 52, 36, 77],\n",
    "    [32,  0,  0,  0,  0],\n",
    "    [ 0, 21, 81,  0,  0],\n",
    "    [91, 56, 13,  2, 44],\n",
    "    [ 0, 93,  0, 22,  0],\n",
    "    [12, 55, 78,  0, 78],\n",
    "    [21, 90, 75,  0, 87],\n",
    "    [ 8, 66, 96,  0,  0],\n",
    "    [ 0,  0,  0, 64, 71],\n",
    "    [ 0, 26,  0, 72, 33],\n",
    "    [93,  0, 24,  0, 98],\n",
    "    [ 0, 94,  0,  0, 26],\n",
    "    [ 0, 90, 48,  0, 89],\n",
    "    [ 0,  0,  0,  0, 44],\n",
    "    [73,  7, 88, 78,  0],\n",
    "    [91,  0,  0,  0, 73],\n",
    "    [ 1,  0, 33,  0,  0],\n",
    "    [45,  0,  0,  3,  0],\n",
    "    [76,  7, 86, 95, 48]\n",
    "])\n",
    "\n",
    "# 每个机器的单位时间能耗\n",
    "energy_per_time = np.array([4.737, 2.906, 3.799, 2.704, 2.506])\n",
    "\n",
    "# 找出每道工序的最大加工时间对应的机器索引\n",
    "max_time_indices = np.argmin(processing_times, axis=1)\n",
    "\n",
    "# 计算每道工序的能耗\n",
    "energy_consumptions = processing_times[np.arange(len(processing_times)), max_time_indices] * energy_per_time[max_time_indices]\n",
    "\n",
    "# 计算总功耗\n",
    "total_energy_consumption = np.sum(energy_consumptions)\n",
    "\n",
    "total_energy_consumption\n"
   ]
  }
 ],
 "metadata": {
  "kernelspec": {
   "display_name": "RL-torch",
   "language": "python",
   "name": "python3"
  },
  "language_info": {
   "codemirror_mode": {
    "name": "ipython",
    "version": 3
   },
   "file_extension": ".py",
   "mimetype": "text/x-python",
   "name": "python",
   "nbconvert_exporter": "python",
   "pygments_lexer": "ipython3",
   "version": "3.10.13"
  }
 },
 "nbformat": 4,
 "nbformat_minor": 2
}

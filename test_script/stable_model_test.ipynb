{
 "cells": [
  {
   "cell_type": "code",
   "execution_count": 1,
   "metadata": {},
   "outputs": [],
   "source": [
    "import os, sys\n",
    "os.environ['ON_PY']=\"1\"\n",
    "from data_utils import CaseGenerator\n",
    "import random\n",
    "from gym_jobshop.envs.fjsp_env_2 import FJSPEnv\n",
    "from stable_baselines3 import PPO\n"
   ]
  },
  {
   "cell_type": "code",
   "execution_count": 2,
   "metadata": {},
   "outputs": [],
   "source": [
    "\n",
    "def test(model_name, test_job_length, test_op_pt, ):\n",
    "    # 创建测试环境\n",
    "    test_env = FJSPEnv(num_jobs=3, num_machines=2)\n",
    "    obs = test_env.set_initial_data(test_job_length, test_op_pt)\n",
    "    model = PPO.load(\"../train/\" + model_name)\n",
    "    # print(\"Initial Observation:\", obs)\n",
    "\n",
    "    # 测试模型\n",
    "    done = False\n",
    "    total_reward = 0\n",
    "    step_count = 0\n",
    "\n",
    "    while not done:\n",
    "        # 使用模型预测动作\n",
    "        action, _states = model.predict(obs, deterministic=True)\n",
    "        # 环境执行动作\n",
    "        obs, reward, terminated, truncated, info = test_env.step(action)\n",
    "        done = terminated  or truncated # 判断是否结束\n",
    "        total_reward += reward\n",
    "        step_count += 1\n",
    "\n",
    "        # 可视化每步的结果（可选）\n",
    "        print(f\"Step: {step_count}, Action: {action}, Reward: {reward}, Info: {info}\")\n",
    "\n",
    "    print(f\"Test completed in {step_count} steps with total reward: {total_reward}\")\n",
    "    test_env.render()\n"
   ]
  },
  {
   "cell_type": "code",
   "execution_count": 3,
   "metadata": {},
   "outputs": [
    {
     "name": "stdout",
     "output_type": "stream",
     "text": [
      "199\n",
      "[15 11 16 10 11 18 20 18 13 12 13 16 11 15]\n",
      "[[ 5  5  0 ...  6  5  6]\n",
      " [ 0  0 15 ...  0  0 16]\n",
      " [ 0 14 19 ... 19 14 19]\n",
      " ...\n",
      " [ 0  0  0 ...  0  0 11]\n",
      " [ 0 17  0 ...  0  0 16]\n",
      " [ 0  0  0 ...  0  0 18]]\n",
      "Step: 1, Action: 61, Reward: 0.0, Info: {'makespan': 175, 'next_schedule_time': 0.0, 'step_count': 1, 'chosem_op': 63, 'chosem_mch': 6}\n",
      "Step: 2, Action: 10, Reward: 0.0, Info: {'makespan': 175, 'next_schedule_time': 0.0, 'step_count': 2, 'chosem_op': 0, 'chosem_mch': 10}\n",
      "Step: 3, Action: 40, Reward: -10.0, Info: {'invalid_action': \"FJSP_Env.py Error from choosing action: Op 42 can't be processed by Mch 7\"}\n",
      "Test completed in 3 steps with total reward: -10.0\n",
      "None\n"
     ]
    },
    {
     "ename": "TypeError",
     "evalue": "object of type 'NoneType' has no len()",
     "output_type": "error",
     "traceback": [
      "\u001b[0;31m---------------------------------------------------------------------------\u001b[0m",
      "\u001b[0;31mTypeError\u001b[0m                                 Traceback (most recent call last)",
      "Cell \u001b[0;32mIn[3], line 10\u001b[0m\n\u001b[1;32m      8\u001b[0m \u001b[38;5;28mprint\u001b[39m(JobLength)\n\u001b[1;32m      9\u001b[0m \u001b[38;5;28mprint\u001b[39m(OpPT)\n\u001b[0;32m---> 10\u001b[0m \u001b[43mtest\u001b[49m\u001b[43m(\u001b[49m\u001b[38;5;124;43m\"\u001b[39;49m\u001b[38;5;124;43mppo_fjsp\u001b[39;49m\u001b[38;5;124;43m\"\u001b[39;49m\u001b[43m,\u001b[49m\u001b[43mJobLength\u001b[49m\u001b[43m,\u001b[49m\u001b[43m \u001b[49m\u001b[43mOpPT\u001b[49m\u001b[43m)\u001b[49m\n",
      "Cell \u001b[0;32mIn[2], line 26\u001b[0m, in \u001b[0;36mtest\u001b[0;34m(model_name, test_job_length, test_op_pt)\u001b[0m\n\u001b[1;32m     23\u001b[0m     \u001b[38;5;28mprint\u001b[39m(\u001b[38;5;124mf\u001b[39m\u001b[38;5;124m\"\u001b[39m\u001b[38;5;124mStep: \u001b[39m\u001b[38;5;132;01m{\u001b[39;00mstep_count\u001b[38;5;132;01m}\u001b[39;00m\u001b[38;5;124m, Action: \u001b[39m\u001b[38;5;132;01m{\u001b[39;00maction\u001b[38;5;132;01m}\u001b[39;00m\u001b[38;5;124m, Reward: \u001b[39m\u001b[38;5;132;01m{\u001b[39;00mreward\u001b[38;5;132;01m}\u001b[39;00m\u001b[38;5;124m, Info: \u001b[39m\u001b[38;5;132;01m{\u001b[39;00minfo\u001b[38;5;132;01m}\u001b[39;00m\u001b[38;5;124m\"\u001b[39m)\n\u001b[1;32m     25\u001b[0m \u001b[38;5;28mprint\u001b[39m(\u001b[38;5;124mf\u001b[39m\u001b[38;5;124m\"\u001b[39m\u001b[38;5;124mTest completed in \u001b[39m\u001b[38;5;132;01m{\u001b[39;00mstep_count\u001b[38;5;132;01m}\u001b[39;00m\u001b[38;5;124m steps with total reward: \u001b[39m\u001b[38;5;132;01m{\u001b[39;00mtotal_reward\u001b[38;5;132;01m}\u001b[39;00m\u001b[38;5;124m\"\u001b[39m)\n\u001b[0;32m---> 26\u001b[0m \u001b[43mtest_env\u001b[49m\u001b[38;5;241;43m.\u001b[39;49m\u001b[43mrender\u001b[49m\u001b[43m(\u001b[49m\u001b[43m)\u001b[49m\n",
      "File \u001b[0;32m~/FJSP-DRL-main/gym_jobshop/envs/fjsp_env_base.py:344\u001b[0m, in \u001b[0;36mFJSPEnvBase.render\u001b[0;34m(self)\u001b[0m\n\u001b[1;32m    341\u001b[0m color_sequence \u001b[38;5;241m=\u001b[39m qualitative\u001b[38;5;241m.\u001b[39mPlotly\n\u001b[1;32m    343\u001b[0m \u001b[38;5;66;03m# 如果Job数量超过内置颜色，可以生成新颜色\u001b[39;00m\n\u001b[0;32m--> 344\u001b[0m \u001b[38;5;28;01mif\u001b[39;00m \u001b[38;5;28;43mlen\u001b[39;49m\u001b[43m(\u001b[49m\u001b[43munique_jobs\u001b[49m\u001b[43m)\u001b[49m \u001b[38;5;241m>\u001b[39m \u001b[38;5;28mlen\u001b[39m(color_sequence):\n\u001b[1;32m    345\u001b[0m     \u001b[38;5;66;03m# 可以添加一个生成颜色代码的方法\u001b[39;00m\n\u001b[1;32m    346\u001b[0m     \u001b[38;5;66;03m# 这里仅为了演示，我们重复使用内置颜色序列\u001b[39;00m\n\u001b[1;32m    347\u001b[0m     extra_colors_needed \u001b[38;5;241m=\u001b[39m \u001b[38;5;28mlen\u001b[39m(unique_jobs) \u001b[38;5;241m-\u001b[39m \u001b[38;5;28mlen\u001b[39m(color_sequence)\n\u001b[1;32m    348\u001b[0m     color_sequence\u001b[38;5;241m.\u001b[39mextend(color_sequence[:extra_colors_needed])\n",
      "\u001b[0;31mTypeError\u001b[0m: object of type 'NoneType' has no len()"
     ]
    }
   ],
   "source": [
    "n_j=14\n",
    "n_m=11\n",
    "op_per_job_min = 10\n",
    "op_per_job_max = 20\n",
    "case = CaseGenerator(n_j, n_m, op_per_job_min, op_per_job_max,\n",
    "                        flag_same_opes=False)\n",
    "JobLength, OpPT, _ = case.get_case(0)\n",
    "print(JobLength)\n",
    "print(OpPT)\n",
    "test(\"ppo_fjsp\",JobLength, OpPT)"
   ]
  }
 ],
 "metadata": {
  "kernelspec": {
   "display_name": "RL-torch",
   "language": "python",
   "name": "python3"
  },
  "language_info": {
   "codemirror_mode": {
    "name": "ipython",
    "version": 3
   },
   "file_extension": ".py",
   "mimetype": "text/x-python",
   "name": "python",
   "nbconvert_exporter": "python",
   "pygments_lexer": "ipython3",
   "version": "3.10.14"
  }
 },
 "nbformat": 4,
 "nbformat_minor": 2
}

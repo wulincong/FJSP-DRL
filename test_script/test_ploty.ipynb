{
 "cells": [
  {
   "cell_type": "code",
   "execution_count": 1,
   "metadata": {},
   "outputs": [
    {
     "name": "stdout",
     "output_type": "stream",
     "text": [
      "pygame 2.6.0 (SDL 2.28.4, Python 3.10.14)\n",
      "Hello from the pygame community. https://www.pygame.org/contribute.html\n",
      "/home/wlc/FJSP-DRL-main/test_script\n"
     ]
    }
   ],
   "source": [
    "import os, sys\n",
    "os.environ['ON_PY']=\"1\"\n",
    "from params import parser\n",
    "from common_utils import setup_seed\n",
    "from data_utils import pack_data_from_config\n",
    "import numpy as np\n",
    "from test_script.base import Test\n",
    "import matplotlib.pyplot as plt\n",
    "import numpy as np\n",
    "\n",
    "notebook_dir = os.getcwd()\n",
    "print(notebook_dir)\n",
    "# 将工作目录更改为上一级目录\n",
    "os.chdir(\"/home/wlc/FJSP-DRL-main\")\n"
   ]
  },
  {
   "cell_type": "code",
   "execution_count": 2,
   "metadata": {},
   "outputs": [
    {
     "name": "stdout",
     "output_type": "stream",
     "text": [
      "['--test_data', '14x11+mix', '--test_model', '14x11']\n"
     ]
    }
   ],
   "source": [
    "instances = [ ]\n",
    "test_data_list = [ ]\n",
    "\n",
    "args = [\"--test_data\", \"14x11+mix\",\n",
    "        \"--test_model\", \"14x11\",]\n",
    "\n",
    "print(args)\n"
   ]
  },
  {
   "cell_type": "code",
   "execution_count": 12,
   "metadata": {},
   "outputs": [
    {
     "name": "stdout",
     "output_type": "stream",
     "text": [
      "[('./trained_network/SD1/14x11.pth', '14x11')]\n",
      "[[ 0  0 11 ...  0 10 11]\n",
      " [ 3  0  0 ...  3  3  0]\n",
      " [ 2  2  2 ...  2  2  2]\n",
      " ...\n",
      " [ 0  0  0 ...  1  1  1]\n",
      " [14 11 15 ... 13 15 16]\n",
      " [ 0  6  0 ...  7  6  0]]\n"
     ]
    },
    {
     "data": {
      "application/vnd.plotly.v1+json": {
       "config": {
        "plotlyServerURL": "https://plot.ly"
       },
       "data": [
        {
         "base": [
          0
         ],
         "marker": {
          "color": "#EF553B"
         },
         "name": "Job",
         "orientation": "h",
         "type": "bar",
         "width": [
          0.4
         ],
         "x": [
          0
         ],
         "y": [
          "Machine10"
         ]
        },
        {
         "base": [
          0
         ],
         "marker": {
          "color": "#EF553B"
         },
         "name": "Job",
         "orientation": "h",
         "type": "bar",
         "width": [
          0.4
         ],
         "x": [
          0
         ],
         "y": [
          "Machine9"
         ]
        },
        {
         "base": [
          0
         ],
         "marker": {
          "color": "#EF553B"
         },
         "name": "Job",
         "orientation": "h",
         "type": "bar",
         "width": [
          0.4
         ],
         "x": [
          0
         ],
         "y": [
          "Machine8"
         ]
        },
        {
         "base": [
          0
         ],
         "marker": {
          "color": "#EF553B"
         },
         "name": "Job",
         "orientation": "h",
         "type": "bar",
         "width": [
          0.4
         ],
         "x": [
          0
         ],
         "y": [
          "Machine7"
         ]
        },
        {
         "base": [
          0
         ],
         "marker": {
          "color": "#EF553B"
         },
         "name": "Job",
         "orientation": "h",
         "type": "bar",
         "width": [
          0.4
         ],
         "x": [
          0
         ],
         "y": [
          "Machine6"
         ]
        },
        {
         "base": [
          0
         ],
         "marker": {
          "color": "#EF553B"
         },
         "name": "Job",
         "orientation": "h",
         "type": "bar",
         "width": [
          0.4
         ],
         "x": [
          0
         ],
         "y": [
          "Machine5"
         ]
        },
        {
         "base": [
          0
         ],
         "marker": {
          "color": "#EF553B"
         },
         "name": "Job",
         "orientation": "h",
         "type": "bar",
         "width": [
          0.4
         ],
         "x": [
          0
         ],
         "y": [
          "Machine4"
         ]
        },
        {
         "base": [
          0
         ],
         "marker": {
          "color": "#EF553B"
         },
         "name": "Job",
         "orientation": "h",
         "type": "bar",
         "width": [
          0.4
         ],
         "x": [
          0
         ],
         "y": [
          "Machine3"
         ]
        },
        {
         "base": [
          0
         ],
         "marker": {
          "color": "#EF553B"
         },
         "name": "Job",
         "orientation": "h",
         "type": "bar",
         "width": [
          0.4
         ],
         "x": [
          0
         ],
         "y": [
          "Machine2"
         ]
        },
        {
         "base": [
          0
         ],
         "marker": {
          "color": "#EF553B"
         },
         "name": "Job",
         "orientation": "h",
         "type": "bar",
         "width": [
          0.4
         ],
         "x": [
          0
         ],
         "y": [
          "Machine1"
         ]
        },
        {
         "base": [
          0
         ],
         "marker": {
          "color": "#EF553B"
         },
         "name": "Job",
         "orientation": "h",
         "type": "bar",
         "width": [
          0.4
         ],
         "x": [
          0
         ],
         "y": [
          "Machine0"
         ]
        },
        {
         "base": [
          0
         ],
         "marker": {
          "color": "#636EFA"
         },
         "name": "Job2",
         "orientation": "h",
         "type": "bar",
         "width": [
          0.4
         ],
         "x": [
          1
         ],
         "y": [
          "Machine3"
         ]
        },
        {
         "base": [
          0
         ],
         "marker": {
          "color": "#00CC96"
         },
         "name": "Job9",
         "orientation": "h",
         "type": "bar",
         "width": [
          0.4
         ],
         "x": [
          15
         ],
         "y": [
          "Machine7"
         ]
        },
        {
         "base": [
          0
         ],
         "marker": {
          "color": "rgb(190, 56, 143)"
         },
         "name": "Job1",
         "orientation": "h",
         "type": "bar",
         "width": [
          0.4
         ],
         "x": [
          4
         ],
         "y": [
          "Machine6"
         ]
        },
        {
         "base": [
          0
         ],
         "marker": {
          "color": "#AB63FA"
         },
         "name": "Job8",
         "orientation": "h",
         "type": "bar",
         "width": [
          0.4
         ],
         "x": [
          1
         ],
         "y": [
          "Machine5"
         ]
        },
        {
         "base": [
          0
         ],
         "marker": {
          "color": "rgb(56, 75, 175)"
         },
         "name": "Job4",
         "orientation": "h",
         "type": "bar",
         "width": [
          0.4
         ],
         "x": [
          4
         ],
         "y": [
          "Machine8"
         ]
        },
        {
         "base": [
          0
         ],
         "marker": {
          "color": "#FECB52"
         },
         "name": "Job10",
         "orientation": "h",
         "type": "bar",
         "width": [
          0.4
         ],
         "x": [
          14
         ],
         "y": [
          "Machine0"
         ]
        },
        {
         "base": [
          0
         ],
         "marker": {
          "color": "rgb(206, 86, 63)"
         },
         "name": "Job5",
         "orientation": "h",
         "type": "bar",
         "width": [
          0.4
         ],
         "x": [
          15
         ],
         "y": [
          "Machine4"
         ]
        },
        {
         "base": [
          0
         ],
         "marker": {
          "color": "#B6E880"
         },
         "name": "Job11",
         "orientation": "h",
         "type": "bar",
         "width": [
          0.4
         ],
         "x": [
          1
         ],
         "y": [
          "Machine9"
         ]
        },
        {
         "base": [
          0
         ],
         "marker": {
          "color": "#19D3F3"
         },
         "name": "Job3",
         "orientation": "h",
         "type": "bar",
         "width": [
          0.4
         ],
         "x": [
          10
         ],
         "y": [
          "Machine1"
         ]
        },
        {
         "base": [
          0
         ],
         "marker": {
          "color": "#FFA15A"
         },
         "name": "Job12",
         "orientation": "h",
         "type": "bar",
         "width": [
          0.4
         ],
         "x": [
          6
         ],
         "y": [
          "Machine10"
         ]
        },
        {
         "base": [
          1
         ],
         "marker": {
          "color": "#636EFA"
         },
         "name": "Job2",
         "orientation": "h",
         "type": "bar",
         "width": [
          0.4
         ],
         "x": [
          1
         ],
         "y": [
          "Machine2"
         ]
        },
        {
         "base": [
          1
         ],
         "marker": {
          "color": "#AB63FA"
         },
         "name": "Job8",
         "orientation": "h",
         "type": "bar",
         "width": [
          0.4
         ],
         "x": [
          5
         ],
         "y": [
          "Machine3"
         ]
        },
        {
         "base": [
          1
         ],
         "marker": {
          "color": "#FF97FF"
         },
         "name": "Job13",
         "orientation": "h",
         "type": "bar",
         "width": [
          0.4
         ],
         "x": [
          5
         ],
         "y": [
          "Machine9"
         ]
        },
        {
         "base": [
          2
         ],
         "marker": {
          "color": "#636EFA"
         },
         "name": "Job2",
         "orientation": "h",
         "type": "bar",
         "width": [
          0.4
         ],
         "x": [
          16
         ],
         "y": [
          "Machine2"
         ]
        },
        {
         "base": [
          4
         ],
         "marker": {
          "color": "rgb(56, 75, 175)"
         },
         "name": "Job4",
         "orientation": "h",
         "type": "bar",
         "width": [
          0.4
         ],
         "x": [
          3
         ],
         "y": [
          "Machine8"
         ]
        },
        {
         "base": [
          6
         ],
         "marker": {
          "color": "rgb(190, 56, 143)"
         },
         "name": "Job1",
         "orientation": "h",
         "type": "bar",
         "width": [
          0.4
         ],
         "x": [
          17
         ],
         "y": [
          "Machine10"
         ]
        },
        {
         "base": [
          6
         ],
         "marker": {
          "color": "#B6E880"
         },
         "name": "Job11",
         "orientation": "h",
         "type": "bar",
         "width": [
          0.4
         ],
         "x": [
          10
         ],
         "y": [
          "Machine3"
         ]
        },
        {
         "base": [
          6
         ],
         "marker": {
          "color": "#AB63FA"
         },
         "name": "Job8",
         "orientation": "h",
         "type": "bar",
         "width": [
          0.4
         ],
         "x": [
          14
         ],
         "y": [
          "Machine6"
         ]
        },
        {
         "base": [
          6
         ],
         "marker": {
          "color": "#FF97FF"
         },
         "name": "Job13",
         "orientation": "h",
         "type": "bar",
         "width": [
          0.4
         ],
         "x": [
          8
         ],
         "y": [
          "Machine9"
         ]
        },
        {
         "base": [
          7
         ],
         "marker": {
          "color": "rgb(56, 75, 175)"
         },
         "name": "Job4",
         "orientation": "h",
         "type": "bar",
         "width": [
          0.4
         ],
         "x": [
          19
         ],
         "y": [
          "Machine8"
         ]
        },
        {
         "base": [
          10
         ],
         "marker": {
          "color": "rgb(205, 77, 50)"
         },
         "name": "Job0",
         "orientation": "h",
         "type": "bar",
         "width": [
          0.4
         ],
         "x": [
          13
         ],
         "y": [
          "Machine1"
         ]
        },
        {
         "base": [
          14
         ],
         "marker": {
          "color": "#19D3F3"
         },
         "name": "Job3",
         "orientation": "h",
         "type": "bar",
         "width": [
          0.4
         ],
         "x": [
          10
         ],
         "y": [
          "Machine9"
         ]
        },
        {
         "base": [
          14
         ],
         "marker": {
          "color": "#FF97FF"
         },
         "name": "Job13",
         "orientation": "h",
         "type": "bar",
         "width": [
          0.4
         ],
         "x": [
          9
         ],
         "y": [
          "Machine0"
         ]
        },
        {
         "base": [
          15
         ],
         "marker": {
          "color": "rgb(169, 239, 33)"
         },
         "name": "Job7",
         "orientation": "h",
         "type": "bar",
         "width": [
          0.4
         ],
         "x": [
          14
         ],
         "y": [
          "Machine7"
         ]
        },
        {
         "base": [
          15
         ],
         "marker": {
          "color": "rgb(206, 86, 63)"
         },
         "name": "Job5",
         "orientation": "h",
         "type": "bar",
         "width": [
          0.4
         ],
         "x": [
          14
         ],
         "y": [
          "Machine4"
         ]
        },
        {
         "base": [
          16
         ],
         "marker": {
          "color": "#FF6692"
         },
         "name": "Job6",
         "orientation": "h",
         "type": "bar",
         "width": [
          0.4
         ],
         "x": [
          18
         ],
         "y": [
          "Machine3"
         ]
        },
        {
         "base": [
          16
         ],
         "marker": {
          "color": "#B6E880"
         },
         "name": "Job11",
         "orientation": "h",
         "type": "bar",
         "width": [
          0.4
         ],
         "x": [
          11
         ],
         "y": [
          "Machine5"
         ]
        },
        {
         "base": [
          18
         ],
         "marker": {
          "color": "#636EFA"
         },
         "name": "Job2",
         "orientation": "h",
         "type": "bar",
         "width": [
          0.4
         ],
         "x": [
          8
         ],
         "y": [
          "Machine2"
         ]
        },
        {
         "base": [
          20
         ],
         "marker": {
          "color": "#00CC96"
         },
         "name": "Job9",
         "orientation": "h",
         "type": "bar",
         "width": [
          0.4
         ],
         "x": [
          14
         ],
         "y": [
          "Machine6"
         ]
        },
        {
         "base": [
          23
         ],
         "marker": {
          "color": "#FECB52"
         },
         "name": "Job10",
         "orientation": "h",
         "type": "bar",
         "width": [
          0.4
         ],
         "x": [
          4
         ],
         "y": [
          "Machine10"
         ]
        },
        {
         "base": [
          23
         ],
         "marker": {
          "color": "rgb(190, 56, 143)"
         },
         "name": "Job1",
         "orientation": "h",
         "type": "bar",
         "width": [
          0.4
         ],
         "x": [
          2
         ],
         "y": [
          "Machine0"
         ]
        },
        {
         "base": [
          23
         ],
         "marker": {
          "color": "#FFA15A"
         },
         "name": "Job12",
         "orientation": "h",
         "type": "bar",
         "width": [
          0.4
         ],
         "x": [
          6
         ],
         "y": [
          "Machine1"
         ]
        },
        {
         "base": [
          24
         ],
         "marker": {
          "color": "#FF97FF"
         },
         "name": "Job13",
         "orientation": "h",
         "type": "bar",
         "width": [
          0.4
         ],
         "x": [
          2
         ],
         "y": [
          "Machine9"
         ]
        },
        {
         "base": [
          25
         ],
         "marker": {
          "color": "#19D3F3"
         },
         "name": "Job3",
         "orientation": "h",
         "type": "bar",
         "width": [
          0.4
         ],
         "x": [
          2
         ],
         "y": [
          "Machine0"
         ]
        },
        {
         "base": [
          26
         ],
         "marker": {
          "color": "rgb(190, 56, 143)"
         },
         "name": "Job1",
         "orientation": "h",
         "type": "bar",
         "width": [
          0.4
         ],
         "x": [
          6
         ],
         "y": [
          "Machine8"
         ]
        },
        {
         "base": [
          26
         ],
         "marker": {
          "color": "#AB63FA"
         },
         "name": "Job8",
         "orientation": "h",
         "type": "bar",
         "width": [
          0.4
         ],
         "x": [
          10
         ],
         "y": [
          "Machine2"
         ]
        },
        {
         "base": [
          26
         ],
         "marker": {
          "color": "#636EFA"
         },
         "name": "Job2",
         "orientation": "h",
         "type": "bar",
         "width": [
          0.4
         ],
         "x": [
          12
         ],
         "y": [
          "Machine9"
         ]
        },
        {
         "base": [
          27
         ],
         "marker": {
          "color": "#FECB52"
         },
         "name": "Job10",
         "orientation": "h",
         "type": "bar",
         "width": [
          0.4
         ],
         "x": [
          8
         ],
         "y": [
          "Machine10"
         ]
        },
        {
         "base": [
          27
         ],
         "marker": {
          "color": "rgb(205, 77, 50)"
         },
         "name": "Job0",
         "orientation": "h",
         "type": "bar",
         "width": [
          0.4
         ],
         "x": [
          11
         ],
         "y": [
          "Machine5"
         ]
        },
        {
         "base": [
          27
         ],
         "marker": {
          "color": "rgb(56, 75, 175)"
         },
         "name": "Job4",
         "orientation": "h",
         "type": "bar",
         "width": [
          0.4
         ],
         "x": [
          16
         ],
         "y": [
          "Machine0"
         ]
        },
        {
         "base": [
          29
         ],
         "marker": {
          "color": "rgb(206, 86, 63)"
         },
         "name": "Job5",
         "orientation": "h",
         "type": "bar",
         "width": [
          0.4
         ],
         "x": [
          14
         ],
         "y": [
          "Machine7"
         ]
        },
        {
         "base": [
          29
         ],
         "marker": {
          "color": "#19D3F3"
         },
         "name": "Job3",
         "orientation": "h",
         "type": "bar",
         "width": [
          0.4
         ],
         "x": [
          6
         ],
         "y": [
          "Machine4"
         ]
        },
        {
         "base": [
          29
         ],
         "marker": {
          "color": "#FF97FF"
         },
         "name": "Job13",
         "orientation": "h",
         "type": "bar",
         "width": [
          0.4
         ],
         "x": [
          16
         ],
         "y": [
          "Machine1"
         ]
        },
        {
         "base": [
          32
         ],
         "marker": {
          "color": "#B6E880"
         },
         "name": "Job11",
         "orientation": "h",
         "type": "bar",
         "width": [
          0.4
         ],
         "x": [
          13
         ],
         "y": [
          "Machine8"
         ]
        },
        {
         "base": [
          34
         ],
         "marker": {
          "color": "#00CC96"
         },
         "name": "Job9",
         "orientation": "h",
         "type": "bar",
         "width": [
          0.4
         ],
         "x": [
          13
         ],
         "y": [
          "Machine6"
         ]
        },
        {
         "base": [
          34
         ],
         "marker": {
          "color": "rgb(169, 239, 33)"
         },
         "name": "Job7",
         "orientation": "h",
         "type": "bar",
         "width": [
          0.4
         ],
         "x": [
          9
         ],
         "y": [
          "Machine3"
         ]
        },
        {
         "base": [
          35
         ],
         "marker": {
          "color": "rgb(190, 56, 143)"
         },
         "name": "Job1",
         "orientation": "h",
         "type": "bar",
         "width": [
          0.4
         ],
         "x": [
          2
         ],
         "y": [
          "Machine4"
         ]
        },
        {
         "base": [
          35
         ],
         "marker": {
          "color": "#FECB52"
         },
         "name": "Job10",
         "orientation": "h",
         "type": "bar",
         "width": [
          0.4
         ],
         "x": [
          11
         ],
         "y": [
          "Machine10"
         ]
        },
        {
         "base": [
          36
         ],
         "marker": {
          "color": "#FF6692"
         },
         "name": "Job6",
         "orientation": "h",
         "type": "bar",
         "width": [
          0.4
         ],
         "x": [
          5
         ],
         "y": [
          "Machine2"
         ]
        },
        {
         "base": [
          37
         ],
         "marker": {
          "color": "#AB63FA"
         },
         "name": "Job8",
         "orientation": "h",
         "type": "bar",
         "width": [
          0.4
         ],
         "x": [
          2
         ],
         "y": [
          "Machine4"
         ]
        },
        {
         "base": [
          38
         ],
         "marker": {
          "color": "#636EFA"
         },
         "name": "Job2",
         "orientation": "h",
         "type": "bar",
         "width": [
          0.4
         ],
         "x": [
          13
         ],
         "y": [
          "Machine9"
         ]
        },
        {
         "base": [
          38
         ],
         "marker": {
          "color": "rgb(190, 56, 143)"
         },
         "name": "Job1",
         "orientation": "h",
         "type": "bar",
         "width": [
          0.4
         ],
         "x": [
          11
         ],
         "y": [
          "Machine5"
         ]
        },
        {
         "base": [
          39
         ],
         "marker": {
          "color": "#FFA15A"
         },
         "name": "Job12",
         "orientation": "h",
         "type": "bar",
         "width": [
          0.4
         ],
         "x": [
          8
         ],
         "y": [
          "Machine4"
         ]
        },
        {
         "base": [
          41
         ],
         "marker": {
          "color": "#FF6692"
         },
         "name": "Job6",
         "orientation": "h",
         "type": "bar",
         "width": [
          0.4
         ],
         "x": [
          10
         ],
         "y": [
          "Machine2"
         ]
        },
        {
         "base": [
          43
         ],
         "marker": {
          "color": "#AB63FA"
         },
         "name": "Job8",
         "orientation": "h",
         "type": "bar",
         "width": [
          0.4
         ],
         "x": [
          6
         ],
         "y": [
          "Machine7"
         ]
        },
        {
         "base": [
          43
         ],
         "marker": {
          "color": "#19D3F3"
         },
         "name": "Job3",
         "orientation": "h",
         "type": "bar",
         "width": [
          0.4
         ],
         "x": [
          10
         ],
         "y": [
          "Machine0"
         ]
        },
        {
         "base": [
          43
         ],
         "marker": {
          "color": "rgb(206, 86, 63)"
         },
         "name": "Job5",
         "orientation": "h",
         "type": "bar",
         "width": [
          0.4
         ],
         "x": [
          11
         ],
         "y": [
          "Machine3"
         ]
        },
        {
         "base": [
          45
         ],
         "marker": {
          "color": "rgb(56, 75, 175)"
         },
         "name": "Job4",
         "orientation": "h",
         "type": "bar",
         "width": [
          0.4
         ],
         "x": [
          4
         ],
         "y": [
          "Machine1"
         ]
        },
        {
         "base": [
          45
         ],
         "marker": {
          "color": "rgb(169, 239, 33)"
         },
         "name": "Job7",
         "orientation": "h",
         "type": "bar",
         "width": [
          0.4
         ],
         "x": [
          11
         ],
         "y": [
          "Machine8"
         ]
        },
        {
         "base": [
          46
         ],
         "marker": {
          "color": "#FECB52"
         },
         "name": "Job10",
         "orientation": "h",
         "type": "bar",
         "width": [
          0.4
         ],
         "x": [
          17
         ],
         "y": [
          "Machine10"
         ]
        },
        {
         "base": [
          47
         ],
         "marker": {
          "color": "#B6E880"
         },
         "name": "Job11",
         "orientation": "h",
         "type": "bar",
         "width": [
          0.4
         ],
         "x": [
          3
         ],
         "y": [
          "Machine4"
         ]
        },
        {
         "base": [
          47
         ],
         "marker": {
          "color": "#FF97FF"
         },
         "name": "Job13",
         "orientation": "h",
         "type": "bar",
         "width": [
          0.4
         ],
         "x": [
          6
         ],
         "y": [
          "Machine6"
         ]
        },
        {
         "base": [
          49
         ],
         "marker": {
          "color": "#00CC96"
         },
         "name": "Job9",
         "orientation": "h",
         "type": "bar",
         "width": [
          0.4
         ],
         "x": [
          3
         ],
         "y": [
          "Machine7"
         ]
        },
        {
         "base": [
          49
         ],
         "marker": {
          "color": "rgb(190, 56, 143)"
         },
         "name": "Job1",
         "orientation": "h",
         "type": "bar",
         "width": [
          0.4
         ],
         "x": [
          9
         ],
         "y": [
          "Machine5"
         ]
        },
        {
         "base": [
          49
         ],
         "marker": {
          "color": "rgb(205, 77, 50)"
         },
         "name": "Job0",
         "orientation": "h",
         "type": "bar",
         "width": [
          0.4
         ],
         "x": [
          13
         ],
         "y": [
          "Machine1"
         ]
        },
        {
         "base": [
          50
         ],
         "marker": {
          "color": "#FFA15A"
         },
         "name": "Job12",
         "orientation": "h",
         "type": "bar",
         "width": [
          0.4
         ],
         "x": [
          12
         ],
         "y": [
          "Machine4"
         ]
        },
        {
         "base": [
          51
         ],
         "marker": {
          "color": "#AB63FA"
         },
         "name": "Job8",
         "orientation": "h",
         "type": "bar",
         "width": [
          0.4
         ],
         "x": [
          15
         ],
         "y": [
          "Machine9"
         ]
        },
        {
         "base": [
          51
         ],
         "marker": {
          "color": "#636EFA"
         },
         "name": "Job2",
         "orientation": "h",
         "type": "bar",
         "width": [
          0.4
         ],
         "x": [
          11
         ],
         "y": [
          "Machine2"
         ]
        },
        {
         "base": [
          52
         ],
         "marker": {
          "color": "rgb(56, 75, 175)"
         },
         "name": "Job4",
         "orientation": "h",
         "type": "bar",
         "width": [
          0.4
         ],
         "x": [
          20
         ],
         "y": [
          "Machine7"
         ]
        },
        {
         "base": [
          53
         ],
         "marker": {
          "color": "#B6E880"
         },
         "name": "Job11",
         "orientation": "h",
         "type": "bar",
         "width": [
          0.4
         ],
         "x": [
          17
         ],
         "y": [
          "Machine0"
         ]
        },
        {
         "base": [
          53
         ],
         "marker": {
          "color": "#19D3F3"
         },
         "name": "Job3",
         "orientation": "h",
         "type": "bar",
         "width": [
          0.4
         ],
         "x": [
          14
         ],
         "y": [
          "Machine6"
         ]
        },
        {
         "base": [
          54
         ],
         "marker": {
          "color": "rgb(206, 86, 63)"
         },
         "name": "Job5",
         "orientation": "h",
         "type": "bar",
         "width": [
          0.4
         ],
         "x": [
          6
         ],
         "y": [
          "Machine3"
         ]
        },
        {
         "base": [
          56
         ],
         "marker": {
          "color": "rgb(169, 239, 33)"
         },
         "name": "Job7",
         "orientation": "h",
         "type": "bar",
         "width": [
          0.4
         ],
         "x": [
          5
         ],
         "y": [
          "Machine8"
         ]
        },
        {
         "base": [
          58
         ],
         "marker": {
          "color": "#00CC96"
         },
         "name": "Job9",
         "orientation": "h",
         "type": "bar",
         "width": [
          0.4
         ],
         "x": [
          2
         ],
         "y": [
          "Machine5"
         ]
        },
        {
         "base": [
          60
         ],
         "marker": {
          "color": "rgb(206, 86, 63)"
         },
         "name": "Job5",
         "orientation": "h",
         "type": "bar",
         "width": [
          0.4
         ],
         "x": [
          5
         ],
         "y": [
          "Machine3"
         ]
        },
        {
         "base": [
          60
         ],
         "marker": {
          "color": "#00CC96"
         },
         "name": "Job9",
         "orientation": "h",
         "type": "bar",
         "width": [
          0.4
         ],
         "x": [
          12
         ],
         "y": [
          "Machine5"
         ]
        },
        {
         "base": [
          61
         ],
         "marker": {
          "color": "rgb(190, 56, 143)"
         },
         "name": "Job1",
         "orientation": "h",
         "type": "bar",
         "width": [
          0.4
         ],
         "x": [
          2
         ],
         "y": [
          "Machine8"
         ]
        },
        {
         "base": [
          62
         ],
         "marker": {
          "color": "#FF6692"
         },
         "name": "Job6",
         "orientation": "h",
         "type": "bar",
         "width": [
          0.4
         ],
         "x": [
          17
         ],
         "y": [
          "Machine4"
         ]
        },
        {
         "base": [
          62
         ],
         "marker": {
          "color": "#FFA15A"
         },
         "name": "Job12",
         "orientation": "h",
         "type": "bar",
         "width": [
          0.4
         ],
         "x": [
          6
         ],
         "y": [
          "Machine1"
         ]
        },
        {
         "base": [
          62
         ],
         "marker": {
          "color": "#636EFA"
         },
         "name": "Job2",
         "orientation": "h",
         "type": "bar",
         "width": [
          0.4
         ],
         "x": [
          12
         ],
         "y": [
          "Machine2"
         ]
        },
        {
         "base": [
          63
         ],
         "marker": {
          "color": "#FECB52"
         },
         "name": "Job10",
         "orientation": "h",
         "type": "bar",
         "width": [
          0.4
         ],
         "x": [
          6
         ],
         "y": [
          "Machine8"
         ]
        },
        {
         "base": [
          63
         ],
         "marker": {
          "color": "rgb(190, 56, 143)"
         },
         "name": "Job1",
         "orientation": "h",
         "type": "bar",
         "width": [
          0.4
         ],
         "x": [
          10
         ],
         "y": [
          "Machine10"
         ]
        },
        {
         "base": [
          65
         ],
         "marker": {
          "color": "rgb(206, 86, 63)"
         },
         "name": "Job5",
         "orientation": "h",
         "type": "bar",
         "width": [
          0.4
         ],
         "x": [
          13
         ],
         "y": [
          "Machine3"
         ]
        },
        {
         "base": [
          66
         ],
         "marker": {
          "color": "rgb(169, 239, 33)"
         },
         "name": "Job7",
         "orientation": "h",
         "type": "bar",
         "width": [
          0.4
         ],
         "x": [
          12
         ],
         "y": [
          "Machine9"
         ]
        },
        {
         "base": [
          67
         ],
         "marker": {
          "color": "rgb(205, 77, 50)"
         },
         "name": "Job0",
         "orientation": "h",
         "type": "bar",
         "width": [
          0.4
         ],
         "x": [
          4
         ],
         "y": [
          "Machine6"
         ]
        },
        {
         "base": [
          68
         ],
         "marker": {
          "color": "#19D3F3"
         },
         "name": "Job3",
         "orientation": "h",
         "type": "bar",
         "width": [
          0.4
         ],
         "x": [
          18
         ],
         "y": [
          "Machine1"
         ]
        },
        {
         "base": [
          69
         ],
         "marker": {
          "color": "#AB63FA"
         },
         "name": "Job8",
         "orientation": "h",
         "type": "bar",
         "width": [
          0.4
         ],
         "x": [
          16
         ],
         "y": [
          "Machine8"
         ]
        },
        {
         "base": [
          70
         ],
         "marker": {
          "color": "#FECB52"
         },
         "name": "Job10",
         "orientation": "h",
         "type": "bar",
         "width": [
          0.4
         ],
         "x": [
          10
         ],
         "y": [
          "Machine0"
         ]
        },
        {
         "base": [
          71
         ],
         "marker": {
          "color": "rgb(205, 77, 50)"
         },
         "name": "Job0",
         "orientation": "h",
         "type": "bar",
         "width": [
          0.4
         ],
         "x": [
          10
         ],
         "y": [
          "Machine6"
         ]
        },
        {
         "base": [
          72
         ],
         "marker": {
          "color": "#00CC96"
         },
         "name": "Job9",
         "orientation": "h",
         "type": "bar",
         "width": [
          0.4
         ],
         "x": [
          13
         ],
         "y": [
          "Machine5"
         ]
        },
        {
         "base": [
          73
         ],
         "marker": {
          "color": "#B6E880"
         },
         "name": "Job11",
         "orientation": "h",
         "type": "bar",
         "width": [
          0.4
         ],
         "x": [
          2
         ],
         "y": [
          "Machine10"
         ]
        },
        {
         "base": [
          73
         ],
         "marker": {
          "color": "rgb(190, 56, 143)"
         },
         "name": "Job1",
         "orientation": "h",
         "type": "bar",
         "width": [
          0.4
         ],
         "x": [
          14
         ],
         "y": [
          "Machine7"
         ]
        },
        {
         "base": [
          74
         ],
         "marker": {
          "color": "#636EFA"
         },
         "name": "Job2",
         "orientation": "h",
         "type": "bar",
         "width": [
          0.4
         ],
         "x": [
          6
         ],
         "y": [
          "Machine2"
         ]
        },
        {
         "base": [
          75
         ],
         "marker": {
          "color": "rgb(56, 75, 175)"
         },
         "name": "Job4",
         "orientation": "h",
         "type": "bar",
         "width": [
          0.4
         ],
         "x": [
          10
         ],
         "y": [
          "Machine10"
         ]
        },
        {
         "base": [
          78
         ],
         "marker": {
          "color": "rgb(169, 239, 33)"
         },
         "name": "Job7",
         "orientation": "h",
         "type": "bar",
         "width": [
          0.4
         ],
         "x": [
          3
         ],
         "y": [
          "Machine9"
         ]
        },
        {
         "base": [
          80
         ],
         "marker": {
          "color": "#FECB52"
         },
         "name": "Job10",
         "orientation": "h",
         "type": "bar",
         "width": [
          0.4
         ],
         "x": [
          17
         ],
         "y": [
          "Machine0"
         ]
        },
        {
         "base": [
          80
         ],
         "marker": {
          "color": "#636EFA"
         },
         "name": "Job2",
         "orientation": "h",
         "type": "bar",
         "width": [
          0.4
         ],
         "x": [
          9
         ],
         "y": [
          "Machine4"
         ]
        },
        {
         "base": [
          80
         ],
         "marker": {
          "color": "#FF6692"
         },
         "name": "Job6",
         "orientation": "h",
         "type": "bar",
         "width": [
          0.4
         ],
         "x": [
          17
         ],
         "y": [
          "Machine2"
         ]
        },
        {
         "base": [
          81
         ],
         "marker": {
          "color": "rgb(206, 86, 63)"
         },
         "name": "Job5",
         "orientation": "h",
         "type": "bar",
         "width": [
          0.4
         ],
         "x": [
          5
         ],
         "y": [
          "Machine6"
         ]
        },
        {
         "base": [
          81
         ],
         "marker": {
          "color": "rgb(169, 239, 33)"
         },
         "name": "Job7",
         "orientation": "h",
         "type": "bar",
         "width": [
          0.4
         ],
         "x": [
          11
         ],
         "y": [
          "Machine9"
         ]
        },
        {
         "base": [
          85
         ],
         "marker": {
          "color": "rgb(56, 75, 175)"
         },
         "name": "Job4",
         "orientation": "h",
         "type": "bar",
         "width": [
          0.4
         ],
         "x": [
          7
         ],
         "y": [
          "Machine10"
         ]
        },
        {
         "base": [
          85
         ],
         "marker": {
          "color": "#AB63FA"
         },
         "name": "Job8",
         "orientation": "h",
         "type": "bar",
         "width": [
          0.4
         ],
         "x": [
          12
         ],
         "y": [
          "Machine3"
         ]
        },
        {
         "base": [
          85
         ],
         "marker": {
          "color": "#B6E880"
         },
         "name": "Job11",
         "orientation": "h",
         "type": "bar",
         "width": [
          0.4
         ],
         "x": [
          19
         ],
         "y": [
          "Machine5"
         ]
        },
        {
         "base": [
          86
         ],
         "marker": {
          "color": "#00CC96"
         },
         "name": "Job9",
         "orientation": "h",
         "type": "bar",
         "width": [
          0.4
         ],
         "x": [
          17
         ],
         "y": [
          "Machine1"
         ]
        },
        {
         "base": [
          86
         ],
         "marker": {
          "color": "rgb(206, 86, 63)"
         },
         "name": "Job5",
         "orientation": "h",
         "type": "bar",
         "width": [
          0.4
         ],
         "x": [
          9
         ],
         "y": [
          "Machine8"
         ]
        },
        {
         "base": [
          86
         ],
         "marker": {
          "color": "#19D3F3"
         },
         "name": "Job3",
         "orientation": "h",
         "type": "bar",
         "width": [
          0.4
         ],
         "x": [
          8
         ],
         "y": [
          "Machine6"
         ]
        },
        {
         "base": [
          89
         ],
         "marker": {
          "color": "rgb(190, 56, 143)"
         },
         "name": "Job1",
         "orientation": "h",
         "type": "bar",
         "width": [
          0.4
         ],
         "x": [
          10
         ],
         "y": [
          "Machine4"
         ]
        },
        {
         "base": [
          92
         ],
         "marker": {
          "color": "rgb(56, 75, 175)"
         },
         "name": "Job4",
         "orientation": "h",
         "type": "bar",
         "width": [
          0.4
         ],
         "x": [
          5
         ],
         "y": [
          "Machine10"
         ]
        },
        {
         "base": [
          92
         ],
         "marker": {
          "color": "rgb(169, 239, 33)"
         },
         "name": "Job7",
         "orientation": "h",
         "type": "bar",
         "width": [
          0.4
         ],
         "x": [
          16
         ],
         "y": [
          "Machine9"
         ]
        },
        {
         "base": [
          94
         ],
         "marker": {
          "color": "#19D3F3"
         },
         "name": "Job3",
         "orientation": "h",
         "type": "bar",
         "width": [
          0.4
         ],
         "x": [
          3
         ],
         "y": [
          "Machine7"
         ]
        },
        {
         "base": [
          95
         ],
         "marker": {
          "color": "rgb(206, 86, 63)"
         },
         "name": "Job5",
         "orientation": "h",
         "type": "bar",
         "width": [
          0.4
         ],
         "x": [
          2
         ],
         "y": [
          "Machine8"
         ]
        },
        {
         "base": [
          97
         ],
         "marker": {
          "color": "rgb(206, 86, 63)"
         },
         "name": "Job5",
         "orientation": "h",
         "type": "bar",
         "width": [
          0.4
         ],
         "x": [
          11
         ],
         "y": [
          "Machine8"
         ]
        },
        {
         "base": [
          97
         ],
         "marker": {
          "color": "#AB63FA"
         },
         "name": "Job8",
         "orientation": "h",
         "type": "bar",
         "width": [
          0.4
         ],
         "x": [
          6
         ],
         "y": [
          "Machine10"
         ]
        },
        {
         "base": [
          97
         ],
         "marker": {
          "color": "rgb(56, 75, 175)"
         },
         "name": "Job4",
         "orientation": "h",
         "type": "bar",
         "width": [
          0.4
         ],
         "x": [
          12
         ],
         "y": [
          "Machine3"
         ]
        },
        {
         "base": [
          97
         ],
         "marker": {
          "color": "#636EFA"
         },
         "name": "Job2",
         "orientation": "h",
         "type": "bar",
         "width": [
          0.4
         ],
         "x": [
          11
         ],
         "y": [
          "Machine2"
         ]
        },
        {
         "base": [
          97
         ],
         "marker": {
          "color": "#FECB52"
         },
         "name": "Job10",
         "orientation": "h",
         "type": "bar",
         "width": [
          0.4
         ],
         "x": [
          8
         ],
         "y": [
          "Machine7"
         ]
        },
        {
         "base": [
          97
         ],
         "marker": {
          "color": "#FF6692"
         },
         "name": "Job6",
         "orientation": "h",
         "type": "bar",
         "width": [
          0.4
         ],
         "x": [
          4
         ],
         "y": [
          "Machine0"
         ]
        },
        {
         "base": [
          103
         ],
         "marker": {
          "color": "#AB63FA"
         },
         "name": "Job8",
         "orientation": "h",
         "type": "bar",
         "width": [
          0.4
         ],
         "x": [
          2
         ],
         "y": [
          "Machine10"
         ]
        },
        {
         "base": [
          103
         ],
         "marker": {
          "color": "#00CC96"
         },
         "name": "Job9",
         "orientation": "h",
         "type": "bar",
         "width": [
          0.4
         ],
         "x": [
          10
         ],
         "y": [
          "Machine4"
         ]
        },
        {
         "base": [
          105
         ],
         "marker": {
          "color": "#B6E880"
         },
         "name": "Job11",
         "orientation": "h",
         "type": "bar",
         "width": [
          0.4
         ],
         "x": [
          3
         ],
         "y": [
          "Machine10"
         ]
        },
        {
         "base": [
          105
         ],
         "marker": {
          "color": "#FECB52"
         },
         "name": "Job10",
         "orientation": "h",
         "type": "bar",
         "width": [
          0.4
         ],
         "x": [
          13
         ],
         "y": [
          "Machine6"
         ]
        },
        {
         "base": [
          108
         ],
         "marker": {
          "color": "rgb(206, 86, 63)"
         },
         "name": "Job5",
         "orientation": "h",
         "type": "bar",
         "width": [
          0.4
         ],
         "x": [
          5
         ],
         "y": [
          "Machine10"
         ]
        },
        {
         "base": [
          108
         ],
         "marker": {
          "color": "#636EFA"
         },
         "name": "Job2",
         "orientation": "h",
         "type": "bar",
         "width": [
          0.4
         ],
         "x": [
          6
         ],
         "y": [
          "Machine9"
         ]
        },
        {
         "base": [
          113
         ],
         "marker": {
          "color": "#00CC96"
         },
         "name": "Job9",
         "orientation": "h",
         "type": "bar",
         "width": [
          0.4
         ],
         "x": [
          16
         ],
         "y": [
          "Machine4"
         ]
        },
        {
         "base": [
          113
         ],
         "marker": {
          "color": "rgb(206, 86, 63)"
         },
         "name": "Job5",
         "orientation": "h",
         "type": "bar",
         "width": [
          0.4
         ],
         "x": [
          7
         ],
         "y": [
          "Machine1"
         ]
        },
        {
         "base": [
          114
         ],
         "marker": {
          "color": "#636EFA"
         },
         "name": "Job2",
         "orientation": "h",
         "type": "bar",
         "width": [
          0.4
         ],
         "x": [
          6
         ],
         "y": [
          "Machine2"
         ]
        },
        {
         "base": [
          120
         ],
         "marker": {
          "color": "#636EFA"
         },
         "name": "Job2",
         "orientation": "h",
         "type": "bar",
         "width": [
          0.4
         ],
         "x": [
          15
         ],
         "y": [
          "Machine0"
         ]
        },
        {
         "base": [
          129
         ],
         "marker": {
          "color": "#00CC96"
         },
         "name": "Job9",
         "orientation": "h",
         "type": "bar",
         "width": [
          0.4
         ],
         "x": [
          17
         ],
         "y": [
          "Machine4"
         ]
        }
       ],
       "layout": {
        "barmode": "stack",
        "legend": {
         "title": {
          "text": "Job"
         }
        },
        "template": {
         "data": {
          "bar": [
           {
            "error_x": {
             "color": "#2a3f5f"
            },
            "error_y": {
             "color": "#2a3f5f"
            },
            "marker": {
             "line": {
              "color": "#E5ECF6",
              "width": 0.5
             },
             "pattern": {
              "fillmode": "overlay",
              "size": 10,
              "solidity": 0.2
             }
            },
            "type": "bar"
           }
          ],
          "barpolar": [
           {
            "marker": {
             "line": {
              "color": "#E5ECF6",
              "width": 0.5
             },
             "pattern": {
              "fillmode": "overlay",
              "size": 10,
              "solidity": 0.2
             }
            },
            "type": "barpolar"
           }
          ],
          "carpet": [
           {
            "aaxis": {
             "endlinecolor": "#2a3f5f",
             "gridcolor": "white",
             "linecolor": "white",
             "minorgridcolor": "white",
             "startlinecolor": "#2a3f5f"
            },
            "baxis": {
             "endlinecolor": "#2a3f5f",
             "gridcolor": "white",
             "linecolor": "white",
             "minorgridcolor": "white",
             "startlinecolor": "#2a3f5f"
            },
            "type": "carpet"
           }
          ],
          "choropleth": [
           {
            "colorbar": {
             "outlinewidth": 0,
             "ticks": ""
            },
            "type": "choropleth"
           }
          ],
          "contour": [
           {
            "colorbar": {
             "outlinewidth": 0,
             "ticks": ""
            },
            "colorscale": [
             [
              0,
              "#0d0887"
             ],
             [
              0.1111111111111111,
              "#46039f"
             ],
             [
              0.2222222222222222,
              "#7201a8"
             ],
             [
              0.3333333333333333,
              "#9c179e"
             ],
             [
              0.4444444444444444,
              "#bd3786"
             ],
             [
              0.5555555555555556,
              "#d8576b"
             ],
             [
              0.6666666666666666,
              "#ed7953"
             ],
             [
              0.7777777777777778,
              "#fb9f3a"
             ],
             [
              0.8888888888888888,
              "#fdca26"
             ],
             [
              1,
              "#f0f921"
             ]
            ],
            "type": "contour"
           }
          ],
          "contourcarpet": [
           {
            "colorbar": {
             "outlinewidth": 0,
             "ticks": ""
            },
            "type": "contourcarpet"
           }
          ],
          "heatmap": [
           {
            "colorbar": {
             "outlinewidth": 0,
             "ticks": ""
            },
            "colorscale": [
             [
              0,
              "#0d0887"
             ],
             [
              0.1111111111111111,
              "#46039f"
             ],
             [
              0.2222222222222222,
              "#7201a8"
             ],
             [
              0.3333333333333333,
              "#9c179e"
             ],
             [
              0.4444444444444444,
              "#bd3786"
             ],
             [
              0.5555555555555556,
              "#d8576b"
             ],
             [
              0.6666666666666666,
              "#ed7953"
             ],
             [
              0.7777777777777778,
              "#fb9f3a"
             ],
             [
              0.8888888888888888,
              "#fdca26"
             ],
             [
              1,
              "#f0f921"
             ]
            ],
            "type": "heatmap"
           }
          ],
          "heatmapgl": [
           {
            "colorbar": {
             "outlinewidth": 0,
             "ticks": ""
            },
            "colorscale": [
             [
              0,
              "#0d0887"
             ],
             [
              0.1111111111111111,
              "#46039f"
             ],
             [
              0.2222222222222222,
              "#7201a8"
             ],
             [
              0.3333333333333333,
              "#9c179e"
             ],
             [
              0.4444444444444444,
              "#bd3786"
             ],
             [
              0.5555555555555556,
              "#d8576b"
             ],
             [
              0.6666666666666666,
              "#ed7953"
             ],
             [
              0.7777777777777778,
              "#fb9f3a"
             ],
             [
              0.8888888888888888,
              "#fdca26"
             ],
             [
              1,
              "#f0f921"
             ]
            ],
            "type": "heatmapgl"
           }
          ],
          "histogram": [
           {
            "marker": {
             "pattern": {
              "fillmode": "overlay",
              "size": 10,
              "solidity": 0.2
             }
            },
            "type": "histogram"
           }
          ],
          "histogram2d": [
           {
            "colorbar": {
             "outlinewidth": 0,
             "ticks": ""
            },
            "colorscale": [
             [
              0,
              "#0d0887"
             ],
             [
              0.1111111111111111,
              "#46039f"
             ],
             [
              0.2222222222222222,
              "#7201a8"
             ],
             [
              0.3333333333333333,
              "#9c179e"
             ],
             [
              0.4444444444444444,
              "#bd3786"
             ],
             [
              0.5555555555555556,
              "#d8576b"
             ],
             [
              0.6666666666666666,
              "#ed7953"
             ],
             [
              0.7777777777777778,
              "#fb9f3a"
             ],
             [
              0.8888888888888888,
              "#fdca26"
             ],
             [
              1,
              "#f0f921"
             ]
            ],
            "type": "histogram2d"
           }
          ],
          "histogram2dcontour": [
           {
            "colorbar": {
             "outlinewidth": 0,
             "ticks": ""
            },
            "colorscale": [
             [
              0,
              "#0d0887"
             ],
             [
              0.1111111111111111,
              "#46039f"
             ],
             [
              0.2222222222222222,
              "#7201a8"
             ],
             [
              0.3333333333333333,
              "#9c179e"
             ],
             [
              0.4444444444444444,
              "#bd3786"
             ],
             [
              0.5555555555555556,
              "#d8576b"
             ],
             [
              0.6666666666666666,
              "#ed7953"
             ],
             [
              0.7777777777777778,
              "#fb9f3a"
             ],
             [
              0.8888888888888888,
              "#fdca26"
             ],
             [
              1,
              "#f0f921"
             ]
            ],
            "type": "histogram2dcontour"
           }
          ],
          "mesh3d": [
           {
            "colorbar": {
             "outlinewidth": 0,
             "ticks": ""
            },
            "type": "mesh3d"
           }
          ],
          "parcoords": [
           {
            "line": {
             "colorbar": {
              "outlinewidth": 0,
              "ticks": ""
             }
            },
            "type": "parcoords"
           }
          ],
          "pie": [
           {
            "automargin": true,
            "type": "pie"
           }
          ],
          "scatter": [
           {
            "fillpattern": {
             "fillmode": "overlay",
             "size": 10,
             "solidity": 0.2
            },
            "type": "scatter"
           }
          ],
          "scatter3d": [
           {
            "line": {
             "colorbar": {
              "outlinewidth": 0,
              "ticks": ""
             }
            },
            "marker": {
             "colorbar": {
              "outlinewidth": 0,
              "ticks": ""
             }
            },
            "type": "scatter3d"
           }
          ],
          "scattercarpet": [
           {
            "marker": {
             "colorbar": {
              "outlinewidth": 0,
              "ticks": ""
             }
            },
            "type": "scattercarpet"
           }
          ],
          "scattergeo": [
           {
            "marker": {
             "colorbar": {
              "outlinewidth": 0,
              "ticks": ""
             }
            },
            "type": "scattergeo"
           }
          ],
          "scattergl": [
           {
            "marker": {
             "colorbar": {
              "outlinewidth": 0,
              "ticks": ""
             }
            },
            "type": "scattergl"
           }
          ],
          "scattermapbox": [
           {
            "marker": {
             "colorbar": {
              "outlinewidth": 0,
              "ticks": ""
             }
            },
            "type": "scattermapbox"
           }
          ],
          "scatterpolar": [
           {
            "marker": {
             "colorbar": {
              "outlinewidth": 0,
              "ticks": ""
             }
            },
            "type": "scatterpolar"
           }
          ],
          "scatterpolargl": [
           {
            "marker": {
             "colorbar": {
              "outlinewidth": 0,
              "ticks": ""
             }
            },
            "type": "scatterpolargl"
           }
          ],
          "scatterternary": [
           {
            "marker": {
             "colorbar": {
              "outlinewidth": 0,
              "ticks": ""
             }
            },
            "type": "scatterternary"
           }
          ],
          "surface": [
           {
            "colorbar": {
             "outlinewidth": 0,
             "ticks": ""
            },
            "colorscale": [
             [
              0,
              "#0d0887"
             ],
             [
              0.1111111111111111,
              "#46039f"
             ],
             [
              0.2222222222222222,
              "#7201a8"
             ],
             [
              0.3333333333333333,
              "#9c179e"
             ],
             [
              0.4444444444444444,
              "#bd3786"
             ],
             [
              0.5555555555555556,
              "#d8576b"
             ],
             [
              0.6666666666666666,
              "#ed7953"
             ],
             [
              0.7777777777777778,
              "#fb9f3a"
             ],
             [
              0.8888888888888888,
              "#fdca26"
             ],
             [
              1,
              "#f0f921"
             ]
            ],
            "type": "surface"
           }
          ],
          "table": [
           {
            "cells": {
             "fill": {
              "color": "#EBF0F8"
             },
             "line": {
              "color": "white"
             }
            },
            "header": {
             "fill": {
              "color": "#C8D4E3"
             },
             "line": {
              "color": "white"
             }
            },
            "type": "table"
           }
          ]
         },
         "layout": {
          "annotationdefaults": {
           "arrowcolor": "#2a3f5f",
           "arrowhead": 0,
           "arrowwidth": 1
          },
          "autotypenumbers": "strict",
          "coloraxis": {
           "colorbar": {
            "outlinewidth": 0,
            "ticks": ""
           }
          },
          "colorscale": {
           "diverging": [
            [
             0,
             "#8e0152"
            ],
            [
             0.1,
             "#c51b7d"
            ],
            [
             0.2,
             "#de77ae"
            ],
            [
             0.3,
             "#f1b6da"
            ],
            [
             0.4,
             "#fde0ef"
            ],
            [
             0.5,
             "#f7f7f7"
            ],
            [
             0.6,
             "#e6f5d0"
            ],
            [
             0.7,
             "#b8e186"
            ],
            [
             0.8,
             "#7fbc41"
            ],
            [
             0.9,
             "#4d9221"
            ],
            [
             1,
             "#276419"
            ]
           ],
           "sequential": [
            [
             0,
             "#0d0887"
            ],
            [
             0.1111111111111111,
             "#46039f"
            ],
            [
             0.2222222222222222,
             "#7201a8"
            ],
            [
             0.3333333333333333,
             "#9c179e"
            ],
            [
             0.4444444444444444,
             "#bd3786"
            ],
            [
             0.5555555555555556,
             "#d8576b"
            ],
            [
             0.6666666666666666,
             "#ed7953"
            ],
            [
             0.7777777777777778,
             "#fb9f3a"
            ],
            [
             0.8888888888888888,
             "#fdca26"
            ],
            [
             1,
             "#f0f921"
            ]
           ],
           "sequentialminus": [
            [
             0,
             "#0d0887"
            ],
            [
             0.1111111111111111,
             "#46039f"
            ],
            [
             0.2222222222222222,
             "#7201a8"
            ],
            [
             0.3333333333333333,
             "#9c179e"
            ],
            [
             0.4444444444444444,
             "#bd3786"
            ],
            [
             0.5555555555555556,
             "#d8576b"
            ],
            [
             0.6666666666666666,
             "#ed7953"
            ],
            [
             0.7777777777777778,
             "#fb9f3a"
            ],
            [
             0.8888888888888888,
             "#fdca26"
            ],
            [
             1,
             "#f0f921"
            ]
           ]
          },
          "colorway": [
           "#636efa",
           "#EF553B",
           "#00cc96",
           "#ab63fa",
           "#FFA15A",
           "#19d3f3",
           "#FF6692",
           "#B6E880",
           "#FF97FF",
           "#FECB52"
          ],
          "font": {
           "color": "#2a3f5f"
          },
          "geo": {
           "bgcolor": "white",
           "lakecolor": "white",
           "landcolor": "#E5ECF6",
           "showlakes": true,
           "showland": true,
           "subunitcolor": "white"
          },
          "hoverlabel": {
           "align": "left"
          },
          "hovermode": "closest",
          "mapbox": {
           "style": "light"
          },
          "paper_bgcolor": "white",
          "plot_bgcolor": "#E5ECF6",
          "polar": {
           "angularaxis": {
            "gridcolor": "white",
            "linecolor": "white",
            "ticks": ""
           },
           "bgcolor": "#E5ECF6",
           "radialaxis": {
            "gridcolor": "white",
            "linecolor": "white",
            "ticks": ""
           }
          },
          "scene": {
           "xaxis": {
            "backgroundcolor": "#E5ECF6",
            "gridcolor": "white",
            "gridwidth": 2,
            "linecolor": "white",
            "showbackground": true,
            "ticks": "",
            "zerolinecolor": "white"
           },
           "yaxis": {
            "backgroundcolor": "#E5ECF6",
            "gridcolor": "white",
            "gridwidth": 2,
            "linecolor": "white",
            "showbackground": true,
            "ticks": "",
            "zerolinecolor": "white"
           },
           "zaxis": {
            "backgroundcolor": "#E5ECF6",
            "gridcolor": "white",
            "gridwidth": 2,
            "linecolor": "white",
            "showbackground": true,
            "ticks": "",
            "zerolinecolor": "white"
           }
          },
          "shapedefaults": {
           "line": {
            "color": "#2a3f5f"
           }
          },
          "ternary": {
           "aaxis": {
            "gridcolor": "white",
            "linecolor": "white",
            "ticks": ""
           },
           "baxis": {
            "gridcolor": "white",
            "linecolor": "white",
            "ticks": ""
           },
           "bgcolor": "#E5ECF6",
           "caxis": {
            "gridcolor": "white",
            "linecolor": "white",
            "ticks": ""
           }
          },
          "title": {
           "x": 0.05
          },
          "xaxis": {
           "automargin": true,
           "gridcolor": "white",
           "linecolor": "white",
           "ticks": "",
           "title": {
            "standoff": 15
           },
           "zerolinecolor": "white",
           "zerolinewidth": 2
          },
          "yaxis": {
           "automargin": true,
           "gridcolor": "white",
           "linecolor": "white",
           "ticks": "",
           "title": {
            "standoff": 15
           },
           "zerolinecolor": "white",
           "zerolinewidth": 2
          }
         }
        },
        "title": {
         "text": "按Job上色的FJSP调度示意图 - 多种颜色"
        },
        "xaxis": {
         "title": {
          "text": "时间"
         }
        },
        "yaxis": {
         "categoryarray": [
          "Machine10",
          "Machine9",
          "Machine8",
          "Machine7",
          "Machine6",
          "Machine5",
          "Machine4",
          "Machine3",
          "Machine2",
          "Machine1",
          "Machine0",
          "Machine3",
          "Machine7",
          "Machine6",
          "Machine5",
          "Machine8",
          "Machine0",
          "Machine4",
          "Machine9",
          "Machine1",
          "Machine10",
          "Machine2",
          "Machine3",
          "Machine9",
          "Machine2",
          "Machine8",
          "Machine10",
          "Machine3",
          "Machine6",
          "Machine9",
          "Machine8",
          "Machine1",
          "Machine9",
          "Machine0",
          "Machine7",
          "Machine4",
          "Machine3",
          "Machine5",
          "Machine2",
          "Machine6",
          "Machine10",
          "Machine0",
          "Machine1",
          "Machine9",
          "Machine0",
          "Machine8",
          "Machine2",
          "Machine9",
          "Machine10",
          "Machine5",
          "Machine0",
          "Machine7",
          "Machine4",
          "Machine1",
          "Machine8",
          "Machine6",
          "Machine3",
          "Machine4",
          "Machine10",
          "Machine2",
          "Machine4",
          "Machine9",
          "Machine5",
          "Machine4",
          "Machine2",
          "Machine7",
          "Machine0",
          "Machine3",
          "Machine1",
          "Machine8",
          "Machine10",
          "Machine4",
          "Machine6",
          "Machine7",
          "Machine5",
          "Machine1",
          "Machine4",
          "Machine9",
          "Machine2",
          "Machine7",
          "Machine0",
          "Machine6",
          "Machine3",
          "Machine8",
          "Machine5",
          "Machine3",
          "Machine5",
          "Machine8",
          "Machine4",
          "Machine1",
          "Machine2",
          "Machine8",
          "Machine10",
          "Machine3",
          "Machine9",
          "Machine6",
          "Machine1",
          "Machine8",
          "Machine0",
          "Machine6",
          "Machine5",
          "Machine10",
          "Machine7",
          "Machine2",
          "Machine10",
          "Machine9",
          "Machine0",
          "Machine4",
          "Machine2",
          "Machine6",
          "Machine9",
          "Machine10",
          "Machine3",
          "Machine5",
          "Machine1",
          "Machine8",
          "Machine6",
          "Machine4",
          "Machine10",
          "Machine9",
          "Machine7",
          "Machine8",
          "Machine8",
          "Machine10",
          "Machine3",
          "Machine2",
          "Machine7",
          "Machine0",
          "Machine10",
          "Machine4",
          "Machine10",
          "Machine6",
          "Machine10",
          "Machine9",
          "Machine4",
          "Machine1",
          "Machine2",
          "Machine0",
          "Machine4"
         ],
         "categoryorder": "array",
         "type": "category"
        }
       }
      },
      "text/html": [
       "<div>                            <div id=\"352e45da-c0ee-4130-99f8-05424e9238d1\" class=\"plotly-graph-div\" style=\"height:525px; width:100%;\"></div>            <script type=\"text/javascript\">                require([\"plotly\"], function(Plotly) {                    window.PLOTLYENV=window.PLOTLYENV || {};                                    if (document.getElementById(\"352e45da-c0ee-4130-99f8-05424e9238d1\")) {                    Plotly.newPlot(                        \"352e45da-c0ee-4130-99f8-05424e9238d1\",                        [{\"base\":[0],\"marker\":{\"color\":\"#EF553B\"},\"name\":\"Job\",\"orientation\":\"h\",\"width\":[0.4],\"x\":[0],\"y\":[\"Machine10\"],\"type\":\"bar\"},{\"base\":[0],\"marker\":{\"color\":\"#EF553B\"},\"name\":\"Job\",\"orientation\":\"h\",\"width\":[0.4],\"x\":[0],\"y\":[\"Machine9\"],\"type\":\"bar\"},{\"base\":[0],\"marker\":{\"color\":\"#EF553B\"},\"name\":\"Job\",\"orientation\":\"h\",\"width\":[0.4],\"x\":[0],\"y\":[\"Machine8\"],\"type\":\"bar\"},{\"base\":[0],\"marker\":{\"color\":\"#EF553B\"},\"name\":\"Job\",\"orientation\":\"h\",\"width\":[0.4],\"x\":[0],\"y\":[\"Machine7\"],\"type\":\"bar\"},{\"base\":[0],\"marker\":{\"color\":\"#EF553B\"},\"name\":\"Job\",\"orientation\":\"h\",\"width\":[0.4],\"x\":[0],\"y\":[\"Machine6\"],\"type\":\"bar\"},{\"base\":[0],\"marker\":{\"color\":\"#EF553B\"},\"name\":\"Job\",\"orientation\":\"h\",\"width\":[0.4],\"x\":[0],\"y\":[\"Machine5\"],\"type\":\"bar\"},{\"base\":[0],\"marker\":{\"color\":\"#EF553B\"},\"name\":\"Job\",\"orientation\":\"h\",\"width\":[0.4],\"x\":[0],\"y\":[\"Machine4\"],\"type\":\"bar\"},{\"base\":[0],\"marker\":{\"color\":\"#EF553B\"},\"name\":\"Job\",\"orientation\":\"h\",\"width\":[0.4],\"x\":[0],\"y\":[\"Machine3\"],\"type\":\"bar\"},{\"base\":[0],\"marker\":{\"color\":\"#EF553B\"},\"name\":\"Job\",\"orientation\":\"h\",\"width\":[0.4],\"x\":[0],\"y\":[\"Machine2\"],\"type\":\"bar\"},{\"base\":[0],\"marker\":{\"color\":\"#EF553B\"},\"name\":\"Job\",\"orientation\":\"h\",\"width\":[0.4],\"x\":[0],\"y\":[\"Machine1\"],\"type\":\"bar\"},{\"base\":[0],\"marker\":{\"color\":\"#EF553B\"},\"name\":\"Job\",\"orientation\":\"h\",\"width\":[0.4],\"x\":[0],\"y\":[\"Machine0\"],\"type\":\"bar\"},{\"base\":[0.0],\"marker\":{\"color\":\"#636EFA\"},\"name\":\"Job2\",\"orientation\":\"h\",\"width\":[0.4],\"x\":[1],\"y\":[\"Machine3\"],\"type\":\"bar\"},{\"base\":[0.0],\"marker\":{\"color\":\"#00CC96\"},\"name\":\"Job9\",\"orientation\":\"h\",\"width\":[0.4],\"x\":[15],\"y\":[\"Machine7\"],\"type\":\"bar\"},{\"base\":[0.0],\"marker\":{\"color\":\"rgb(190, 56, 143)\"},\"name\":\"Job1\",\"orientation\":\"h\",\"width\":[0.4],\"x\":[4],\"y\":[\"Machine6\"],\"type\":\"bar\"},{\"base\":[0.0],\"marker\":{\"color\":\"#AB63FA\"},\"name\":\"Job8\",\"orientation\":\"h\",\"width\":[0.4],\"x\":[1],\"y\":[\"Machine5\"],\"type\":\"bar\"},{\"base\":[0.0],\"marker\":{\"color\":\"rgb(56, 75, 175)\"},\"name\":\"Job4\",\"orientation\":\"h\",\"width\":[0.4],\"x\":[4],\"y\":[\"Machine8\"],\"type\":\"bar\"},{\"base\":[0.0],\"marker\":{\"color\":\"#FECB52\"},\"name\":\"Job10\",\"orientation\":\"h\",\"width\":[0.4],\"x\":[14],\"y\":[\"Machine0\"],\"type\":\"bar\"},{\"base\":[0.0],\"marker\":{\"color\":\"rgb(206, 86, 63)\"},\"name\":\"Job5\",\"orientation\":\"h\",\"width\":[0.4],\"x\":[15],\"y\":[\"Machine4\"],\"type\":\"bar\"},{\"base\":[0.0],\"marker\":{\"color\":\"#B6E880\"},\"name\":\"Job11\",\"orientation\":\"h\",\"width\":[0.4],\"x\":[1],\"y\":[\"Machine9\"],\"type\":\"bar\"},{\"base\":[0.0],\"marker\":{\"color\":\"#19D3F3\"},\"name\":\"Job3\",\"orientation\":\"h\",\"width\":[0.4],\"x\":[10],\"y\":[\"Machine1\"],\"type\":\"bar\"},{\"base\":[0.0],\"marker\":{\"color\":\"#FFA15A\"},\"name\":\"Job12\",\"orientation\":\"h\",\"width\":[0.4],\"x\":[6],\"y\":[\"Machine10\"],\"type\":\"bar\"},{\"base\":[1.0],\"marker\":{\"color\":\"#636EFA\"},\"name\":\"Job2\",\"orientation\":\"h\",\"width\":[0.4],\"x\":[1],\"y\":[\"Machine2\"],\"type\":\"bar\"},{\"base\":[1.0],\"marker\":{\"color\":\"#AB63FA\"},\"name\":\"Job8\",\"orientation\":\"h\",\"width\":[0.4],\"x\":[5],\"y\":[\"Machine3\"],\"type\":\"bar\"},{\"base\":[1.0],\"marker\":{\"color\":\"#FF97FF\"},\"name\":\"Job13\",\"orientation\":\"h\",\"width\":[0.4],\"x\":[5],\"y\":[\"Machine9\"],\"type\":\"bar\"},{\"base\":[2.0],\"marker\":{\"color\":\"#636EFA\"},\"name\":\"Job2\",\"orientation\":\"h\",\"width\":[0.4],\"x\":[16],\"y\":[\"Machine2\"],\"type\":\"bar\"},{\"base\":[4.0],\"marker\":{\"color\":\"rgb(56, 75, 175)\"},\"name\":\"Job4\",\"orientation\":\"h\",\"width\":[0.4],\"x\":[3],\"y\":[\"Machine8\"],\"type\":\"bar\"},{\"base\":[6.0],\"marker\":{\"color\":\"rgb(190, 56, 143)\"},\"name\":\"Job1\",\"orientation\":\"h\",\"width\":[0.4],\"x\":[17],\"y\":[\"Machine10\"],\"type\":\"bar\"},{\"base\":[6.0],\"marker\":{\"color\":\"#B6E880\"},\"name\":\"Job11\",\"orientation\":\"h\",\"width\":[0.4],\"x\":[10],\"y\":[\"Machine3\"],\"type\":\"bar\"},{\"base\":[6.0],\"marker\":{\"color\":\"#AB63FA\"},\"name\":\"Job8\",\"orientation\":\"h\",\"width\":[0.4],\"x\":[14],\"y\":[\"Machine6\"],\"type\":\"bar\"},{\"base\":[6.0],\"marker\":{\"color\":\"#FF97FF\"},\"name\":\"Job13\",\"orientation\":\"h\",\"width\":[0.4],\"x\":[8],\"y\":[\"Machine9\"],\"type\":\"bar\"},{\"base\":[7.0],\"marker\":{\"color\":\"rgb(56, 75, 175)\"},\"name\":\"Job4\",\"orientation\":\"h\",\"width\":[0.4],\"x\":[19],\"y\":[\"Machine8\"],\"type\":\"bar\"},{\"base\":[10.0],\"marker\":{\"color\":\"rgb(205, 77, 50)\"},\"name\":\"Job0\",\"orientation\":\"h\",\"width\":[0.4],\"x\":[13],\"y\":[\"Machine1\"],\"type\":\"bar\"},{\"base\":[14.0],\"marker\":{\"color\":\"#19D3F3\"},\"name\":\"Job3\",\"orientation\":\"h\",\"width\":[0.4],\"x\":[10],\"y\":[\"Machine9\"],\"type\":\"bar\"},{\"base\":[14.0],\"marker\":{\"color\":\"#FF97FF\"},\"name\":\"Job13\",\"orientation\":\"h\",\"width\":[0.4],\"x\":[9],\"y\":[\"Machine0\"],\"type\":\"bar\"},{\"base\":[15.0],\"marker\":{\"color\":\"rgb(169, 239, 33)\"},\"name\":\"Job7\",\"orientation\":\"h\",\"width\":[0.4],\"x\":[14],\"y\":[\"Machine7\"],\"type\":\"bar\"},{\"base\":[15.0],\"marker\":{\"color\":\"rgb(206, 86, 63)\"},\"name\":\"Job5\",\"orientation\":\"h\",\"width\":[0.4],\"x\":[14],\"y\":[\"Machine4\"],\"type\":\"bar\"},{\"base\":[16.0],\"marker\":{\"color\":\"#FF6692\"},\"name\":\"Job6\",\"orientation\":\"h\",\"width\":[0.4],\"x\":[18],\"y\":[\"Machine3\"],\"type\":\"bar\"},{\"base\":[16.0],\"marker\":{\"color\":\"#B6E880\"},\"name\":\"Job11\",\"orientation\":\"h\",\"width\":[0.4],\"x\":[11],\"y\":[\"Machine5\"],\"type\":\"bar\"},{\"base\":[18.0],\"marker\":{\"color\":\"#636EFA\"},\"name\":\"Job2\",\"orientation\":\"h\",\"width\":[0.4],\"x\":[8],\"y\":[\"Machine2\"],\"type\":\"bar\"},{\"base\":[20.0],\"marker\":{\"color\":\"#00CC96\"},\"name\":\"Job9\",\"orientation\":\"h\",\"width\":[0.4],\"x\":[14],\"y\":[\"Machine6\"],\"type\":\"bar\"},{\"base\":[23.0],\"marker\":{\"color\":\"#FECB52\"},\"name\":\"Job10\",\"orientation\":\"h\",\"width\":[0.4],\"x\":[4],\"y\":[\"Machine10\"],\"type\":\"bar\"},{\"base\":[23.0],\"marker\":{\"color\":\"rgb(190, 56, 143)\"},\"name\":\"Job1\",\"orientation\":\"h\",\"width\":[0.4],\"x\":[2],\"y\":[\"Machine0\"],\"type\":\"bar\"},{\"base\":[23.0],\"marker\":{\"color\":\"#FFA15A\"},\"name\":\"Job12\",\"orientation\":\"h\",\"width\":[0.4],\"x\":[6],\"y\":[\"Machine1\"],\"type\":\"bar\"},{\"base\":[24.0],\"marker\":{\"color\":\"#FF97FF\"},\"name\":\"Job13\",\"orientation\":\"h\",\"width\":[0.4],\"x\":[2],\"y\":[\"Machine9\"],\"type\":\"bar\"},{\"base\":[25.0],\"marker\":{\"color\":\"#19D3F3\"},\"name\":\"Job3\",\"orientation\":\"h\",\"width\":[0.4],\"x\":[2],\"y\":[\"Machine0\"],\"type\":\"bar\"},{\"base\":[26.0],\"marker\":{\"color\":\"rgb(190, 56, 143)\"},\"name\":\"Job1\",\"orientation\":\"h\",\"width\":[0.4],\"x\":[6],\"y\":[\"Machine8\"],\"type\":\"bar\"},{\"base\":[26.0],\"marker\":{\"color\":\"#AB63FA\"},\"name\":\"Job8\",\"orientation\":\"h\",\"width\":[0.4],\"x\":[10],\"y\":[\"Machine2\"],\"type\":\"bar\"},{\"base\":[26.0],\"marker\":{\"color\":\"#636EFA\"},\"name\":\"Job2\",\"orientation\":\"h\",\"width\":[0.4],\"x\":[12],\"y\":[\"Machine9\"],\"type\":\"bar\"},{\"base\":[27.0],\"marker\":{\"color\":\"#FECB52\"},\"name\":\"Job10\",\"orientation\":\"h\",\"width\":[0.4],\"x\":[8],\"y\":[\"Machine10\"],\"type\":\"bar\"},{\"base\":[27.0],\"marker\":{\"color\":\"rgb(205, 77, 50)\"},\"name\":\"Job0\",\"orientation\":\"h\",\"width\":[0.4],\"x\":[11],\"y\":[\"Machine5\"],\"type\":\"bar\"},{\"base\":[27.0],\"marker\":{\"color\":\"rgb(56, 75, 175)\"},\"name\":\"Job4\",\"orientation\":\"h\",\"width\":[0.4],\"x\":[16],\"y\":[\"Machine0\"],\"type\":\"bar\"},{\"base\":[29.0],\"marker\":{\"color\":\"rgb(206, 86, 63)\"},\"name\":\"Job5\",\"orientation\":\"h\",\"width\":[0.4],\"x\":[14],\"y\":[\"Machine7\"],\"type\":\"bar\"},{\"base\":[29.0],\"marker\":{\"color\":\"#19D3F3\"},\"name\":\"Job3\",\"orientation\":\"h\",\"width\":[0.4],\"x\":[6],\"y\":[\"Machine4\"],\"type\":\"bar\"},{\"base\":[29.0],\"marker\":{\"color\":\"#FF97FF\"},\"name\":\"Job13\",\"orientation\":\"h\",\"width\":[0.4],\"x\":[16],\"y\":[\"Machine1\"],\"type\":\"bar\"},{\"base\":[32.0],\"marker\":{\"color\":\"#B6E880\"},\"name\":\"Job11\",\"orientation\":\"h\",\"width\":[0.4],\"x\":[13],\"y\":[\"Machine8\"],\"type\":\"bar\"},{\"base\":[34.0],\"marker\":{\"color\":\"#00CC96\"},\"name\":\"Job9\",\"orientation\":\"h\",\"width\":[0.4],\"x\":[13],\"y\":[\"Machine6\"],\"type\":\"bar\"},{\"base\":[34.0],\"marker\":{\"color\":\"rgb(169, 239, 33)\"},\"name\":\"Job7\",\"orientation\":\"h\",\"width\":[0.4],\"x\":[9],\"y\":[\"Machine3\"],\"type\":\"bar\"},{\"base\":[35.0],\"marker\":{\"color\":\"rgb(190, 56, 143)\"},\"name\":\"Job1\",\"orientation\":\"h\",\"width\":[0.4],\"x\":[2],\"y\":[\"Machine4\"],\"type\":\"bar\"},{\"base\":[35.0],\"marker\":{\"color\":\"#FECB52\"},\"name\":\"Job10\",\"orientation\":\"h\",\"width\":[0.4],\"x\":[11],\"y\":[\"Machine10\"],\"type\":\"bar\"},{\"base\":[36.0],\"marker\":{\"color\":\"#FF6692\"},\"name\":\"Job6\",\"orientation\":\"h\",\"width\":[0.4],\"x\":[5],\"y\":[\"Machine2\"],\"type\":\"bar\"},{\"base\":[37.0],\"marker\":{\"color\":\"#AB63FA\"},\"name\":\"Job8\",\"orientation\":\"h\",\"width\":[0.4],\"x\":[2],\"y\":[\"Machine4\"],\"type\":\"bar\"},{\"base\":[38.0],\"marker\":{\"color\":\"#636EFA\"},\"name\":\"Job2\",\"orientation\":\"h\",\"width\":[0.4],\"x\":[13],\"y\":[\"Machine9\"],\"type\":\"bar\"},{\"base\":[38.0],\"marker\":{\"color\":\"rgb(190, 56, 143)\"},\"name\":\"Job1\",\"orientation\":\"h\",\"width\":[0.4],\"x\":[11],\"y\":[\"Machine5\"],\"type\":\"bar\"},{\"base\":[39.0],\"marker\":{\"color\":\"#FFA15A\"},\"name\":\"Job12\",\"orientation\":\"h\",\"width\":[0.4],\"x\":[8],\"y\":[\"Machine4\"],\"type\":\"bar\"},{\"base\":[41.0],\"marker\":{\"color\":\"#FF6692\"},\"name\":\"Job6\",\"orientation\":\"h\",\"width\":[0.4],\"x\":[10],\"y\":[\"Machine2\"],\"type\":\"bar\"},{\"base\":[43.0],\"marker\":{\"color\":\"#AB63FA\"},\"name\":\"Job8\",\"orientation\":\"h\",\"width\":[0.4],\"x\":[6],\"y\":[\"Machine7\"],\"type\":\"bar\"},{\"base\":[43.0],\"marker\":{\"color\":\"#19D3F3\"},\"name\":\"Job3\",\"orientation\":\"h\",\"width\":[0.4],\"x\":[10],\"y\":[\"Machine0\"],\"type\":\"bar\"},{\"base\":[43.0],\"marker\":{\"color\":\"rgb(206, 86, 63)\"},\"name\":\"Job5\",\"orientation\":\"h\",\"width\":[0.4],\"x\":[11],\"y\":[\"Machine3\"],\"type\":\"bar\"},{\"base\":[45.0],\"marker\":{\"color\":\"rgb(56, 75, 175)\"},\"name\":\"Job4\",\"orientation\":\"h\",\"width\":[0.4],\"x\":[4],\"y\":[\"Machine1\"],\"type\":\"bar\"},{\"base\":[45.0],\"marker\":{\"color\":\"rgb(169, 239, 33)\"},\"name\":\"Job7\",\"orientation\":\"h\",\"width\":[0.4],\"x\":[11],\"y\":[\"Machine8\"],\"type\":\"bar\"},{\"base\":[46.0],\"marker\":{\"color\":\"#FECB52\"},\"name\":\"Job10\",\"orientation\":\"h\",\"width\":[0.4],\"x\":[17],\"y\":[\"Machine10\"],\"type\":\"bar\"},{\"base\":[47.0],\"marker\":{\"color\":\"#B6E880\"},\"name\":\"Job11\",\"orientation\":\"h\",\"width\":[0.4],\"x\":[3],\"y\":[\"Machine4\"],\"type\":\"bar\"},{\"base\":[47.0],\"marker\":{\"color\":\"#FF97FF\"},\"name\":\"Job13\",\"orientation\":\"h\",\"width\":[0.4],\"x\":[6],\"y\":[\"Machine6\"],\"type\":\"bar\"},{\"base\":[49.0],\"marker\":{\"color\":\"#00CC96\"},\"name\":\"Job9\",\"orientation\":\"h\",\"width\":[0.4],\"x\":[3],\"y\":[\"Machine7\"],\"type\":\"bar\"},{\"base\":[49.0],\"marker\":{\"color\":\"rgb(190, 56, 143)\"},\"name\":\"Job1\",\"orientation\":\"h\",\"width\":[0.4],\"x\":[9],\"y\":[\"Machine5\"],\"type\":\"bar\"},{\"base\":[49.0],\"marker\":{\"color\":\"rgb(205, 77, 50)\"},\"name\":\"Job0\",\"orientation\":\"h\",\"width\":[0.4],\"x\":[13],\"y\":[\"Machine1\"],\"type\":\"bar\"},{\"base\":[50.0],\"marker\":{\"color\":\"#FFA15A\"},\"name\":\"Job12\",\"orientation\":\"h\",\"width\":[0.4],\"x\":[12],\"y\":[\"Machine4\"],\"type\":\"bar\"},{\"base\":[51.0],\"marker\":{\"color\":\"#AB63FA\"},\"name\":\"Job8\",\"orientation\":\"h\",\"width\":[0.4],\"x\":[15],\"y\":[\"Machine9\"],\"type\":\"bar\"},{\"base\":[51.0],\"marker\":{\"color\":\"#636EFA\"},\"name\":\"Job2\",\"orientation\":\"h\",\"width\":[0.4],\"x\":[11],\"y\":[\"Machine2\"],\"type\":\"bar\"},{\"base\":[52.0],\"marker\":{\"color\":\"rgb(56, 75, 175)\"},\"name\":\"Job4\",\"orientation\":\"h\",\"width\":[0.4],\"x\":[20],\"y\":[\"Machine7\"],\"type\":\"bar\"},{\"base\":[53.0],\"marker\":{\"color\":\"#B6E880\"},\"name\":\"Job11\",\"orientation\":\"h\",\"width\":[0.4],\"x\":[17],\"y\":[\"Machine0\"],\"type\":\"bar\"},{\"base\":[53.0],\"marker\":{\"color\":\"#19D3F3\"},\"name\":\"Job3\",\"orientation\":\"h\",\"width\":[0.4],\"x\":[14],\"y\":[\"Machine6\"],\"type\":\"bar\"},{\"base\":[54.0],\"marker\":{\"color\":\"rgb(206, 86, 63)\"},\"name\":\"Job5\",\"orientation\":\"h\",\"width\":[0.4],\"x\":[6],\"y\":[\"Machine3\"],\"type\":\"bar\"},{\"base\":[56.0],\"marker\":{\"color\":\"rgb(169, 239, 33)\"},\"name\":\"Job7\",\"orientation\":\"h\",\"width\":[0.4],\"x\":[5],\"y\":[\"Machine8\"],\"type\":\"bar\"},{\"base\":[58.0],\"marker\":{\"color\":\"#00CC96\"},\"name\":\"Job9\",\"orientation\":\"h\",\"width\":[0.4],\"x\":[2],\"y\":[\"Machine5\"],\"type\":\"bar\"},{\"base\":[60.0],\"marker\":{\"color\":\"rgb(206, 86, 63)\"},\"name\":\"Job5\",\"orientation\":\"h\",\"width\":[0.4],\"x\":[5],\"y\":[\"Machine3\"],\"type\":\"bar\"},{\"base\":[60.0],\"marker\":{\"color\":\"#00CC96\"},\"name\":\"Job9\",\"orientation\":\"h\",\"width\":[0.4],\"x\":[12],\"y\":[\"Machine5\"],\"type\":\"bar\"},{\"base\":[61.0],\"marker\":{\"color\":\"rgb(190, 56, 143)\"},\"name\":\"Job1\",\"orientation\":\"h\",\"width\":[0.4],\"x\":[2],\"y\":[\"Machine8\"],\"type\":\"bar\"},{\"base\":[62.0],\"marker\":{\"color\":\"#FF6692\"},\"name\":\"Job6\",\"orientation\":\"h\",\"width\":[0.4],\"x\":[17],\"y\":[\"Machine4\"],\"type\":\"bar\"},{\"base\":[62.0],\"marker\":{\"color\":\"#FFA15A\"},\"name\":\"Job12\",\"orientation\":\"h\",\"width\":[0.4],\"x\":[6],\"y\":[\"Machine1\"],\"type\":\"bar\"},{\"base\":[62.0],\"marker\":{\"color\":\"#636EFA\"},\"name\":\"Job2\",\"orientation\":\"h\",\"width\":[0.4],\"x\":[12],\"y\":[\"Machine2\"],\"type\":\"bar\"},{\"base\":[63.0],\"marker\":{\"color\":\"#FECB52\"},\"name\":\"Job10\",\"orientation\":\"h\",\"width\":[0.4],\"x\":[6],\"y\":[\"Machine8\"],\"type\":\"bar\"},{\"base\":[63.0],\"marker\":{\"color\":\"rgb(190, 56, 143)\"},\"name\":\"Job1\",\"orientation\":\"h\",\"width\":[0.4],\"x\":[10],\"y\":[\"Machine10\"],\"type\":\"bar\"},{\"base\":[65.0],\"marker\":{\"color\":\"rgb(206, 86, 63)\"},\"name\":\"Job5\",\"orientation\":\"h\",\"width\":[0.4],\"x\":[13],\"y\":[\"Machine3\"],\"type\":\"bar\"},{\"base\":[66.0],\"marker\":{\"color\":\"rgb(169, 239, 33)\"},\"name\":\"Job7\",\"orientation\":\"h\",\"width\":[0.4],\"x\":[12],\"y\":[\"Machine9\"],\"type\":\"bar\"},{\"base\":[67.0],\"marker\":{\"color\":\"rgb(205, 77, 50)\"},\"name\":\"Job0\",\"orientation\":\"h\",\"width\":[0.4],\"x\":[4],\"y\":[\"Machine6\"],\"type\":\"bar\"},{\"base\":[68.0],\"marker\":{\"color\":\"#19D3F3\"},\"name\":\"Job3\",\"orientation\":\"h\",\"width\":[0.4],\"x\":[18],\"y\":[\"Machine1\"],\"type\":\"bar\"},{\"base\":[69.0],\"marker\":{\"color\":\"#AB63FA\"},\"name\":\"Job8\",\"orientation\":\"h\",\"width\":[0.4],\"x\":[16],\"y\":[\"Machine8\"],\"type\":\"bar\"},{\"base\":[70.0],\"marker\":{\"color\":\"#FECB52\"},\"name\":\"Job10\",\"orientation\":\"h\",\"width\":[0.4],\"x\":[10],\"y\":[\"Machine0\"],\"type\":\"bar\"},{\"base\":[71.0],\"marker\":{\"color\":\"rgb(205, 77, 50)\"},\"name\":\"Job0\",\"orientation\":\"h\",\"width\":[0.4],\"x\":[10],\"y\":[\"Machine6\"],\"type\":\"bar\"},{\"base\":[72.0],\"marker\":{\"color\":\"#00CC96\"},\"name\":\"Job9\",\"orientation\":\"h\",\"width\":[0.4],\"x\":[13],\"y\":[\"Machine5\"],\"type\":\"bar\"},{\"base\":[73.0],\"marker\":{\"color\":\"#B6E880\"},\"name\":\"Job11\",\"orientation\":\"h\",\"width\":[0.4],\"x\":[2],\"y\":[\"Machine10\"],\"type\":\"bar\"},{\"base\":[73.0],\"marker\":{\"color\":\"rgb(190, 56, 143)\"},\"name\":\"Job1\",\"orientation\":\"h\",\"width\":[0.4],\"x\":[14],\"y\":[\"Machine7\"],\"type\":\"bar\"},{\"base\":[74.0],\"marker\":{\"color\":\"#636EFA\"},\"name\":\"Job2\",\"orientation\":\"h\",\"width\":[0.4],\"x\":[6],\"y\":[\"Machine2\"],\"type\":\"bar\"},{\"base\":[75.0],\"marker\":{\"color\":\"rgb(56, 75, 175)\"},\"name\":\"Job4\",\"orientation\":\"h\",\"width\":[0.4],\"x\":[10],\"y\":[\"Machine10\"],\"type\":\"bar\"},{\"base\":[78.0],\"marker\":{\"color\":\"rgb(169, 239, 33)\"},\"name\":\"Job7\",\"orientation\":\"h\",\"width\":[0.4],\"x\":[3],\"y\":[\"Machine9\"],\"type\":\"bar\"},{\"base\":[80.0],\"marker\":{\"color\":\"#FECB52\"},\"name\":\"Job10\",\"orientation\":\"h\",\"width\":[0.4],\"x\":[17],\"y\":[\"Machine0\"],\"type\":\"bar\"},{\"base\":[80.0],\"marker\":{\"color\":\"#636EFA\"},\"name\":\"Job2\",\"orientation\":\"h\",\"width\":[0.4],\"x\":[9],\"y\":[\"Machine4\"],\"type\":\"bar\"},{\"base\":[80.0],\"marker\":{\"color\":\"#FF6692\"},\"name\":\"Job6\",\"orientation\":\"h\",\"width\":[0.4],\"x\":[17],\"y\":[\"Machine2\"],\"type\":\"bar\"},{\"base\":[81.0],\"marker\":{\"color\":\"rgb(206, 86, 63)\"},\"name\":\"Job5\",\"orientation\":\"h\",\"width\":[0.4],\"x\":[5],\"y\":[\"Machine6\"],\"type\":\"bar\"},{\"base\":[81.0],\"marker\":{\"color\":\"rgb(169, 239, 33)\"},\"name\":\"Job7\",\"orientation\":\"h\",\"width\":[0.4],\"x\":[11],\"y\":[\"Machine9\"],\"type\":\"bar\"},{\"base\":[85.0],\"marker\":{\"color\":\"rgb(56, 75, 175)\"},\"name\":\"Job4\",\"orientation\":\"h\",\"width\":[0.4],\"x\":[7],\"y\":[\"Machine10\"],\"type\":\"bar\"},{\"base\":[85.0],\"marker\":{\"color\":\"#AB63FA\"},\"name\":\"Job8\",\"orientation\":\"h\",\"width\":[0.4],\"x\":[12],\"y\":[\"Machine3\"],\"type\":\"bar\"},{\"base\":[85.0],\"marker\":{\"color\":\"#B6E880\"},\"name\":\"Job11\",\"orientation\":\"h\",\"width\":[0.4],\"x\":[19],\"y\":[\"Machine5\"],\"type\":\"bar\"},{\"base\":[86.0],\"marker\":{\"color\":\"#00CC96\"},\"name\":\"Job9\",\"orientation\":\"h\",\"width\":[0.4],\"x\":[17],\"y\":[\"Machine1\"],\"type\":\"bar\"},{\"base\":[86.0],\"marker\":{\"color\":\"rgb(206, 86, 63)\"},\"name\":\"Job5\",\"orientation\":\"h\",\"width\":[0.4],\"x\":[9],\"y\":[\"Machine8\"],\"type\":\"bar\"},{\"base\":[86.0],\"marker\":{\"color\":\"#19D3F3\"},\"name\":\"Job3\",\"orientation\":\"h\",\"width\":[0.4],\"x\":[8],\"y\":[\"Machine6\"],\"type\":\"bar\"},{\"base\":[89.0],\"marker\":{\"color\":\"rgb(190, 56, 143)\"},\"name\":\"Job1\",\"orientation\":\"h\",\"width\":[0.4],\"x\":[10],\"y\":[\"Machine4\"],\"type\":\"bar\"},{\"base\":[92.0],\"marker\":{\"color\":\"rgb(56, 75, 175)\"},\"name\":\"Job4\",\"orientation\":\"h\",\"width\":[0.4],\"x\":[5],\"y\":[\"Machine10\"],\"type\":\"bar\"},{\"base\":[92.0],\"marker\":{\"color\":\"rgb(169, 239, 33)\"},\"name\":\"Job7\",\"orientation\":\"h\",\"width\":[0.4],\"x\":[16],\"y\":[\"Machine9\"],\"type\":\"bar\"},{\"base\":[94.0],\"marker\":{\"color\":\"#19D3F3\"},\"name\":\"Job3\",\"orientation\":\"h\",\"width\":[0.4],\"x\":[3],\"y\":[\"Machine7\"],\"type\":\"bar\"},{\"base\":[95.0],\"marker\":{\"color\":\"rgb(206, 86, 63)\"},\"name\":\"Job5\",\"orientation\":\"h\",\"width\":[0.4],\"x\":[2],\"y\":[\"Machine8\"],\"type\":\"bar\"},{\"base\":[97.0],\"marker\":{\"color\":\"rgb(206, 86, 63)\"},\"name\":\"Job5\",\"orientation\":\"h\",\"width\":[0.4],\"x\":[11],\"y\":[\"Machine8\"],\"type\":\"bar\"},{\"base\":[97.0],\"marker\":{\"color\":\"#AB63FA\"},\"name\":\"Job8\",\"orientation\":\"h\",\"width\":[0.4],\"x\":[6],\"y\":[\"Machine10\"],\"type\":\"bar\"},{\"base\":[97.0],\"marker\":{\"color\":\"rgb(56, 75, 175)\"},\"name\":\"Job4\",\"orientation\":\"h\",\"width\":[0.4],\"x\":[12],\"y\":[\"Machine3\"],\"type\":\"bar\"},{\"base\":[97.0],\"marker\":{\"color\":\"#636EFA\"},\"name\":\"Job2\",\"orientation\":\"h\",\"width\":[0.4],\"x\":[11],\"y\":[\"Machine2\"],\"type\":\"bar\"},{\"base\":[97.0],\"marker\":{\"color\":\"#FECB52\"},\"name\":\"Job10\",\"orientation\":\"h\",\"width\":[0.4],\"x\":[8],\"y\":[\"Machine7\"],\"type\":\"bar\"},{\"base\":[97.0],\"marker\":{\"color\":\"#FF6692\"},\"name\":\"Job6\",\"orientation\":\"h\",\"width\":[0.4],\"x\":[4],\"y\":[\"Machine0\"],\"type\":\"bar\"},{\"base\":[103.0],\"marker\":{\"color\":\"#AB63FA\"},\"name\":\"Job8\",\"orientation\":\"h\",\"width\":[0.4],\"x\":[2],\"y\":[\"Machine10\"],\"type\":\"bar\"},{\"base\":[103.0],\"marker\":{\"color\":\"#00CC96\"},\"name\":\"Job9\",\"orientation\":\"h\",\"width\":[0.4],\"x\":[10],\"y\":[\"Machine4\"],\"type\":\"bar\"},{\"base\":[105.0],\"marker\":{\"color\":\"#B6E880\"},\"name\":\"Job11\",\"orientation\":\"h\",\"width\":[0.4],\"x\":[3],\"y\":[\"Machine10\"],\"type\":\"bar\"},{\"base\":[105.0],\"marker\":{\"color\":\"#FECB52\"},\"name\":\"Job10\",\"orientation\":\"h\",\"width\":[0.4],\"x\":[13],\"y\":[\"Machine6\"],\"type\":\"bar\"},{\"base\":[108.0],\"marker\":{\"color\":\"rgb(206, 86, 63)\"},\"name\":\"Job5\",\"orientation\":\"h\",\"width\":[0.4],\"x\":[5],\"y\":[\"Machine10\"],\"type\":\"bar\"},{\"base\":[108.0],\"marker\":{\"color\":\"#636EFA\"},\"name\":\"Job2\",\"orientation\":\"h\",\"width\":[0.4],\"x\":[6],\"y\":[\"Machine9\"],\"type\":\"bar\"},{\"base\":[113.0],\"marker\":{\"color\":\"#00CC96\"},\"name\":\"Job9\",\"orientation\":\"h\",\"width\":[0.4],\"x\":[16],\"y\":[\"Machine4\"],\"type\":\"bar\"},{\"base\":[113.0],\"marker\":{\"color\":\"rgb(206, 86, 63)\"},\"name\":\"Job5\",\"orientation\":\"h\",\"width\":[0.4],\"x\":[7],\"y\":[\"Machine1\"],\"type\":\"bar\"},{\"base\":[114.0],\"marker\":{\"color\":\"#636EFA\"},\"name\":\"Job2\",\"orientation\":\"h\",\"width\":[0.4],\"x\":[6],\"y\":[\"Machine2\"],\"type\":\"bar\"},{\"base\":[120.0],\"marker\":{\"color\":\"#636EFA\"},\"name\":\"Job2\",\"orientation\":\"h\",\"width\":[0.4],\"x\":[15],\"y\":[\"Machine0\"],\"type\":\"bar\"},{\"base\":[129.0],\"marker\":{\"color\":\"#00CC96\"},\"name\":\"Job9\",\"orientation\":\"h\",\"width\":[0.4],\"x\":[17],\"y\":[\"Machine4\"],\"type\":\"bar\"}],                        {\"template\":{\"data\":{\"histogram2dcontour\":[{\"type\":\"histogram2dcontour\",\"colorbar\":{\"outlinewidth\":0,\"ticks\":\"\"},\"colorscale\":[[0.0,\"#0d0887\"],[0.1111111111111111,\"#46039f\"],[0.2222222222222222,\"#7201a8\"],[0.3333333333333333,\"#9c179e\"],[0.4444444444444444,\"#bd3786\"],[0.5555555555555556,\"#d8576b\"],[0.6666666666666666,\"#ed7953\"],[0.7777777777777778,\"#fb9f3a\"],[0.8888888888888888,\"#fdca26\"],[1.0,\"#f0f921\"]]}],\"choropleth\":[{\"type\":\"choropleth\",\"colorbar\":{\"outlinewidth\":0,\"ticks\":\"\"}}],\"histogram2d\":[{\"type\":\"histogram2d\",\"colorbar\":{\"outlinewidth\":0,\"ticks\":\"\"},\"colorscale\":[[0.0,\"#0d0887\"],[0.1111111111111111,\"#46039f\"],[0.2222222222222222,\"#7201a8\"],[0.3333333333333333,\"#9c179e\"],[0.4444444444444444,\"#bd3786\"],[0.5555555555555556,\"#d8576b\"],[0.6666666666666666,\"#ed7953\"],[0.7777777777777778,\"#fb9f3a\"],[0.8888888888888888,\"#fdca26\"],[1.0,\"#f0f921\"]]}],\"heatmap\":[{\"type\":\"heatmap\",\"colorbar\":{\"outlinewidth\":0,\"ticks\":\"\"},\"colorscale\":[[0.0,\"#0d0887\"],[0.1111111111111111,\"#46039f\"],[0.2222222222222222,\"#7201a8\"],[0.3333333333333333,\"#9c179e\"],[0.4444444444444444,\"#bd3786\"],[0.5555555555555556,\"#d8576b\"],[0.6666666666666666,\"#ed7953\"],[0.7777777777777778,\"#fb9f3a\"],[0.8888888888888888,\"#fdca26\"],[1.0,\"#f0f921\"]]}],\"heatmapgl\":[{\"type\":\"heatmapgl\",\"colorbar\":{\"outlinewidth\":0,\"ticks\":\"\"},\"colorscale\":[[0.0,\"#0d0887\"],[0.1111111111111111,\"#46039f\"],[0.2222222222222222,\"#7201a8\"],[0.3333333333333333,\"#9c179e\"],[0.4444444444444444,\"#bd3786\"],[0.5555555555555556,\"#d8576b\"],[0.6666666666666666,\"#ed7953\"],[0.7777777777777778,\"#fb9f3a\"],[0.8888888888888888,\"#fdca26\"],[1.0,\"#f0f921\"]]}],\"contourcarpet\":[{\"type\":\"contourcarpet\",\"colorbar\":{\"outlinewidth\":0,\"ticks\":\"\"}}],\"contour\":[{\"type\":\"contour\",\"colorbar\":{\"outlinewidth\":0,\"ticks\":\"\"},\"colorscale\":[[0.0,\"#0d0887\"],[0.1111111111111111,\"#46039f\"],[0.2222222222222222,\"#7201a8\"],[0.3333333333333333,\"#9c179e\"],[0.4444444444444444,\"#bd3786\"],[0.5555555555555556,\"#d8576b\"],[0.6666666666666666,\"#ed7953\"],[0.7777777777777778,\"#fb9f3a\"],[0.8888888888888888,\"#fdca26\"],[1.0,\"#f0f921\"]]}],\"surface\":[{\"type\":\"surface\",\"colorbar\":{\"outlinewidth\":0,\"ticks\":\"\"},\"colorscale\":[[0.0,\"#0d0887\"],[0.1111111111111111,\"#46039f\"],[0.2222222222222222,\"#7201a8\"],[0.3333333333333333,\"#9c179e\"],[0.4444444444444444,\"#bd3786\"],[0.5555555555555556,\"#d8576b\"],[0.6666666666666666,\"#ed7953\"],[0.7777777777777778,\"#fb9f3a\"],[0.8888888888888888,\"#fdca26\"],[1.0,\"#f0f921\"]]}],\"mesh3d\":[{\"type\":\"mesh3d\",\"colorbar\":{\"outlinewidth\":0,\"ticks\":\"\"}}],\"scatter\":[{\"fillpattern\":{\"fillmode\":\"overlay\",\"size\":10,\"solidity\":0.2},\"type\":\"scatter\"}],\"parcoords\":[{\"type\":\"parcoords\",\"line\":{\"colorbar\":{\"outlinewidth\":0,\"ticks\":\"\"}}}],\"scatterpolargl\":[{\"type\":\"scatterpolargl\",\"marker\":{\"colorbar\":{\"outlinewidth\":0,\"ticks\":\"\"}}}],\"bar\":[{\"error_x\":{\"color\":\"#2a3f5f\"},\"error_y\":{\"color\":\"#2a3f5f\"},\"marker\":{\"line\":{\"color\":\"#E5ECF6\",\"width\":0.5},\"pattern\":{\"fillmode\":\"overlay\",\"size\":10,\"solidity\":0.2}},\"type\":\"bar\"}],\"scattergeo\":[{\"type\":\"scattergeo\",\"marker\":{\"colorbar\":{\"outlinewidth\":0,\"ticks\":\"\"}}}],\"scatterpolar\":[{\"type\":\"scatterpolar\",\"marker\":{\"colorbar\":{\"outlinewidth\":0,\"ticks\":\"\"}}}],\"histogram\":[{\"marker\":{\"pattern\":{\"fillmode\":\"overlay\",\"size\":10,\"solidity\":0.2}},\"type\":\"histogram\"}],\"scattergl\":[{\"type\":\"scattergl\",\"marker\":{\"colorbar\":{\"outlinewidth\":0,\"ticks\":\"\"}}}],\"scatter3d\":[{\"type\":\"scatter3d\",\"line\":{\"colorbar\":{\"outlinewidth\":0,\"ticks\":\"\"}},\"marker\":{\"colorbar\":{\"outlinewidth\":0,\"ticks\":\"\"}}}],\"scattermapbox\":[{\"type\":\"scattermapbox\",\"marker\":{\"colorbar\":{\"outlinewidth\":0,\"ticks\":\"\"}}}],\"scatterternary\":[{\"type\":\"scatterternary\",\"marker\":{\"colorbar\":{\"outlinewidth\":0,\"ticks\":\"\"}}}],\"scattercarpet\":[{\"type\":\"scattercarpet\",\"marker\":{\"colorbar\":{\"outlinewidth\":0,\"ticks\":\"\"}}}],\"carpet\":[{\"aaxis\":{\"endlinecolor\":\"#2a3f5f\",\"gridcolor\":\"white\",\"linecolor\":\"white\",\"minorgridcolor\":\"white\",\"startlinecolor\":\"#2a3f5f\"},\"baxis\":{\"endlinecolor\":\"#2a3f5f\",\"gridcolor\":\"white\",\"linecolor\":\"white\",\"minorgridcolor\":\"white\",\"startlinecolor\":\"#2a3f5f\"},\"type\":\"carpet\"}],\"table\":[{\"cells\":{\"fill\":{\"color\":\"#EBF0F8\"},\"line\":{\"color\":\"white\"}},\"header\":{\"fill\":{\"color\":\"#C8D4E3\"},\"line\":{\"color\":\"white\"}},\"type\":\"table\"}],\"barpolar\":[{\"marker\":{\"line\":{\"color\":\"#E5ECF6\",\"width\":0.5},\"pattern\":{\"fillmode\":\"overlay\",\"size\":10,\"solidity\":0.2}},\"type\":\"barpolar\"}],\"pie\":[{\"automargin\":true,\"type\":\"pie\"}]},\"layout\":{\"autotypenumbers\":\"strict\",\"colorway\":[\"#636efa\",\"#EF553B\",\"#00cc96\",\"#ab63fa\",\"#FFA15A\",\"#19d3f3\",\"#FF6692\",\"#B6E880\",\"#FF97FF\",\"#FECB52\"],\"font\":{\"color\":\"#2a3f5f\"},\"hovermode\":\"closest\",\"hoverlabel\":{\"align\":\"left\"},\"paper_bgcolor\":\"white\",\"plot_bgcolor\":\"#E5ECF6\",\"polar\":{\"bgcolor\":\"#E5ECF6\",\"angularaxis\":{\"gridcolor\":\"white\",\"linecolor\":\"white\",\"ticks\":\"\"},\"radialaxis\":{\"gridcolor\":\"white\",\"linecolor\":\"white\",\"ticks\":\"\"}},\"ternary\":{\"bgcolor\":\"#E5ECF6\",\"aaxis\":{\"gridcolor\":\"white\",\"linecolor\":\"white\",\"ticks\":\"\"},\"baxis\":{\"gridcolor\":\"white\",\"linecolor\":\"white\",\"ticks\":\"\"},\"caxis\":{\"gridcolor\":\"white\",\"linecolor\":\"white\",\"ticks\":\"\"}},\"coloraxis\":{\"colorbar\":{\"outlinewidth\":0,\"ticks\":\"\"}},\"colorscale\":{\"sequential\":[[0.0,\"#0d0887\"],[0.1111111111111111,\"#46039f\"],[0.2222222222222222,\"#7201a8\"],[0.3333333333333333,\"#9c179e\"],[0.4444444444444444,\"#bd3786\"],[0.5555555555555556,\"#d8576b\"],[0.6666666666666666,\"#ed7953\"],[0.7777777777777778,\"#fb9f3a\"],[0.8888888888888888,\"#fdca26\"],[1.0,\"#f0f921\"]],\"sequentialminus\":[[0.0,\"#0d0887\"],[0.1111111111111111,\"#46039f\"],[0.2222222222222222,\"#7201a8\"],[0.3333333333333333,\"#9c179e\"],[0.4444444444444444,\"#bd3786\"],[0.5555555555555556,\"#d8576b\"],[0.6666666666666666,\"#ed7953\"],[0.7777777777777778,\"#fb9f3a\"],[0.8888888888888888,\"#fdca26\"],[1.0,\"#f0f921\"]],\"diverging\":[[0,\"#8e0152\"],[0.1,\"#c51b7d\"],[0.2,\"#de77ae\"],[0.3,\"#f1b6da\"],[0.4,\"#fde0ef\"],[0.5,\"#f7f7f7\"],[0.6,\"#e6f5d0\"],[0.7,\"#b8e186\"],[0.8,\"#7fbc41\"],[0.9,\"#4d9221\"],[1,\"#276419\"]]},\"xaxis\":{\"gridcolor\":\"white\",\"linecolor\":\"white\",\"ticks\":\"\",\"title\":{\"standoff\":15},\"zerolinecolor\":\"white\",\"automargin\":true,\"zerolinewidth\":2},\"yaxis\":{\"gridcolor\":\"white\",\"linecolor\":\"white\",\"ticks\":\"\",\"title\":{\"standoff\":15},\"zerolinecolor\":\"white\",\"automargin\":true,\"zerolinewidth\":2},\"scene\":{\"xaxis\":{\"backgroundcolor\":\"#E5ECF6\",\"gridcolor\":\"white\",\"linecolor\":\"white\",\"showbackground\":true,\"ticks\":\"\",\"zerolinecolor\":\"white\",\"gridwidth\":2},\"yaxis\":{\"backgroundcolor\":\"#E5ECF6\",\"gridcolor\":\"white\",\"linecolor\":\"white\",\"showbackground\":true,\"ticks\":\"\",\"zerolinecolor\":\"white\",\"gridwidth\":2},\"zaxis\":{\"backgroundcolor\":\"#E5ECF6\",\"gridcolor\":\"white\",\"linecolor\":\"white\",\"showbackground\":true,\"ticks\":\"\",\"zerolinecolor\":\"white\",\"gridwidth\":2}},\"shapedefaults\":{\"line\":{\"color\":\"#2a3f5f\"}},\"annotationdefaults\":{\"arrowcolor\":\"#2a3f5f\",\"arrowhead\":0,\"arrowwidth\":1},\"geo\":{\"bgcolor\":\"white\",\"landcolor\":\"#E5ECF6\",\"subunitcolor\":\"white\",\"showland\":true,\"showlakes\":true,\"lakecolor\":\"white\"},\"title\":{\"x\":0.05},\"mapbox\":{\"style\":\"light\"}}},\"yaxis\":{\"type\":\"category\",\"categoryorder\":\"array\",\"categoryarray\":[\"Machine10\",\"Machine9\",\"Machine8\",\"Machine7\",\"Machine6\",\"Machine5\",\"Machine4\",\"Machine3\",\"Machine2\",\"Machine1\",\"Machine0\",\"Machine3\",\"Machine7\",\"Machine6\",\"Machine5\",\"Machine8\",\"Machine0\",\"Machine4\",\"Machine9\",\"Machine1\",\"Machine10\",\"Machine2\",\"Machine3\",\"Machine9\",\"Machine2\",\"Machine8\",\"Machine10\",\"Machine3\",\"Machine6\",\"Machine9\",\"Machine8\",\"Machine1\",\"Machine9\",\"Machine0\",\"Machine7\",\"Machine4\",\"Machine3\",\"Machine5\",\"Machine2\",\"Machine6\",\"Machine10\",\"Machine0\",\"Machine1\",\"Machine9\",\"Machine0\",\"Machine8\",\"Machine2\",\"Machine9\",\"Machine10\",\"Machine5\",\"Machine0\",\"Machine7\",\"Machine4\",\"Machine1\",\"Machine8\",\"Machine6\",\"Machine3\",\"Machine4\",\"Machine10\",\"Machine2\",\"Machine4\",\"Machine9\",\"Machine5\",\"Machine4\",\"Machine2\",\"Machine7\",\"Machine0\",\"Machine3\",\"Machine1\",\"Machine8\",\"Machine10\",\"Machine4\",\"Machine6\",\"Machine7\",\"Machine5\",\"Machine1\",\"Machine4\",\"Machine9\",\"Machine2\",\"Machine7\",\"Machine0\",\"Machine6\",\"Machine3\",\"Machine8\",\"Machine5\",\"Machine3\",\"Machine5\",\"Machine8\",\"Machine4\",\"Machine1\",\"Machine2\",\"Machine8\",\"Machine10\",\"Machine3\",\"Machine9\",\"Machine6\",\"Machine1\",\"Machine8\",\"Machine0\",\"Machine6\",\"Machine5\",\"Machine10\",\"Machine7\",\"Machine2\",\"Machine10\",\"Machine9\",\"Machine0\",\"Machine4\",\"Machine2\",\"Machine6\",\"Machine9\",\"Machine10\",\"Machine3\",\"Machine5\",\"Machine1\",\"Machine8\",\"Machine6\",\"Machine4\",\"Machine10\",\"Machine9\",\"Machine7\",\"Machine8\",\"Machine8\",\"Machine10\",\"Machine3\",\"Machine2\",\"Machine7\",\"Machine0\",\"Machine10\",\"Machine4\",\"Machine10\",\"Machine6\",\"Machine10\",\"Machine9\",\"Machine4\",\"Machine1\",\"Machine2\",\"Machine0\",\"Machine4\"]},\"title\":{\"text\":\"\\u6309Job\\u4e0a\\u8272\\u7684FJSP\\u8c03\\u5ea6\\u793a\\u610f\\u56fe - \\u591a\\u79cd\\u989c\\u8272\"},\"xaxis\":{\"title\":{\"text\":\"\\u65f6\\u95f4\"}},\"barmode\":\"stack\",\"legend\":{\"title\":{\"text\":\"Job\"}}},                        {\"responsive\": true}                    ).then(function(){\n",
       "                            \n",
       "var gd = document.getElementById('352e45da-c0ee-4130-99f8-05424e9238d1');\n",
       "var x = new MutationObserver(function (mutations, observer) {{\n",
       "        var display = window.getComputedStyle(gd).display;\n",
       "        if (!display || display === 'none') {{\n",
       "            console.log([gd, 'removed!']);\n",
       "            Plotly.purge(gd);\n",
       "            observer.disconnect();\n",
       "        }}\n",
       "}});\n",
       "\n",
       "// Listen for the removal of the full notebook cells\n",
       "var notebookContainer = gd.closest('#notebook-container');\n",
       "if (notebookContainer) {{\n",
       "    x.observe(notebookContainer, {childList: true});\n",
       "}}\n",
       "\n",
       "// Listen for the clearing of the current output cell\n",
       "var outputEl = gd.closest('.output');\n",
       "if (outputEl) {{\n",
       "    x.observe(outputEl, {childList: true});\n",
       "}}\n",
       "\n",
       "                        })                };                });            </script>        </div>"
      ]
     },
     "metadata": {},
     "output_type": "display_data"
    },
    {
     "data": {
      "application/vnd.plotly.v1+json": {
       "config": {
        "plotlyServerURL": "https://plot.ly"
       },
       "data": [
        {
         "base": [
          0
         ],
         "marker": {
          "color": "#EF553B"
         },
         "name": "Job",
         "orientation": "h",
         "type": "bar",
         "width": [
          0.4
         ],
         "x": [
          0
         ],
         "y": [
          "Machine10"
         ]
        },
        {
         "base": [
          0
         ],
         "marker": {
          "color": "#EF553B"
         },
         "name": "Job",
         "orientation": "h",
         "type": "bar",
         "width": [
          0.4
         ],
         "x": [
          0
         ],
         "y": [
          "Machine9"
         ]
        },
        {
         "base": [
          0
         ],
         "marker": {
          "color": "#EF553B"
         },
         "name": "Job",
         "orientation": "h",
         "type": "bar",
         "width": [
          0.4
         ],
         "x": [
          0
         ],
         "y": [
          "Machine8"
         ]
        },
        {
         "base": [
          0
         ],
         "marker": {
          "color": "#EF553B"
         },
         "name": "Job",
         "orientation": "h",
         "type": "bar",
         "width": [
          0.4
         ],
         "x": [
          0
         ],
         "y": [
          "Machine7"
         ]
        },
        {
         "base": [
          0
         ],
         "marker": {
          "color": "#EF553B"
         },
         "name": "Job",
         "orientation": "h",
         "type": "bar",
         "width": [
          0.4
         ],
         "x": [
          0
         ],
         "y": [
          "Machine6"
         ]
        },
        {
         "base": [
          0
         ],
         "marker": {
          "color": "#EF553B"
         },
         "name": "Job",
         "orientation": "h",
         "type": "bar",
         "width": [
          0.4
         ],
         "x": [
          0
         ],
         "y": [
          "Machine5"
         ]
        },
        {
         "base": [
          0
         ],
         "marker": {
          "color": "#EF553B"
         },
         "name": "Job",
         "orientation": "h",
         "type": "bar",
         "width": [
          0.4
         ],
         "x": [
          0
         ],
         "y": [
          "Machine4"
         ]
        },
        {
         "base": [
          0
         ],
         "marker": {
          "color": "#EF553B"
         },
         "name": "Job",
         "orientation": "h",
         "type": "bar",
         "width": [
          0.4
         ],
         "x": [
          0
         ],
         "y": [
          "Machine3"
         ]
        },
        {
         "base": [
          0
         ],
         "marker": {
          "color": "#EF553B"
         },
         "name": "Job",
         "orientation": "h",
         "type": "bar",
         "width": [
          0.4
         ],
         "x": [
          0
         ],
         "y": [
          "Machine2"
         ]
        },
        {
         "base": [
          0
         ],
         "marker": {
          "color": "#EF553B"
         },
         "name": "Job",
         "orientation": "h",
         "type": "bar",
         "width": [
          0.4
         ],
         "x": [
          0
         ],
         "y": [
          "Machine1"
         ]
        },
        {
         "base": [
          0
         ],
         "marker": {
          "color": "#EF553B"
         },
         "name": "Job",
         "orientation": "h",
         "type": "bar",
         "width": [
          0.4
         ],
         "x": [
          0
         ],
         "y": [
          "Machine0"
         ]
        },
        {
         "base": [
          0
         ],
         "marker": {
          "color": "#636EFA"
         },
         "name": "Job2",
         "orientation": "h",
         "type": "bar",
         "width": [
          0.4
         ],
         "x": [
          1
         ],
         "y": [
          "Machine3"
         ]
        },
        {
         "base": [
          0
         ],
         "marker": {
          "color": "#00CC96"
         },
         "name": "Job9",
         "orientation": "h",
         "type": "bar",
         "width": [
          0.4
         ],
         "x": [
          15
         ],
         "y": [
          "Machine7"
         ]
        },
        {
         "base": [
          0
         ],
         "marker": {
          "color": "rgb(190, 56, 143)"
         },
         "name": "Job1",
         "orientation": "h",
         "type": "bar",
         "width": [
          0.4
         ],
         "x": [
          4
         ],
         "y": [
          "Machine6"
         ]
        },
        {
         "base": [
          0
         ],
         "marker": {
          "color": "#AB63FA"
         },
         "name": "Job8",
         "orientation": "h",
         "type": "bar",
         "width": [
          0.4
         ],
         "x": [
          1
         ],
         "y": [
          "Machine5"
         ]
        },
        {
         "base": [
          0
         ],
         "marker": {
          "color": "rgb(56, 75, 175)"
         },
         "name": "Job4",
         "orientation": "h",
         "type": "bar",
         "width": [
          0.4
         ],
         "x": [
          4
         ],
         "y": [
          "Machine8"
         ]
        },
        {
         "base": [
          0
         ],
         "marker": {
          "color": "#FECB52"
         },
         "name": "Job10",
         "orientation": "h",
         "type": "bar",
         "width": [
          0.4
         ],
         "x": [
          14
         ],
         "y": [
          "Machine0"
         ]
        },
        {
         "base": [
          0
         ],
         "marker": {
          "color": "rgb(206, 86, 63)"
         },
         "name": "Job5",
         "orientation": "h",
         "type": "bar",
         "width": [
          0.4
         ],
         "x": [
          15
         ],
         "y": [
          "Machine4"
         ]
        },
        {
         "base": [
          0
         ],
         "marker": {
          "color": "#B6E880"
         },
         "name": "Job11",
         "orientation": "h",
         "type": "bar",
         "width": [
          0.4
         ],
         "x": [
          1
         ],
         "y": [
          "Machine9"
         ]
        },
        {
         "base": [
          0
         ],
         "marker": {
          "color": "#19D3F3"
         },
         "name": "Job3",
         "orientation": "h",
         "type": "bar",
         "width": [
          0.4
         ],
         "x": [
          10
         ],
         "y": [
          "Machine1"
         ]
        },
        {
         "base": [
          0
         ],
         "marker": {
          "color": "#FFA15A"
         },
         "name": "Job12",
         "orientation": "h",
         "type": "bar",
         "width": [
          0.4
         ],
         "x": [
          6
         ],
         "y": [
          "Machine10"
         ]
        },
        {
         "base": [
          1
         ],
         "marker": {
          "color": "#636EFA"
         },
         "name": "Job2",
         "orientation": "h",
         "type": "bar",
         "width": [
          0.4
         ],
         "x": [
          1
         ],
         "y": [
          "Machine2"
         ]
        },
        {
         "base": [
          1
         ],
         "marker": {
          "color": "#AB63FA"
         },
         "name": "Job8",
         "orientation": "h",
         "type": "bar",
         "width": [
          0.4
         ],
         "x": [
          5
         ],
         "y": [
          "Machine3"
         ]
        },
        {
         "base": [
          1
         ],
         "marker": {
          "color": "#FF97FF"
         },
         "name": "Job13",
         "orientation": "h",
         "type": "bar",
         "width": [
          0.4
         ],
         "x": [
          5
         ],
         "y": [
          "Machine9"
         ]
        },
        {
         "base": [
          2
         ],
         "marker": {
          "color": "#636EFA"
         },
         "name": "Job2",
         "orientation": "h",
         "type": "bar",
         "width": [
          0.4
         ],
         "x": [
          16
         ],
         "y": [
          "Machine2"
         ]
        },
        {
         "base": [
          4
         ],
         "marker": {
          "color": "rgb(56, 75, 175)"
         },
         "name": "Job4",
         "orientation": "h",
         "type": "bar",
         "width": [
          0.4
         ],
         "x": [
          3
         ],
         "y": [
          "Machine8"
         ]
        },
        {
         "base": [
          6
         ],
         "marker": {
          "color": "rgb(190, 56, 143)"
         },
         "name": "Job1",
         "orientation": "h",
         "type": "bar",
         "width": [
          0.4
         ],
         "x": [
          17
         ],
         "y": [
          "Machine10"
         ]
        },
        {
         "base": [
          6
         ],
         "marker": {
          "color": "#B6E880"
         },
         "name": "Job11",
         "orientation": "h",
         "type": "bar",
         "width": [
          0.4
         ],
         "x": [
          10
         ],
         "y": [
          "Machine3"
         ]
        },
        {
         "base": [
          6
         ],
         "marker": {
          "color": "#AB63FA"
         },
         "name": "Job8",
         "orientation": "h",
         "type": "bar",
         "width": [
          0.4
         ],
         "x": [
          14
         ],
         "y": [
          "Machine6"
         ]
        },
        {
         "base": [
          6
         ],
         "marker": {
          "color": "#FF97FF"
         },
         "name": "Job13",
         "orientation": "h",
         "type": "bar",
         "width": [
          0.4
         ],
         "x": [
          8
         ],
         "y": [
          "Machine9"
         ]
        },
        {
         "base": [
          7
         ],
         "marker": {
          "color": "rgb(56, 75, 175)"
         },
         "name": "Job4",
         "orientation": "h",
         "type": "bar",
         "width": [
          0.4
         ],
         "x": [
          19
         ],
         "y": [
          "Machine8"
         ]
        },
        {
         "base": [
          10
         ],
         "marker": {
          "color": "rgb(205, 77, 50)"
         },
         "name": "Job0",
         "orientation": "h",
         "type": "bar",
         "width": [
          0.4
         ],
         "x": [
          13
         ],
         "y": [
          "Machine1"
         ]
        },
        {
         "base": [
          14
         ],
         "marker": {
          "color": "#19D3F3"
         },
         "name": "Job3",
         "orientation": "h",
         "type": "bar",
         "width": [
          0.4
         ],
         "x": [
          10
         ],
         "y": [
          "Machine9"
         ]
        },
        {
         "base": [
          14
         ],
         "marker": {
          "color": "#FF97FF"
         },
         "name": "Job13",
         "orientation": "h",
         "type": "bar",
         "width": [
          0.4
         ],
         "x": [
          9
         ],
         "y": [
          "Machine0"
         ]
        },
        {
         "base": [
          15
         ],
         "marker": {
          "color": "rgb(169, 239, 33)"
         },
         "name": "Job7",
         "orientation": "h",
         "type": "bar",
         "width": [
          0.4
         ],
         "x": [
          14
         ],
         "y": [
          "Machine7"
         ]
        },
        {
         "base": [
          15
         ],
         "marker": {
          "color": "rgb(206, 86, 63)"
         },
         "name": "Job5",
         "orientation": "h",
         "type": "bar",
         "width": [
          0.4
         ],
         "x": [
          14
         ],
         "y": [
          "Machine4"
         ]
        },
        {
         "base": [
          16
         ],
         "marker": {
          "color": "#FF6692"
         },
         "name": "Job6",
         "orientation": "h",
         "type": "bar",
         "width": [
          0.4
         ],
         "x": [
          18
         ],
         "y": [
          "Machine3"
         ]
        },
        {
         "base": [
          16
         ],
         "marker": {
          "color": "#B6E880"
         },
         "name": "Job11",
         "orientation": "h",
         "type": "bar",
         "width": [
          0.4
         ],
         "x": [
          11
         ],
         "y": [
          "Machine5"
         ]
        },
        {
         "base": [
          18
         ],
         "marker": {
          "color": "#636EFA"
         },
         "name": "Job2",
         "orientation": "h",
         "type": "bar",
         "width": [
          0.4
         ],
         "x": [
          8
         ],
         "y": [
          "Machine2"
         ]
        },
        {
         "base": [
          20
         ],
         "marker": {
          "color": "#00CC96"
         },
         "name": "Job9",
         "orientation": "h",
         "type": "bar",
         "width": [
          0.4
         ],
         "x": [
          14
         ],
         "y": [
          "Machine6"
         ]
        },
        {
         "base": [
          23
         ],
         "marker": {
          "color": "#FECB52"
         },
         "name": "Job10",
         "orientation": "h",
         "type": "bar",
         "width": [
          0.4
         ],
         "x": [
          4
         ],
         "y": [
          "Machine10"
         ]
        },
        {
         "base": [
          23
         ],
         "marker": {
          "color": "rgb(190, 56, 143)"
         },
         "name": "Job1",
         "orientation": "h",
         "type": "bar",
         "width": [
          0.4
         ],
         "x": [
          2
         ],
         "y": [
          "Machine0"
         ]
        },
        {
         "base": [
          23
         ],
         "marker": {
          "color": "#FFA15A"
         },
         "name": "Job12",
         "orientation": "h",
         "type": "bar",
         "width": [
          0.4
         ],
         "x": [
          6
         ],
         "y": [
          "Machine1"
         ]
        },
        {
         "base": [
          24
         ],
         "marker": {
          "color": "#FF97FF"
         },
         "name": "Job13",
         "orientation": "h",
         "type": "bar",
         "width": [
          0.4
         ],
         "x": [
          2
         ],
         "y": [
          "Machine9"
         ]
        },
        {
         "base": [
          25
         ],
         "marker": {
          "color": "#19D3F3"
         },
         "name": "Job3",
         "orientation": "h",
         "type": "bar",
         "width": [
          0.4
         ],
         "x": [
          2
         ],
         "y": [
          "Machine0"
         ]
        },
        {
         "base": [
          26
         ],
         "marker": {
          "color": "rgb(190, 56, 143)"
         },
         "name": "Job1",
         "orientation": "h",
         "type": "bar",
         "width": [
          0.4
         ],
         "x": [
          6
         ],
         "y": [
          "Machine8"
         ]
        },
        {
         "base": [
          26
         ],
         "marker": {
          "color": "#AB63FA"
         },
         "name": "Job8",
         "orientation": "h",
         "type": "bar",
         "width": [
          0.4
         ],
         "x": [
          10
         ],
         "y": [
          "Machine2"
         ]
        },
        {
         "base": [
          26
         ],
         "marker": {
          "color": "#636EFA"
         },
         "name": "Job2",
         "orientation": "h",
         "type": "bar",
         "width": [
          0.4
         ],
         "x": [
          12
         ],
         "y": [
          "Machine9"
         ]
        },
        {
         "base": [
          27
         ],
         "marker": {
          "color": "#FECB52"
         },
         "name": "Job10",
         "orientation": "h",
         "type": "bar",
         "width": [
          0.4
         ],
         "x": [
          8
         ],
         "y": [
          "Machine10"
         ]
        },
        {
         "base": [
          27
         ],
         "marker": {
          "color": "rgb(205, 77, 50)"
         },
         "name": "Job0",
         "orientation": "h",
         "type": "bar",
         "width": [
          0.4
         ],
         "x": [
          11
         ],
         "y": [
          "Machine5"
         ]
        },
        {
         "base": [
          27
         ],
         "marker": {
          "color": "rgb(56, 75, 175)"
         },
         "name": "Job4",
         "orientation": "h",
         "type": "bar",
         "width": [
          0.4
         ],
         "x": [
          16
         ],
         "y": [
          "Machine0"
         ]
        },
        {
         "base": [
          29
         ],
         "marker": {
          "color": "rgb(206, 86, 63)"
         },
         "name": "Job5",
         "orientation": "h",
         "type": "bar",
         "width": [
          0.4
         ],
         "x": [
          14
         ],
         "y": [
          "Machine7"
         ]
        },
        {
         "base": [
          29
         ],
         "marker": {
          "color": "#19D3F3"
         },
         "name": "Job3",
         "orientation": "h",
         "type": "bar",
         "width": [
          0.4
         ],
         "x": [
          6
         ],
         "y": [
          "Machine4"
         ]
        },
        {
         "base": [
          29
         ],
         "marker": {
          "color": "#FF97FF"
         },
         "name": "Job13",
         "orientation": "h",
         "type": "bar",
         "width": [
          0.4
         ],
         "x": [
          16
         ],
         "y": [
          "Machine1"
         ]
        },
        {
         "base": [
          32
         ],
         "marker": {
          "color": "#B6E880"
         },
         "name": "Job11",
         "orientation": "h",
         "type": "bar",
         "width": [
          0.4
         ],
         "x": [
          13
         ],
         "y": [
          "Machine8"
         ]
        },
        {
         "base": [
          34
         ],
         "marker": {
          "color": "#00CC96"
         },
         "name": "Job9",
         "orientation": "h",
         "type": "bar",
         "width": [
          0.4
         ],
         "x": [
          13
         ],
         "y": [
          "Machine6"
         ]
        },
        {
         "base": [
          34
         ],
         "marker": {
          "color": "rgb(169, 239, 33)"
         },
         "name": "Job7",
         "orientation": "h",
         "type": "bar",
         "width": [
          0.4
         ],
         "x": [
          9
         ],
         "y": [
          "Machine3"
         ]
        },
        {
         "base": [
          35
         ],
         "marker": {
          "color": "rgb(190, 56, 143)"
         },
         "name": "Job1",
         "orientation": "h",
         "type": "bar",
         "width": [
          0.4
         ],
         "x": [
          2
         ],
         "y": [
          "Machine4"
         ]
        },
        {
         "base": [
          35
         ],
         "marker": {
          "color": "#FECB52"
         },
         "name": "Job10",
         "orientation": "h",
         "type": "bar",
         "width": [
          0.4
         ],
         "x": [
          11
         ],
         "y": [
          "Machine10"
         ]
        },
        {
         "base": [
          36
         ],
         "marker": {
          "color": "#FF6692"
         },
         "name": "Job6",
         "orientation": "h",
         "type": "bar",
         "width": [
          0.4
         ],
         "x": [
          5
         ],
         "y": [
          "Machine2"
         ]
        },
        {
         "base": [
          37
         ],
         "marker": {
          "color": "#AB63FA"
         },
         "name": "Job8",
         "orientation": "h",
         "type": "bar",
         "width": [
          0.4
         ],
         "x": [
          2
         ],
         "y": [
          "Machine4"
         ]
        },
        {
         "base": [
          38
         ],
         "marker": {
          "color": "#636EFA"
         },
         "name": "Job2",
         "orientation": "h",
         "type": "bar",
         "width": [
          0.4
         ],
         "x": [
          13
         ],
         "y": [
          "Machine9"
         ]
        },
        {
         "base": [
          38
         ],
         "marker": {
          "color": "rgb(190, 56, 143)"
         },
         "name": "Job1",
         "orientation": "h",
         "type": "bar",
         "width": [
          0.4
         ],
         "x": [
          11
         ],
         "y": [
          "Machine5"
         ]
        },
        {
         "base": [
          39
         ],
         "marker": {
          "color": "#FFA15A"
         },
         "name": "Job12",
         "orientation": "h",
         "type": "bar",
         "width": [
          0.4
         ],
         "x": [
          8
         ],
         "y": [
          "Machine4"
         ]
        },
        {
         "base": [
          41
         ],
         "marker": {
          "color": "#FF6692"
         },
         "name": "Job6",
         "orientation": "h",
         "type": "bar",
         "width": [
          0.4
         ],
         "x": [
          10
         ],
         "y": [
          "Machine2"
         ]
        },
        {
         "base": [
          43
         ],
         "marker": {
          "color": "#AB63FA"
         },
         "name": "Job8",
         "orientation": "h",
         "type": "bar",
         "width": [
          0.4
         ],
         "x": [
          6
         ],
         "y": [
          "Machine7"
         ]
        },
        {
         "base": [
          43
         ],
         "marker": {
          "color": "#19D3F3"
         },
         "name": "Job3",
         "orientation": "h",
         "type": "bar",
         "width": [
          0.4
         ],
         "x": [
          10
         ],
         "y": [
          "Machine0"
         ]
        },
        {
         "base": [
          43
         ],
         "marker": {
          "color": "rgb(206, 86, 63)"
         },
         "name": "Job5",
         "orientation": "h",
         "type": "bar",
         "width": [
          0.4
         ],
         "x": [
          11
         ],
         "y": [
          "Machine3"
         ]
        },
        {
         "base": [
          45
         ],
         "marker": {
          "color": "rgb(56, 75, 175)"
         },
         "name": "Job4",
         "orientation": "h",
         "type": "bar",
         "width": [
          0.4
         ],
         "x": [
          4
         ],
         "y": [
          "Machine1"
         ]
        },
        {
         "base": [
          45
         ],
         "marker": {
          "color": "rgb(169, 239, 33)"
         },
         "name": "Job7",
         "orientation": "h",
         "type": "bar",
         "width": [
          0.4
         ],
         "x": [
          11
         ],
         "y": [
          "Machine8"
         ]
        },
        {
         "base": [
          46
         ],
         "marker": {
          "color": "#FECB52"
         },
         "name": "Job10",
         "orientation": "h",
         "type": "bar",
         "width": [
          0.4
         ],
         "x": [
          17
         ],
         "y": [
          "Machine10"
         ]
        },
        {
         "base": [
          47
         ],
         "marker": {
          "color": "#B6E880"
         },
         "name": "Job11",
         "orientation": "h",
         "type": "bar",
         "width": [
          0.4
         ],
         "x": [
          3
         ],
         "y": [
          "Machine4"
         ]
        },
        {
         "base": [
          47
         ],
         "marker": {
          "color": "#FF97FF"
         },
         "name": "Job13",
         "orientation": "h",
         "type": "bar",
         "width": [
          0.4
         ],
         "x": [
          6
         ],
         "y": [
          "Machine6"
         ]
        },
        {
         "base": [
          49
         ],
         "marker": {
          "color": "#00CC96"
         },
         "name": "Job9",
         "orientation": "h",
         "type": "bar",
         "width": [
          0.4
         ],
         "x": [
          3
         ],
         "y": [
          "Machine7"
         ]
        },
        {
         "base": [
          49
         ],
         "marker": {
          "color": "rgb(190, 56, 143)"
         },
         "name": "Job1",
         "orientation": "h",
         "type": "bar",
         "width": [
          0.4
         ],
         "x": [
          9
         ],
         "y": [
          "Machine5"
         ]
        },
        {
         "base": [
          49
         ],
         "marker": {
          "color": "rgb(205, 77, 50)"
         },
         "name": "Job0",
         "orientation": "h",
         "type": "bar",
         "width": [
          0.4
         ],
         "x": [
          13
         ],
         "y": [
          "Machine1"
         ]
        },
        {
         "base": [
          50
         ],
         "marker": {
          "color": "#FFA15A"
         },
         "name": "Job12",
         "orientation": "h",
         "type": "bar",
         "width": [
          0.4
         ],
         "x": [
          12
         ],
         "y": [
          "Machine4"
         ]
        },
        {
         "base": [
          51
         ],
         "marker": {
          "color": "#AB63FA"
         },
         "name": "Job8",
         "orientation": "h",
         "type": "bar",
         "width": [
          0.4
         ],
         "x": [
          15
         ],
         "y": [
          "Machine9"
         ]
        },
        {
         "base": [
          51
         ],
         "marker": {
          "color": "#636EFA"
         },
         "name": "Job2",
         "orientation": "h",
         "type": "bar",
         "width": [
          0.4
         ],
         "x": [
          11
         ],
         "y": [
          "Machine2"
         ]
        },
        {
         "base": [
          52
         ],
         "marker": {
          "color": "rgb(56, 75, 175)"
         },
         "name": "Job4",
         "orientation": "h",
         "type": "bar",
         "width": [
          0.4
         ],
         "x": [
          20
         ],
         "y": [
          "Machine7"
         ]
        },
        {
         "base": [
          53
         ],
         "marker": {
          "color": "#B6E880"
         },
         "name": "Job11",
         "orientation": "h",
         "type": "bar",
         "width": [
          0.4
         ],
         "x": [
          17
         ],
         "y": [
          "Machine0"
         ]
        },
        {
         "base": [
          53
         ],
         "marker": {
          "color": "#19D3F3"
         },
         "name": "Job3",
         "orientation": "h",
         "type": "bar",
         "width": [
          0.4
         ],
         "x": [
          14
         ],
         "y": [
          "Machine6"
         ]
        },
        {
         "base": [
          54
         ],
         "marker": {
          "color": "rgb(206, 86, 63)"
         },
         "name": "Job5",
         "orientation": "h",
         "type": "bar",
         "width": [
          0.4
         ],
         "x": [
          6
         ],
         "y": [
          "Machine3"
         ]
        },
        {
         "base": [
          56
         ],
         "marker": {
          "color": "rgb(169, 239, 33)"
         },
         "name": "Job7",
         "orientation": "h",
         "type": "bar",
         "width": [
          0.4
         ],
         "x": [
          5
         ],
         "y": [
          "Machine8"
         ]
        },
        {
         "base": [
          58
         ],
         "marker": {
          "color": "#00CC96"
         },
         "name": "Job9",
         "orientation": "h",
         "type": "bar",
         "width": [
          0.4
         ],
         "x": [
          2
         ],
         "y": [
          "Machine5"
         ]
        },
        {
         "base": [
          60
         ],
         "marker": {
          "color": "rgb(206, 86, 63)"
         },
         "name": "Job5",
         "orientation": "h",
         "type": "bar",
         "width": [
          0.4
         ],
         "x": [
          5
         ],
         "y": [
          "Machine3"
         ]
        },
        {
         "base": [
          60
         ],
         "marker": {
          "color": "#00CC96"
         },
         "name": "Job9",
         "orientation": "h",
         "type": "bar",
         "width": [
          0.4
         ],
         "x": [
          12
         ],
         "y": [
          "Machine5"
         ]
        },
        {
         "base": [
          61
         ],
         "marker": {
          "color": "rgb(190, 56, 143)"
         },
         "name": "Job1",
         "orientation": "h",
         "type": "bar",
         "width": [
          0.4
         ],
         "x": [
          2
         ],
         "y": [
          "Machine8"
         ]
        },
        {
         "base": [
          62
         ],
         "marker": {
          "color": "#FF6692"
         },
         "name": "Job6",
         "orientation": "h",
         "type": "bar",
         "width": [
          0.4
         ],
         "x": [
          17
         ],
         "y": [
          "Machine4"
         ]
        },
        {
         "base": [
          62
         ],
         "marker": {
          "color": "#FFA15A"
         },
         "name": "Job12",
         "orientation": "h",
         "type": "bar",
         "width": [
          0.4
         ],
         "x": [
          6
         ],
         "y": [
          "Machine1"
         ]
        },
        {
         "base": [
          62
         ],
         "marker": {
          "color": "#636EFA"
         },
         "name": "Job2",
         "orientation": "h",
         "type": "bar",
         "width": [
          0.4
         ],
         "x": [
          12
         ],
         "y": [
          "Machine2"
         ]
        },
        {
         "base": [
          63
         ],
         "marker": {
          "color": "#FECB52"
         },
         "name": "Job10",
         "orientation": "h",
         "type": "bar",
         "width": [
          0.4
         ],
         "x": [
          6
         ],
         "y": [
          "Machine8"
         ]
        },
        {
         "base": [
          63
         ],
         "marker": {
          "color": "rgb(190, 56, 143)"
         },
         "name": "Job1",
         "orientation": "h",
         "type": "bar",
         "width": [
          0.4
         ],
         "x": [
          10
         ],
         "y": [
          "Machine10"
         ]
        },
        {
         "base": [
          65
         ],
         "marker": {
          "color": "rgb(206, 86, 63)"
         },
         "name": "Job5",
         "orientation": "h",
         "type": "bar",
         "width": [
          0.4
         ],
         "x": [
          13
         ],
         "y": [
          "Machine3"
         ]
        },
        {
         "base": [
          66
         ],
         "marker": {
          "color": "rgb(169, 239, 33)"
         },
         "name": "Job7",
         "orientation": "h",
         "type": "bar",
         "width": [
          0.4
         ],
         "x": [
          12
         ],
         "y": [
          "Machine9"
         ]
        },
        {
         "base": [
          67
         ],
         "marker": {
          "color": "rgb(205, 77, 50)"
         },
         "name": "Job0",
         "orientation": "h",
         "type": "bar",
         "width": [
          0.4
         ],
         "x": [
          4
         ],
         "y": [
          "Machine6"
         ]
        },
        {
         "base": [
          68
         ],
         "marker": {
          "color": "#19D3F3"
         },
         "name": "Job3",
         "orientation": "h",
         "type": "bar",
         "width": [
          0.4
         ],
         "x": [
          18
         ],
         "y": [
          "Machine1"
         ]
        },
        {
         "base": [
          69
         ],
         "marker": {
          "color": "#AB63FA"
         },
         "name": "Job8",
         "orientation": "h",
         "type": "bar",
         "width": [
          0.4
         ],
         "x": [
          16
         ],
         "y": [
          "Machine8"
         ]
        },
        {
         "base": [
          70
         ],
         "marker": {
          "color": "#FECB52"
         },
         "name": "Job10",
         "orientation": "h",
         "type": "bar",
         "width": [
          0.4
         ],
         "x": [
          10
         ],
         "y": [
          "Machine0"
         ]
        },
        {
         "base": [
          71
         ],
         "marker": {
          "color": "rgb(205, 77, 50)"
         },
         "name": "Job0",
         "orientation": "h",
         "type": "bar",
         "width": [
          0.4
         ],
         "x": [
          10
         ],
         "y": [
          "Machine6"
         ]
        },
        {
         "base": [
          72
         ],
         "marker": {
          "color": "#00CC96"
         },
         "name": "Job9",
         "orientation": "h",
         "type": "bar",
         "width": [
          0.4
         ],
         "x": [
          13
         ],
         "y": [
          "Machine5"
         ]
        },
        {
         "base": [
          73
         ],
         "marker": {
          "color": "#B6E880"
         },
         "name": "Job11",
         "orientation": "h",
         "type": "bar",
         "width": [
          0.4
         ],
         "x": [
          2
         ],
         "y": [
          "Machine10"
         ]
        },
        {
         "base": [
          73
         ],
         "marker": {
          "color": "rgb(190, 56, 143)"
         },
         "name": "Job1",
         "orientation": "h",
         "type": "bar",
         "width": [
          0.4
         ],
         "x": [
          14
         ],
         "y": [
          "Machine7"
         ]
        },
        {
         "base": [
          74
         ],
         "marker": {
          "color": "#636EFA"
         },
         "name": "Job2",
         "orientation": "h",
         "type": "bar",
         "width": [
          0.4
         ],
         "x": [
          6
         ],
         "y": [
          "Machine2"
         ]
        },
        {
         "base": [
          75
         ],
         "marker": {
          "color": "rgb(56, 75, 175)"
         },
         "name": "Job4",
         "orientation": "h",
         "type": "bar",
         "width": [
          0.4
         ],
         "x": [
          10
         ],
         "y": [
          "Machine10"
         ]
        },
        {
         "base": [
          78
         ],
         "marker": {
          "color": "rgb(169, 239, 33)"
         },
         "name": "Job7",
         "orientation": "h",
         "type": "bar",
         "width": [
          0.4
         ],
         "x": [
          3
         ],
         "y": [
          "Machine9"
         ]
        },
        {
         "base": [
          80
         ],
         "marker": {
          "color": "#FECB52"
         },
         "name": "Job10",
         "orientation": "h",
         "type": "bar",
         "width": [
          0.4
         ],
         "x": [
          17
         ],
         "y": [
          "Machine0"
         ]
        },
        {
         "base": [
          80
         ],
         "marker": {
          "color": "#636EFA"
         },
         "name": "Job2",
         "orientation": "h",
         "type": "bar",
         "width": [
          0.4
         ],
         "x": [
          9
         ],
         "y": [
          "Machine4"
         ]
        },
        {
         "base": [
          80
         ],
         "marker": {
          "color": "#FF6692"
         },
         "name": "Job6",
         "orientation": "h",
         "type": "bar",
         "width": [
          0.4
         ],
         "x": [
          17
         ],
         "y": [
          "Machine2"
         ]
        },
        {
         "base": [
          81
         ],
         "marker": {
          "color": "rgb(206, 86, 63)"
         },
         "name": "Job5",
         "orientation": "h",
         "type": "bar",
         "width": [
          0.4
         ],
         "x": [
          5
         ],
         "y": [
          "Machine6"
         ]
        },
        {
         "base": [
          81
         ],
         "marker": {
          "color": "rgb(169, 239, 33)"
         },
         "name": "Job7",
         "orientation": "h",
         "type": "bar",
         "width": [
          0.4
         ],
         "x": [
          11
         ],
         "y": [
          "Machine9"
         ]
        },
        {
         "base": [
          85
         ],
         "marker": {
          "color": "rgb(56, 75, 175)"
         },
         "name": "Job4",
         "orientation": "h",
         "type": "bar",
         "width": [
          0.4
         ],
         "x": [
          7
         ],
         "y": [
          "Machine10"
         ]
        },
        {
         "base": [
          85
         ],
         "marker": {
          "color": "#AB63FA"
         },
         "name": "Job8",
         "orientation": "h",
         "type": "bar",
         "width": [
          0.4
         ],
         "x": [
          12
         ],
         "y": [
          "Machine3"
         ]
        },
        {
         "base": [
          85
         ],
         "marker": {
          "color": "#B6E880"
         },
         "name": "Job11",
         "orientation": "h",
         "type": "bar",
         "width": [
          0.4
         ],
         "x": [
          19
         ],
         "y": [
          "Machine5"
         ]
        },
        {
         "base": [
          86
         ],
         "marker": {
          "color": "#00CC96"
         },
         "name": "Job9",
         "orientation": "h",
         "type": "bar",
         "width": [
          0.4
         ],
         "x": [
          17
         ],
         "y": [
          "Machine1"
         ]
        },
        {
         "base": [
          86
         ],
         "marker": {
          "color": "rgb(206, 86, 63)"
         },
         "name": "Job5",
         "orientation": "h",
         "type": "bar",
         "width": [
          0.4
         ],
         "x": [
          9
         ],
         "y": [
          "Machine8"
         ]
        },
        {
         "base": [
          86
         ],
         "marker": {
          "color": "#19D3F3"
         },
         "name": "Job3",
         "orientation": "h",
         "type": "bar",
         "width": [
          0.4
         ],
         "x": [
          8
         ],
         "y": [
          "Machine6"
         ]
        },
        {
         "base": [
          89
         ],
         "marker": {
          "color": "rgb(190, 56, 143)"
         },
         "name": "Job1",
         "orientation": "h",
         "type": "bar",
         "width": [
          0.4
         ],
         "x": [
          10
         ],
         "y": [
          "Machine4"
         ]
        },
        {
         "base": [
          92
         ],
         "marker": {
          "color": "rgb(56, 75, 175)"
         },
         "name": "Job4",
         "orientation": "h",
         "type": "bar",
         "width": [
          0.4
         ],
         "x": [
          5
         ],
         "y": [
          "Machine10"
         ]
        },
        {
         "base": [
          92
         ],
         "marker": {
          "color": "rgb(169, 239, 33)"
         },
         "name": "Job7",
         "orientation": "h",
         "type": "bar",
         "width": [
          0.4
         ],
         "x": [
          16
         ],
         "y": [
          "Machine9"
         ]
        },
        {
         "base": [
          94
         ],
         "marker": {
          "color": "#19D3F3"
         },
         "name": "Job3",
         "orientation": "h",
         "type": "bar",
         "width": [
          0.4
         ],
         "x": [
          3
         ],
         "y": [
          "Machine7"
         ]
        },
        {
         "base": [
          95
         ],
         "marker": {
          "color": "rgb(206, 86, 63)"
         },
         "name": "Job5",
         "orientation": "h",
         "type": "bar",
         "width": [
          0.4
         ],
         "x": [
          2
         ],
         "y": [
          "Machine8"
         ]
        },
        {
         "base": [
          97
         ],
         "marker": {
          "color": "rgb(206, 86, 63)"
         },
         "name": "Job5",
         "orientation": "h",
         "type": "bar",
         "width": [
          0.4
         ],
         "x": [
          11
         ],
         "y": [
          "Machine8"
         ]
        },
        {
         "base": [
          97
         ],
         "marker": {
          "color": "#AB63FA"
         },
         "name": "Job8",
         "orientation": "h",
         "type": "bar",
         "width": [
          0.4
         ],
         "x": [
          6
         ],
         "y": [
          "Machine10"
         ]
        },
        {
         "base": [
          97
         ],
         "marker": {
          "color": "rgb(56, 75, 175)"
         },
         "name": "Job4",
         "orientation": "h",
         "type": "bar",
         "width": [
          0.4
         ],
         "x": [
          12
         ],
         "y": [
          "Machine3"
         ]
        },
        {
         "base": [
          97
         ],
         "marker": {
          "color": "#636EFA"
         },
         "name": "Job2",
         "orientation": "h",
         "type": "bar",
         "width": [
          0.4
         ],
         "x": [
          11
         ],
         "y": [
          "Machine2"
         ]
        },
        {
         "base": [
          97
         ],
         "marker": {
          "color": "#FECB52"
         },
         "name": "Job10",
         "orientation": "h",
         "type": "bar",
         "width": [
          0.4
         ],
         "x": [
          8
         ],
         "y": [
          "Machine7"
         ]
        },
        {
         "base": [
          97
         ],
         "marker": {
          "color": "#FF6692"
         },
         "name": "Job6",
         "orientation": "h",
         "type": "bar",
         "width": [
          0.4
         ],
         "x": [
          4
         ],
         "y": [
          "Machine0"
         ]
        },
        {
         "base": [
          103
         ],
         "marker": {
          "color": "#AB63FA"
         },
         "name": "Job8",
         "orientation": "h",
         "type": "bar",
         "width": [
          0.4
         ],
         "x": [
          2
         ],
         "y": [
          "Machine10"
         ]
        },
        {
         "base": [
          103
         ],
         "marker": {
          "color": "#00CC96"
         },
         "name": "Job9",
         "orientation": "h",
         "type": "bar",
         "width": [
          0.4
         ],
         "x": [
          10
         ],
         "y": [
          "Machine4"
         ]
        },
        {
         "base": [
          105
         ],
         "marker": {
          "color": "#B6E880"
         },
         "name": "Job11",
         "orientation": "h",
         "type": "bar",
         "width": [
          0.4
         ],
         "x": [
          3
         ],
         "y": [
          "Machine10"
         ]
        },
        {
         "base": [
          105
         ],
         "marker": {
          "color": "#FECB52"
         },
         "name": "Job10",
         "orientation": "h",
         "type": "bar",
         "width": [
          0.4
         ],
         "x": [
          13
         ],
         "y": [
          "Machine6"
         ]
        },
        {
         "base": [
          108
         ],
         "marker": {
          "color": "rgb(206, 86, 63)"
         },
         "name": "Job5",
         "orientation": "h",
         "type": "bar",
         "width": [
          0.4
         ],
         "x": [
          5
         ],
         "y": [
          "Machine10"
         ]
        },
        {
         "base": [
          108
         ],
         "marker": {
          "color": "#636EFA"
         },
         "name": "Job2",
         "orientation": "h",
         "type": "bar",
         "width": [
          0.4
         ],
         "x": [
          6
         ],
         "y": [
          "Machine9"
         ]
        },
        {
         "base": [
          113
         ],
         "marker": {
          "color": "#00CC96"
         },
         "name": "Job9",
         "orientation": "h",
         "type": "bar",
         "width": [
          0.4
         ],
         "x": [
          16
         ],
         "y": [
          "Machine4"
         ]
        },
        {
         "base": [
          113
         ],
         "marker": {
          "color": "rgb(206, 86, 63)"
         },
         "name": "Job5",
         "orientation": "h",
         "type": "bar",
         "width": [
          0.4
         ],
         "x": [
          7
         ],
         "y": [
          "Machine1"
         ]
        },
        {
         "base": [
          114
         ],
         "marker": {
          "color": "#636EFA"
         },
         "name": "Job2",
         "orientation": "h",
         "type": "bar",
         "width": [
          0.4
         ],
         "x": [
          6
         ],
         "y": [
          "Machine2"
         ]
        },
        {
         "base": [
          120
         ],
         "marker": {
          "color": "#636EFA"
         },
         "name": "Job2",
         "orientation": "h",
         "type": "bar",
         "width": [
          0.4
         ],
         "x": [
          15
         ],
         "y": [
          "Machine0"
         ]
        },
        {
         "base": [
          129
         ],
         "marker": {
          "color": "#00CC96"
         },
         "name": "Job9",
         "orientation": "h",
         "type": "bar",
         "width": [
          0.4
         ],
         "x": [
          17
         ],
         "y": [
          "Machine4"
         ]
        }
       ],
       "layout": {
        "barmode": "stack",
        "legend": {
         "title": {
          "text": "Job"
         }
        },
        "template": {
         "data": {
          "bar": [
           {
            "error_x": {
             "color": "#2a3f5f"
            },
            "error_y": {
             "color": "#2a3f5f"
            },
            "marker": {
             "line": {
              "color": "#E5ECF6",
              "width": 0.5
             },
             "pattern": {
              "fillmode": "overlay",
              "size": 10,
              "solidity": 0.2
             }
            },
            "type": "bar"
           }
          ],
          "barpolar": [
           {
            "marker": {
             "line": {
              "color": "#E5ECF6",
              "width": 0.5
             },
             "pattern": {
              "fillmode": "overlay",
              "size": 10,
              "solidity": 0.2
             }
            },
            "type": "barpolar"
           }
          ],
          "carpet": [
           {
            "aaxis": {
             "endlinecolor": "#2a3f5f",
             "gridcolor": "white",
             "linecolor": "white",
             "minorgridcolor": "white",
             "startlinecolor": "#2a3f5f"
            },
            "baxis": {
             "endlinecolor": "#2a3f5f",
             "gridcolor": "white",
             "linecolor": "white",
             "minorgridcolor": "white",
             "startlinecolor": "#2a3f5f"
            },
            "type": "carpet"
           }
          ],
          "choropleth": [
           {
            "colorbar": {
             "outlinewidth": 0,
             "ticks": ""
            },
            "type": "choropleth"
           }
          ],
          "contour": [
           {
            "colorbar": {
             "outlinewidth": 0,
             "ticks": ""
            },
            "colorscale": [
             [
              0,
              "#0d0887"
             ],
             [
              0.1111111111111111,
              "#46039f"
             ],
             [
              0.2222222222222222,
              "#7201a8"
             ],
             [
              0.3333333333333333,
              "#9c179e"
             ],
             [
              0.4444444444444444,
              "#bd3786"
             ],
             [
              0.5555555555555556,
              "#d8576b"
             ],
             [
              0.6666666666666666,
              "#ed7953"
             ],
             [
              0.7777777777777778,
              "#fb9f3a"
             ],
             [
              0.8888888888888888,
              "#fdca26"
             ],
             [
              1,
              "#f0f921"
             ]
            ],
            "type": "contour"
           }
          ],
          "contourcarpet": [
           {
            "colorbar": {
             "outlinewidth": 0,
             "ticks": ""
            },
            "type": "contourcarpet"
           }
          ],
          "heatmap": [
           {
            "colorbar": {
             "outlinewidth": 0,
             "ticks": ""
            },
            "colorscale": [
             [
              0,
              "#0d0887"
             ],
             [
              0.1111111111111111,
              "#46039f"
             ],
             [
              0.2222222222222222,
              "#7201a8"
             ],
             [
              0.3333333333333333,
              "#9c179e"
             ],
             [
              0.4444444444444444,
              "#bd3786"
             ],
             [
              0.5555555555555556,
              "#d8576b"
             ],
             [
              0.6666666666666666,
              "#ed7953"
             ],
             [
              0.7777777777777778,
              "#fb9f3a"
             ],
             [
              0.8888888888888888,
              "#fdca26"
             ],
             [
              1,
              "#f0f921"
             ]
            ],
            "type": "heatmap"
           }
          ],
          "heatmapgl": [
           {
            "colorbar": {
             "outlinewidth": 0,
             "ticks": ""
            },
            "colorscale": [
             [
              0,
              "#0d0887"
             ],
             [
              0.1111111111111111,
              "#46039f"
             ],
             [
              0.2222222222222222,
              "#7201a8"
             ],
             [
              0.3333333333333333,
              "#9c179e"
             ],
             [
              0.4444444444444444,
              "#bd3786"
             ],
             [
              0.5555555555555556,
              "#d8576b"
             ],
             [
              0.6666666666666666,
              "#ed7953"
             ],
             [
              0.7777777777777778,
              "#fb9f3a"
             ],
             [
              0.8888888888888888,
              "#fdca26"
             ],
             [
              1,
              "#f0f921"
             ]
            ],
            "type": "heatmapgl"
           }
          ],
          "histogram": [
           {
            "marker": {
             "pattern": {
              "fillmode": "overlay",
              "size": 10,
              "solidity": 0.2
             }
            },
            "type": "histogram"
           }
          ],
          "histogram2d": [
           {
            "colorbar": {
             "outlinewidth": 0,
             "ticks": ""
            },
            "colorscale": [
             [
              0,
              "#0d0887"
             ],
             [
              0.1111111111111111,
              "#46039f"
             ],
             [
              0.2222222222222222,
              "#7201a8"
             ],
             [
              0.3333333333333333,
              "#9c179e"
             ],
             [
              0.4444444444444444,
              "#bd3786"
             ],
             [
              0.5555555555555556,
              "#d8576b"
             ],
             [
              0.6666666666666666,
              "#ed7953"
             ],
             [
              0.7777777777777778,
              "#fb9f3a"
             ],
             [
              0.8888888888888888,
              "#fdca26"
             ],
             [
              1,
              "#f0f921"
             ]
            ],
            "type": "histogram2d"
           }
          ],
          "histogram2dcontour": [
           {
            "colorbar": {
             "outlinewidth": 0,
             "ticks": ""
            },
            "colorscale": [
             [
              0,
              "#0d0887"
             ],
             [
              0.1111111111111111,
              "#46039f"
             ],
             [
              0.2222222222222222,
              "#7201a8"
             ],
             [
              0.3333333333333333,
              "#9c179e"
             ],
             [
              0.4444444444444444,
              "#bd3786"
             ],
             [
              0.5555555555555556,
              "#d8576b"
             ],
             [
              0.6666666666666666,
              "#ed7953"
             ],
             [
              0.7777777777777778,
              "#fb9f3a"
             ],
             [
              0.8888888888888888,
              "#fdca26"
             ],
             [
              1,
              "#f0f921"
             ]
            ],
            "type": "histogram2dcontour"
           }
          ],
          "mesh3d": [
           {
            "colorbar": {
             "outlinewidth": 0,
             "ticks": ""
            },
            "type": "mesh3d"
           }
          ],
          "parcoords": [
           {
            "line": {
             "colorbar": {
              "outlinewidth": 0,
              "ticks": ""
             }
            },
            "type": "parcoords"
           }
          ],
          "pie": [
           {
            "automargin": true,
            "type": "pie"
           }
          ],
          "scatter": [
           {
            "fillpattern": {
             "fillmode": "overlay",
             "size": 10,
             "solidity": 0.2
            },
            "type": "scatter"
           }
          ],
          "scatter3d": [
           {
            "line": {
             "colorbar": {
              "outlinewidth": 0,
              "ticks": ""
             }
            },
            "marker": {
             "colorbar": {
              "outlinewidth": 0,
              "ticks": ""
             }
            },
            "type": "scatter3d"
           }
          ],
          "scattercarpet": [
           {
            "marker": {
             "colorbar": {
              "outlinewidth": 0,
              "ticks": ""
             }
            },
            "type": "scattercarpet"
           }
          ],
          "scattergeo": [
           {
            "marker": {
             "colorbar": {
              "outlinewidth": 0,
              "ticks": ""
             }
            },
            "type": "scattergeo"
           }
          ],
          "scattergl": [
           {
            "marker": {
             "colorbar": {
              "outlinewidth": 0,
              "ticks": ""
             }
            },
            "type": "scattergl"
           }
          ],
          "scattermapbox": [
           {
            "marker": {
             "colorbar": {
              "outlinewidth": 0,
              "ticks": ""
             }
            },
            "type": "scattermapbox"
           }
          ],
          "scatterpolar": [
           {
            "marker": {
             "colorbar": {
              "outlinewidth": 0,
              "ticks": ""
             }
            },
            "type": "scatterpolar"
           }
          ],
          "scatterpolargl": [
           {
            "marker": {
             "colorbar": {
              "outlinewidth": 0,
              "ticks": ""
             }
            },
            "type": "scatterpolargl"
           }
          ],
          "scatterternary": [
           {
            "marker": {
             "colorbar": {
              "outlinewidth": 0,
              "ticks": ""
             }
            },
            "type": "scatterternary"
           }
          ],
          "surface": [
           {
            "colorbar": {
             "outlinewidth": 0,
             "ticks": ""
            },
            "colorscale": [
             [
              0,
              "#0d0887"
             ],
             [
              0.1111111111111111,
              "#46039f"
             ],
             [
              0.2222222222222222,
              "#7201a8"
             ],
             [
              0.3333333333333333,
              "#9c179e"
             ],
             [
              0.4444444444444444,
              "#bd3786"
             ],
             [
              0.5555555555555556,
              "#d8576b"
             ],
             [
              0.6666666666666666,
              "#ed7953"
             ],
             [
              0.7777777777777778,
              "#fb9f3a"
             ],
             [
              0.8888888888888888,
              "#fdca26"
             ],
             [
              1,
              "#f0f921"
             ]
            ],
            "type": "surface"
           }
          ],
          "table": [
           {
            "cells": {
             "fill": {
              "color": "#EBF0F8"
             },
             "line": {
              "color": "white"
             }
            },
            "header": {
             "fill": {
              "color": "#C8D4E3"
             },
             "line": {
              "color": "white"
             }
            },
            "type": "table"
           }
          ]
         },
         "layout": {
          "annotationdefaults": {
           "arrowcolor": "#2a3f5f",
           "arrowhead": 0,
           "arrowwidth": 1
          },
          "autotypenumbers": "strict",
          "coloraxis": {
           "colorbar": {
            "outlinewidth": 0,
            "ticks": ""
           }
          },
          "colorscale": {
           "diverging": [
            [
             0,
             "#8e0152"
            ],
            [
             0.1,
             "#c51b7d"
            ],
            [
             0.2,
             "#de77ae"
            ],
            [
             0.3,
             "#f1b6da"
            ],
            [
             0.4,
             "#fde0ef"
            ],
            [
             0.5,
             "#f7f7f7"
            ],
            [
             0.6,
             "#e6f5d0"
            ],
            [
             0.7,
             "#b8e186"
            ],
            [
             0.8,
             "#7fbc41"
            ],
            [
             0.9,
             "#4d9221"
            ],
            [
             1,
             "#276419"
            ]
           ],
           "sequential": [
            [
             0,
             "#0d0887"
            ],
            [
             0.1111111111111111,
             "#46039f"
            ],
            [
             0.2222222222222222,
             "#7201a8"
            ],
            [
             0.3333333333333333,
             "#9c179e"
            ],
            [
             0.4444444444444444,
             "#bd3786"
            ],
            [
             0.5555555555555556,
             "#d8576b"
            ],
            [
             0.6666666666666666,
             "#ed7953"
            ],
            [
             0.7777777777777778,
             "#fb9f3a"
            ],
            [
             0.8888888888888888,
             "#fdca26"
            ],
            [
             1,
             "#f0f921"
            ]
           ],
           "sequentialminus": [
            [
             0,
             "#0d0887"
            ],
            [
             0.1111111111111111,
             "#46039f"
            ],
            [
             0.2222222222222222,
             "#7201a8"
            ],
            [
             0.3333333333333333,
             "#9c179e"
            ],
            [
             0.4444444444444444,
             "#bd3786"
            ],
            [
             0.5555555555555556,
             "#d8576b"
            ],
            [
             0.6666666666666666,
             "#ed7953"
            ],
            [
             0.7777777777777778,
             "#fb9f3a"
            ],
            [
             0.8888888888888888,
             "#fdca26"
            ],
            [
             1,
             "#f0f921"
            ]
           ]
          },
          "colorway": [
           "#636efa",
           "#EF553B",
           "#00cc96",
           "#ab63fa",
           "#FFA15A",
           "#19d3f3",
           "#FF6692",
           "#B6E880",
           "#FF97FF",
           "#FECB52"
          ],
          "font": {
           "color": "#2a3f5f"
          },
          "geo": {
           "bgcolor": "white",
           "lakecolor": "white",
           "landcolor": "#E5ECF6",
           "showlakes": true,
           "showland": true,
           "subunitcolor": "white"
          },
          "hoverlabel": {
           "align": "left"
          },
          "hovermode": "closest",
          "mapbox": {
           "style": "light"
          },
          "paper_bgcolor": "white",
          "plot_bgcolor": "#E5ECF6",
          "polar": {
           "angularaxis": {
            "gridcolor": "white",
            "linecolor": "white",
            "ticks": ""
           },
           "bgcolor": "#E5ECF6",
           "radialaxis": {
            "gridcolor": "white",
            "linecolor": "white",
            "ticks": ""
           }
          },
          "scene": {
           "xaxis": {
            "backgroundcolor": "#E5ECF6",
            "gridcolor": "white",
            "gridwidth": 2,
            "linecolor": "white",
            "showbackground": true,
            "ticks": "",
            "zerolinecolor": "white"
           },
           "yaxis": {
            "backgroundcolor": "#E5ECF6",
            "gridcolor": "white",
            "gridwidth": 2,
            "linecolor": "white",
            "showbackground": true,
            "ticks": "",
            "zerolinecolor": "white"
           },
           "zaxis": {
            "backgroundcolor": "#E5ECF6",
            "gridcolor": "white",
            "gridwidth": 2,
            "linecolor": "white",
            "showbackground": true,
            "ticks": "",
            "zerolinecolor": "white"
           }
          },
          "shapedefaults": {
           "line": {
            "color": "#2a3f5f"
           }
          },
          "ternary": {
           "aaxis": {
            "gridcolor": "white",
            "linecolor": "white",
            "ticks": ""
           },
           "baxis": {
            "gridcolor": "white",
            "linecolor": "white",
            "ticks": ""
           },
           "bgcolor": "#E5ECF6",
           "caxis": {
            "gridcolor": "white",
            "linecolor": "white",
            "ticks": ""
           }
          },
          "title": {
           "x": 0.05
          },
          "xaxis": {
           "automargin": true,
           "gridcolor": "white",
           "linecolor": "white",
           "ticks": "",
           "title": {
            "standoff": 15
           },
           "zerolinecolor": "white",
           "zerolinewidth": 2
          },
          "yaxis": {
           "automargin": true,
           "gridcolor": "white",
           "linecolor": "white",
           "ticks": "",
           "title": {
            "standoff": 15
           },
           "zerolinecolor": "white",
           "zerolinewidth": 2
          }
         }
        },
        "title": {
         "text": "按Job上色的FJSP调度示意图 - 多种颜色"
        },
        "xaxis": {
         "title": {
          "text": "时间"
         }
        },
        "yaxis": {
         "categoryarray": [
          "Machine10",
          "Machine9",
          "Machine8",
          "Machine7",
          "Machine6",
          "Machine5",
          "Machine4",
          "Machine3",
          "Machine2",
          "Machine1",
          "Machine0",
          "Machine3",
          "Machine7",
          "Machine6",
          "Machine5",
          "Machine8",
          "Machine0",
          "Machine4",
          "Machine9",
          "Machine1",
          "Machine10",
          "Machine2",
          "Machine3",
          "Machine9",
          "Machine2",
          "Machine8",
          "Machine10",
          "Machine3",
          "Machine6",
          "Machine9",
          "Machine8",
          "Machine1",
          "Machine9",
          "Machine0",
          "Machine7",
          "Machine4",
          "Machine3",
          "Machine5",
          "Machine2",
          "Machine6",
          "Machine10",
          "Machine0",
          "Machine1",
          "Machine9",
          "Machine0",
          "Machine8",
          "Machine2",
          "Machine9",
          "Machine10",
          "Machine5",
          "Machine0",
          "Machine7",
          "Machine4",
          "Machine1",
          "Machine8",
          "Machine6",
          "Machine3",
          "Machine4",
          "Machine10",
          "Machine2",
          "Machine4",
          "Machine9",
          "Machine5",
          "Machine4",
          "Machine2",
          "Machine7",
          "Machine0",
          "Machine3",
          "Machine1",
          "Machine8",
          "Machine10",
          "Machine4",
          "Machine6",
          "Machine7",
          "Machine5",
          "Machine1",
          "Machine4",
          "Machine9",
          "Machine2",
          "Machine7",
          "Machine0",
          "Machine6",
          "Machine3",
          "Machine8",
          "Machine5",
          "Machine3",
          "Machine5",
          "Machine8",
          "Machine4",
          "Machine1",
          "Machine2",
          "Machine8",
          "Machine10",
          "Machine3",
          "Machine9",
          "Machine6",
          "Machine1",
          "Machine8",
          "Machine0",
          "Machine6",
          "Machine5",
          "Machine10",
          "Machine7",
          "Machine2",
          "Machine10",
          "Machine9",
          "Machine0",
          "Machine4",
          "Machine2",
          "Machine6",
          "Machine9",
          "Machine10",
          "Machine3",
          "Machine5",
          "Machine1",
          "Machine8",
          "Machine6",
          "Machine4",
          "Machine10",
          "Machine9",
          "Machine7",
          "Machine8",
          "Machine8",
          "Machine10",
          "Machine3",
          "Machine2",
          "Machine7",
          "Machine0",
          "Machine10",
          "Machine4",
          "Machine10",
          "Machine6",
          "Machine10",
          "Machine9",
          "Machine4",
          "Machine1",
          "Machine2",
          "Machine0",
          "Machine4"
         ],
         "categoryorder": "array",
         "type": "category"
        }
       }
      },
      "text/html": [
       "<div>                            <div id=\"8735f0fa-c0d2-4962-b310-4a34e99e4fb8\" class=\"plotly-graph-div\" style=\"height:525px; width:100%;\"></div>            <script type=\"text/javascript\">                require([\"plotly\"], function(Plotly) {                    window.PLOTLYENV=window.PLOTLYENV || {};                                    if (document.getElementById(\"8735f0fa-c0d2-4962-b310-4a34e99e4fb8\")) {                    Plotly.newPlot(                        \"8735f0fa-c0d2-4962-b310-4a34e99e4fb8\",                        [{\"base\":[0],\"marker\":{\"color\":\"#EF553B\"},\"name\":\"Job\",\"orientation\":\"h\",\"width\":[0.4],\"x\":[0],\"y\":[\"Machine10\"],\"type\":\"bar\"},{\"base\":[0],\"marker\":{\"color\":\"#EF553B\"},\"name\":\"Job\",\"orientation\":\"h\",\"width\":[0.4],\"x\":[0],\"y\":[\"Machine9\"],\"type\":\"bar\"},{\"base\":[0],\"marker\":{\"color\":\"#EF553B\"},\"name\":\"Job\",\"orientation\":\"h\",\"width\":[0.4],\"x\":[0],\"y\":[\"Machine8\"],\"type\":\"bar\"},{\"base\":[0],\"marker\":{\"color\":\"#EF553B\"},\"name\":\"Job\",\"orientation\":\"h\",\"width\":[0.4],\"x\":[0],\"y\":[\"Machine7\"],\"type\":\"bar\"},{\"base\":[0],\"marker\":{\"color\":\"#EF553B\"},\"name\":\"Job\",\"orientation\":\"h\",\"width\":[0.4],\"x\":[0],\"y\":[\"Machine6\"],\"type\":\"bar\"},{\"base\":[0],\"marker\":{\"color\":\"#EF553B\"},\"name\":\"Job\",\"orientation\":\"h\",\"width\":[0.4],\"x\":[0],\"y\":[\"Machine5\"],\"type\":\"bar\"},{\"base\":[0],\"marker\":{\"color\":\"#EF553B\"},\"name\":\"Job\",\"orientation\":\"h\",\"width\":[0.4],\"x\":[0],\"y\":[\"Machine4\"],\"type\":\"bar\"},{\"base\":[0],\"marker\":{\"color\":\"#EF553B\"},\"name\":\"Job\",\"orientation\":\"h\",\"width\":[0.4],\"x\":[0],\"y\":[\"Machine3\"],\"type\":\"bar\"},{\"base\":[0],\"marker\":{\"color\":\"#EF553B\"},\"name\":\"Job\",\"orientation\":\"h\",\"width\":[0.4],\"x\":[0],\"y\":[\"Machine2\"],\"type\":\"bar\"},{\"base\":[0],\"marker\":{\"color\":\"#EF553B\"},\"name\":\"Job\",\"orientation\":\"h\",\"width\":[0.4],\"x\":[0],\"y\":[\"Machine1\"],\"type\":\"bar\"},{\"base\":[0],\"marker\":{\"color\":\"#EF553B\"},\"name\":\"Job\",\"orientation\":\"h\",\"width\":[0.4],\"x\":[0],\"y\":[\"Machine0\"],\"type\":\"bar\"},{\"base\":[0.0],\"marker\":{\"color\":\"#636EFA\"},\"name\":\"Job2\",\"orientation\":\"h\",\"width\":[0.4],\"x\":[1],\"y\":[\"Machine3\"],\"type\":\"bar\"},{\"base\":[0.0],\"marker\":{\"color\":\"#00CC96\"},\"name\":\"Job9\",\"orientation\":\"h\",\"width\":[0.4],\"x\":[15],\"y\":[\"Machine7\"],\"type\":\"bar\"},{\"base\":[0.0],\"marker\":{\"color\":\"rgb(190, 56, 143)\"},\"name\":\"Job1\",\"orientation\":\"h\",\"width\":[0.4],\"x\":[4],\"y\":[\"Machine6\"],\"type\":\"bar\"},{\"base\":[0.0],\"marker\":{\"color\":\"#AB63FA\"},\"name\":\"Job8\",\"orientation\":\"h\",\"width\":[0.4],\"x\":[1],\"y\":[\"Machine5\"],\"type\":\"bar\"},{\"base\":[0.0],\"marker\":{\"color\":\"rgb(56, 75, 175)\"},\"name\":\"Job4\",\"orientation\":\"h\",\"width\":[0.4],\"x\":[4],\"y\":[\"Machine8\"],\"type\":\"bar\"},{\"base\":[0.0],\"marker\":{\"color\":\"#FECB52\"},\"name\":\"Job10\",\"orientation\":\"h\",\"width\":[0.4],\"x\":[14],\"y\":[\"Machine0\"],\"type\":\"bar\"},{\"base\":[0.0],\"marker\":{\"color\":\"rgb(206, 86, 63)\"},\"name\":\"Job5\",\"orientation\":\"h\",\"width\":[0.4],\"x\":[15],\"y\":[\"Machine4\"],\"type\":\"bar\"},{\"base\":[0.0],\"marker\":{\"color\":\"#B6E880\"},\"name\":\"Job11\",\"orientation\":\"h\",\"width\":[0.4],\"x\":[1],\"y\":[\"Machine9\"],\"type\":\"bar\"},{\"base\":[0.0],\"marker\":{\"color\":\"#19D3F3\"},\"name\":\"Job3\",\"orientation\":\"h\",\"width\":[0.4],\"x\":[10],\"y\":[\"Machine1\"],\"type\":\"bar\"},{\"base\":[0.0],\"marker\":{\"color\":\"#FFA15A\"},\"name\":\"Job12\",\"orientation\":\"h\",\"width\":[0.4],\"x\":[6],\"y\":[\"Machine10\"],\"type\":\"bar\"},{\"base\":[1.0],\"marker\":{\"color\":\"#636EFA\"},\"name\":\"Job2\",\"orientation\":\"h\",\"width\":[0.4],\"x\":[1],\"y\":[\"Machine2\"],\"type\":\"bar\"},{\"base\":[1.0],\"marker\":{\"color\":\"#AB63FA\"},\"name\":\"Job8\",\"orientation\":\"h\",\"width\":[0.4],\"x\":[5],\"y\":[\"Machine3\"],\"type\":\"bar\"},{\"base\":[1.0],\"marker\":{\"color\":\"#FF97FF\"},\"name\":\"Job13\",\"orientation\":\"h\",\"width\":[0.4],\"x\":[5],\"y\":[\"Machine9\"],\"type\":\"bar\"},{\"base\":[2.0],\"marker\":{\"color\":\"#636EFA\"},\"name\":\"Job2\",\"orientation\":\"h\",\"width\":[0.4],\"x\":[16],\"y\":[\"Machine2\"],\"type\":\"bar\"},{\"base\":[4.0],\"marker\":{\"color\":\"rgb(56, 75, 175)\"},\"name\":\"Job4\",\"orientation\":\"h\",\"width\":[0.4],\"x\":[3],\"y\":[\"Machine8\"],\"type\":\"bar\"},{\"base\":[6.0],\"marker\":{\"color\":\"rgb(190, 56, 143)\"},\"name\":\"Job1\",\"orientation\":\"h\",\"width\":[0.4],\"x\":[17],\"y\":[\"Machine10\"],\"type\":\"bar\"},{\"base\":[6.0],\"marker\":{\"color\":\"#B6E880\"},\"name\":\"Job11\",\"orientation\":\"h\",\"width\":[0.4],\"x\":[10],\"y\":[\"Machine3\"],\"type\":\"bar\"},{\"base\":[6.0],\"marker\":{\"color\":\"#AB63FA\"},\"name\":\"Job8\",\"orientation\":\"h\",\"width\":[0.4],\"x\":[14],\"y\":[\"Machine6\"],\"type\":\"bar\"},{\"base\":[6.0],\"marker\":{\"color\":\"#FF97FF\"},\"name\":\"Job13\",\"orientation\":\"h\",\"width\":[0.4],\"x\":[8],\"y\":[\"Machine9\"],\"type\":\"bar\"},{\"base\":[7.0],\"marker\":{\"color\":\"rgb(56, 75, 175)\"},\"name\":\"Job4\",\"orientation\":\"h\",\"width\":[0.4],\"x\":[19],\"y\":[\"Machine8\"],\"type\":\"bar\"},{\"base\":[10.0],\"marker\":{\"color\":\"rgb(205, 77, 50)\"},\"name\":\"Job0\",\"orientation\":\"h\",\"width\":[0.4],\"x\":[13],\"y\":[\"Machine1\"],\"type\":\"bar\"},{\"base\":[14.0],\"marker\":{\"color\":\"#19D3F3\"},\"name\":\"Job3\",\"orientation\":\"h\",\"width\":[0.4],\"x\":[10],\"y\":[\"Machine9\"],\"type\":\"bar\"},{\"base\":[14.0],\"marker\":{\"color\":\"#FF97FF\"},\"name\":\"Job13\",\"orientation\":\"h\",\"width\":[0.4],\"x\":[9],\"y\":[\"Machine0\"],\"type\":\"bar\"},{\"base\":[15.0],\"marker\":{\"color\":\"rgb(169, 239, 33)\"},\"name\":\"Job7\",\"orientation\":\"h\",\"width\":[0.4],\"x\":[14],\"y\":[\"Machine7\"],\"type\":\"bar\"},{\"base\":[15.0],\"marker\":{\"color\":\"rgb(206, 86, 63)\"},\"name\":\"Job5\",\"orientation\":\"h\",\"width\":[0.4],\"x\":[14],\"y\":[\"Machine4\"],\"type\":\"bar\"},{\"base\":[16.0],\"marker\":{\"color\":\"#FF6692\"},\"name\":\"Job6\",\"orientation\":\"h\",\"width\":[0.4],\"x\":[18],\"y\":[\"Machine3\"],\"type\":\"bar\"},{\"base\":[16.0],\"marker\":{\"color\":\"#B6E880\"},\"name\":\"Job11\",\"orientation\":\"h\",\"width\":[0.4],\"x\":[11],\"y\":[\"Machine5\"],\"type\":\"bar\"},{\"base\":[18.0],\"marker\":{\"color\":\"#636EFA\"},\"name\":\"Job2\",\"orientation\":\"h\",\"width\":[0.4],\"x\":[8],\"y\":[\"Machine2\"],\"type\":\"bar\"},{\"base\":[20.0],\"marker\":{\"color\":\"#00CC96\"},\"name\":\"Job9\",\"orientation\":\"h\",\"width\":[0.4],\"x\":[14],\"y\":[\"Machine6\"],\"type\":\"bar\"},{\"base\":[23.0],\"marker\":{\"color\":\"#FECB52\"},\"name\":\"Job10\",\"orientation\":\"h\",\"width\":[0.4],\"x\":[4],\"y\":[\"Machine10\"],\"type\":\"bar\"},{\"base\":[23.0],\"marker\":{\"color\":\"rgb(190, 56, 143)\"},\"name\":\"Job1\",\"orientation\":\"h\",\"width\":[0.4],\"x\":[2],\"y\":[\"Machine0\"],\"type\":\"bar\"},{\"base\":[23.0],\"marker\":{\"color\":\"#FFA15A\"},\"name\":\"Job12\",\"orientation\":\"h\",\"width\":[0.4],\"x\":[6],\"y\":[\"Machine1\"],\"type\":\"bar\"},{\"base\":[24.0],\"marker\":{\"color\":\"#FF97FF\"},\"name\":\"Job13\",\"orientation\":\"h\",\"width\":[0.4],\"x\":[2],\"y\":[\"Machine9\"],\"type\":\"bar\"},{\"base\":[25.0],\"marker\":{\"color\":\"#19D3F3\"},\"name\":\"Job3\",\"orientation\":\"h\",\"width\":[0.4],\"x\":[2],\"y\":[\"Machine0\"],\"type\":\"bar\"},{\"base\":[26.0],\"marker\":{\"color\":\"rgb(190, 56, 143)\"},\"name\":\"Job1\",\"orientation\":\"h\",\"width\":[0.4],\"x\":[6],\"y\":[\"Machine8\"],\"type\":\"bar\"},{\"base\":[26.0],\"marker\":{\"color\":\"#AB63FA\"},\"name\":\"Job8\",\"orientation\":\"h\",\"width\":[0.4],\"x\":[10],\"y\":[\"Machine2\"],\"type\":\"bar\"},{\"base\":[26.0],\"marker\":{\"color\":\"#636EFA\"},\"name\":\"Job2\",\"orientation\":\"h\",\"width\":[0.4],\"x\":[12],\"y\":[\"Machine9\"],\"type\":\"bar\"},{\"base\":[27.0],\"marker\":{\"color\":\"#FECB52\"},\"name\":\"Job10\",\"orientation\":\"h\",\"width\":[0.4],\"x\":[8],\"y\":[\"Machine10\"],\"type\":\"bar\"},{\"base\":[27.0],\"marker\":{\"color\":\"rgb(205, 77, 50)\"},\"name\":\"Job0\",\"orientation\":\"h\",\"width\":[0.4],\"x\":[11],\"y\":[\"Machine5\"],\"type\":\"bar\"},{\"base\":[27.0],\"marker\":{\"color\":\"rgb(56, 75, 175)\"},\"name\":\"Job4\",\"orientation\":\"h\",\"width\":[0.4],\"x\":[16],\"y\":[\"Machine0\"],\"type\":\"bar\"},{\"base\":[29.0],\"marker\":{\"color\":\"rgb(206, 86, 63)\"},\"name\":\"Job5\",\"orientation\":\"h\",\"width\":[0.4],\"x\":[14],\"y\":[\"Machine7\"],\"type\":\"bar\"},{\"base\":[29.0],\"marker\":{\"color\":\"#19D3F3\"},\"name\":\"Job3\",\"orientation\":\"h\",\"width\":[0.4],\"x\":[6],\"y\":[\"Machine4\"],\"type\":\"bar\"},{\"base\":[29.0],\"marker\":{\"color\":\"#FF97FF\"},\"name\":\"Job13\",\"orientation\":\"h\",\"width\":[0.4],\"x\":[16],\"y\":[\"Machine1\"],\"type\":\"bar\"},{\"base\":[32.0],\"marker\":{\"color\":\"#B6E880\"},\"name\":\"Job11\",\"orientation\":\"h\",\"width\":[0.4],\"x\":[13],\"y\":[\"Machine8\"],\"type\":\"bar\"},{\"base\":[34.0],\"marker\":{\"color\":\"#00CC96\"},\"name\":\"Job9\",\"orientation\":\"h\",\"width\":[0.4],\"x\":[13],\"y\":[\"Machine6\"],\"type\":\"bar\"},{\"base\":[34.0],\"marker\":{\"color\":\"rgb(169, 239, 33)\"},\"name\":\"Job7\",\"orientation\":\"h\",\"width\":[0.4],\"x\":[9],\"y\":[\"Machine3\"],\"type\":\"bar\"},{\"base\":[35.0],\"marker\":{\"color\":\"rgb(190, 56, 143)\"},\"name\":\"Job1\",\"orientation\":\"h\",\"width\":[0.4],\"x\":[2],\"y\":[\"Machine4\"],\"type\":\"bar\"},{\"base\":[35.0],\"marker\":{\"color\":\"#FECB52\"},\"name\":\"Job10\",\"orientation\":\"h\",\"width\":[0.4],\"x\":[11],\"y\":[\"Machine10\"],\"type\":\"bar\"},{\"base\":[36.0],\"marker\":{\"color\":\"#FF6692\"},\"name\":\"Job6\",\"orientation\":\"h\",\"width\":[0.4],\"x\":[5],\"y\":[\"Machine2\"],\"type\":\"bar\"},{\"base\":[37.0],\"marker\":{\"color\":\"#AB63FA\"},\"name\":\"Job8\",\"orientation\":\"h\",\"width\":[0.4],\"x\":[2],\"y\":[\"Machine4\"],\"type\":\"bar\"},{\"base\":[38.0],\"marker\":{\"color\":\"#636EFA\"},\"name\":\"Job2\",\"orientation\":\"h\",\"width\":[0.4],\"x\":[13],\"y\":[\"Machine9\"],\"type\":\"bar\"},{\"base\":[38.0],\"marker\":{\"color\":\"rgb(190, 56, 143)\"},\"name\":\"Job1\",\"orientation\":\"h\",\"width\":[0.4],\"x\":[11],\"y\":[\"Machine5\"],\"type\":\"bar\"},{\"base\":[39.0],\"marker\":{\"color\":\"#FFA15A\"},\"name\":\"Job12\",\"orientation\":\"h\",\"width\":[0.4],\"x\":[8],\"y\":[\"Machine4\"],\"type\":\"bar\"},{\"base\":[41.0],\"marker\":{\"color\":\"#FF6692\"},\"name\":\"Job6\",\"orientation\":\"h\",\"width\":[0.4],\"x\":[10],\"y\":[\"Machine2\"],\"type\":\"bar\"},{\"base\":[43.0],\"marker\":{\"color\":\"#AB63FA\"},\"name\":\"Job8\",\"orientation\":\"h\",\"width\":[0.4],\"x\":[6],\"y\":[\"Machine7\"],\"type\":\"bar\"},{\"base\":[43.0],\"marker\":{\"color\":\"#19D3F3\"},\"name\":\"Job3\",\"orientation\":\"h\",\"width\":[0.4],\"x\":[10],\"y\":[\"Machine0\"],\"type\":\"bar\"},{\"base\":[43.0],\"marker\":{\"color\":\"rgb(206, 86, 63)\"},\"name\":\"Job5\",\"orientation\":\"h\",\"width\":[0.4],\"x\":[11],\"y\":[\"Machine3\"],\"type\":\"bar\"},{\"base\":[45.0],\"marker\":{\"color\":\"rgb(56, 75, 175)\"},\"name\":\"Job4\",\"orientation\":\"h\",\"width\":[0.4],\"x\":[4],\"y\":[\"Machine1\"],\"type\":\"bar\"},{\"base\":[45.0],\"marker\":{\"color\":\"rgb(169, 239, 33)\"},\"name\":\"Job7\",\"orientation\":\"h\",\"width\":[0.4],\"x\":[11],\"y\":[\"Machine8\"],\"type\":\"bar\"},{\"base\":[46.0],\"marker\":{\"color\":\"#FECB52\"},\"name\":\"Job10\",\"orientation\":\"h\",\"width\":[0.4],\"x\":[17],\"y\":[\"Machine10\"],\"type\":\"bar\"},{\"base\":[47.0],\"marker\":{\"color\":\"#B6E880\"},\"name\":\"Job11\",\"orientation\":\"h\",\"width\":[0.4],\"x\":[3],\"y\":[\"Machine4\"],\"type\":\"bar\"},{\"base\":[47.0],\"marker\":{\"color\":\"#FF97FF\"},\"name\":\"Job13\",\"orientation\":\"h\",\"width\":[0.4],\"x\":[6],\"y\":[\"Machine6\"],\"type\":\"bar\"},{\"base\":[49.0],\"marker\":{\"color\":\"#00CC96\"},\"name\":\"Job9\",\"orientation\":\"h\",\"width\":[0.4],\"x\":[3],\"y\":[\"Machine7\"],\"type\":\"bar\"},{\"base\":[49.0],\"marker\":{\"color\":\"rgb(190, 56, 143)\"},\"name\":\"Job1\",\"orientation\":\"h\",\"width\":[0.4],\"x\":[9],\"y\":[\"Machine5\"],\"type\":\"bar\"},{\"base\":[49.0],\"marker\":{\"color\":\"rgb(205, 77, 50)\"},\"name\":\"Job0\",\"orientation\":\"h\",\"width\":[0.4],\"x\":[13],\"y\":[\"Machine1\"],\"type\":\"bar\"},{\"base\":[50.0],\"marker\":{\"color\":\"#FFA15A\"},\"name\":\"Job12\",\"orientation\":\"h\",\"width\":[0.4],\"x\":[12],\"y\":[\"Machine4\"],\"type\":\"bar\"},{\"base\":[51.0],\"marker\":{\"color\":\"#AB63FA\"},\"name\":\"Job8\",\"orientation\":\"h\",\"width\":[0.4],\"x\":[15],\"y\":[\"Machine9\"],\"type\":\"bar\"},{\"base\":[51.0],\"marker\":{\"color\":\"#636EFA\"},\"name\":\"Job2\",\"orientation\":\"h\",\"width\":[0.4],\"x\":[11],\"y\":[\"Machine2\"],\"type\":\"bar\"},{\"base\":[52.0],\"marker\":{\"color\":\"rgb(56, 75, 175)\"},\"name\":\"Job4\",\"orientation\":\"h\",\"width\":[0.4],\"x\":[20],\"y\":[\"Machine7\"],\"type\":\"bar\"},{\"base\":[53.0],\"marker\":{\"color\":\"#B6E880\"},\"name\":\"Job11\",\"orientation\":\"h\",\"width\":[0.4],\"x\":[17],\"y\":[\"Machine0\"],\"type\":\"bar\"},{\"base\":[53.0],\"marker\":{\"color\":\"#19D3F3\"},\"name\":\"Job3\",\"orientation\":\"h\",\"width\":[0.4],\"x\":[14],\"y\":[\"Machine6\"],\"type\":\"bar\"},{\"base\":[54.0],\"marker\":{\"color\":\"rgb(206, 86, 63)\"},\"name\":\"Job5\",\"orientation\":\"h\",\"width\":[0.4],\"x\":[6],\"y\":[\"Machine3\"],\"type\":\"bar\"},{\"base\":[56.0],\"marker\":{\"color\":\"rgb(169, 239, 33)\"},\"name\":\"Job7\",\"orientation\":\"h\",\"width\":[0.4],\"x\":[5],\"y\":[\"Machine8\"],\"type\":\"bar\"},{\"base\":[58.0],\"marker\":{\"color\":\"#00CC96\"},\"name\":\"Job9\",\"orientation\":\"h\",\"width\":[0.4],\"x\":[2],\"y\":[\"Machine5\"],\"type\":\"bar\"},{\"base\":[60.0],\"marker\":{\"color\":\"rgb(206, 86, 63)\"},\"name\":\"Job5\",\"orientation\":\"h\",\"width\":[0.4],\"x\":[5],\"y\":[\"Machine3\"],\"type\":\"bar\"},{\"base\":[60.0],\"marker\":{\"color\":\"#00CC96\"},\"name\":\"Job9\",\"orientation\":\"h\",\"width\":[0.4],\"x\":[12],\"y\":[\"Machine5\"],\"type\":\"bar\"},{\"base\":[61.0],\"marker\":{\"color\":\"rgb(190, 56, 143)\"},\"name\":\"Job1\",\"orientation\":\"h\",\"width\":[0.4],\"x\":[2],\"y\":[\"Machine8\"],\"type\":\"bar\"},{\"base\":[62.0],\"marker\":{\"color\":\"#FF6692\"},\"name\":\"Job6\",\"orientation\":\"h\",\"width\":[0.4],\"x\":[17],\"y\":[\"Machine4\"],\"type\":\"bar\"},{\"base\":[62.0],\"marker\":{\"color\":\"#FFA15A\"},\"name\":\"Job12\",\"orientation\":\"h\",\"width\":[0.4],\"x\":[6],\"y\":[\"Machine1\"],\"type\":\"bar\"},{\"base\":[62.0],\"marker\":{\"color\":\"#636EFA\"},\"name\":\"Job2\",\"orientation\":\"h\",\"width\":[0.4],\"x\":[12],\"y\":[\"Machine2\"],\"type\":\"bar\"},{\"base\":[63.0],\"marker\":{\"color\":\"#FECB52\"},\"name\":\"Job10\",\"orientation\":\"h\",\"width\":[0.4],\"x\":[6],\"y\":[\"Machine8\"],\"type\":\"bar\"},{\"base\":[63.0],\"marker\":{\"color\":\"rgb(190, 56, 143)\"},\"name\":\"Job1\",\"orientation\":\"h\",\"width\":[0.4],\"x\":[10],\"y\":[\"Machine10\"],\"type\":\"bar\"},{\"base\":[65.0],\"marker\":{\"color\":\"rgb(206, 86, 63)\"},\"name\":\"Job5\",\"orientation\":\"h\",\"width\":[0.4],\"x\":[13],\"y\":[\"Machine3\"],\"type\":\"bar\"},{\"base\":[66.0],\"marker\":{\"color\":\"rgb(169, 239, 33)\"},\"name\":\"Job7\",\"orientation\":\"h\",\"width\":[0.4],\"x\":[12],\"y\":[\"Machine9\"],\"type\":\"bar\"},{\"base\":[67.0],\"marker\":{\"color\":\"rgb(205, 77, 50)\"},\"name\":\"Job0\",\"orientation\":\"h\",\"width\":[0.4],\"x\":[4],\"y\":[\"Machine6\"],\"type\":\"bar\"},{\"base\":[68.0],\"marker\":{\"color\":\"#19D3F3\"},\"name\":\"Job3\",\"orientation\":\"h\",\"width\":[0.4],\"x\":[18],\"y\":[\"Machine1\"],\"type\":\"bar\"},{\"base\":[69.0],\"marker\":{\"color\":\"#AB63FA\"},\"name\":\"Job8\",\"orientation\":\"h\",\"width\":[0.4],\"x\":[16],\"y\":[\"Machine8\"],\"type\":\"bar\"},{\"base\":[70.0],\"marker\":{\"color\":\"#FECB52\"},\"name\":\"Job10\",\"orientation\":\"h\",\"width\":[0.4],\"x\":[10],\"y\":[\"Machine0\"],\"type\":\"bar\"},{\"base\":[71.0],\"marker\":{\"color\":\"rgb(205, 77, 50)\"},\"name\":\"Job0\",\"orientation\":\"h\",\"width\":[0.4],\"x\":[10],\"y\":[\"Machine6\"],\"type\":\"bar\"},{\"base\":[72.0],\"marker\":{\"color\":\"#00CC96\"},\"name\":\"Job9\",\"orientation\":\"h\",\"width\":[0.4],\"x\":[13],\"y\":[\"Machine5\"],\"type\":\"bar\"},{\"base\":[73.0],\"marker\":{\"color\":\"#B6E880\"},\"name\":\"Job11\",\"orientation\":\"h\",\"width\":[0.4],\"x\":[2],\"y\":[\"Machine10\"],\"type\":\"bar\"},{\"base\":[73.0],\"marker\":{\"color\":\"rgb(190, 56, 143)\"},\"name\":\"Job1\",\"orientation\":\"h\",\"width\":[0.4],\"x\":[14],\"y\":[\"Machine7\"],\"type\":\"bar\"},{\"base\":[74.0],\"marker\":{\"color\":\"#636EFA\"},\"name\":\"Job2\",\"orientation\":\"h\",\"width\":[0.4],\"x\":[6],\"y\":[\"Machine2\"],\"type\":\"bar\"},{\"base\":[75.0],\"marker\":{\"color\":\"rgb(56, 75, 175)\"},\"name\":\"Job4\",\"orientation\":\"h\",\"width\":[0.4],\"x\":[10],\"y\":[\"Machine10\"],\"type\":\"bar\"},{\"base\":[78.0],\"marker\":{\"color\":\"rgb(169, 239, 33)\"},\"name\":\"Job7\",\"orientation\":\"h\",\"width\":[0.4],\"x\":[3],\"y\":[\"Machine9\"],\"type\":\"bar\"},{\"base\":[80.0],\"marker\":{\"color\":\"#FECB52\"},\"name\":\"Job10\",\"orientation\":\"h\",\"width\":[0.4],\"x\":[17],\"y\":[\"Machine0\"],\"type\":\"bar\"},{\"base\":[80.0],\"marker\":{\"color\":\"#636EFA\"},\"name\":\"Job2\",\"orientation\":\"h\",\"width\":[0.4],\"x\":[9],\"y\":[\"Machine4\"],\"type\":\"bar\"},{\"base\":[80.0],\"marker\":{\"color\":\"#FF6692\"},\"name\":\"Job6\",\"orientation\":\"h\",\"width\":[0.4],\"x\":[17],\"y\":[\"Machine2\"],\"type\":\"bar\"},{\"base\":[81.0],\"marker\":{\"color\":\"rgb(206, 86, 63)\"},\"name\":\"Job5\",\"orientation\":\"h\",\"width\":[0.4],\"x\":[5],\"y\":[\"Machine6\"],\"type\":\"bar\"},{\"base\":[81.0],\"marker\":{\"color\":\"rgb(169, 239, 33)\"},\"name\":\"Job7\",\"orientation\":\"h\",\"width\":[0.4],\"x\":[11],\"y\":[\"Machine9\"],\"type\":\"bar\"},{\"base\":[85.0],\"marker\":{\"color\":\"rgb(56, 75, 175)\"},\"name\":\"Job4\",\"orientation\":\"h\",\"width\":[0.4],\"x\":[7],\"y\":[\"Machine10\"],\"type\":\"bar\"},{\"base\":[85.0],\"marker\":{\"color\":\"#AB63FA\"},\"name\":\"Job8\",\"orientation\":\"h\",\"width\":[0.4],\"x\":[12],\"y\":[\"Machine3\"],\"type\":\"bar\"},{\"base\":[85.0],\"marker\":{\"color\":\"#B6E880\"},\"name\":\"Job11\",\"orientation\":\"h\",\"width\":[0.4],\"x\":[19],\"y\":[\"Machine5\"],\"type\":\"bar\"},{\"base\":[86.0],\"marker\":{\"color\":\"#00CC96\"},\"name\":\"Job9\",\"orientation\":\"h\",\"width\":[0.4],\"x\":[17],\"y\":[\"Machine1\"],\"type\":\"bar\"},{\"base\":[86.0],\"marker\":{\"color\":\"rgb(206, 86, 63)\"},\"name\":\"Job5\",\"orientation\":\"h\",\"width\":[0.4],\"x\":[9],\"y\":[\"Machine8\"],\"type\":\"bar\"},{\"base\":[86.0],\"marker\":{\"color\":\"#19D3F3\"},\"name\":\"Job3\",\"orientation\":\"h\",\"width\":[0.4],\"x\":[8],\"y\":[\"Machine6\"],\"type\":\"bar\"},{\"base\":[89.0],\"marker\":{\"color\":\"rgb(190, 56, 143)\"},\"name\":\"Job1\",\"orientation\":\"h\",\"width\":[0.4],\"x\":[10],\"y\":[\"Machine4\"],\"type\":\"bar\"},{\"base\":[92.0],\"marker\":{\"color\":\"rgb(56, 75, 175)\"},\"name\":\"Job4\",\"orientation\":\"h\",\"width\":[0.4],\"x\":[5],\"y\":[\"Machine10\"],\"type\":\"bar\"},{\"base\":[92.0],\"marker\":{\"color\":\"rgb(169, 239, 33)\"},\"name\":\"Job7\",\"orientation\":\"h\",\"width\":[0.4],\"x\":[16],\"y\":[\"Machine9\"],\"type\":\"bar\"},{\"base\":[94.0],\"marker\":{\"color\":\"#19D3F3\"},\"name\":\"Job3\",\"orientation\":\"h\",\"width\":[0.4],\"x\":[3],\"y\":[\"Machine7\"],\"type\":\"bar\"},{\"base\":[95.0],\"marker\":{\"color\":\"rgb(206, 86, 63)\"},\"name\":\"Job5\",\"orientation\":\"h\",\"width\":[0.4],\"x\":[2],\"y\":[\"Machine8\"],\"type\":\"bar\"},{\"base\":[97.0],\"marker\":{\"color\":\"rgb(206, 86, 63)\"},\"name\":\"Job5\",\"orientation\":\"h\",\"width\":[0.4],\"x\":[11],\"y\":[\"Machine8\"],\"type\":\"bar\"},{\"base\":[97.0],\"marker\":{\"color\":\"#AB63FA\"},\"name\":\"Job8\",\"orientation\":\"h\",\"width\":[0.4],\"x\":[6],\"y\":[\"Machine10\"],\"type\":\"bar\"},{\"base\":[97.0],\"marker\":{\"color\":\"rgb(56, 75, 175)\"},\"name\":\"Job4\",\"orientation\":\"h\",\"width\":[0.4],\"x\":[12],\"y\":[\"Machine3\"],\"type\":\"bar\"},{\"base\":[97.0],\"marker\":{\"color\":\"#636EFA\"},\"name\":\"Job2\",\"orientation\":\"h\",\"width\":[0.4],\"x\":[11],\"y\":[\"Machine2\"],\"type\":\"bar\"},{\"base\":[97.0],\"marker\":{\"color\":\"#FECB52\"},\"name\":\"Job10\",\"orientation\":\"h\",\"width\":[0.4],\"x\":[8],\"y\":[\"Machine7\"],\"type\":\"bar\"},{\"base\":[97.0],\"marker\":{\"color\":\"#FF6692\"},\"name\":\"Job6\",\"orientation\":\"h\",\"width\":[0.4],\"x\":[4],\"y\":[\"Machine0\"],\"type\":\"bar\"},{\"base\":[103.0],\"marker\":{\"color\":\"#AB63FA\"},\"name\":\"Job8\",\"orientation\":\"h\",\"width\":[0.4],\"x\":[2],\"y\":[\"Machine10\"],\"type\":\"bar\"},{\"base\":[103.0],\"marker\":{\"color\":\"#00CC96\"},\"name\":\"Job9\",\"orientation\":\"h\",\"width\":[0.4],\"x\":[10],\"y\":[\"Machine4\"],\"type\":\"bar\"},{\"base\":[105.0],\"marker\":{\"color\":\"#B6E880\"},\"name\":\"Job11\",\"orientation\":\"h\",\"width\":[0.4],\"x\":[3],\"y\":[\"Machine10\"],\"type\":\"bar\"},{\"base\":[105.0],\"marker\":{\"color\":\"#FECB52\"},\"name\":\"Job10\",\"orientation\":\"h\",\"width\":[0.4],\"x\":[13],\"y\":[\"Machine6\"],\"type\":\"bar\"},{\"base\":[108.0],\"marker\":{\"color\":\"rgb(206, 86, 63)\"},\"name\":\"Job5\",\"orientation\":\"h\",\"width\":[0.4],\"x\":[5],\"y\":[\"Machine10\"],\"type\":\"bar\"},{\"base\":[108.0],\"marker\":{\"color\":\"#636EFA\"},\"name\":\"Job2\",\"orientation\":\"h\",\"width\":[0.4],\"x\":[6],\"y\":[\"Machine9\"],\"type\":\"bar\"},{\"base\":[113.0],\"marker\":{\"color\":\"#00CC96\"},\"name\":\"Job9\",\"orientation\":\"h\",\"width\":[0.4],\"x\":[16],\"y\":[\"Machine4\"],\"type\":\"bar\"},{\"base\":[113.0],\"marker\":{\"color\":\"rgb(206, 86, 63)\"},\"name\":\"Job5\",\"orientation\":\"h\",\"width\":[0.4],\"x\":[7],\"y\":[\"Machine1\"],\"type\":\"bar\"},{\"base\":[114.0],\"marker\":{\"color\":\"#636EFA\"},\"name\":\"Job2\",\"orientation\":\"h\",\"width\":[0.4],\"x\":[6],\"y\":[\"Machine2\"],\"type\":\"bar\"},{\"base\":[120.0],\"marker\":{\"color\":\"#636EFA\"},\"name\":\"Job2\",\"orientation\":\"h\",\"width\":[0.4],\"x\":[15],\"y\":[\"Machine0\"],\"type\":\"bar\"},{\"base\":[129.0],\"marker\":{\"color\":\"#00CC96\"},\"name\":\"Job9\",\"orientation\":\"h\",\"width\":[0.4],\"x\":[17],\"y\":[\"Machine4\"],\"type\":\"bar\"}],                        {\"template\":{\"data\":{\"histogram2dcontour\":[{\"type\":\"histogram2dcontour\",\"colorbar\":{\"outlinewidth\":0,\"ticks\":\"\"},\"colorscale\":[[0.0,\"#0d0887\"],[0.1111111111111111,\"#46039f\"],[0.2222222222222222,\"#7201a8\"],[0.3333333333333333,\"#9c179e\"],[0.4444444444444444,\"#bd3786\"],[0.5555555555555556,\"#d8576b\"],[0.6666666666666666,\"#ed7953\"],[0.7777777777777778,\"#fb9f3a\"],[0.8888888888888888,\"#fdca26\"],[1.0,\"#f0f921\"]]}],\"choropleth\":[{\"type\":\"choropleth\",\"colorbar\":{\"outlinewidth\":0,\"ticks\":\"\"}}],\"histogram2d\":[{\"type\":\"histogram2d\",\"colorbar\":{\"outlinewidth\":0,\"ticks\":\"\"},\"colorscale\":[[0.0,\"#0d0887\"],[0.1111111111111111,\"#46039f\"],[0.2222222222222222,\"#7201a8\"],[0.3333333333333333,\"#9c179e\"],[0.4444444444444444,\"#bd3786\"],[0.5555555555555556,\"#d8576b\"],[0.6666666666666666,\"#ed7953\"],[0.7777777777777778,\"#fb9f3a\"],[0.8888888888888888,\"#fdca26\"],[1.0,\"#f0f921\"]]}],\"heatmap\":[{\"type\":\"heatmap\",\"colorbar\":{\"outlinewidth\":0,\"ticks\":\"\"},\"colorscale\":[[0.0,\"#0d0887\"],[0.1111111111111111,\"#46039f\"],[0.2222222222222222,\"#7201a8\"],[0.3333333333333333,\"#9c179e\"],[0.4444444444444444,\"#bd3786\"],[0.5555555555555556,\"#d8576b\"],[0.6666666666666666,\"#ed7953\"],[0.7777777777777778,\"#fb9f3a\"],[0.8888888888888888,\"#fdca26\"],[1.0,\"#f0f921\"]]}],\"heatmapgl\":[{\"type\":\"heatmapgl\",\"colorbar\":{\"outlinewidth\":0,\"ticks\":\"\"},\"colorscale\":[[0.0,\"#0d0887\"],[0.1111111111111111,\"#46039f\"],[0.2222222222222222,\"#7201a8\"],[0.3333333333333333,\"#9c179e\"],[0.4444444444444444,\"#bd3786\"],[0.5555555555555556,\"#d8576b\"],[0.6666666666666666,\"#ed7953\"],[0.7777777777777778,\"#fb9f3a\"],[0.8888888888888888,\"#fdca26\"],[1.0,\"#f0f921\"]]}],\"contourcarpet\":[{\"type\":\"contourcarpet\",\"colorbar\":{\"outlinewidth\":0,\"ticks\":\"\"}}],\"contour\":[{\"type\":\"contour\",\"colorbar\":{\"outlinewidth\":0,\"ticks\":\"\"},\"colorscale\":[[0.0,\"#0d0887\"],[0.1111111111111111,\"#46039f\"],[0.2222222222222222,\"#7201a8\"],[0.3333333333333333,\"#9c179e\"],[0.4444444444444444,\"#bd3786\"],[0.5555555555555556,\"#d8576b\"],[0.6666666666666666,\"#ed7953\"],[0.7777777777777778,\"#fb9f3a\"],[0.8888888888888888,\"#fdca26\"],[1.0,\"#f0f921\"]]}],\"surface\":[{\"type\":\"surface\",\"colorbar\":{\"outlinewidth\":0,\"ticks\":\"\"},\"colorscale\":[[0.0,\"#0d0887\"],[0.1111111111111111,\"#46039f\"],[0.2222222222222222,\"#7201a8\"],[0.3333333333333333,\"#9c179e\"],[0.4444444444444444,\"#bd3786\"],[0.5555555555555556,\"#d8576b\"],[0.6666666666666666,\"#ed7953\"],[0.7777777777777778,\"#fb9f3a\"],[0.8888888888888888,\"#fdca26\"],[1.0,\"#f0f921\"]]}],\"mesh3d\":[{\"type\":\"mesh3d\",\"colorbar\":{\"outlinewidth\":0,\"ticks\":\"\"}}],\"scatter\":[{\"fillpattern\":{\"fillmode\":\"overlay\",\"size\":10,\"solidity\":0.2},\"type\":\"scatter\"}],\"parcoords\":[{\"type\":\"parcoords\",\"line\":{\"colorbar\":{\"outlinewidth\":0,\"ticks\":\"\"}}}],\"scatterpolargl\":[{\"type\":\"scatterpolargl\",\"marker\":{\"colorbar\":{\"outlinewidth\":0,\"ticks\":\"\"}}}],\"bar\":[{\"error_x\":{\"color\":\"#2a3f5f\"},\"error_y\":{\"color\":\"#2a3f5f\"},\"marker\":{\"line\":{\"color\":\"#E5ECF6\",\"width\":0.5},\"pattern\":{\"fillmode\":\"overlay\",\"size\":10,\"solidity\":0.2}},\"type\":\"bar\"}],\"scattergeo\":[{\"type\":\"scattergeo\",\"marker\":{\"colorbar\":{\"outlinewidth\":0,\"ticks\":\"\"}}}],\"scatterpolar\":[{\"type\":\"scatterpolar\",\"marker\":{\"colorbar\":{\"outlinewidth\":0,\"ticks\":\"\"}}}],\"histogram\":[{\"marker\":{\"pattern\":{\"fillmode\":\"overlay\",\"size\":10,\"solidity\":0.2}},\"type\":\"histogram\"}],\"scattergl\":[{\"type\":\"scattergl\",\"marker\":{\"colorbar\":{\"outlinewidth\":0,\"ticks\":\"\"}}}],\"scatter3d\":[{\"type\":\"scatter3d\",\"line\":{\"colorbar\":{\"outlinewidth\":0,\"ticks\":\"\"}},\"marker\":{\"colorbar\":{\"outlinewidth\":0,\"ticks\":\"\"}}}],\"scattermapbox\":[{\"type\":\"scattermapbox\",\"marker\":{\"colorbar\":{\"outlinewidth\":0,\"ticks\":\"\"}}}],\"scatterternary\":[{\"type\":\"scatterternary\",\"marker\":{\"colorbar\":{\"outlinewidth\":0,\"ticks\":\"\"}}}],\"scattercarpet\":[{\"type\":\"scattercarpet\",\"marker\":{\"colorbar\":{\"outlinewidth\":0,\"ticks\":\"\"}}}],\"carpet\":[{\"aaxis\":{\"endlinecolor\":\"#2a3f5f\",\"gridcolor\":\"white\",\"linecolor\":\"white\",\"minorgridcolor\":\"white\",\"startlinecolor\":\"#2a3f5f\"},\"baxis\":{\"endlinecolor\":\"#2a3f5f\",\"gridcolor\":\"white\",\"linecolor\":\"white\",\"minorgridcolor\":\"white\",\"startlinecolor\":\"#2a3f5f\"},\"type\":\"carpet\"}],\"table\":[{\"cells\":{\"fill\":{\"color\":\"#EBF0F8\"},\"line\":{\"color\":\"white\"}},\"header\":{\"fill\":{\"color\":\"#C8D4E3\"},\"line\":{\"color\":\"white\"}},\"type\":\"table\"}],\"barpolar\":[{\"marker\":{\"line\":{\"color\":\"#E5ECF6\",\"width\":0.5},\"pattern\":{\"fillmode\":\"overlay\",\"size\":10,\"solidity\":0.2}},\"type\":\"barpolar\"}],\"pie\":[{\"automargin\":true,\"type\":\"pie\"}]},\"layout\":{\"autotypenumbers\":\"strict\",\"colorway\":[\"#636efa\",\"#EF553B\",\"#00cc96\",\"#ab63fa\",\"#FFA15A\",\"#19d3f3\",\"#FF6692\",\"#B6E880\",\"#FF97FF\",\"#FECB52\"],\"font\":{\"color\":\"#2a3f5f\"},\"hovermode\":\"closest\",\"hoverlabel\":{\"align\":\"left\"},\"paper_bgcolor\":\"white\",\"plot_bgcolor\":\"#E5ECF6\",\"polar\":{\"bgcolor\":\"#E5ECF6\",\"angularaxis\":{\"gridcolor\":\"white\",\"linecolor\":\"white\",\"ticks\":\"\"},\"radialaxis\":{\"gridcolor\":\"white\",\"linecolor\":\"white\",\"ticks\":\"\"}},\"ternary\":{\"bgcolor\":\"#E5ECF6\",\"aaxis\":{\"gridcolor\":\"white\",\"linecolor\":\"white\",\"ticks\":\"\"},\"baxis\":{\"gridcolor\":\"white\",\"linecolor\":\"white\",\"ticks\":\"\"},\"caxis\":{\"gridcolor\":\"white\",\"linecolor\":\"white\",\"ticks\":\"\"}},\"coloraxis\":{\"colorbar\":{\"outlinewidth\":0,\"ticks\":\"\"}},\"colorscale\":{\"sequential\":[[0.0,\"#0d0887\"],[0.1111111111111111,\"#46039f\"],[0.2222222222222222,\"#7201a8\"],[0.3333333333333333,\"#9c179e\"],[0.4444444444444444,\"#bd3786\"],[0.5555555555555556,\"#d8576b\"],[0.6666666666666666,\"#ed7953\"],[0.7777777777777778,\"#fb9f3a\"],[0.8888888888888888,\"#fdca26\"],[1.0,\"#f0f921\"]],\"sequentialminus\":[[0.0,\"#0d0887\"],[0.1111111111111111,\"#46039f\"],[0.2222222222222222,\"#7201a8\"],[0.3333333333333333,\"#9c179e\"],[0.4444444444444444,\"#bd3786\"],[0.5555555555555556,\"#d8576b\"],[0.6666666666666666,\"#ed7953\"],[0.7777777777777778,\"#fb9f3a\"],[0.8888888888888888,\"#fdca26\"],[1.0,\"#f0f921\"]],\"diverging\":[[0,\"#8e0152\"],[0.1,\"#c51b7d\"],[0.2,\"#de77ae\"],[0.3,\"#f1b6da\"],[0.4,\"#fde0ef\"],[0.5,\"#f7f7f7\"],[0.6,\"#e6f5d0\"],[0.7,\"#b8e186\"],[0.8,\"#7fbc41\"],[0.9,\"#4d9221\"],[1,\"#276419\"]]},\"xaxis\":{\"gridcolor\":\"white\",\"linecolor\":\"white\",\"ticks\":\"\",\"title\":{\"standoff\":15},\"zerolinecolor\":\"white\",\"automargin\":true,\"zerolinewidth\":2},\"yaxis\":{\"gridcolor\":\"white\",\"linecolor\":\"white\",\"ticks\":\"\",\"title\":{\"standoff\":15},\"zerolinecolor\":\"white\",\"automargin\":true,\"zerolinewidth\":2},\"scene\":{\"xaxis\":{\"backgroundcolor\":\"#E5ECF6\",\"gridcolor\":\"white\",\"linecolor\":\"white\",\"showbackground\":true,\"ticks\":\"\",\"zerolinecolor\":\"white\",\"gridwidth\":2},\"yaxis\":{\"backgroundcolor\":\"#E5ECF6\",\"gridcolor\":\"white\",\"linecolor\":\"white\",\"showbackground\":true,\"ticks\":\"\",\"zerolinecolor\":\"white\",\"gridwidth\":2},\"zaxis\":{\"backgroundcolor\":\"#E5ECF6\",\"gridcolor\":\"white\",\"linecolor\":\"white\",\"showbackground\":true,\"ticks\":\"\",\"zerolinecolor\":\"white\",\"gridwidth\":2}},\"shapedefaults\":{\"line\":{\"color\":\"#2a3f5f\"}},\"annotationdefaults\":{\"arrowcolor\":\"#2a3f5f\",\"arrowhead\":0,\"arrowwidth\":1},\"geo\":{\"bgcolor\":\"white\",\"landcolor\":\"#E5ECF6\",\"subunitcolor\":\"white\",\"showland\":true,\"showlakes\":true,\"lakecolor\":\"white\"},\"title\":{\"x\":0.05},\"mapbox\":{\"style\":\"light\"}}},\"yaxis\":{\"type\":\"category\",\"categoryorder\":\"array\",\"categoryarray\":[\"Machine10\",\"Machine9\",\"Machine8\",\"Machine7\",\"Machine6\",\"Machine5\",\"Machine4\",\"Machine3\",\"Machine2\",\"Machine1\",\"Machine0\",\"Machine3\",\"Machine7\",\"Machine6\",\"Machine5\",\"Machine8\",\"Machine0\",\"Machine4\",\"Machine9\",\"Machine1\",\"Machine10\",\"Machine2\",\"Machine3\",\"Machine9\",\"Machine2\",\"Machine8\",\"Machine10\",\"Machine3\",\"Machine6\",\"Machine9\",\"Machine8\",\"Machine1\",\"Machine9\",\"Machine0\",\"Machine7\",\"Machine4\",\"Machine3\",\"Machine5\",\"Machine2\",\"Machine6\",\"Machine10\",\"Machine0\",\"Machine1\",\"Machine9\",\"Machine0\",\"Machine8\",\"Machine2\",\"Machine9\",\"Machine10\",\"Machine5\",\"Machine0\",\"Machine7\",\"Machine4\",\"Machine1\",\"Machine8\",\"Machine6\",\"Machine3\",\"Machine4\",\"Machine10\",\"Machine2\",\"Machine4\",\"Machine9\",\"Machine5\",\"Machine4\",\"Machine2\",\"Machine7\",\"Machine0\",\"Machine3\",\"Machine1\",\"Machine8\",\"Machine10\",\"Machine4\",\"Machine6\",\"Machine7\",\"Machine5\",\"Machine1\",\"Machine4\",\"Machine9\",\"Machine2\",\"Machine7\",\"Machine0\",\"Machine6\",\"Machine3\",\"Machine8\",\"Machine5\",\"Machine3\",\"Machine5\",\"Machine8\",\"Machine4\",\"Machine1\",\"Machine2\",\"Machine8\",\"Machine10\",\"Machine3\",\"Machine9\",\"Machine6\",\"Machine1\",\"Machine8\",\"Machine0\",\"Machine6\",\"Machine5\",\"Machine10\",\"Machine7\",\"Machine2\",\"Machine10\",\"Machine9\",\"Machine0\",\"Machine4\",\"Machine2\",\"Machine6\",\"Machine9\",\"Machine10\",\"Machine3\",\"Machine5\",\"Machine1\",\"Machine8\",\"Machine6\",\"Machine4\",\"Machine10\",\"Machine9\",\"Machine7\",\"Machine8\",\"Machine8\",\"Machine10\",\"Machine3\",\"Machine2\",\"Machine7\",\"Machine0\",\"Machine10\",\"Machine4\",\"Machine10\",\"Machine6\",\"Machine10\",\"Machine9\",\"Machine4\",\"Machine1\",\"Machine2\",\"Machine0\",\"Machine4\"]},\"title\":{\"text\":\"\\u6309Job\\u4e0a\\u8272\\u7684FJSP\\u8c03\\u5ea6\\u793a\\u610f\\u56fe - \\u591a\\u79cd\\u989c\\u8272\"},\"xaxis\":{\"title\":{\"text\":\"\\u65f6\\u95f4\"}},\"barmode\":\"stack\",\"legend\":{\"title\":{\"text\":\"Job\"}}},                        {\"responsive\": true}                    ).then(function(){\n",
       "                            \n",
       "var gd = document.getElementById('8735f0fa-c0d2-4962-b310-4a34e99e4fb8');\n",
       "var x = new MutationObserver(function (mutations, observer) {{\n",
       "        var display = window.getComputedStyle(gd).display;\n",
       "        if (!display || display === 'none') {{\n",
       "            console.log([gd, 'removed!']);\n",
       "            Plotly.purge(gd);\n",
       "            observer.disconnect();\n",
       "        }}\n",
       "}});\n",
       "\n",
       "// Listen for the removal of the full notebook cells\n",
       "var notebookContainer = gd.closest('#notebook-container');\n",
       "if (notebookContainer) {{\n",
       "    x.observe(notebookContainer, {childList: true});\n",
       "}}\n",
       "\n",
       "// Listen for the clearing of the current output cell\n",
       "var outputEl = gd.closest('.output');\n",
       "if (outputEl) {{\n",
       "    x.observe(outputEl, {childList: true});\n",
       "}}\n",
       "\n",
       "                        })                };                });            </script>        </div>"
      ]
     },
     "metadata": {},
     "output_type": "display_data"
    },
    {
     "name": "stdout",
     "output_type": "stream",
     "text": [
      "testing results:\n",
      "makespan(greedy):  165.8\n",
      "====================================================================================================\n",
      "[{'Task': 'Job', 'Station': 'Machine10', 'Start': 0, 'Duration': 0, 'Width': 0.4}, {'Task': 'Job', 'Station': 'Machine9', 'Start': 0, 'Duration': 0, 'Width': 0.4}, {'Task': 'Job', 'Station': 'Machine8', 'Start': 0, 'Duration': 0, 'Width': 0.4}, {'Task': 'Job', 'Station': 'Machine7', 'Start': 0, 'Duration': 0, 'Width': 0.4}, {'Task': 'Job', 'Station': 'Machine6', 'Start': 0, 'Duration': 0, 'Width': 0.4}, {'Task': 'Job', 'Station': 'Machine5', 'Start': 0, 'Duration': 0, 'Width': 0.4}, {'Task': 'Job', 'Station': 'Machine4', 'Start': 0, 'Duration': 0, 'Width': 0.4}, {'Task': 'Job', 'Station': 'Machine3', 'Start': 0, 'Duration': 0, 'Width': 0.4}, {'Task': 'Job', 'Station': 'Machine2', 'Start': 0, 'Duration': 0, 'Width': 0.4}, {'Task': 'Job', 'Station': 'Machine1', 'Start': 0, 'Duration': 0, 'Width': 0.4}, {'Task': 'Job', 'Station': 'Machine0', 'Start': 0, 'Duration': 0, 'Width': 0.4}, {'Task': 'Job2', 'Station': 'Machine3', 'Start': 0.0, 'Duration': 1, 'Width': 0.4}, {'Task': 'Job9', 'Station': 'Machine7', 'Start': 0.0, 'Duration': 15, 'Width': 0.4}, {'Task': 'Job1', 'Station': 'Machine6', 'Start': 0.0, 'Duration': 4, 'Width': 0.4}, {'Task': 'Job8', 'Station': 'Machine5', 'Start': 0.0, 'Duration': 1, 'Width': 0.4}, {'Task': 'Job4', 'Station': 'Machine8', 'Start': 0.0, 'Duration': 4, 'Width': 0.4}, {'Task': 'Job10', 'Station': 'Machine0', 'Start': 0.0, 'Duration': 14, 'Width': 0.4}, {'Task': 'Job5', 'Station': 'Machine4', 'Start': 0.0, 'Duration': 15, 'Width': 0.4}, {'Task': 'Job11', 'Station': 'Machine9', 'Start': 0.0, 'Duration': 1, 'Width': 0.4}, {'Task': 'Job3', 'Station': 'Machine1', 'Start': 0.0, 'Duration': 10, 'Width': 0.4}, {'Task': 'Job12', 'Station': 'Machine10', 'Start': 0.0, 'Duration': 6, 'Width': 0.4}, {'Task': 'Job2', 'Station': 'Machine2', 'Start': 1.0, 'Duration': 1, 'Width': 0.4}, {'Task': 'Job8', 'Station': 'Machine3', 'Start': 1.0, 'Duration': 5, 'Width': 0.4}, {'Task': 'Job13', 'Station': 'Machine9', 'Start': 1.0, 'Duration': 5, 'Width': 0.4}, {'Task': 'Job2', 'Station': 'Machine2', 'Start': 2.0, 'Duration': 16, 'Width': 0.4}, {'Task': 'Job4', 'Station': 'Machine8', 'Start': 4.0, 'Duration': 3, 'Width': 0.4}, {'Task': 'Job1', 'Station': 'Machine10', 'Start': 6.0, 'Duration': 17, 'Width': 0.4}, {'Task': 'Job11', 'Station': 'Machine3', 'Start': 6.0, 'Duration': 10, 'Width': 0.4}, {'Task': 'Job8', 'Station': 'Machine6', 'Start': 6.0, 'Duration': 14, 'Width': 0.4}, {'Task': 'Job13', 'Station': 'Machine9', 'Start': 6.0, 'Duration': 8, 'Width': 0.4}, {'Task': 'Job4', 'Station': 'Machine8', 'Start': 7.0, 'Duration': 19, 'Width': 0.4}, {'Task': 'Job0', 'Station': 'Machine1', 'Start': 10.0, 'Duration': 13, 'Width': 0.4}, {'Task': 'Job3', 'Station': 'Machine9', 'Start': 14.0, 'Duration': 10, 'Width': 0.4}, {'Task': 'Job13', 'Station': 'Machine0', 'Start': 14.0, 'Duration': 9, 'Width': 0.4}, {'Task': 'Job7', 'Station': 'Machine7', 'Start': 15.0, 'Duration': 14, 'Width': 0.4}, {'Task': 'Job5', 'Station': 'Machine4', 'Start': 15.0, 'Duration': 14, 'Width': 0.4}, {'Task': 'Job6', 'Station': 'Machine3', 'Start': 16.0, 'Duration': 18, 'Width': 0.4}, {'Task': 'Job11', 'Station': 'Machine5', 'Start': 16.0, 'Duration': 11, 'Width': 0.4}, {'Task': 'Job2', 'Station': 'Machine2', 'Start': 18.0, 'Duration': 8, 'Width': 0.4}, {'Task': 'Job9', 'Station': 'Machine6', 'Start': 20.0, 'Duration': 14, 'Width': 0.4}, {'Task': 'Job10', 'Station': 'Machine10', 'Start': 23.0, 'Duration': 4, 'Width': 0.4}, {'Task': 'Job1', 'Station': 'Machine0', 'Start': 23.0, 'Duration': 2, 'Width': 0.4}, {'Task': 'Job12', 'Station': 'Machine1', 'Start': 23.0, 'Duration': 6, 'Width': 0.4}, {'Task': 'Job13', 'Station': 'Machine9', 'Start': 24.0, 'Duration': 2, 'Width': 0.4}, {'Task': 'Job3', 'Station': 'Machine0', 'Start': 25.0, 'Duration': 2, 'Width': 0.4}, {'Task': 'Job1', 'Station': 'Machine8', 'Start': 26.0, 'Duration': 6, 'Width': 0.4}, {'Task': 'Job8', 'Station': 'Machine2', 'Start': 26.0, 'Duration': 10, 'Width': 0.4}, {'Task': 'Job2', 'Station': 'Machine9', 'Start': 26.0, 'Duration': 12, 'Width': 0.4}, {'Task': 'Job10', 'Station': 'Machine10', 'Start': 27.0, 'Duration': 8, 'Width': 0.4}, {'Task': 'Job0', 'Station': 'Machine5', 'Start': 27.0, 'Duration': 11, 'Width': 0.4}, {'Task': 'Job4', 'Station': 'Machine0', 'Start': 27.0, 'Duration': 16, 'Width': 0.4}, {'Task': 'Job5', 'Station': 'Machine7', 'Start': 29.0, 'Duration': 14, 'Width': 0.4}, {'Task': 'Job3', 'Station': 'Machine4', 'Start': 29.0, 'Duration': 6, 'Width': 0.4}, {'Task': 'Job13', 'Station': 'Machine1', 'Start': 29.0, 'Duration': 16, 'Width': 0.4}, {'Task': 'Job11', 'Station': 'Machine8', 'Start': 32.0, 'Duration': 13, 'Width': 0.4}, {'Task': 'Job9', 'Station': 'Machine6', 'Start': 34.0, 'Duration': 13, 'Width': 0.4}, {'Task': 'Job7', 'Station': 'Machine3', 'Start': 34.0, 'Duration': 9, 'Width': 0.4}, {'Task': 'Job1', 'Station': 'Machine4', 'Start': 35.0, 'Duration': 2, 'Width': 0.4}, {'Task': 'Job10', 'Station': 'Machine10', 'Start': 35.0, 'Duration': 11, 'Width': 0.4}, {'Task': 'Job6', 'Station': 'Machine2', 'Start': 36.0, 'Duration': 5, 'Width': 0.4}, {'Task': 'Job8', 'Station': 'Machine4', 'Start': 37.0, 'Duration': 2, 'Width': 0.4}, {'Task': 'Job2', 'Station': 'Machine9', 'Start': 38.0, 'Duration': 13, 'Width': 0.4}, {'Task': 'Job1', 'Station': 'Machine5', 'Start': 38.0, 'Duration': 11, 'Width': 0.4}, {'Task': 'Job12', 'Station': 'Machine4', 'Start': 39.0, 'Duration': 8, 'Width': 0.4}, {'Task': 'Job6', 'Station': 'Machine2', 'Start': 41.0, 'Duration': 10, 'Width': 0.4}, {'Task': 'Job8', 'Station': 'Machine7', 'Start': 43.0, 'Duration': 6, 'Width': 0.4}, {'Task': 'Job3', 'Station': 'Machine0', 'Start': 43.0, 'Duration': 10, 'Width': 0.4}, {'Task': 'Job5', 'Station': 'Machine3', 'Start': 43.0, 'Duration': 11, 'Width': 0.4}, {'Task': 'Job4', 'Station': 'Machine1', 'Start': 45.0, 'Duration': 4, 'Width': 0.4}, {'Task': 'Job7', 'Station': 'Machine8', 'Start': 45.0, 'Duration': 11, 'Width': 0.4}, {'Task': 'Job10', 'Station': 'Machine10', 'Start': 46.0, 'Duration': 17, 'Width': 0.4}, {'Task': 'Job11', 'Station': 'Machine4', 'Start': 47.0, 'Duration': 3, 'Width': 0.4}, {'Task': 'Job13', 'Station': 'Machine6', 'Start': 47.0, 'Duration': 6, 'Width': 0.4}, {'Task': 'Job9', 'Station': 'Machine7', 'Start': 49.0, 'Duration': 3, 'Width': 0.4}, {'Task': 'Job1', 'Station': 'Machine5', 'Start': 49.0, 'Duration': 9, 'Width': 0.4}, {'Task': 'Job0', 'Station': 'Machine1', 'Start': 49.0, 'Duration': 13, 'Width': 0.4}, {'Task': 'Job12', 'Station': 'Machine4', 'Start': 50.0, 'Duration': 12, 'Width': 0.4}, {'Task': 'Job8', 'Station': 'Machine9', 'Start': 51.0, 'Duration': 15, 'Width': 0.4}, {'Task': 'Job2', 'Station': 'Machine2', 'Start': 51.0, 'Duration': 11, 'Width': 0.4}, {'Task': 'Job4', 'Station': 'Machine7', 'Start': 52.0, 'Duration': 20, 'Width': 0.4}, {'Task': 'Job11', 'Station': 'Machine0', 'Start': 53.0, 'Duration': 17, 'Width': 0.4}, {'Task': 'Job3', 'Station': 'Machine6', 'Start': 53.0, 'Duration': 14, 'Width': 0.4}, {'Task': 'Job5', 'Station': 'Machine3', 'Start': 54.0, 'Duration': 6, 'Width': 0.4}, {'Task': 'Job7', 'Station': 'Machine8', 'Start': 56.0, 'Duration': 5, 'Width': 0.4}, {'Task': 'Job9', 'Station': 'Machine5', 'Start': 58.0, 'Duration': 2, 'Width': 0.4}, {'Task': 'Job5', 'Station': 'Machine3', 'Start': 60.0, 'Duration': 5, 'Width': 0.4}, {'Task': 'Job9', 'Station': 'Machine5', 'Start': 60.0, 'Duration': 12, 'Width': 0.4}, {'Task': 'Job1', 'Station': 'Machine8', 'Start': 61.0, 'Duration': 2, 'Width': 0.4}, {'Task': 'Job6', 'Station': 'Machine4', 'Start': 62.0, 'Duration': 17, 'Width': 0.4}, {'Task': 'Job12', 'Station': 'Machine1', 'Start': 62.0, 'Duration': 6, 'Width': 0.4}, {'Task': 'Job2', 'Station': 'Machine2', 'Start': 62.0, 'Duration': 12, 'Width': 0.4}, {'Task': 'Job10', 'Station': 'Machine8', 'Start': 63.0, 'Duration': 6, 'Width': 0.4}, {'Task': 'Job1', 'Station': 'Machine10', 'Start': 63.0, 'Duration': 10, 'Width': 0.4}, {'Task': 'Job5', 'Station': 'Machine3', 'Start': 65.0, 'Duration': 13, 'Width': 0.4}, {'Task': 'Job7', 'Station': 'Machine9', 'Start': 66.0, 'Duration': 12, 'Width': 0.4}, {'Task': 'Job0', 'Station': 'Machine6', 'Start': 67.0, 'Duration': 4, 'Width': 0.4}, {'Task': 'Job3', 'Station': 'Machine1', 'Start': 68.0, 'Duration': 18, 'Width': 0.4}, {'Task': 'Job8', 'Station': 'Machine8', 'Start': 69.0, 'Duration': 16, 'Width': 0.4}, {'Task': 'Job10', 'Station': 'Machine0', 'Start': 70.0, 'Duration': 10, 'Width': 0.4}, {'Task': 'Job0', 'Station': 'Machine6', 'Start': 71.0, 'Duration': 10, 'Width': 0.4}, {'Task': 'Job9', 'Station': 'Machine5', 'Start': 72.0, 'Duration': 13, 'Width': 0.4}, {'Task': 'Job11', 'Station': 'Machine10', 'Start': 73.0, 'Duration': 2, 'Width': 0.4}, {'Task': 'Job1', 'Station': 'Machine7', 'Start': 73.0, 'Duration': 14, 'Width': 0.4}, {'Task': 'Job2', 'Station': 'Machine2', 'Start': 74.0, 'Duration': 6, 'Width': 0.4}, {'Task': 'Job4', 'Station': 'Machine10', 'Start': 75.0, 'Duration': 10, 'Width': 0.4}, {'Task': 'Job7', 'Station': 'Machine9', 'Start': 78.0, 'Duration': 3, 'Width': 0.4}, {'Task': 'Job10', 'Station': 'Machine0', 'Start': 80.0, 'Duration': 17, 'Width': 0.4}, {'Task': 'Job2', 'Station': 'Machine4', 'Start': 80.0, 'Duration': 9, 'Width': 0.4}, {'Task': 'Job6', 'Station': 'Machine2', 'Start': 80.0, 'Duration': 17, 'Width': 0.4}, {'Task': 'Job5', 'Station': 'Machine6', 'Start': 81.0, 'Duration': 5, 'Width': 0.4}, {'Task': 'Job7', 'Station': 'Machine9', 'Start': 81.0, 'Duration': 11, 'Width': 0.4}, {'Task': 'Job4', 'Station': 'Machine10', 'Start': 85.0, 'Duration': 7, 'Width': 0.4}, {'Task': 'Job8', 'Station': 'Machine3', 'Start': 85.0, 'Duration': 12, 'Width': 0.4}, {'Task': 'Job11', 'Station': 'Machine5', 'Start': 85.0, 'Duration': 19, 'Width': 0.4}, {'Task': 'Job9', 'Station': 'Machine1', 'Start': 86.0, 'Duration': 17, 'Width': 0.4}, {'Task': 'Job5', 'Station': 'Machine8', 'Start': 86.0, 'Duration': 9, 'Width': 0.4}, {'Task': 'Job3', 'Station': 'Machine6', 'Start': 86.0, 'Duration': 8, 'Width': 0.4}, {'Task': 'Job1', 'Station': 'Machine4', 'Start': 89.0, 'Duration': 10, 'Width': 0.4}, {'Task': 'Job4', 'Station': 'Machine10', 'Start': 92.0, 'Duration': 5, 'Width': 0.4}, {'Task': 'Job7', 'Station': 'Machine9', 'Start': 92.0, 'Duration': 16, 'Width': 0.4}, {'Task': 'Job3', 'Station': 'Machine7', 'Start': 94.0, 'Duration': 3, 'Width': 0.4}, {'Task': 'Job5', 'Station': 'Machine8', 'Start': 95.0, 'Duration': 2, 'Width': 0.4}, {'Task': 'Job5', 'Station': 'Machine8', 'Start': 97.0, 'Duration': 11, 'Width': 0.4}, {'Task': 'Job8', 'Station': 'Machine10', 'Start': 97.0, 'Duration': 6, 'Width': 0.4}, {'Task': 'Job4', 'Station': 'Machine3', 'Start': 97.0, 'Duration': 12, 'Width': 0.4}, {'Task': 'Job2', 'Station': 'Machine2', 'Start': 97.0, 'Duration': 11, 'Width': 0.4}, {'Task': 'Job10', 'Station': 'Machine7', 'Start': 97.0, 'Duration': 8, 'Width': 0.4}, {'Task': 'Job6', 'Station': 'Machine0', 'Start': 97.0, 'Duration': 4, 'Width': 0.4}, {'Task': 'Job8', 'Station': 'Machine10', 'Start': 103.0, 'Duration': 2, 'Width': 0.4}, {'Task': 'Job9', 'Station': 'Machine4', 'Start': 103.0, 'Duration': 10, 'Width': 0.4}, {'Task': 'Job11', 'Station': 'Machine10', 'Start': 105.0, 'Duration': 3, 'Width': 0.4}, {'Task': 'Job10', 'Station': 'Machine6', 'Start': 105.0, 'Duration': 13, 'Width': 0.4}, {'Task': 'Job5', 'Station': 'Machine10', 'Start': 108.0, 'Duration': 5, 'Width': 0.4}, {'Task': 'Job2', 'Station': 'Machine9', 'Start': 108.0, 'Duration': 6, 'Width': 0.4}, {'Task': 'Job9', 'Station': 'Machine4', 'Start': 113.0, 'Duration': 16, 'Width': 0.4}, {'Task': 'Job5', 'Station': 'Machine1', 'Start': 113.0, 'Duration': 7, 'Width': 0.4}, {'Task': 'Job2', 'Station': 'Machine2', 'Start': 114.0, 'Duration': 6, 'Width': 0.4}, {'Task': 'Job2', 'Station': 'Machine0', 'Start': 120.0, 'Duration': 15, 'Width': 0.4}, {'Task': 'Job9', 'Station': 'Machine4', 'Start': 129.0, 'Duration': 17, 'Width': 0.4}]\n",
      "[165.8]\n"
     ]
    }
   ],
   "source": [
    "# DAN 解\n",
    "configs = parser.parse_args(args=args)\n",
    "\n",
    "setup_seed(configs.seed_test)\n",
    "\n",
    "test_model = []\n",
    "\n",
    "for model_name in configs.test_model:\n",
    "    test_model.append((f'./trained_network/{configs.model_source}/{model_name}.pth', model_name))\n",
    "print(test_model)\n",
    "test_data = pack_data_from_config(configs.data_source, configs.test_data)\n",
    "# print(test_data)\n",
    "makespans = []\n",
    "for i in range(len(test_model)):\n",
    "    model = test_model[i]\n",
    "    data = test_data[i][0]\n",
    "    print(data[1][0])\n",
    "    result_5_times = []\n",
    "    for j in range(2):\n",
    "        test = Test(configs, data, model[0])     \n",
    "        result = test.greedy_strategy()\n",
    "        result_5_times.append(result)\n",
    "        test.env.render()\n",
    "        tasks_data = test.env.tasks_data\n",
    "    result_5_times = np.array(result_5_times)\n",
    "\n",
    "    save_result = np.min(result_5_times, axis=0)\n",
    "    print(\"testing results:\")\n",
    "    print(f\"makespan(greedy): \", save_result[:, 0].mean())\n",
    "    makespans.append(save_result[:, 0].mean())\n",
    "    print(\"=\"*100)\n",
    "print(tasks_data)\n",
    "baseline_makespans = np.array(makespans)\n",
    "print(baseline_makespans)\n",
    "\n"
   ]
  },
  {
   "cell_type": "code",
   "execution_count": null,
   "metadata": {},
   "outputs": [
    {
     "data": {
      "application/vnd.plotly.v1+json": {
       "config": {
        "plotlyServerURL": "https://plot.ly"
       },
       "data": [
        {
         "base": [
          0
         ],
         "marker": {
          "color": "#EF553B"
         },
         "name": "Job",
         "orientation": "h",
         "type": "bar",
         "width": [
          0.4
         ],
         "x": [
          0
         ],
         "y": [
          "Machine10"
         ]
        },
        {
         "base": [
          0
         ],
         "marker": {
          "color": "#EF553B"
         },
         "name": "Job",
         "orientation": "h",
         "type": "bar",
         "width": [
          0.4
         ],
         "x": [
          0
         ],
         "y": [
          "Machine9"
         ]
        },
        {
         "base": [
          0
         ],
         "marker": {
          "color": "#EF553B"
         },
         "name": "Job",
         "orientation": "h",
         "type": "bar",
         "width": [
          0.4
         ],
         "x": [
          0
         ],
         "y": [
          "Machine8"
         ]
        },
        {
         "base": [
          0
         ],
         "marker": {
          "color": "#EF553B"
         },
         "name": "Job",
         "orientation": "h",
         "type": "bar",
         "width": [
          0.4
         ],
         "x": [
          0
         ],
         "y": [
          "Machine7"
         ]
        },
        {
         "base": [
          0
         ],
         "marker": {
          "color": "#EF553B"
         },
         "name": "Job",
         "orientation": "h",
         "type": "bar",
         "width": [
          0.4
         ],
         "x": [
          0
         ],
         "y": [
          "Machine6"
         ]
        },
        {
         "base": [
          0
         ],
         "marker": {
          "color": "#EF553B"
         },
         "name": "Job",
         "orientation": "h",
         "type": "bar",
         "width": [
          0.4
         ],
         "x": [
          0
         ],
         "y": [
          "Machine5"
         ]
        },
        {
         "base": [
          0
         ],
         "marker": {
          "color": "#EF553B"
         },
         "name": "Job",
         "orientation": "h",
         "type": "bar",
         "width": [
          0.4
         ],
         "x": [
          0
         ],
         "y": [
          "Machine4"
         ]
        },
        {
         "base": [
          0
         ],
         "marker": {
          "color": "#EF553B"
         },
         "name": "Job",
         "orientation": "h",
         "type": "bar",
         "width": [
          0.4
         ],
         "x": [
          0
         ],
         "y": [
          "Machine3"
         ]
        },
        {
         "base": [
          0
         ],
         "marker": {
          "color": "#EF553B"
         },
         "name": "Job",
         "orientation": "h",
         "type": "bar",
         "width": [
          0.4
         ],
         "x": [
          0
         ],
         "y": [
          "Machine2"
         ]
        },
        {
         "base": [
          0
         ],
         "marker": {
          "color": "#EF553B"
         },
         "name": "Job",
         "orientation": "h",
         "type": "bar",
         "width": [
          0.4
         ],
         "x": [
          0
         ],
         "y": [
          "Machine1"
         ]
        },
        {
         "base": [
          0
         ],
         "marker": {
          "color": "#EF553B"
         },
         "name": "Job",
         "orientation": "h",
         "type": "bar",
         "width": [
          0.4
         ],
         "x": [
          0
         ],
         "y": [
          "Machine0"
         ]
        },
        {
         "base": [
          0
         ],
         "marker": {
          "color": "#636EFA"
         },
         "name": "Job2",
         "orientation": "h",
         "type": "bar",
         "width": [
          0.4
         ],
         "x": [
          1
         ],
         "y": [
          "Machine3"
         ]
        },
        {
         "base": [
          0
         ],
         "marker": {
          "color": "#00CC96"
         },
         "name": "Job9",
         "orientation": "h",
         "type": "bar",
         "width": [
          0.4
         ],
         "x": [
          15
         ],
         "y": [
          "Machine7"
         ]
        },
        {
         "base": [
          0
         ],
         "marker": {
          "color": "rgb(190, 56, 143)"
         },
         "name": "Job1",
         "orientation": "h",
         "type": "bar",
         "width": [
          0.4
         ],
         "x": [
          4
         ],
         "y": [
          "Machine6"
         ]
        },
        {
         "base": [
          0
         ],
         "marker": {
          "color": "#AB63FA"
         },
         "name": "Job8",
         "orientation": "h",
         "type": "bar",
         "width": [
          0.4
         ],
         "x": [
          1
         ],
         "y": [
          "Machine5"
         ]
        },
        {
         "base": [
          0
         ],
         "marker": {
          "color": "rgb(56, 75, 175)"
         },
         "name": "Job4",
         "orientation": "h",
         "type": "bar",
         "width": [
          0.4
         ],
         "x": [
          4
         ],
         "y": [
          "Machine8"
         ]
        },
        {
         "base": [
          0
         ],
         "marker": {
          "color": "#FECB52"
         },
         "name": "Job10",
         "orientation": "h",
         "type": "bar",
         "width": [
          0.4
         ],
         "x": [
          14
         ],
         "y": [
          "Machine0"
         ]
        },
        {
         "base": [
          0
         ],
         "marker": {
          "color": "rgb(206, 86, 63)"
         },
         "name": "Job5",
         "orientation": "h",
         "type": "bar",
         "width": [
          0.4
         ],
         "x": [
          15
         ],
         "y": [
          "Machine4"
         ]
        },
        {
         "base": [
          0
         ],
         "marker": {
          "color": "#B6E880"
         },
         "name": "Job11",
         "orientation": "h",
         "type": "bar",
         "width": [
          0.4
         ],
         "x": [
          1
         ],
         "y": [
          "Machine9"
         ]
        },
        {
         "base": [
          0
         ],
         "marker": {
          "color": "#19D3F3"
         },
         "name": "Job3",
         "orientation": "h",
         "type": "bar",
         "width": [
          0.4
         ],
         "x": [
          10
         ],
         "y": [
          "Machine1"
         ]
        },
        {
         "base": [
          0
         ],
         "marker": {
          "color": "#FFA15A"
         },
         "name": "Job12",
         "orientation": "h",
         "type": "bar",
         "width": [
          0.4
         ],
         "x": [
          6
         ],
         "y": [
          "Machine10"
         ]
        },
        {
         "base": [
          1
         ],
         "marker": {
          "color": "#636EFA"
         },
         "name": "Job2",
         "orientation": "h",
         "type": "bar",
         "width": [
          0.4
         ],
         "x": [
          1
         ],
         "y": [
          "Machine2"
         ]
        },
        {
         "base": [
          1
         ],
         "marker": {
          "color": "#AB63FA"
         },
         "name": "Job8",
         "orientation": "h",
         "type": "bar",
         "width": [
          0.4
         ],
         "x": [
          5
         ],
         "y": [
          "Machine3"
         ]
        },
        {
         "base": [
          1
         ],
         "marker": {
          "color": "#FF97FF"
         },
         "name": "Job13",
         "orientation": "h",
         "type": "bar",
         "width": [
          0.4
         ],
         "x": [
          5
         ],
         "y": [
          "Machine9"
         ]
        },
        {
         "base": [
          2
         ],
         "marker": {
          "color": "#636EFA"
         },
         "name": "Job2",
         "orientation": "h",
         "type": "bar",
         "width": [
          0.4
         ],
         "x": [
          16
         ],
         "y": [
          "Machine2"
         ]
        },
        {
         "base": [
          4
         ],
         "marker": {
          "color": "rgb(56, 75, 175)"
         },
         "name": "Job4",
         "orientation": "h",
         "type": "bar",
         "width": [
          0.4
         ],
         "x": [
          3
         ],
         "y": [
          "Machine8"
         ]
        },
        {
         "base": [
          6
         ],
         "marker": {
          "color": "rgb(190, 56, 143)"
         },
         "name": "Job1",
         "orientation": "h",
         "type": "bar",
         "width": [
          0.4
         ],
         "x": [
          17
         ],
         "y": [
          "Machine10"
         ]
        },
        {
         "base": [
          6
         ],
         "marker": {
          "color": "#B6E880"
         },
         "name": "Job11",
         "orientation": "h",
         "type": "bar",
         "width": [
          0.4
         ],
         "x": [
          10
         ],
         "y": [
          "Machine3"
         ]
        },
        {
         "base": [
          6
         ],
         "marker": {
          "color": "#AB63FA"
         },
         "name": "Job8",
         "orientation": "h",
         "type": "bar",
         "width": [
          0.4
         ],
         "x": [
          14
         ],
         "y": [
          "Machine6"
         ]
        },
        {
         "base": [
          6
         ],
         "marker": {
          "color": "#FF97FF"
         },
         "name": "Job13",
         "orientation": "h",
         "type": "bar",
         "width": [
          0.4
         ],
         "x": [
          8
         ],
         "y": [
          "Machine9"
         ]
        },
        {
         "base": [
          7
         ],
         "marker": {
          "color": "rgb(56, 75, 175)"
         },
         "name": "Job4",
         "orientation": "h",
         "type": "bar",
         "width": [
          0.4
         ],
         "x": [
          19
         ],
         "y": [
          "Machine8"
         ]
        },
        {
         "base": [
          10
         ],
         "marker": {
          "color": "rgb(205, 77, 50)"
         },
         "name": "Job0",
         "orientation": "h",
         "type": "bar",
         "width": [
          0.4
         ],
         "x": [
          13
         ],
         "y": [
          "Machine1"
         ]
        },
        {
         "base": [
          14
         ],
         "marker": {
          "color": "#19D3F3"
         },
         "name": "Job3",
         "orientation": "h",
         "type": "bar",
         "width": [
          0.4
         ],
         "x": [
          10
         ],
         "y": [
          "Machine9"
         ]
        },
        {
         "base": [
          14
         ],
         "marker": {
          "color": "#FF97FF"
         },
         "name": "Job13",
         "orientation": "h",
         "type": "bar",
         "width": [
          0.4
         ],
         "x": [
          9
         ],
         "y": [
          "Machine0"
         ]
        },
        {
         "base": [
          15
         ],
         "marker": {
          "color": "rgb(169, 239, 33)"
         },
         "name": "Job7",
         "orientation": "h",
         "type": "bar",
         "width": [
          0.4
         ],
         "x": [
          14
         ],
         "y": [
          "Machine7"
         ]
        },
        {
         "base": [
          15
         ],
         "marker": {
          "color": "rgb(206, 86, 63)"
         },
         "name": "Job5",
         "orientation": "h",
         "type": "bar",
         "width": [
          0.4
         ],
         "x": [
          14
         ],
         "y": [
          "Machine4"
         ]
        },
        {
         "base": [
          16
         ],
         "marker": {
          "color": "#FF6692"
         },
         "name": "Job6",
         "orientation": "h",
         "type": "bar",
         "width": [
          0.4
         ],
         "x": [
          18
         ],
         "y": [
          "Machine3"
         ]
        },
        {
         "base": [
          16
         ],
         "marker": {
          "color": "#B6E880"
         },
         "name": "Job11",
         "orientation": "h",
         "type": "bar",
         "width": [
          0.4
         ],
         "x": [
          11
         ],
         "y": [
          "Machine5"
         ]
        },
        {
         "base": [
          18
         ],
         "marker": {
          "color": "#636EFA"
         },
         "name": "Job2",
         "orientation": "h",
         "type": "bar",
         "width": [
          0.4
         ],
         "x": [
          8
         ],
         "y": [
          "Machine2"
         ]
        },
        {
         "base": [
          20
         ],
         "marker": {
          "color": "#00CC96"
         },
         "name": "Job9",
         "orientation": "h",
         "type": "bar",
         "width": [
          0.4
         ],
         "x": [
          14
         ],
         "y": [
          "Machine6"
         ]
        },
        {
         "base": [
          23
         ],
         "marker": {
          "color": "#FECB52"
         },
         "name": "Job10",
         "orientation": "h",
         "type": "bar",
         "width": [
          0.4
         ],
         "x": [
          4
         ],
         "y": [
          "Machine10"
         ]
        },
        {
         "base": [
          23
         ],
         "marker": {
          "color": "rgb(190, 56, 143)"
         },
         "name": "Job1",
         "orientation": "h",
         "type": "bar",
         "width": [
          0.4
         ],
         "x": [
          2
         ],
         "y": [
          "Machine0"
         ]
        },
        {
         "base": [
          23
         ],
         "marker": {
          "color": "#FFA15A"
         },
         "name": "Job12",
         "orientation": "h",
         "type": "bar",
         "width": [
          0.4
         ],
         "x": [
          6
         ],
         "y": [
          "Machine1"
         ]
        },
        {
         "base": [
          24
         ],
         "marker": {
          "color": "#FF97FF"
         },
         "name": "Job13",
         "orientation": "h",
         "type": "bar",
         "width": [
          0.4
         ],
         "x": [
          2
         ],
         "y": [
          "Machine9"
         ]
        },
        {
         "base": [
          25
         ],
         "marker": {
          "color": "#19D3F3"
         },
         "name": "Job3",
         "orientation": "h",
         "type": "bar",
         "width": [
          0.4
         ],
         "x": [
          2
         ],
         "y": [
          "Machine0"
         ]
        },
        {
         "base": [
          26
         ],
         "marker": {
          "color": "rgb(190, 56, 143)"
         },
         "name": "Job1",
         "orientation": "h",
         "type": "bar",
         "width": [
          0.4
         ],
         "x": [
          6
         ],
         "y": [
          "Machine8"
         ]
        },
        {
         "base": [
          26
         ],
         "marker": {
          "color": "#AB63FA"
         },
         "name": "Job8",
         "orientation": "h",
         "type": "bar",
         "width": [
          0.4
         ],
         "x": [
          10
         ],
         "y": [
          "Machine2"
         ]
        },
        {
         "base": [
          26
         ],
         "marker": {
          "color": "#636EFA"
         },
         "name": "Job2",
         "orientation": "h",
         "type": "bar",
         "width": [
          0.4
         ],
         "x": [
          12
         ],
         "y": [
          "Machine9"
         ]
        },
        {
         "base": [
          27
         ],
         "marker": {
          "color": "#FECB52"
         },
         "name": "Job10",
         "orientation": "h",
         "type": "bar",
         "width": [
          0.4
         ],
         "x": [
          8
         ],
         "y": [
          "Machine10"
         ]
        },
        {
         "base": [
          27
         ],
         "marker": {
          "color": "rgb(205, 77, 50)"
         },
         "name": "Job0",
         "orientation": "h",
         "type": "bar",
         "width": [
          0.4
         ],
         "x": [
          11
         ],
         "y": [
          "Machine5"
         ]
        },
        {
         "base": [
          27
         ],
         "marker": {
          "color": "rgb(56, 75, 175)"
         },
         "name": "Job4",
         "orientation": "h",
         "type": "bar",
         "width": [
          0.4
         ],
         "x": [
          16
         ],
         "y": [
          "Machine0"
         ]
        },
        {
         "base": [
          29
         ],
         "marker": {
          "color": "rgb(206, 86, 63)"
         },
         "name": "Job5",
         "orientation": "h",
         "type": "bar",
         "width": [
          0.4
         ],
         "x": [
          14
         ],
         "y": [
          "Machine7"
         ]
        },
        {
         "base": [
          29
         ],
         "marker": {
          "color": "#19D3F3"
         },
         "name": "Job3",
         "orientation": "h",
         "type": "bar",
         "width": [
          0.4
         ],
         "x": [
          6
         ],
         "y": [
          "Machine4"
         ]
        },
        {
         "base": [
          29
         ],
         "marker": {
          "color": "#FF97FF"
         },
         "name": "Job13",
         "orientation": "h",
         "type": "bar",
         "width": [
          0.4
         ],
         "x": [
          16
         ],
         "y": [
          "Machine1"
         ]
        },
        {
         "base": [
          32
         ],
         "marker": {
          "color": "#B6E880"
         },
         "name": "Job11",
         "orientation": "h",
         "type": "bar",
         "width": [
          0.4
         ],
         "x": [
          13
         ],
         "y": [
          "Machine8"
         ]
        },
        {
         "base": [
          34
         ],
         "marker": {
          "color": "#00CC96"
         },
         "name": "Job9",
         "orientation": "h",
         "type": "bar",
         "width": [
          0.4
         ],
         "x": [
          13
         ],
         "y": [
          "Machine6"
         ]
        },
        {
         "base": [
          34
         ],
         "marker": {
          "color": "rgb(169, 239, 33)"
         },
         "name": "Job7",
         "orientation": "h",
         "type": "bar",
         "width": [
          0.4
         ],
         "x": [
          9
         ],
         "y": [
          "Machine3"
         ]
        },
        {
         "base": [
          35
         ],
         "marker": {
          "color": "rgb(190, 56, 143)"
         },
         "name": "Job1",
         "orientation": "h",
         "type": "bar",
         "width": [
          0.4
         ],
         "x": [
          2
         ],
         "y": [
          "Machine4"
         ]
        },
        {
         "base": [
          35
         ],
         "marker": {
          "color": "#FECB52"
         },
         "name": "Job10",
         "orientation": "h",
         "type": "bar",
         "width": [
          0.4
         ],
         "x": [
          11
         ],
         "y": [
          "Machine10"
         ]
        },
        {
         "base": [
          36
         ],
         "marker": {
          "color": "#FF6692"
         },
         "name": "Job6",
         "orientation": "h",
         "type": "bar",
         "width": [
          0.4
         ],
         "x": [
          5
         ],
         "y": [
          "Machine2"
         ]
        },
        {
         "base": [
          37
         ],
         "marker": {
          "color": "#AB63FA"
         },
         "name": "Job8",
         "orientation": "h",
         "type": "bar",
         "width": [
          0.4
         ],
         "x": [
          2
         ],
         "y": [
          "Machine4"
         ]
        },
        {
         "base": [
          38
         ],
         "marker": {
          "color": "#636EFA"
         },
         "name": "Job2",
         "orientation": "h",
         "type": "bar",
         "width": [
          0.4
         ],
         "x": [
          13
         ],
         "y": [
          "Machine9"
         ]
        },
        {
         "base": [
          39
         ],
         "marker": {
          "color": "#FFA15A"
         },
         "name": "Job12",
         "orientation": "h",
         "type": "bar",
         "width": [
          0.4
         ],
         "x": [
          8
         ],
         "y": [
          "Machine4"
         ]
        },
        {
         "base": [
          41
         ],
         "marker": {
          "color": "#FF6692"
         },
         "name": "Job6",
         "orientation": "h",
         "type": "bar",
         "width": [
          0.4
         ],
         "x": [
          10
         ],
         "y": [
          "Machine2"
         ]
        },
        {
         "base": [
          43
         ],
         "marker": {
          "color": "#AB63FA"
         },
         "name": "Job8",
         "orientation": "h",
         "type": "bar",
         "width": [
          0.4
         ],
         "x": [
          6
         ],
         "y": [
          "Machine7"
         ]
        },
        {
         "base": [
          43
         ],
         "marker": {
          "color": "#19D3F3"
         },
         "name": "Job3",
         "orientation": "h",
         "type": "bar",
         "width": [
          0.4
         ],
         "x": [
          10
         ],
         "y": [
          "Machine0"
         ]
        },
        {
         "base": [
          43
         ],
         "marker": {
          "color": "rgb(206, 86, 63)"
         },
         "name": "Job5",
         "orientation": "h",
         "type": "bar",
         "width": [
          0.4
         ],
         "x": [
          11
         ],
         "y": [
          "Machine3"
         ]
        },
        {
         "base": [
          45
         ],
         "marker": {
          "color": "rgb(56, 75, 175)"
         },
         "name": "Job4",
         "orientation": "h",
         "type": "bar",
         "width": [
          0.4
         ],
         "x": [
          4
         ],
         "y": [
          "Machine1"
         ]
        },
        {
         "base": [
          45
         ],
         "marker": {
          "color": "rgb(169, 239, 33)"
         },
         "name": "Job7",
         "orientation": "h",
         "type": "bar",
         "width": [
          0.4
         ],
         "x": [
          11
         ],
         "y": [
          "Machine8"
         ]
        },
        {
         "base": [
          46
         ],
         "marker": {
          "color": "#FECB52"
         },
         "name": "Job10",
         "orientation": "h",
         "type": "bar",
         "width": [
          0.4
         ],
         "x": [
          17
         ],
         "y": [
          "Machine10"
         ]
        },
        {
         "base": [
          47
         ],
         "marker": {
          "color": "#B6E880"
         },
         "name": "Job11",
         "orientation": "h",
         "type": "bar",
         "width": [
          0.4
         ],
         "x": [
          3
         ],
         "y": [
          "Machine4"
         ]
        },
        {
         "base": [
          47
         ],
         "marker": {
          "color": "#FF97FF"
         },
         "name": "Job13",
         "orientation": "h",
         "type": "bar",
         "width": [
          0.4
         ],
         "x": [
          6
         ],
         "y": [
          "Machine6"
         ]
        },
        {
         "base": [
          49
         ],
         "marker": {
          "color": "#00CC96"
         },
         "name": "Job9",
         "orientation": "h",
         "type": "bar",
         "width": [
          0.4
         ],
         "x": [
          3
         ],
         "y": [
          "Machine7"
         ]
        },
        {
         "base": [
          49
         ],
         "marker": {
          "color": "rgb(205, 77, 50)"
         },
         "name": "Job0",
         "orientation": "h",
         "type": "bar",
         "width": [
          0.4
         ],
         "x": [
          13
         ],
         "y": [
          "Machine1"
         ]
        },
        {
         "base": [
          50
         ],
         "marker": {
          "color": "#FFA15A"
         },
         "name": "Job12",
         "orientation": "h",
         "type": "bar",
         "width": [
          0.4
         ],
         "x": [
          12
         ],
         "y": [
          "Machine4"
         ]
        },
        {
         "base": [
          51
         ],
         "marker": {
          "color": "#AB63FA"
         },
         "name": "Job8",
         "orientation": "h",
         "type": "bar",
         "width": [
          0.4
         ],
         "x": [
          15
         ],
         "y": [
          "Machine9"
         ]
        },
        {
         "base": [
          51
         ],
         "marker": {
          "color": "#636EFA"
         },
         "name": "Job2",
         "orientation": "h",
         "type": "bar",
         "width": [
          0.4
         ],
         "x": [
          11
         ],
         "y": [
          "Machine2"
         ]
        },
        {
         "base": [
          52
         ],
         "marker": {
          "color": "rgb(56, 75, 175)"
         },
         "name": "Job4",
         "orientation": "h",
         "type": "bar",
         "width": [
          0.4
         ],
         "x": [
          20
         ],
         "y": [
          "Machine7"
         ]
        },
        {
         "base": [
          53
         ],
         "marker": {
          "color": "#B6E880"
         },
         "name": "Job11",
         "orientation": "h",
         "type": "bar",
         "width": [
          0.4
         ],
         "x": [
          17
         ],
         "y": [
          "Machine0"
         ]
        },
        {
         "base": [
          53
         ],
         "marker": {
          "color": "#19D3F3"
         },
         "name": "Job3",
         "orientation": "h",
         "type": "bar",
         "width": [
          0.4
         ],
         "x": [
          14
         ],
         "y": [
          "Machine6"
         ]
        },
        {
         "base": [
          54
         ],
         "marker": {
          "color": "rgb(206, 86, 63)"
         },
         "name": "Job5",
         "orientation": "h",
         "type": "bar",
         "width": [
          0.4
         ],
         "x": [
          6
         ],
         "y": [
          "Machine3"
         ]
        },
        {
         "base": [
          56
         ],
         "marker": {
          "color": "rgb(169, 239, 33)"
         },
         "name": "Job7",
         "orientation": "h",
         "type": "bar",
         "width": [
          0.4
         ],
         "x": [
          5
         ],
         "y": [
          "Machine8"
         ]
        },
        {
         "base": [
          60
         ],
         "marker": {
          "color": "rgb(206, 86, 63)"
         },
         "name": "Job5",
         "orientation": "h",
         "type": "bar",
         "width": [
          0.4
         ],
         "x": [
          5
         ],
         "y": [
          "Machine3"
         ]
        },
        {
         "base": [
          61
         ],
         "marker": {
          "color": "rgb(190, 56, 143)"
         },
         "name": "Job1",
         "orientation": "h",
         "type": "bar",
         "width": [
          0.4
         ],
         "x": [
          2
         ],
         "y": [
          "Machine8"
         ]
        },
        {
         "base": [
          62
         ],
         "marker": {
          "color": "#FF6692"
         },
         "name": "Job6",
         "orientation": "h",
         "type": "bar",
         "width": [
          0.4
         ],
         "x": [
          17
         ],
         "y": [
          "Machine4"
         ]
        },
        {
         "base": [
          62
         ],
         "marker": {
          "color": "#FFA15A"
         },
         "name": "Job12",
         "orientation": "h",
         "type": "bar",
         "width": [
          0.4
         ],
         "x": [
          6
         ],
         "y": [
          "Machine1"
         ]
        },
        {
         "base": [
          62
         ],
         "marker": {
          "color": "#636EFA"
         },
         "name": "Job2",
         "orientation": "h",
         "type": "bar",
         "width": [
          0.4
         ],
         "x": [
          12
         ],
         "y": [
          "Machine2"
         ]
        },
        {
         "base": [
          63
         ],
         "marker": {
          "color": "#FECB52"
         },
         "name": "Job10",
         "orientation": "h",
         "type": "bar",
         "width": [
          0.4
         ],
         "x": [
          6
         ],
         "y": [
          "Machine8"
         ]
        },
        {
         "base": [
          63
         ],
         "marker": {
          "color": "rgb(190, 56, 143)"
         },
         "name": "Job1",
         "orientation": "h",
         "type": "bar",
         "width": [
          0.4
         ],
         "x": [
          10
         ],
         "y": [
          "Machine10"
         ]
        },
        {
         "base": [
          65
         ],
         "marker": {
          "color": "rgb(206, 86, 63)"
         },
         "name": "Job5",
         "orientation": "h",
         "type": "bar",
         "width": [
          0.4
         ],
         "x": [
          13
         ],
         "y": [
          "Machine3"
         ]
        },
        {
         "base": [
          66
         ],
         "marker": {
          "color": "rgb(169, 239, 33)"
         },
         "name": "Job7",
         "orientation": "h",
         "type": "bar",
         "width": [
          0.4
         ],
         "x": [
          12
         ],
         "y": [
          "Machine9"
         ]
        },
        {
         "base": [
          67
         ],
         "marker": {
          "color": "rgb(205, 77, 50)"
         },
         "name": "Job0",
         "orientation": "h",
         "type": "bar",
         "width": [
          0.4
         ],
         "x": [
          4
         ],
         "y": [
          "Machine6"
         ]
        },
        {
         "base": [
          68
         ],
         "marker": {
          "color": "#19D3F3"
         },
         "name": "Job3",
         "orientation": "h",
         "type": "bar",
         "width": [
          0.4
         ],
         "x": [
          18
         ],
         "y": [
          "Machine1"
         ]
        },
        {
         "base": [
          69
         ],
         "marker": {
          "color": "#AB63FA"
         },
         "name": "Job8",
         "orientation": "h",
         "type": "bar",
         "width": [
          0.4
         ],
         "x": [
          16
         ],
         "y": [
          "Machine8"
         ]
        },
        {
         "base": [
          70
         ],
         "marker": {
          "color": "#FECB52"
         },
         "name": "Job10",
         "orientation": "h",
         "type": "bar",
         "width": [
          0.4
         ],
         "x": [
          10
         ],
         "y": [
          "Machine0"
         ]
        },
        {
         "base": [
          71
         ],
         "marker": {
          "color": "rgb(205, 77, 50)"
         },
         "name": "Job0",
         "orientation": "h",
         "type": "bar",
         "width": [
          0.4
         ],
         "x": [
          10
         ],
         "y": [
          "Machine6"
         ]
        },
        {
         "base": [
          73
         ],
         "marker": {
          "color": "#B6E880"
         },
         "name": "Job11",
         "orientation": "h",
         "type": "bar",
         "width": [
          0.4
         ],
         "x": [
          2
         ],
         "y": [
          "Machine10"
         ]
        },
        {
         "base": [
          73
         ],
         "marker": {
          "color": "rgb(190, 56, 143)"
         },
         "name": "Job1",
         "orientation": "h",
         "type": "bar",
         "width": [
          0.4
         ],
         "x": [
          14
         ],
         "y": [
          "Machine7"
         ]
        },
        {
         "base": [
          74
         ],
         "marker": {
          "color": "#636EFA"
         },
         "name": "Job2",
         "orientation": "h",
         "type": "bar",
         "width": [
          0.4
         ],
         "x": [
          6
         ],
         "y": [
          "Machine2"
         ]
        },
        {
         "base": [
          75
         ],
         "marker": {
          "color": "rgb(56, 75, 175)"
         },
         "name": "Job4",
         "orientation": "h",
         "type": "bar",
         "width": [
          0.4
         ],
         "x": [
          10
         ],
         "y": [
          "Machine10"
         ]
        },
        {
         "base": [
          78
         ],
         "marker": {
          "color": "rgb(169, 239, 33)"
         },
         "name": "Job7",
         "orientation": "h",
         "type": "bar",
         "width": [
          0.4
         ],
         "x": [
          3
         ],
         "y": [
          "Machine9"
         ]
        },
        {
         "base": [
          80
         ],
         "marker": {
          "color": "#FECB52"
         },
         "name": "Job10",
         "orientation": "h",
         "type": "bar",
         "width": [
          0.4
         ],
         "x": [
          17
         ],
         "y": [
          "Machine0"
         ]
        },
        {
         "base": [
          80
         ],
         "marker": {
          "color": "#636EFA"
         },
         "name": "Job2",
         "orientation": "h",
         "type": "bar",
         "width": [
          0.4
         ],
         "x": [
          9
         ],
         "y": [
          "Machine4"
         ]
        },
        {
         "base": [
          80
         ],
         "marker": {
          "color": "#FF6692"
         },
         "name": "Job6",
         "orientation": "h",
         "type": "bar",
         "width": [
          0.4
         ],
         "x": [
          17
         ],
         "y": [
          "Machine2"
         ]
        },
        {
         "base": [
          81
         ],
         "marker": {
          "color": "rgb(206, 86, 63)"
         },
         "name": "Job5",
         "orientation": "h",
         "type": "bar",
         "width": [
          0.4
         ],
         "x": [
          5
         ],
         "y": [
          "Machine6"
         ]
        },
        {
         "base": [
          81
         ],
         "marker": {
          "color": "rgb(169, 239, 33)"
         },
         "name": "Job7",
         "orientation": "h",
         "type": "bar",
         "width": [
          0.4
         ],
         "x": [
          11
         ],
         "y": [
          "Machine9"
         ]
        },
        {
         "base": [
          85
         ],
         "marker": {
          "color": "rgb(56, 75, 175)"
         },
         "name": "Job4",
         "orientation": "h",
         "type": "bar",
         "width": [
          0.4
         ],
         "x": [
          7
         ],
         "y": [
          "Machine10"
         ]
        },
        {
         "base": [
          85
         ],
         "marker": {
          "color": "#AB63FA"
         },
         "name": "Job8",
         "orientation": "h",
         "type": "bar",
         "width": [
          0.4
         ],
         "x": [
          12
         ],
         "y": [
          "Machine3"
         ]
        },
        {
         "base": [
          86
         ],
         "marker": {
          "color": "#00CC96"
         },
         "name": "Job9",
         "orientation": "h",
         "type": "bar",
         "width": [
          0.4
         ],
         "x": [
          17
         ],
         "y": [
          "Machine1"
         ]
        },
        {
         "base": [
          86
         ],
         "marker": {
          "color": "rgb(206, 86, 63)"
         },
         "name": "Job5",
         "orientation": "h",
         "type": "bar",
         "width": [
          0.4
         ],
         "x": [
          9
         ],
         "y": [
          "Machine8"
         ]
        },
        {
         "base": [
          86
         ],
         "marker": {
          "color": "#19D3F3"
         },
         "name": "Job3",
         "orientation": "h",
         "type": "bar",
         "width": [
          0.4
         ],
         "x": [
          8
         ],
         "y": [
          "Machine6"
         ]
        },
        {
         "base": [
          89
         ],
         "marker": {
          "color": "rgb(190, 56, 143)"
         },
         "name": "Job1",
         "orientation": "h",
         "type": "bar",
         "width": [
          0.4
         ],
         "x": [
          10
         ],
         "y": [
          "Machine4"
         ]
        },
        {
         "base": [
          92
         ],
         "marker": {
          "color": "rgb(56, 75, 175)"
         },
         "name": "Job4",
         "orientation": "h",
         "type": "bar",
         "width": [
          0.4
         ],
         "x": [
          5
         ],
         "y": [
          "Machine10"
         ]
        },
        {
         "base": [
          92
         ],
         "marker": {
          "color": "rgb(169, 239, 33)"
         },
         "name": "Job7",
         "orientation": "h",
         "type": "bar",
         "width": [
          0.4
         ],
         "x": [
          16
         ],
         "y": [
          "Machine9"
         ]
        },
        {
         "base": [
          94
         ],
         "marker": {
          "color": "#19D3F3"
         },
         "name": "Job3",
         "orientation": "h",
         "type": "bar",
         "width": [
          0.4
         ],
         "x": [
          3
         ],
         "y": [
          "Machine7"
         ]
        },
        {
         "base": [
          95
         ],
         "marker": {
          "color": "rgb(206, 86, 63)"
         },
         "name": "Job5",
         "orientation": "h",
         "type": "bar",
         "width": [
          0.4
         ],
         "x": [
          2
         ],
         "y": [
          "Machine8"
         ]
        },
        {
         "base": [
          97
         ],
         "marker": {
          "color": "rgb(206, 86, 63)"
         },
         "name": "Job5",
         "orientation": "h",
         "type": "bar",
         "width": [
          0.4
         ],
         "x": [
          11
         ],
         "y": [
          "Machine8"
         ]
        },
        {
         "base": [
          97
         ],
         "marker": {
          "color": "#AB63FA"
         },
         "name": "Job8",
         "orientation": "h",
         "type": "bar",
         "width": [
          0.4
         ],
         "x": [
          6
         ],
         "y": [
          "Machine10"
         ]
        },
        {
         "base": [
          97
         ],
         "marker": {
          "color": "rgb(56, 75, 175)"
         },
         "name": "Job4",
         "orientation": "h",
         "type": "bar",
         "width": [
          0.4
         ],
         "x": [
          12
         ],
         "y": [
          "Machine3"
         ]
        },
        {
         "base": [
          97
         ],
         "marker": {
          "color": "#636EFA"
         },
         "name": "Job2",
         "orientation": "h",
         "type": "bar",
         "width": [
          0.4
         ],
         "x": [
          11
         ],
         "y": [
          "Machine2"
         ]
        },
        {
         "base": [
          97
         ],
         "marker": {
          "color": "#FECB52"
         },
         "name": "Job10",
         "orientation": "h",
         "type": "bar",
         "width": [
          0.4
         ],
         "x": [
          8
         ],
         "y": [
          "Machine7"
         ]
        },
        {
         "base": [
          97
         ],
         "marker": {
          "color": "#FF6692"
         },
         "name": "Job6",
         "orientation": "h",
         "type": "bar",
         "width": [
          0.4
         ],
         "x": [
          4
         ],
         "y": [
          "Machine0"
         ]
        },
        {
         "base": [
          103
         ],
         "marker": {
          "color": "#AB63FA"
         },
         "name": "Job8",
         "orientation": "h",
         "type": "bar",
         "width": [
          0.4
         ],
         "x": [
          2
         ],
         "y": [
          "Machine10"
         ]
        },
        {
         "base": [
          103
         ],
         "marker": {
          "color": "#00CC96"
         },
         "name": "Job9",
         "orientation": "h",
         "type": "bar",
         "width": [
          0.4
         ],
         "x": [
          10
         ],
         "y": [
          "Machine4"
         ]
        },
        {
         "base": [
          105
         ],
         "marker": {
          "color": "#B6E880"
         },
         "name": "Job11",
         "orientation": "h",
         "type": "bar",
         "width": [
          0.4
         ],
         "x": [
          3
         ],
         "y": [
          "Machine10"
         ]
        },
        {
         "base": [
          105
         ],
         "marker": {
          "color": "#FECB52"
         },
         "name": "Job10",
         "orientation": "h",
         "type": "bar",
         "width": [
          0.4
         ],
         "x": [
          13
         ],
         "y": [
          "Machine6"
         ]
        },
        {
         "base": [
          108
         ],
         "marker": {
          "color": "rgb(206, 86, 63)"
         },
         "name": "Job5",
         "orientation": "h",
         "type": "bar",
         "width": [
          0.4
         ],
         "x": [
          5
         ],
         "y": [
          "Machine10"
         ]
        },
        {
         "base": [
          108
         ],
         "marker": {
          "color": "#636EFA"
         },
         "name": "Job2",
         "orientation": "h",
         "type": "bar",
         "width": [
          0.4
         ],
         "x": [
          6
         ],
         "y": [
          "Machine9"
         ]
        },
        {
         "base": [
          113
         ],
         "marker": {
          "color": "#00CC96"
         },
         "name": "Job9",
         "orientation": "h",
         "type": "bar",
         "width": [
          0.4
         ],
         "x": [
          16
         ],
         "y": [
          "Machine4"
         ]
        },
        {
         "base": [
          113
         ],
         "marker": {
          "color": "rgb(206, 86, 63)"
         },
         "name": "Job5",
         "orientation": "h",
         "type": "bar",
         "width": [
          0.4
         ],
         "x": [
          7
         ],
         "y": [
          "Machine1"
         ]
        },
        {
         "base": [
          114
         ],
         "marker": {
          "color": "#636EFA"
         },
         "name": "Job2",
         "orientation": "h",
         "type": "bar",
         "width": [
          0.4
         ],
         "x": [
          6
         ],
         "y": [
          "Machine2"
         ]
        },
        {
         "base": [
          120
         ],
         "marker": {
          "color": "#636EFA"
         },
         "name": "Job2",
         "orientation": "h",
         "type": "bar",
         "width": [
          0.4
         ],
         "x": [
          15
         ],
         "y": [
          "Machine0"
         ]
        },
        {
         "base": [
          129
         ],
         "marker": {
          "color": "#00CC96"
         },
         "name": "Job9",
         "orientation": "h",
         "type": "bar",
         "width": [
          0.4
         ],
         "x": [
          17
         ],
         "y": [
          "Machine4"
         ]
        }
       ],
       "layout": {
        "barmode": "stack",
        "legend": {
         "title": {
          "text": "Job"
         }
        },
        "template": {
         "data": {
          "bar": [
           {
            "error_x": {
             "color": "#2a3f5f"
            },
            "error_y": {
             "color": "#2a3f5f"
            },
            "marker": {
             "line": {
              "color": "#E5ECF6",
              "width": 0.5
             },
             "pattern": {
              "fillmode": "overlay",
              "size": 10,
              "solidity": 0.2
             }
            },
            "type": "bar"
           }
          ],
          "barpolar": [
           {
            "marker": {
             "line": {
              "color": "#E5ECF6",
              "width": 0.5
             },
             "pattern": {
              "fillmode": "overlay",
              "size": 10,
              "solidity": 0.2
             }
            },
            "type": "barpolar"
           }
          ],
          "carpet": [
           {
            "aaxis": {
             "endlinecolor": "#2a3f5f",
             "gridcolor": "white",
             "linecolor": "white",
             "minorgridcolor": "white",
             "startlinecolor": "#2a3f5f"
            },
            "baxis": {
             "endlinecolor": "#2a3f5f",
             "gridcolor": "white",
             "linecolor": "white",
             "minorgridcolor": "white",
             "startlinecolor": "#2a3f5f"
            },
            "type": "carpet"
           }
          ],
          "choropleth": [
           {
            "colorbar": {
             "outlinewidth": 0,
             "ticks": ""
            },
            "type": "choropleth"
           }
          ],
          "contour": [
           {
            "colorbar": {
             "outlinewidth": 0,
             "ticks": ""
            },
            "colorscale": [
             [
              0,
              "#0d0887"
             ],
             [
              0.1111111111111111,
              "#46039f"
             ],
             [
              0.2222222222222222,
              "#7201a8"
             ],
             [
              0.3333333333333333,
              "#9c179e"
             ],
             [
              0.4444444444444444,
              "#bd3786"
             ],
             [
              0.5555555555555556,
              "#d8576b"
             ],
             [
              0.6666666666666666,
              "#ed7953"
             ],
             [
              0.7777777777777778,
              "#fb9f3a"
             ],
             [
              0.8888888888888888,
              "#fdca26"
             ],
             [
              1,
              "#f0f921"
             ]
            ],
            "type": "contour"
           }
          ],
          "contourcarpet": [
           {
            "colorbar": {
             "outlinewidth": 0,
             "ticks": ""
            },
            "type": "contourcarpet"
           }
          ],
          "heatmap": [
           {
            "colorbar": {
             "outlinewidth": 0,
             "ticks": ""
            },
            "colorscale": [
             [
              0,
              "#0d0887"
             ],
             [
              0.1111111111111111,
              "#46039f"
             ],
             [
              0.2222222222222222,
              "#7201a8"
             ],
             [
              0.3333333333333333,
              "#9c179e"
             ],
             [
              0.4444444444444444,
              "#bd3786"
             ],
             [
              0.5555555555555556,
              "#d8576b"
             ],
             [
              0.6666666666666666,
              "#ed7953"
             ],
             [
              0.7777777777777778,
              "#fb9f3a"
             ],
             [
              0.8888888888888888,
              "#fdca26"
             ],
             [
              1,
              "#f0f921"
             ]
            ],
            "type": "heatmap"
           }
          ],
          "heatmapgl": [
           {
            "colorbar": {
             "outlinewidth": 0,
             "ticks": ""
            },
            "colorscale": [
             [
              0,
              "#0d0887"
             ],
             [
              0.1111111111111111,
              "#46039f"
             ],
             [
              0.2222222222222222,
              "#7201a8"
             ],
             [
              0.3333333333333333,
              "#9c179e"
             ],
             [
              0.4444444444444444,
              "#bd3786"
             ],
             [
              0.5555555555555556,
              "#d8576b"
             ],
             [
              0.6666666666666666,
              "#ed7953"
             ],
             [
              0.7777777777777778,
              "#fb9f3a"
             ],
             [
              0.8888888888888888,
              "#fdca26"
             ],
             [
              1,
              "#f0f921"
             ]
            ],
            "type": "heatmapgl"
           }
          ],
          "histogram": [
           {
            "marker": {
             "pattern": {
              "fillmode": "overlay",
              "size": 10,
              "solidity": 0.2
             }
            },
            "type": "histogram"
           }
          ],
          "histogram2d": [
           {
            "colorbar": {
             "outlinewidth": 0,
             "ticks": ""
            },
            "colorscale": [
             [
              0,
              "#0d0887"
             ],
             [
              0.1111111111111111,
              "#46039f"
             ],
             [
              0.2222222222222222,
              "#7201a8"
             ],
             [
              0.3333333333333333,
              "#9c179e"
             ],
             [
              0.4444444444444444,
              "#bd3786"
             ],
             [
              0.5555555555555556,
              "#d8576b"
             ],
             [
              0.6666666666666666,
              "#ed7953"
             ],
             [
              0.7777777777777778,
              "#fb9f3a"
             ],
             [
              0.8888888888888888,
              "#fdca26"
             ],
             [
              1,
              "#f0f921"
             ]
            ],
            "type": "histogram2d"
           }
          ],
          "histogram2dcontour": [
           {
            "colorbar": {
             "outlinewidth": 0,
             "ticks": ""
            },
            "colorscale": [
             [
              0,
              "#0d0887"
             ],
             [
              0.1111111111111111,
              "#46039f"
             ],
             [
              0.2222222222222222,
              "#7201a8"
             ],
             [
              0.3333333333333333,
              "#9c179e"
             ],
             [
              0.4444444444444444,
              "#bd3786"
             ],
             [
              0.5555555555555556,
              "#d8576b"
             ],
             [
              0.6666666666666666,
              "#ed7953"
             ],
             [
              0.7777777777777778,
              "#fb9f3a"
             ],
             [
              0.8888888888888888,
              "#fdca26"
             ],
             [
              1,
              "#f0f921"
             ]
            ],
            "type": "histogram2dcontour"
           }
          ],
          "mesh3d": [
           {
            "colorbar": {
             "outlinewidth": 0,
             "ticks": ""
            },
            "type": "mesh3d"
           }
          ],
          "parcoords": [
           {
            "line": {
             "colorbar": {
              "outlinewidth": 0,
              "ticks": ""
             }
            },
            "type": "parcoords"
           }
          ],
          "pie": [
           {
            "automargin": true,
            "type": "pie"
           }
          ],
          "scatter": [
           {
            "fillpattern": {
             "fillmode": "overlay",
             "size": 10,
             "solidity": 0.2
            },
            "type": "scatter"
           }
          ],
          "scatter3d": [
           {
            "line": {
             "colorbar": {
              "outlinewidth": 0,
              "ticks": ""
             }
            },
            "marker": {
             "colorbar": {
              "outlinewidth": 0,
              "ticks": ""
             }
            },
            "type": "scatter3d"
           }
          ],
          "scattercarpet": [
           {
            "marker": {
             "colorbar": {
              "outlinewidth": 0,
              "ticks": ""
             }
            },
            "type": "scattercarpet"
           }
          ],
          "scattergeo": [
           {
            "marker": {
             "colorbar": {
              "outlinewidth": 0,
              "ticks": ""
             }
            },
            "type": "scattergeo"
           }
          ],
          "scattergl": [
           {
            "marker": {
             "colorbar": {
              "outlinewidth": 0,
              "ticks": ""
             }
            },
            "type": "scattergl"
           }
          ],
          "scattermapbox": [
           {
            "marker": {
             "colorbar": {
              "outlinewidth": 0,
              "ticks": ""
             }
            },
            "type": "scattermapbox"
           }
          ],
          "scatterpolar": [
           {
            "marker": {
             "colorbar": {
              "outlinewidth": 0,
              "ticks": ""
             }
            },
            "type": "scatterpolar"
           }
          ],
          "scatterpolargl": [
           {
            "marker": {
             "colorbar": {
              "outlinewidth": 0,
              "ticks": ""
             }
            },
            "type": "scatterpolargl"
           }
          ],
          "scatterternary": [
           {
            "marker": {
             "colorbar": {
              "outlinewidth": 0,
              "ticks": ""
             }
            },
            "type": "scatterternary"
           }
          ],
          "surface": [
           {
            "colorbar": {
             "outlinewidth": 0,
             "ticks": ""
            },
            "colorscale": [
             [
              0,
              "#0d0887"
             ],
             [
              0.1111111111111111,
              "#46039f"
             ],
             [
              0.2222222222222222,
              "#7201a8"
             ],
             [
              0.3333333333333333,
              "#9c179e"
             ],
             [
              0.4444444444444444,
              "#bd3786"
             ],
             [
              0.5555555555555556,
              "#d8576b"
             ],
             [
              0.6666666666666666,
              "#ed7953"
             ],
             [
              0.7777777777777778,
              "#fb9f3a"
             ],
             [
              0.8888888888888888,
              "#fdca26"
             ],
             [
              1,
              "#f0f921"
             ]
            ],
            "type": "surface"
           }
          ],
          "table": [
           {
            "cells": {
             "fill": {
              "color": "#EBF0F8"
             },
             "line": {
              "color": "white"
             }
            },
            "header": {
             "fill": {
              "color": "#C8D4E3"
             },
             "line": {
              "color": "white"
             }
            },
            "type": "table"
           }
          ]
         },
         "layout": {
          "annotationdefaults": {
           "arrowcolor": "#2a3f5f",
           "arrowhead": 0,
           "arrowwidth": 1
          },
          "autotypenumbers": "strict",
          "coloraxis": {
           "colorbar": {
            "outlinewidth": 0,
            "ticks": ""
           }
          },
          "colorscale": {
           "diverging": [
            [
             0,
             "#8e0152"
            ],
            [
             0.1,
             "#c51b7d"
            ],
            [
             0.2,
             "#de77ae"
            ],
            [
             0.3,
             "#f1b6da"
            ],
            [
             0.4,
             "#fde0ef"
            ],
            [
             0.5,
             "#f7f7f7"
            ],
            [
             0.6,
             "#e6f5d0"
            ],
            [
             0.7,
             "#b8e186"
            ],
            [
             0.8,
             "#7fbc41"
            ],
            [
             0.9,
             "#4d9221"
            ],
            [
             1,
             "#276419"
            ]
           ],
           "sequential": [
            [
             0,
             "#0d0887"
            ],
            [
             0.1111111111111111,
             "#46039f"
            ],
            [
             0.2222222222222222,
             "#7201a8"
            ],
            [
             0.3333333333333333,
             "#9c179e"
            ],
            [
             0.4444444444444444,
             "#bd3786"
            ],
            [
             0.5555555555555556,
             "#d8576b"
            ],
            [
             0.6666666666666666,
             "#ed7953"
            ],
            [
             0.7777777777777778,
             "#fb9f3a"
            ],
            [
             0.8888888888888888,
             "#fdca26"
            ],
            [
             1,
             "#f0f921"
            ]
           ],
           "sequentialminus": [
            [
             0,
             "#0d0887"
            ],
            [
             0.1111111111111111,
             "#46039f"
            ],
            [
             0.2222222222222222,
             "#7201a8"
            ],
            [
             0.3333333333333333,
             "#9c179e"
            ],
            [
             0.4444444444444444,
             "#bd3786"
            ],
            [
             0.5555555555555556,
             "#d8576b"
            ],
            [
             0.6666666666666666,
             "#ed7953"
            ],
            [
             0.7777777777777778,
             "#fb9f3a"
            ],
            [
             0.8888888888888888,
             "#fdca26"
            ],
            [
             1,
             "#f0f921"
            ]
           ]
          },
          "colorway": [
           "#636efa",
           "#EF553B",
           "#00cc96",
           "#ab63fa",
           "#FFA15A",
           "#19d3f3",
           "#FF6692",
           "#B6E880",
           "#FF97FF",
           "#FECB52"
          ],
          "font": {
           "color": "#2a3f5f"
          },
          "geo": {
           "bgcolor": "white",
           "lakecolor": "white",
           "landcolor": "#E5ECF6",
           "showlakes": true,
           "showland": true,
           "subunitcolor": "white"
          },
          "hoverlabel": {
           "align": "left"
          },
          "hovermode": "closest",
          "mapbox": {
           "style": "light"
          },
          "paper_bgcolor": "white",
          "plot_bgcolor": "#E5ECF6",
          "polar": {
           "angularaxis": {
            "gridcolor": "white",
            "linecolor": "white",
            "ticks": ""
           },
           "bgcolor": "#E5ECF6",
           "radialaxis": {
            "gridcolor": "white",
            "linecolor": "white",
            "ticks": ""
           }
          },
          "scene": {
           "xaxis": {
            "backgroundcolor": "#E5ECF6",
            "gridcolor": "white",
            "gridwidth": 2,
            "linecolor": "white",
            "showbackground": true,
            "ticks": "",
            "zerolinecolor": "white"
           },
           "yaxis": {
            "backgroundcolor": "#E5ECF6",
            "gridcolor": "white",
            "gridwidth": 2,
            "linecolor": "white",
            "showbackground": true,
            "ticks": "",
            "zerolinecolor": "white"
           },
           "zaxis": {
            "backgroundcolor": "#E5ECF6",
            "gridcolor": "white",
            "gridwidth": 2,
            "linecolor": "white",
            "showbackground": true,
            "ticks": "",
            "zerolinecolor": "white"
           }
          },
          "shapedefaults": {
           "line": {
            "color": "#2a3f5f"
           }
          },
          "ternary": {
           "aaxis": {
            "gridcolor": "white",
            "linecolor": "white",
            "ticks": ""
           },
           "baxis": {
            "gridcolor": "white",
            "linecolor": "white",
            "ticks": ""
           },
           "bgcolor": "#E5ECF6",
           "caxis": {
            "gridcolor": "white",
            "linecolor": "white",
            "ticks": ""
           }
          },
          "title": {
           "x": 0.05
          },
          "xaxis": {
           "automargin": true,
           "gridcolor": "white",
           "linecolor": "white",
           "ticks": "",
           "title": {
            "standoff": 15
           },
           "zerolinecolor": "white",
           "zerolinewidth": 2
          },
          "yaxis": {
           "automargin": true,
           "gridcolor": "white",
           "linecolor": "white",
           "ticks": "",
           "title": {
            "standoff": 15
           },
           "zerolinecolor": "white",
           "zerolinewidth": 2
          }
         }
        },
        "title": {
         "text": "按Job上色的FJSP调度示意图 - 多种颜色"
        },
        "xaxis": {
         "title": {
          "text": "时间"
         }
        },
        "yaxis": {
         "categoryarray": [
          "Machine10",
          "Machine9",
          "Machine8",
          "Machine7",
          "Machine6",
          "Machine5",
          "Machine4",
          "Machine3",
          "Machine2",
          "Machine1",
          "Machine0",
          "Machine3",
          "Machine7",
          "Machine6",
          "Machine5",
          "Machine8",
          "Machine0",
          "Machine4",
          "Machine9",
          "Machine1",
          "Machine10",
          "Machine2",
          "Machine3",
          "Machine9",
          "Machine2",
          "Machine8",
          "Machine10",
          "Machine3",
          "Machine6",
          "Machine9",
          "Machine8",
          "Machine1",
          "Machine9",
          "Machine0",
          "Machine7",
          "Machine4",
          "Machine3",
          "Machine5",
          "Machine2",
          "Machine6",
          "Machine10",
          "Machine0",
          "Machine1",
          "Machine9",
          "Machine0",
          "Machine8",
          "Machine2",
          "Machine9",
          "Machine10",
          "Machine5",
          "Machine0",
          "Machine7",
          "Machine4",
          "Machine1",
          "Machine8",
          "Machine6",
          "Machine3",
          "Machine4",
          "Machine10",
          "Machine2",
          "Machine4",
          "Machine9",
          "Machine4",
          "Machine2",
          "Machine7",
          "Machine0",
          "Machine3",
          "Machine1",
          "Machine8",
          "Machine10",
          "Machine4",
          "Machine6",
          "Machine7",
          "Machine1",
          "Machine4",
          "Machine9",
          "Machine2",
          "Machine7",
          "Machine0",
          "Machine6",
          "Machine3",
          "Machine8",
          "Machine3",
          "Machine8",
          "Machine4",
          "Machine1",
          "Machine2",
          "Machine8",
          "Machine10",
          "Machine3",
          "Machine9",
          "Machine6",
          "Machine1",
          "Machine8",
          "Machine0",
          "Machine6",
          "Machine10",
          "Machine7",
          "Machine2",
          "Machine10",
          "Machine9",
          "Machine0",
          "Machine4",
          "Machine2",
          "Machine6",
          "Machine9",
          "Machine10",
          "Machine3",
          "Machine1",
          "Machine8",
          "Machine6",
          "Machine4",
          "Machine10",
          "Machine9",
          "Machine7",
          "Machine8",
          "Machine8",
          "Machine10",
          "Machine3",
          "Machine2",
          "Machine7",
          "Machine0",
          "Machine10",
          "Machine4",
          "Machine10",
          "Machine6",
          "Machine10",
          "Machine9",
          "Machine4",
          "Machine1",
          "Machine2",
          "Machine0",
          "Machine4"
         ],
         "categoryorder": "array",
         "type": "category"
        }
       }
      },
      "text/html": [
       "<div>                            <div id=\"943448b4-f475-49ec-8d64-231c871c4b3d\" class=\"plotly-graph-div\" style=\"height:525px; width:100%;\"></div>            <script type=\"text/javascript\">                require([\"plotly\"], function(Plotly) {                    window.PLOTLYENV=window.PLOTLYENV || {};                                    if (document.getElementById(\"943448b4-f475-49ec-8d64-231c871c4b3d\")) {                    Plotly.newPlot(                        \"943448b4-f475-49ec-8d64-231c871c4b3d\",                        [{\"base\":[0],\"marker\":{\"color\":\"#EF553B\"},\"name\":\"Job\",\"orientation\":\"h\",\"width\":[0.4],\"x\":[0],\"y\":[\"Machine10\"],\"type\":\"bar\"},{\"base\":[0],\"marker\":{\"color\":\"#EF553B\"},\"name\":\"Job\",\"orientation\":\"h\",\"width\":[0.4],\"x\":[0],\"y\":[\"Machine9\"],\"type\":\"bar\"},{\"base\":[0],\"marker\":{\"color\":\"#EF553B\"},\"name\":\"Job\",\"orientation\":\"h\",\"width\":[0.4],\"x\":[0],\"y\":[\"Machine8\"],\"type\":\"bar\"},{\"base\":[0],\"marker\":{\"color\":\"#EF553B\"},\"name\":\"Job\",\"orientation\":\"h\",\"width\":[0.4],\"x\":[0],\"y\":[\"Machine7\"],\"type\":\"bar\"},{\"base\":[0],\"marker\":{\"color\":\"#EF553B\"},\"name\":\"Job\",\"orientation\":\"h\",\"width\":[0.4],\"x\":[0],\"y\":[\"Machine6\"],\"type\":\"bar\"},{\"base\":[0],\"marker\":{\"color\":\"#EF553B\"},\"name\":\"Job\",\"orientation\":\"h\",\"width\":[0.4],\"x\":[0],\"y\":[\"Machine5\"],\"type\":\"bar\"},{\"base\":[0],\"marker\":{\"color\":\"#EF553B\"},\"name\":\"Job\",\"orientation\":\"h\",\"width\":[0.4],\"x\":[0],\"y\":[\"Machine4\"],\"type\":\"bar\"},{\"base\":[0],\"marker\":{\"color\":\"#EF553B\"},\"name\":\"Job\",\"orientation\":\"h\",\"width\":[0.4],\"x\":[0],\"y\":[\"Machine3\"],\"type\":\"bar\"},{\"base\":[0],\"marker\":{\"color\":\"#EF553B\"},\"name\":\"Job\",\"orientation\":\"h\",\"width\":[0.4],\"x\":[0],\"y\":[\"Machine2\"],\"type\":\"bar\"},{\"base\":[0],\"marker\":{\"color\":\"#EF553B\"},\"name\":\"Job\",\"orientation\":\"h\",\"width\":[0.4],\"x\":[0],\"y\":[\"Machine1\"],\"type\":\"bar\"},{\"base\":[0],\"marker\":{\"color\":\"#EF553B\"},\"name\":\"Job\",\"orientation\":\"h\",\"width\":[0.4],\"x\":[0],\"y\":[\"Machine0\"],\"type\":\"bar\"},{\"base\":[0.0],\"marker\":{\"color\":\"#636EFA\"},\"name\":\"Job2\",\"orientation\":\"h\",\"width\":[0.4],\"x\":[1],\"y\":[\"Machine3\"],\"type\":\"bar\"},{\"base\":[0.0],\"marker\":{\"color\":\"#00CC96\"},\"name\":\"Job9\",\"orientation\":\"h\",\"width\":[0.4],\"x\":[15],\"y\":[\"Machine7\"],\"type\":\"bar\"},{\"base\":[0.0],\"marker\":{\"color\":\"rgb(190, 56, 143)\"},\"name\":\"Job1\",\"orientation\":\"h\",\"width\":[0.4],\"x\":[4],\"y\":[\"Machine6\"],\"type\":\"bar\"},{\"base\":[0.0],\"marker\":{\"color\":\"#AB63FA\"},\"name\":\"Job8\",\"orientation\":\"h\",\"width\":[0.4],\"x\":[1],\"y\":[\"Machine5\"],\"type\":\"bar\"},{\"base\":[0.0],\"marker\":{\"color\":\"rgb(56, 75, 175)\"},\"name\":\"Job4\",\"orientation\":\"h\",\"width\":[0.4],\"x\":[4],\"y\":[\"Machine8\"],\"type\":\"bar\"},{\"base\":[0.0],\"marker\":{\"color\":\"#FECB52\"},\"name\":\"Job10\",\"orientation\":\"h\",\"width\":[0.4],\"x\":[14],\"y\":[\"Machine0\"],\"type\":\"bar\"},{\"base\":[0.0],\"marker\":{\"color\":\"rgb(206, 86, 63)\"},\"name\":\"Job5\",\"orientation\":\"h\",\"width\":[0.4],\"x\":[15],\"y\":[\"Machine4\"],\"type\":\"bar\"},{\"base\":[0.0],\"marker\":{\"color\":\"#B6E880\"},\"name\":\"Job11\",\"orientation\":\"h\",\"width\":[0.4],\"x\":[1],\"y\":[\"Machine9\"],\"type\":\"bar\"},{\"base\":[0.0],\"marker\":{\"color\":\"#19D3F3\"},\"name\":\"Job3\",\"orientation\":\"h\",\"width\":[0.4],\"x\":[10],\"y\":[\"Machine1\"],\"type\":\"bar\"},{\"base\":[0.0],\"marker\":{\"color\":\"#FFA15A\"},\"name\":\"Job12\",\"orientation\":\"h\",\"width\":[0.4],\"x\":[6],\"y\":[\"Machine10\"],\"type\":\"bar\"},{\"base\":[1.0],\"marker\":{\"color\":\"#636EFA\"},\"name\":\"Job2\",\"orientation\":\"h\",\"width\":[0.4],\"x\":[1],\"y\":[\"Machine2\"],\"type\":\"bar\"},{\"base\":[1.0],\"marker\":{\"color\":\"#AB63FA\"},\"name\":\"Job8\",\"orientation\":\"h\",\"width\":[0.4],\"x\":[5],\"y\":[\"Machine3\"],\"type\":\"bar\"},{\"base\":[1.0],\"marker\":{\"color\":\"#FF97FF\"},\"name\":\"Job13\",\"orientation\":\"h\",\"width\":[0.4],\"x\":[5],\"y\":[\"Machine9\"],\"type\":\"bar\"},{\"base\":[2.0],\"marker\":{\"color\":\"#636EFA\"},\"name\":\"Job2\",\"orientation\":\"h\",\"width\":[0.4],\"x\":[16],\"y\":[\"Machine2\"],\"type\":\"bar\"},{\"base\":[4.0],\"marker\":{\"color\":\"rgb(56, 75, 175)\"},\"name\":\"Job4\",\"orientation\":\"h\",\"width\":[0.4],\"x\":[3],\"y\":[\"Machine8\"],\"type\":\"bar\"},{\"base\":[6.0],\"marker\":{\"color\":\"rgb(190, 56, 143)\"},\"name\":\"Job1\",\"orientation\":\"h\",\"width\":[0.4],\"x\":[17],\"y\":[\"Machine10\"],\"type\":\"bar\"},{\"base\":[6.0],\"marker\":{\"color\":\"#B6E880\"},\"name\":\"Job11\",\"orientation\":\"h\",\"width\":[0.4],\"x\":[10],\"y\":[\"Machine3\"],\"type\":\"bar\"},{\"base\":[6.0],\"marker\":{\"color\":\"#AB63FA\"},\"name\":\"Job8\",\"orientation\":\"h\",\"width\":[0.4],\"x\":[14],\"y\":[\"Machine6\"],\"type\":\"bar\"},{\"base\":[6.0],\"marker\":{\"color\":\"#FF97FF\"},\"name\":\"Job13\",\"orientation\":\"h\",\"width\":[0.4],\"x\":[8],\"y\":[\"Machine9\"],\"type\":\"bar\"},{\"base\":[7.0],\"marker\":{\"color\":\"rgb(56, 75, 175)\"},\"name\":\"Job4\",\"orientation\":\"h\",\"width\":[0.4],\"x\":[19],\"y\":[\"Machine8\"],\"type\":\"bar\"},{\"base\":[10.0],\"marker\":{\"color\":\"rgb(205, 77, 50)\"},\"name\":\"Job0\",\"orientation\":\"h\",\"width\":[0.4],\"x\":[13],\"y\":[\"Machine1\"],\"type\":\"bar\"},{\"base\":[14.0],\"marker\":{\"color\":\"#19D3F3\"},\"name\":\"Job3\",\"orientation\":\"h\",\"width\":[0.4],\"x\":[10],\"y\":[\"Machine9\"],\"type\":\"bar\"},{\"base\":[14.0],\"marker\":{\"color\":\"#FF97FF\"},\"name\":\"Job13\",\"orientation\":\"h\",\"width\":[0.4],\"x\":[9],\"y\":[\"Machine0\"],\"type\":\"bar\"},{\"base\":[15.0],\"marker\":{\"color\":\"rgb(169, 239, 33)\"},\"name\":\"Job7\",\"orientation\":\"h\",\"width\":[0.4],\"x\":[14],\"y\":[\"Machine7\"],\"type\":\"bar\"},{\"base\":[15.0],\"marker\":{\"color\":\"rgb(206, 86, 63)\"},\"name\":\"Job5\",\"orientation\":\"h\",\"width\":[0.4],\"x\":[14],\"y\":[\"Machine4\"],\"type\":\"bar\"},{\"base\":[16.0],\"marker\":{\"color\":\"#FF6692\"},\"name\":\"Job6\",\"orientation\":\"h\",\"width\":[0.4],\"x\":[18],\"y\":[\"Machine3\"],\"type\":\"bar\"},{\"base\":[16.0],\"marker\":{\"color\":\"#B6E880\"},\"name\":\"Job11\",\"orientation\":\"h\",\"width\":[0.4],\"x\":[11],\"y\":[\"Machine5\"],\"type\":\"bar\"},{\"base\":[18.0],\"marker\":{\"color\":\"#636EFA\"},\"name\":\"Job2\",\"orientation\":\"h\",\"width\":[0.4],\"x\":[8],\"y\":[\"Machine2\"],\"type\":\"bar\"},{\"base\":[20.0],\"marker\":{\"color\":\"#00CC96\"},\"name\":\"Job9\",\"orientation\":\"h\",\"width\":[0.4],\"x\":[14],\"y\":[\"Machine6\"],\"type\":\"bar\"},{\"base\":[23.0],\"marker\":{\"color\":\"#FECB52\"},\"name\":\"Job10\",\"orientation\":\"h\",\"width\":[0.4],\"x\":[4],\"y\":[\"Machine10\"],\"type\":\"bar\"},{\"base\":[23.0],\"marker\":{\"color\":\"rgb(190, 56, 143)\"},\"name\":\"Job1\",\"orientation\":\"h\",\"width\":[0.4],\"x\":[2],\"y\":[\"Machine0\"],\"type\":\"bar\"},{\"base\":[23.0],\"marker\":{\"color\":\"#FFA15A\"},\"name\":\"Job12\",\"orientation\":\"h\",\"width\":[0.4],\"x\":[6],\"y\":[\"Machine1\"],\"type\":\"bar\"},{\"base\":[24.0],\"marker\":{\"color\":\"#FF97FF\"},\"name\":\"Job13\",\"orientation\":\"h\",\"width\":[0.4],\"x\":[2],\"y\":[\"Machine9\"],\"type\":\"bar\"},{\"base\":[25.0],\"marker\":{\"color\":\"#19D3F3\"},\"name\":\"Job3\",\"orientation\":\"h\",\"width\":[0.4],\"x\":[2],\"y\":[\"Machine0\"],\"type\":\"bar\"},{\"base\":[26.0],\"marker\":{\"color\":\"rgb(190, 56, 143)\"},\"name\":\"Job1\",\"orientation\":\"h\",\"width\":[0.4],\"x\":[6],\"y\":[\"Machine8\"],\"type\":\"bar\"},{\"base\":[26.0],\"marker\":{\"color\":\"#AB63FA\"},\"name\":\"Job8\",\"orientation\":\"h\",\"width\":[0.4],\"x\":[10],\"y\":[\"Machine2\"],\"type\":\"bar\"},{\"base\":[26.0],\"marker\":{\"color\":\"#636EFA\"},\"name\":\"Job2\",\"orientation\":\"h\",\"width\":[0.4],\"x\":[12],\"y\":[\"Machine9\"],\"type\":\"bar\"},{\"base\":[27.0],\"marker\":{\"color\":\"#FECB52\"},\"name\":\"Job10\",\"orientation\":\"h\",\"width\":[0.4],\"x\":[8],\"y\":[\"Machine10\"],\"type\":\"bar\"},{\"base\":[27.0],\"marker\":{\"color\":\"rgb(205, 77, 50)\"},\"name\":\"Job0\",\"orientation\":\"h\",\"width\":[0.4],\"x\":[11],\"y\":[\"Machine5\"],\"type\":\"bar\"},{\"base\":[27.0],\"marker\":{\"color\":\"rgb(56, 75, 175)\"},\"name\":\"Job4\",\"orientation\":\"h\",\"width\":[0.4],\"x\":[16],\"y\":[\"Machine0\"],\"type\":\"bar\"},{\"base\":[29.0],\"marker\":{\"color\":\"rgb(206, 86, 63)\"},\"name\":\"Job5\",\"orientation\":\"h\",\"width\":[0.4],\"x\":[14],\"y\":[\"Machine7\"],\"type\":\"bar\"},{\"base\":[29.0],\"marker\":{\"color\":\"#19D3F3\"},\"name\":\"Job3\",\"orientation\":\"h\",\"width\":[0.4],\"x\":[6],\"y\":[\"Machine4\"],\"type\":\"bar\"},{\"base\":[29.0],\"marker\":{\"color\":\"#FF97FF\"},\"name\":\"Job13\",\"orientation\":\"h\",\"width\":[0.4],\"x\":[16],\"y\":[\"Machine1\"],\"type\":\"bar\"},{\"base\":[32.0],\"marker\":{\"color\":\"#B6E880\"},\"name\":\"Job11\",\"orientation\":\"h\",\"width\":[0.4],\"x\":[13],\"y\":[\"Machine8\"],\"type\":\"bar\"},{\"base\":[34.0],\"marker\":{\"color\":\"#00CC96\"},\"name\":\"Job9\",\"orientation\":\"h\",\"width\":[0.4],\"x\":[13],\"y\":[\"Machine6\"],\"type\":\"bar\"},{\"base\":[34.0],\"marker\":{\"color\":\"rgb(169, 239, 33)\"},\"name\":\"Job7\",\"orientation\":\"h\",\"width\":[0.4],\"x\":[9],\"y\":[\"Machine3\"],\"type\":\"bar\"},{\"base\":[35.0],\"marker\":{\"color\":\"rgb(190, 56, 143)\"},\"name\":\"Job1\",\"orientation\":\"h\",\"width\":[0.4],\"x\":[2],\"y\":[\"Machine4\"],\"type\":\"bar\"},{\"base\":[35.0],\"marker\":{\"color\":\"#FECB52\"},\"name\":\"Job10\",\"orientation\":\"h\",\"width\":[0.4],\"x\":[11],\"y\":[\"Machine10\"],\"type\":\"bar\"},{\"base\":[36.0],\"marker\":{\"color\":\"#FF6692\"},\"name\":\"Job6\",\"orientation\":\"h\",\"width\":[0.4],\"x\":[5],\"y\":[\"Machine2\"],\"type\":\"bar\"},{\"base\":[37.0],\"marker\":{\"color\":\"#AB63FA\"},\"name\":\"Job8\",\"orientation\":\"h\",\"width\":[0.4],\"x\":[2],\"y\":[\"Machine4\"],\"type\":\"bar\"},{\"base\":[38.0],\"marker\":{\"color\":\"#636EFA\"},\"name\":\"Job2\",\"orientation\":\"h\",\"width\":[0.4],\"x\":[13],\"y\":[\"Machine9\"],\"type\":\"bar\"},{\"base\":[39.0],\"marker\":{\"color\":\"#FFA15A\"},\"name\":\"Job12\",\"orientation\":\"h\",\"width\":[0.4],\"x\":[8],\"y\":[\"Machine4\"],\"type\":\"bar\"},{\"base\":[41.0],\"marker\":{\"color\":\"#FF6692\"},\"name\":\"Job6\",\"orientation\":\"h\",\"width\":[0.4],\"x\":[10],\"y\":[\"Machine2\"],\"type\":\"bar\"},{\"base\":[43.0],\"marker\":{\"color\":\"#AB63FA\"},\"name\":\"Job8\",\"orientation\":\"h\",\"width\":[0.4],\"x\":[6],\"y\":[\"Machine7\"],\"type\":\"bar\"},{\"base\":[43.0],\"marker\":{\"color\":\"#19D3F3\"},\"name\":\"Job3\",\"orientation\":\"h\",\"width\":[0.4],\"x\":[10],\"y\":[\"Machine0\"],\"type\":\"bar\"},{\"base\":[43.0],\"marker\":{\"color\":\"rgb(206, 86, 63)\"},\"name\":\"Job5\",\"orientation\":\"h\",\"width\":[0.4],\"x\":[11],\"y\":[\"Machine3\"],\"type\":\"bar\"},{\"base\":[45.0],\"marker\":{\"color\":\"rgb(56, 75, 175)\"},\"name\":\"Job4\",\"orientation\":\"h\",\"width\":[0.4],\"x\":[4],\"y\":[\"Machine1\"],\"type\":\"bar\"},{\"base\":[45.0],\"marker\":{\"color\":\"rgb(169, 239, 33)\"},\"name\":\"Job7\",\"orientation\":\"h\",\"width\":[0.4],\"x\":[11],\"y\":[\"Machine8\"],\"type\":\"bar\"},{\"base\":[46.0],\"marker\":{\"color\":\"#FECB52\"},\"name\":\"Job10\",\"orientation\":\"h\",\"width\":[0.4],\"x\":[17],\"y\":[\"Machine10\"],\"type\":\"bar\"},{\"base\":[47.0],\"marker\":{\"color\":\"#B6E880\"},\"name\":\"Job11\",\"orientation\":\"h\",\"width\":[0.4],\"x\":[3],\"y\":[\"Machine4\"],\"type\":\"bar\"},{\"base\":[47.0],\"marker\":{\"color\":\"#FF97FF\"},\"name\":\"Job13\",\"orientation\":\"h\",\"width\":[0.4],\"x\":[6],\"y\":[\"Machine6\"],\"type\":\"bar\"},{\"base\":[49.0],\"marker\":{\"color\":\"#00CC96\"},\"name\":\"Job9\",\"orientation\":\"h\",\"width\":[0.4],\"x\":[3],\"y\":[\"Machine7\"],\"type\":\"bar\"},{\"base\":[49.0],\"marker\":{\"color\":\"rgb(205, 77, 50)\"},\"name\":\"Job0\",\"orientation\":\"h\",\"width\":[0.4],\"x\":[13],\"y\":[\"Machine1\"],\"type\":\"bar\"},{\"base\":[50.0],\"marker\":{\"color\":\"#FFA15A\"},\"name\":\"Job12\",\"orientation\":\"h\",\"width\":[0.4],\"x\":[12],\"y\":[\"Machine4\"],\"type\":\"bar\"},{\"base\":[51.0],\"marker\":{\"color\":\"#AB63FA\"},\"name\":\"Job8\",\"orientation\":\"h\",\"width\":[0.4],\"x\":[15],\"y\":[\"Machine9\"],\"type\":\"bar\"},{\"base\":[51.0],\"marker\":{\"color\":\"#636EFA\"},\"name\":\"Job2\",\"orientation\":\"h\",\"width\":[0.4],\"x\":[11],\"y\":[\"Machine2\"],\"type\":\"bar\"},{\"base\":[52.0],\"marker\":{\"color\":\"rgb(56, 75, 175)\"},\"name\":\"Job4\",\"orientation\":\"h\",\"width\":[0.4],\"x\":[20],\"y\":[\"Machine7\"],\"type\":\"bar\"},{\"base\":[53.0],\"marker\":{\"color\":\"#B6E880\"},\"name\":\"Job11\",\"orientation\":\"h\",\"width\":[0.4],\"x\":[17],\"y\":[\"Machine0\"],\"type\":\"bar\"},{\"base\":[53.0],\"marker\":{\"color\":\"#19D3F3\"},\"name\":\"Job3\",\"orientation\":\"h\",\"width\":[0.4],\"x\":[14],\"y\":[\"Machine6\"],\"type\":\"bar\"},{\"base\":[54.0],\"marker\":{\"color\":\"rgb(206, 86, 63)\"},\"name\":\"Job5\",\"orientation\":\"h\",\"width\":[0.4],\"x\":[6],\"y\":[\"Machine3\"],\"type\":\"bar\"},{\"base\":[56.0],\"marker\":{\"color\":\"rgb(169, 239, 33)\"},\"name\":\"Job7\",\"orientation\":\"h\",\"width\":[0.4],\"x\":[5],\"y\":[\"Machine8\"],\"type\":\"bar\"},{\"base\":[60.0],\"marker\":{\"color\":\"rgb(206, 86, 63)\"},\"name\":\"Job5\",\"orientation\":\"h\",\"width\":[0.4],\"x\":[5],\"y\":[\"Machine3\"],\"type\":\"bar\"},{\"base\":[61.0],\"marker\":{\"color\":\"rgb(190, 56, 143)\"},\"name\":\"Job1\",\"orientation\":\"h\",\"width\":[0.4],\"x\":[2],\"y\":[\"Machine8\"],\"type\":\"bar\"},{\"base\":[62.0],\"marker\":{\"color\":\"#FF6692\"},\"name\":\"Job6\",\"orientation\":\"h\",\"width\":[0.4],\"x\":[17],\"y\":[\"Machine4\"],\"type\":\"bar\"},{\"base\":[62.0],\"marker\":{\"color\":\"#FFA15A\"},\"name\":\"Job12\",\"orientation\":\"h\",\"width\":[0.4],\"x\":[6],\"y\":[\"Machine1\"],\"type\":\"bar\"},{\"base\":[62.0],\"marker\":{\"color\":\"#636EFA\"},\"name\":\"Job2\",\"orientation\":\"h\",\"width\":[0.4],\"x\":[12],\"y\":[\"Machine2\"],\"type\":\"bar\"},{\"base\":[63.0],\"marker\":{\"color\":\"#FECB52\"},\"name\":\"Job10\",\"orientation\":\"h\",\"width\":[0.4],\"x\":[6],\"y\":[\"Machine8\"],\"type\":\"bar\"},{\"base\":[63.0],\"marker\":{\"color\":\"rgb(190, 56, 143)\"},\"name\":\"Job1\",\"orientation\":\"h\",\"width\":[0.4],\"x\":[10],\"y\":[\"Machine10\"],\"type\":\"bar\"},{\"base\":[65.0],\"marker\":{\"color\":\"rgb(206, 86, 63)\"},\"name\":\"Job5\",\"orientation\":\"h\",\"width\":[0.4],\"x\":[13],\"y\":[\"Machine3\"],\"type\":\"bar\"},{\"base\":[66.0],\"marker\":{\"color\":\"rgb(169, 239, 33)\"},\"name\":\"Job7\",\"orientation\":\"h\",\"width\":[0.4],\"x\":[12],\"y\":[\"Machine9\"],\"type\":\"bar\"},{\"base\":[67.0],\"marker\":{\"color\":\"rgb(205, 77, 50)\"},\"name\":\"Job0\",\"orientation\":\"h\",\"width\":[0.4],\"x\":[4],\"y\":[\"Machine6\"],\"type\":\"bar\"},{\"base\":[68.0],\"marker\":{\"color\":\"#19D3F3\"},\"name\":\"Job3\",\"orientation\":\"h\",\"width\":[0.4],\"x\":[18],\"y\":[\"Machine1\"],\"type\":\"bar\"},{\"base\":[69.0],\"marker\":{\"color\":\"#AB63FA\"},\"name\":\"Job8\",\"orientation\":\"h\",\"width\":[0.4],\"x\":[16],\"y\":[\"Machine8\"],\"type\":\"bar\"},{\"base\":[70.0],\"marker\":{\"color\":\"#FECB52\"},\"name\":\"Job10\",\"orientation\":\"h\",\"width\":[0.4],\"x\":[10],\"y\":[\"Machine0\"],\"type\":\"bar\"},{\"base\":[71.0],\"marker\":{\"color\":\"rgb(205, 77, 50)\"},\"name\":\"Job0\",\"orientation\":\"h\",\"width\":[0.4],\"x\":[10],\"y\":[\"Machine6\"],\"type\":\"bar\"},{\"base\":[73.0],\"marker\":{\"color\":\"#B6E880\"},\"name\":\"Job11\",\"orientation\":\"h\",\"width\":[0.4],\"x\":[2],\"y\":[\"Machine10\"],\"type\":\"bar\"},{\"base\":[73.0],\"marker\":{\"color\":\"rgb(190, 56, 143)\"},\"name\":\"Job1\",\"orientation\":\"h\",\"width\":[0.4],\"x\":[14],\"y\":[\"Machine7\"],\"type\":\"bar\"},{\"base\":[74.0],\"marker\":{\"color\":\"#636EFA\"},\"name\":\"Job2\",\"orientation\":\"h\",\"width\":[0.4],\"x\":[6],\"y\":[\"Machine2\"],\"type\":\"bar\"},{\"base\":[75.0],\"marker\":{\"color\":\"rgb(56, 75, 175)\"},\"name\":\"Job4\",\"orientation\":\"h\",\"width\":[0.4],\"x\":[10],\"y\":[\"Machine10\"],\"type\":\"bar\"},{\"base\":[78.0],\"marker\":{\"color\":\"rgb(169, 239, 33)\"},\"name\":\"Job7\",\"orientation\":\"h\",\"width\":[0.4],\"x\":[3],\"y\":[\"Machine9\"],\"type\":\"bar\"},{\"base\":[80.0],\"marker\":{\"color\":\"#FECB52\"},\"name\":\"Job10\",\"orientation\":\"h\",\"width\":[0.4],\"x\":[17],\"y\":[\"Machine0\"],\"type\":\"bar\"},{\"base\":[80.0],\"marker\":{\"color\":\"#636EFA\"},\"name\":\"Job2\",\"orientation\":\"h\",\"width\":[0.4],\"x\":[9],\"y\":[\"Machine4\"],\"type\":\"bar\"},{\"base\":[80.0],\"marker\":{\"color\":\"#FF6692\"},\"name\":\"Job6\",\"orientation\":\"h\",\"width\":[0.4],\"x\":[17],\"y\":[\"Machine2\"],\"type\":\"bar\"},{\"base\":[81.0],\"marker\":{\"color\":\"rgb(206, 86, 63)\"},\"name\":\"Job5\",\"orientation\":\"h\",\"width\":[0.4],\"x\":[5],\"y\":[\"Machine6\"],\"type\":\"bar\"},{\"base\":[81.0],\"marker\":{\"color\":\"rgb(169, 239, 33)\"},\"name\":\"Job7\",\"orientation\":\"h\",\"width\":[0.4],\"x\":[11],\"y\":[\"Machine9\"],\"type\":\"bar\"},{\"base\":[85.0],\"marker\":{\"color\":\"rgb(56, 75, 175)\"},\"name\":\"Job4\",\"orientation\":\"h\",\"width\":[0.4],\"x\":[7],\"y\":[\"Machine10\"],\"type\":\"bar\"},{\"base\":[85.0],\"marker\":{\"color\":\"#AB63FA\"},\"name\":\"Job8\",\"orientation\":\"h\",\"width\":[0.4],\"x\":[12],\"y\":[\"Machine3\"],\"type\":\"bar\"},{\"base\":[86.0],\"marker\":{\"color\":\"#00CC96\"},\"name\":\"Job9\",\"orientation\":\"h\",\"width\":[0.4],\"x\":[17],\"y\":[\"Machine1\"],\"type\":\"bar\"},{\"base\":[86.0],\"marker\":{\"color\":\"rgb(206, 86, 63)\"},\"name\":\"Job5\",\"orientation\":\"h\",\"width\":[0.4],\"x\":[9],\"y\":[\"Machine8\"],\"type\":\"bar\"},{\"base\":[86.0],\"marker\":{\"color\":\"#19D3F3\"},\"name\":\"Job3\",\"orientation\":\"h\",\"width\":[0.4],\"x\":[8],\"y\":[\"Machine6\"],\"type\":\"bar\"},{\"base\":[89.0],\"marker\":{\"color\":\"rgb(190, 56, 143)\"},\"name\":\"Job1\",\"orientation\":\"h\",\"width\":[0.4],\"x\":[10],\"y\":[\"Machine4\"],\"type\":\"bar\"},{\"base\":[92.0],\"marker\":{\"color\":\"rgb(56, 75, 175)\"},\"name\":\"Job4\",\"orientation\":\"h\",\"width\":[0.4],\"x\":[5],\"y\":[\"Machine10\"],\"type\":\"bar\"},{\"base\":[92.0],\"marker\":{\"color\":\"rgb(169, 239, 33)\"},\"name\":\"Job7\",\"orientation\":\"h\",\"width\":[0.4],\"x\":[16],\"y\":[\"Machine9\"],\"type\":\"bar\"},{\"base\":[94.0],\"marker\":{\"color\":\"#19D3F3\"},\"name\":\"Job3\",\"orientation\":\"h\",\"width\":[0.4],\"x\":[3],\"y\":[\"Machine7\"],\"type\":\"bar\"},{\"base\":[95.0],\"marker\":{\"color\":\"rgb(206, 86, 63)\"},\"name\":\"Job5\",\"orientation\":\"h\",\"width\":[0.4],\"x\":[2],\"y\":[\"Machine8\"],\"type\":\"bar\"},{\"base\":[97.0],\"marker\":{\"color\":\"rgb(206, 86, 63)\"},\"name\":\"Job5\",\"orientation\":\"h\",\"width\":[0.4],\"x\":[11],\"y\":[\"Machine8\"],\"type\":\"bar\"},{\"base\":[97.0],\"marker\":{\"color\":\"#AB63FA\"},\"name\":\"Job8\",\"orientation\":\"h\",\"width\":[0.4],\"x\":[6],\"y\":[\"Machine10\"],\"type\":\"bar\"},{\"base\":[97.0],\"marker\":{\"color\":\"rgb(56, 75, 175)\"},\"name\":\"Job4\",\"orientation\":\"h\",\"width\":[0.4],\"x\":[12],\"y\":[\"Machine3\"],\"type\":\"bar\"},{\"base\":[97.0],\"marker\":{\"color\":\"#636EFA\"},\"name\":\"Job2\",\"orientation\":\"h\",\"width\":[0.4],\"x\":[11],\"y\":[\"Machine2\"],\"type\":\"bar\"},{\"base\":[97.0],\"marker\":{\"color\":\"#FECB52\"},\"name\":\"Job10\",\"orientation\":\"h\",\"width\":[0.4],\"x\":[8],\"y\":[\"Machine7\"],\"type\":\"bar\"},{\"base\":[97.0],\"marker\":{\"color\":\"#FF6692\"},\"name\":\"Job6\",\"orientation\":\"h\",\"width\":[0.4],\"x\":[4],\"y\":[\"Machine0\"],\"type\":\"bar\"},{\"base\":[103.0],\"marker\":{\"color\":\"#AB63FA\"},\"name\":\"Job8\",\"orientation\":\"h\",\"width\":[0.4],\"x\":[2],\"y\":[\"Machine10\"],\"type\":\"bar\"},{\"base\":[103.0],\"marker\":{\"color\":\"#00CC96\"},\"name\":\"Job9\",\"orientation\":\"h\",\"width\":[0.4],\"x\":[10],\"y\":[\"Machine4\"],\"type\":\"bar\"},{\"base\":[105.0],\"marker\":{\"color\":\"#B6E880\"},\"name\":\"Job11\",\"orientation\":\"h\",\"width\":[0.4],\"x\":[3],\"y\":[\"Machine10\"],\"type\":\"bar\"},{\"base\":[105.0],\"marker\":{\"color\":\"#FECB52\"},\"name\":\"Job10\",\"orientation\":\"h\",\"width\":[0.4],\"x\":[13],\"y\":[\"Machine6\"],\"type\":\"bar\"},{\"base\":[108.0],\"marker\":{\"color\":\"rgb(206, 86, 63)\"},\"name\":\"Job5\",\"orientation\":\"h\",\"width\":[0.4],\"x\":[5],\"y\":[\"Machine10\"],\"type\":\"bar\"},{\"base\":[108.0],\"marker\":{\"color\":\"#636EFA\"},\"name\":\"Job2\",\"orientation\":\"h\",\"width\":[0.4],\"x\":[6],\"y\":[\"Machine9\"],\"type\":\"bar\"},{\"base\":[113.0],\"marker\":{\"color\":\"#00CC96\"},\"name\":\"Job9\",\"orientation\":\"h\",\"width\":[0.4],\"x\":[16],\"y\":[\"Machine4\"],\"type\":\"bar\"},{\"base\":[113.0],\"marker\":{\"color\":\"rgb(206, 86, 63)\"},\"name\":\"Job5\",\"orientation\":\"h\",\"width\":[0.4],\"x\":[7],\"y\":[\"Machine1\"],\"type\":\"bar\"},{\"base\":[114.0],\"marker\":{\"color\":\"#636EFA\"},\"name\":\"Job2\",\"orientation\":\"h\",\"width\":[0.4],\"x\":[6],\"y\":[\"Machine2\"],\"type\":\"bar\"},{\"base\":[120.0],\"marker\":{\"color\":\"#636EFA\"},\"name\":\"Job2\",\"orientation\":\"h\",\"width\":[0.4],\"x\":[15],\"y\":[\"Machine0\"],\"type\":\"bar\"},{\"base\":[129.0],\"marker\":{\"color\":\"#00CC96\"},\"name\":\"Job9\",\"orientation\":\"h\",\"width\":[0.4],\"x\":[17],\"y\":[\"Machine4\"],\"type\":\"bar\"}],                        {\"template\":{\"data\":{\"histogram2dcontour\":[{\"type\":\"histogram2dcontour\",\"colorbar\":{\"outlinewidth\":0,\"ticks\":\"\"},\"colorscale\":[[0.0,\"#0d0887\"],[0.1111111111111111,\"#46039f\"],[0.2222222222222222,\"#7201a8\"],[0.3333333333333333,\"#9c179e\"],[0.4444444444444444,\"#bd3786\"],[0.5555555555555556,\"#d8576b\"],[0.6666666666666666,\"#ed7953\"],[0.7777777777777778,\"#fb9f3a\"],[0.8888888888888888,\"#fdca26\"],[1.0,\"#f0f921\"]]}],\"choropleth\":[{\"type\":\"choropleth\",\"colorbar\":{\"outlinewidth\":0,\"ticks\":\"\"}}],\"histogram2d\":[{\"type\":\"histogram2d\",\"colorbar\":{\"outlinewidth\":0,\"ticks\":\"\"},\"colorscale\":[[0.0,\"#0d0887\"],[0.1111111111111111,\"#46039f\"],[0.2222222222222222,\"#7201a8\"],[0.3333333333333333,\"#9c179e\"],[0.4444444444444444,\"#bd3786\"],[0.5555555555555556,\"#d8576b\"],[0.6666666666666666,\"#ed7953\"],[0.7777777777777778,\"#fb9f3a\"],[0.8888888888888888,\"#fdca26\"],[1.0,\"#f0f921\"]]}],\"heatmap\":[{\"type\":\"heatmap\",\"colorbar\":{\"outlinewidth\":0,\"ticks\":\"\"},\"colorscale\":[[0.0,\"#0d0887\"],[0.1111111111111111,\"#46039f\"],[0.2222222222222222,\"#7201a8\"],[0.3333333333333333,\"#9c179e\"],[0.4444444444444444,\"#bd3786\"],[0.5555555555555556,\"#d8576b\"],[0.6666666666666666,\"#ed7953\"],[0.7777777777777778,\"#fb9f3a\"],[0.8888888888888888,\"#fdca26\"],[1.0,\"#f0f921\"]]}],\"heatmapgl\":[{\"type\":\"heatmapgl\",\"colorbar\":{\"outlinewidth\":0,\"ticks\":\"\"},\"colorscale\":[[0.0,\"#0d0887\"],[0.1111111111111111,\"#46039f\"],[0.2222222222222222,\"#7201a8\"],[0.3333333333333333,\"#9c179e\"],[0.4444444444444444,\"#bd3786\"],[0.5555555555555556,\"#d8576b\"],[0.6666666666666666,\"#ed7953\"],[0.7777777777777778,\"#fb9f3a\"],[0.8888888888888888,\"#fdca26\"],[1.0,\"#f0f921\"]]}],\"contourcarpet\":[{\"type\":\"contourcarpet\",\"colorbar\":{\"outlinewidth\":0,\"ticks\":\"\"}}],\"contour\":[{\"type\":\"contour\",\"colorbar\":{\"outlinewidth\":0,\"ticks\":\"\"},\"colorscale\":[[0.0,\"#0d0887\"],[0.1111111111111111,\"#46039f\"],[0.2222222222222222,\"#7201a8\"],[0.3333333333333333,\"#9c179e\"],[0.4444444444444444,\"#bd3786\"],[0.5555555555555556,\"#d8576b\"],[0.6666666666666666,\"#ed7953\"],[0.7777777777777778,\"#fb9f3a\"],[0.8888888888888888,\"#fdca26\"],[1.0,\"#f0f921\"]]}],\"surface\":[{\"type\":\"surface\",\"colorbar\":{\"outlinewidth\":0,\"ticks\":\"\"},\"colorscale\":[[0.0,\"#0d0887\"],[0.1111111111111111,\"#46039f\"],[0.2222222222222222,\"#7201a8\"],[0.3333333333333333,\"#9c179e\"],[0.4444444444444444,\"#bd3786\"],[0.5555555555555556,\"#d8576b\"],[0.6666666666666666,\"#ed7953\"],[0.7777777777777778,\"#fb9f3a\"],[0.8888888888888888,\"#fdca26\"],[1.0,\"#f0f921\"]]}],\"mesh3d\":[{\"type\":\"mesh3d\",\"colorbar\":{\"outlinewidth\":0,\"ticks\":\"\"}}],\"scatter\":[{\"fillpattern\":{\"fillmode\":\"overlay\",\"size\":10,\"solidity\":0.2},\"type\":\"scatter\"}],\"parcoords\":[{\"type\":\"parcoords\",\"line\":{\"colorbar\":{\"outlinewidth\":0,\"ticks\":\"\"}}}],\"scatterpolargl\":[{\"type\":\"scatterpolargl\",\"marker\":{\"colorbar\":{\"outlinewidth\":0,\"ticks\":\"\"}}}],\"bar\":[{\"error_x\":{\"color\":\"#2a3f5f\"},\"error_y\":{\"color\":\"#2a3f5f\"},\"marker\":{\"line\":{\"color\":\"#E5ECF6\",\"width\":0.5},\"pattern\":{\"fillmode\":\"overlay\",\"size\":10,\"solidity\":0.2}},\"type\":\"bar\"}],\"scattergeo\":[{\"type\":\"scattergeo\",\"marker\":{\"colorbar\":{\"outlinewidth\":0,\"ticks\":\"\"}}}],\"scatterpolar\":[{\"type\":\"scatterpolar\",\"marker\":{\"colorbar\":{\"outlinewidth\":0,\"ticks\":\"\"}}}],\"histogram\":[{\"marker\":{\"pattern\":{\"fillmode\":\"overlay\",\"size\":10,\"solidity\":0.2}},\"type\":\"histogram\"}],\"scattergl\":[{\"type\":\"scattergl\",\"marker\":{\"colorbar\":{\"outlinewidth\":0,\"ticks\":\"\"}}}],\"scatter3d\":[{\"type\":\"scatter3d\",\"line\":{\"colorbar\":{\"outlinewidth\":0,\"ticks\":\"\"}},\"marker\":{\"colorbar\":{\"outlinewidth\":0,\"ticks\":\"\"}}}],\"scattermapbox\":[{\"type\":\"scattermapbox\",\"marker\":{\"colorbar\":{\"outlinewidth\":0,\"ticks\":\"\"}}}],\"scatterternary\":[{\"type\":\"scatterternary\",\"marker\":{\"colorbar\":{\"outlinewidth\":0,\"ticks\":\"\"}}}],\"scattercarpet\":[{\"type\":\"scattercarpet\",\"marker\":{\"colorbar\":{\"outlinewidth\":0,\"ticks\":\"\"}}}],\"carpet\":[{\"aaxis\":{\"endlinecolor\":\"#2a3f5f\",\"gridcolor\":\"white\",\"linecolor\":\"white\",\"minorgridcolor\":\"white\",\"startlinecolor\":\"#2a3f5f\"},\"baxis\":{\"endlinecolor\":\"#2a3f5f\",\"gridcolor\":\"white\",\"linecolor\":\"white\",\"minorgridcolor\":\"white\",\"startlinecolor\":\"#2a3f5f\"},\"type\":\"carpet\"}],\"table\":[{\"cells\":{\"fill\":{\"color\":\"#EBF0F8\"},\"line\":{\"color\":\"white\"}},\"header\":{\"fill\":{\"color\":\"#C8D4E3\"},\"line\":{\"color\":\"white\"}},\"type\":\"table\"}],\"barpolar\":[{\"marker\":{\"line\":{\"color\":\"#E5ECF6\",\"width\":0.5},\"pattern\":{\"fillmode\":\"overlay\",\"size\":10,\"solidity\":0.2}},\"type\":\"barpolar\"}],\"pie\":[{\"automargin\":true,\"type\":\"pie\"}]},\"layout\":{\"autotypenumbers\":\"strict\",\"colorway\":[\"#636efa\",\"#EF553B\",\"#00cc96\",\"#ab63fa\",\"#FFA15A\",\"#19d3f3\",\"#FF6692\",\"#B6E880\",\"#FF97FF\",\"#FECB52\"],\"font\":{\"color\":\"#2a3f5f\"},\"hovermode\":\"closest\",\"hoverlabel\":{\"align\":\"left\"},\"paper_bgcolor\":\"white\",\"plot_bgcolor\":\"#E5ECF6\",\"polar\":{\"bgcolor\":\"#E5ECF6\",\"angularaxis\":{\"gridcolor\":\"white\",\"linecolor\":\"white\",\"ticks\":\"\"},\"radialaxis\":{\"gridcolor\":\"white\",\"linecolor\":\"white\",\"ticks\":\"\"}},\"ternary\":{\"bgcolor\":\"#E5ECF6\",\"aaxis\":{\"gridcolor\":\"white\",\"linecolor\":\"white\",\"ticks\":\"\"},\"baxis\":{\"gridcolor\":\"white\",\"linecolor\":\"white\",\"ticks\":\"\"},\"caxis\":{\"gridcolor\":\"white\",\"linecolor\":\"white\",\"ticks\":\"\"}},\"coloraxis\":{\"colorbar\":{\"outlinewidth\":0,\"ticks\":\"\"}},\"colorscale\":{\"sequential\":[[0.0,\"#0d0887\"],[0.1111111111111111,\"#46039f\"],[0.2222222222222222,\"#7201a8\"],[0.3333333333333333,\"#9c179e\"],[0.4444444444444444,\"#bd3786\"],[0.5555555555555556,\"#d8576b\"],[0.6666666666666666,\"#ed7953\"],[0.7777777777777778,\"#fb9f3a\"],[0.8888888888888888,\"#fdca26\"],[1.0,\"#f0f921\"]],\"sequentialminus\":[[0.0,\"#0d0887\"],[0.1111111111111111,\"#46039f\"],[0.2222222222222222,\"#7201a8\"],[0.3333333333333333,\"#9c179e\"],[0.4444444444444444,\"#bd3786\"],[0.5555555555555556,\"#d8576b\"],[0.6666666666666666,\"#ed7953\"],[0.7777777777777778,\"#fb9f3a\"],[0.8888888888888888,\"#fdca26\"],[1.0,\"#f0f921\"]],\"diverging\":[[0,\"#8e0152\"],[0.1,\"#c51b7d\"],[0.2,\"#de77ae\"],[0.3,\"#f1b6da\"],[0.4,\"#fde0ef\"],[0.5,\"#f7f7f7\"],[0.6,\"#e6f5d0\"],[0.7,\"#b8e186\"],[0.8,\"#7fbc41\"],[0.9,\"#4d9221\"],[1,\"#276419\"]]},\"xaxis\":{\"gridcolor\":\"white\",\"linecolor\":\"white\",\"ticks\":\"\",\"title\":{\"standoff\":15},\"zerolinecolor\":\"white\",\"automargin\":true,\"zerolinewidth\":2},\"yaxis\":{\"gridcolor\":\"white\",\"linecolor\":\"white\",\"ticks\":\"\",\"title\":{\"standoff\":15},\"zerolinecolor\":\"white\",\"automargin\":true,\"zerolinewidth\":2},\"scene\":{\"xaxis\":{\"backgroundcolor\":\"#E5ECF6\",\"gridcolor\":\"white\",\"linecolor\":\"white\",\"showbackground\":true,\"ticks\":\"\",\"zerolinecolor\":\"white\",\"gridwidth\":2},\"yaxis\":{\"backgroundcolor\":\"#E5ECF6\",\"gridcolor\":\"white\",\"linecolor\":\"white\",\"showbackground\":true,\"ticks\":\"\",\"zerolinecolor\":\"white\",\"gridwidth\":2},\"zaxis\":{\"backgroundcolor\":\"#E5ECF6\",\"gridcolor\":\"white\",\"linecolor\":\"white\",\"showbackground\":true,\"ticks\":\"\",\"zerolinecolor\":\"white\",\"gridwidth\":2}},\"shapedefaults\":{\"line\":{\"color\":\"#2a3f5f\"}},\"annotationdefaults\":{\"arrowcolor\":\"#2a3f5f\",\"arrowhead\":0,\"arrowwidth\":1},\"geo\":{\"bgcolor\":\"white\",\"landcolor\":\"#E5ECF6\",\"subunitcolor\":\"white\",\"showland\":true,\"showlakes\":true,\"lakecolor\":\"white\"},\"title\":{\"x\":0.05},\"mapbox\":{\"style\":\"light\"}}},\"yaxis\":{\"type\":\"category\",\"categoryorder\":\"array\",\"categoryarray\":[\"Machine10\",\"Machine9\",\"Machine8\",\"Machine7\",\"Machine6\",\"Machine5\",\"Machine4\",\"Machine3\",\"Machine2\",\"Machine1\",\"Machine0\",\"Machine3\",\"Machine7\",\"Machine6\",\"Machine5\",\"Machine8\",\"Machine0\",\"Machine4\",\"Machine9\",\"Machine1\",\"Machine10\",\"Machine2\",\"Machine3\",\"Machine9\",\"Machine2\",\"Machine8\",\"Machine10\",\"Machine3\",\"Machine6\",\"Machine9\",\"Machine8\",\"Machine1\",\"Machine9\",\"Machine0\",\"Machine7\",\"Machine4\",\"Machine3\",\"Machine5\",\"Machine2\",\"Machine6\",\"Machine10\",\"Machine0\",\"Machine1\",\"Machine9\",\"Machine0\",\"Machine8\",\"Machine2\",\"Machine9\",\"Machine10\",\"Machine5\",\"Machine0\",\"Machine7\",\"Machine4\",\"Machine1\",\"Machine8\",\"Machine6\",\"Machine3\",\"Machine4\",\"Machine10\",\"Machine2\",\"Machine4\",\"Machine9\",\"Machine4\",\"Machine2\",\"Machine7\",\"Machine0\",\"Machine3\",\"Machine1\",\"Machine8\",\"Machine10\",\"Machine4\",\"Machine6\",\"Machine7\",\"Machine1\",\"Machine4\",\"Machine9\",\"Machine2\",\"Machine7\",\"Machine0\",\"Machine6\",\"Machine3\",\"Machine8\",\"Machine3\",\"Machine8\",\"Machine4\",\"Machine1\",\"Machine2\",\"Machine8\",\"Machine10\",\"Machine3\",\"Machine9\",\"Machine6\",\"Machine1\",\"Machine8\",\"Machine0\",\"Machine6\",\"Machine10\",\"Machine7\",\"Machine2\",\"Machine10\",\"Machine9\",\"Machine0\",\"Machine4\",\"Machine2\",\"Machine6\",\"Machine9\",\"Machine10\",\"Machine3\",\"Machine1\",\"Machine8\",\"Machine6\",\"Machine4\",\"Machine10\",\"Machine9\",\"Machine7\",\"Machine8\",\"Machine8\",\"Machine10\",\"Machine3\",\"Machine2\",\"Machine7\",\"Machine0\",\"Machine10\",\"Machine4\",\"Machine10\",\"Machine6\",\"Machine10\",\"Machine9\",\"Machine4\",\"Machine1\",\"Machine2\",\"Machine0\",\"Machine4\"]},\"title\":{\"text\":\"\\u6309Job\\u4e0a\\u8272\\u7684FJSP\\u8c03\\u5ea6\\u793a\\u610f\\u56fe - \\u591a\\u79cd\\u989c\\u8272\"},\"xaxis\":{\"title\":{\"text\":\"\\u65f6\\u95f4\"}},\"barmode\":\"stack\",\"legend\":{\"title\":{\"text\":\"Job\"}}},                        {\"responsive\": true}                    ).then(function(){\n",
       "                            \n",
       "var gd = document.getElementById('943448b4-f475-49ec-8d64-231c871c4b3d');\n",
       "var x = new MutationObserver(function (mutations, observer) {{\n",
       "        var display = window.getComputedStyle(gd).display;\n",
       "        if (!display || display === 'none') {{\n",
       "            console.log([gd, 'removed!']);\n",
       "            Plotly.purge(gd);\n",
       "            observer.disconnect();\n",
       "        }}\n",
       "}});\n",
       "\n",
       "// Listen for the removal of the full notebook cells\n",
       "var notebookContainer = gd.closest('#notebook-container');\n",
       "if (notebookContainer) {{\n",
       "    x.observe(notebookContainer, {childList: true});\n",
       "}}\n",
       "\n",
       "// Listen for the clearing of the current output cell\n",
       "var outputEl = gd.closest('.output');\n",
       "if (outputEl) {{\n",
       "    x.observe(outputEl, {childList: true});\n",
       "}}\n",
       "\n",
       "                        })                };                });            </script>        </div>"
      ]
     },
     "metadata": {},
     "output_type": "display_data"
    }
   ],
   "source": [
    "import plotly.graph_objects as go\n",
    "from plotly.colors import qualitative\n",
    "import colorsys\n",
    "import random\n",
    "\n",
    "def render(tasks_data):\n",
    "    '''tasks_data = [\n",
    "    {\"Task\": \"Job1-Task1\", \"Station\": \"Machine1\", \"Start\": 0, \"Duration\": 4, \"Width\": 0.4},\n",
    "    {\"Task\": \"Job2-Task1\", \"Station\": \"Machine2\", \"Start\": 5, \"Duration\": 3, \"Width\": 0.4},\n",
    "    {\"Task\": \"Job3-Task1\", \"Station\": \"Machine3\", \"Start\": 9, \"Duration\": 2, \"Width\": 0.4},\n",
    "    ]   '''\n",
    "    fig = go.Figure()\n",
    "    # 获取唯一的Job名称列表\n",
    "    unique_jobs = list(set(task['Task'] for task in tasks_data))\n",
    "\n",
    "    # 使用Plotly的定性颜色循环作为基础\n",
    "    color_sequence = qualitative.Plotly\n",
    "\n",
    "    # 如果Job数量超过内置颜色，动态生成更多颜色\n",
    "    if len(unique_jobs) > len(color_sequence):\n",
    "        extra_colors_needed = len(unique_jobs) - len(color_sequence)\n",
    "        # 动态生成新颜色\n",
    "        random.seed(42)  # 固定种子以保证结果可复现\n",
    "        extra_colors = []\n",
    "        for _ in range(extra_colors_needed):\n",
    "            h, s, l = random.random(), 0.5 + random.random() / 2.0, 0.4 + random.random() / 5.0\n",
    "            r, g, b = colorsys.hls_to_rgb(h, l, s)\n",
    "            extra_colors.append(f\"rgb({int(r*255)}, {int(g*255)}, {int(b*255)})\")\n",
    "        color_sequence = color_sequence + extra_colors\n",
    "\n",
    "    # 创建颜色映射\n",
    "    color_map = {job: color for job, color in zip(unique_jobs, color_sequence)}\n",
    "\n",
    "    # 清空现有的绘图数据\n",
    "    fig.data = []\n",
    "\n",
    "    # 绘制条形图\n",
    "    for task in tasks_data:\n",
    "        fig.add_trace(go.Bar(\n",
    "            x=[task[\"Duration\"]],\n",
    "            y=[task[\"Station\"]],\n",
    "            base=[task[\"Start\"]],\n",
    "            width=[task[\"Width\"]],\n",
    "            orientation='h',\n",
    "            name=task[\"Task\"],\n",
    "            marker_color=color_map[task[\"Task\"]],\n",
    "        ))\n",
    "\n",
    "    # 更新图表布局\n",
    "    fig.update_layout(\n",
    "        title=\"按Job上色的FJSP调度示意图 - 多种颜色\",\n",
    "        xaxis_title=\"时间\",\n",
    "        yaxis=dict(\n",
    "            type='category',\n",
    "            categoryorder='array',\n",
    "            categoryarray=[task['Station'] for task in tasks_data]\n",
    "        ),\n",
    "        barmode='stack',\n",
    "        legend_title=\"Job\",\n",
    "    )\n",
    "\n",
    "    # 显示图表\n",
    "    fig.show()\n",
    "tasks_data_break5 = [\n",
    "    task for task in tasks_data\n",
    "    if not (task[\"Start\"] + task[\"Duration\"] > 40 and task[\"Station\"] == \"Machine5\")\n",
    "]\n",
    "\n",
    "\n",
    "render(tasks_data)\n",
    "render(tasks_data_break5)"
   ]
  }
 ],
 "metadata": {
  "kernelspec": {
   "display_name": "RL-torch",
   "language": "python",
   "name": "python3"
  },
  "language_info": {
   "codemirror_mode": {
    "name": "ipython",
    "version": 3
   },
   "file_extension": ".py",
   "mimetype": "text/x-python",
   "name": "python",
   "nbconvert_exporter": "python",
   "pygments_lexer": "ipython3",
   "version": "3.10.14"
  }
 },
 "nbformat": 4,
 "nbformat_minor": 2
}
